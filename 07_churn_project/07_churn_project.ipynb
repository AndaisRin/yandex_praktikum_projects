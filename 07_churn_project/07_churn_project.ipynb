{
 "cells": [
  {
   "cell_type": "markdown",
   "source": [
    "# Описание проекта\n",
    "\n",
    "Из «Бета-Банка» стали уходить клиенты. Каждый месяц. Немного, но заметно. Банковские маркетологи посчитали: сохранять текущих клиентов дешевле, чем привлекать новых.\n",
    "\n",
    "Нужно спрогнозировать, уйдёт клиент из банка в ближайшее время или нет. Вам предоставлены исторические данные о поведении клиентов и расторжении договоров с банком.\n",
    "\n",
    "Постройте модель с предельно большим значением F1-меры. Чтобы сдать проект успешно, нужно довести метрику до 0.59. Проверьте F1-меру на тестовой выборке самостоятельно.\n",
    "Дополнительно измеряйте AUC-ROC, сравнивайте её значение с F1-мерой.\n",
    "\n",
    "### Описание данных\n",
    "***Признаки***\n",
    "- `RowNumber` — индекс строки в данных\n",
    "- `CustomerId` — уникальный идентификатор клиента\n",
    "- `Surname` — фамилия\n",
    "- `CreditScore` — кредитный рейтинг\n",
    "- `Geography` — страна проживания\n",
    "- `Gender` — пол\n",
    "- `Age` — возраст\n",
    "- `Tenure` — сколько лет человек является клиентом банка\n",
    "- `Balance` — баланс на счёте\n",
    "- `NumOfProducts` — количество продуктов банка, используемых клиентом\n",
    "- `HasCrCard` — наличие кредитной карты\n",
    "- `IsActiveMember` — активность клиента\n",
    "- `EstimatedSalary` — предполагаемая зарплата\n",
    "\n",
    "***Целевой признак***\n",
    "- `Exited` — факт ухода клиента\n",
    "\n",
    "\n",
    "## Постановка задачи\n",
    "### [Шаг 1. Знакомство с данными и изучение общей информации](#section1)\n",
    "### [Шаг 2. Подготовка данных](#section2)\n",
    "Разделите исходные данные на обучающую, валидационную и тестовую выборки.\n",
    "\n",
    "### [Шаг 3. Исследование разных моделей машинного обучения](#section3)\n",
    "Исследуйте качество разных моделей, меняя гиперпараметры. Кратко напишите выводы исследования.\n",
    "\n",
    "### [Шаг 4. Оценка качества моделей](#section4)\n",
    "Проверьте качество модели на тестовой выборке.\n",
    "\n",
    "### [Шаг 5. Дополнительное задание](#section5)\n",
    "Дополнительное задание: проверьте модели на вменяемость. Ничего страшного, если не получится: эти данные сложнее тех, с которыми вы работали раньше. В следующем курсе подробнее об этом расскажем.\n",
    "\n",
    "### [Шаг 6. Общий вывод](#section6)\n",
    "\n",
    "Загрузите и подготовьте данные. Поясните порядок действий.\n",
    "Исследуйте баланс классов, обучите модель без учёта дисбаланса. Кратко опишите выводы.\n",
    "Улучшите качество модели, учитывая дисбаланс классов. Обучите разные модели и найдите лучшую. Кратко опишите выводы.\n",
    "Проведите финальное тестирование."
   ],
   "metadata": {
    "collapsed": false
   }
  },
  {
   "cell_type": "markdown",
   "source": [
    "# Решение задачи\n",
    "## Шаг 1. Знакомство с данными и изучение общей информации. <a class=\"anchor\" id=\"section1\"></a>\n",
    "\n",
    "Импортируем необходимые библиотеки для дальнейшей работы."
   ],
   "metadata": {
    "collapsed": false
   }
  },
  {
   "cell_type": "code",
   "execution_count": null,
   "outputs": [],
   "source": [
    "import pandas as pd\n",
    "import numpy as np\n",
    "from sklearn.model_selection import train_test_split\n",
    "from sklearn.preprocessing import StandardScaler\n",
    "from sklearn.tree import DecisionTreeClassifier\n",
    "from sklearn.ensemble import RandomForestClassifier\n",
    "from sklearn.linear_model import LogisticRegression\n",
    "from sklearn.dummy import DummyClassifier\n",
    "from sklearn.metrics import accuracy_score\n",
    "from sklearn.metrics import confusion_matrix\n",
    "from sklearn.metrics import precision_score\n",
    "from sklearn.metrics import recall_score\n",
    "from sklearn.metrics import mean_squared_error\n",
    "from sklearn.metrics import f1_score\n",
    "import warnings\n",
    "\n",
    "warnings.filterwarnings('ignore')"
   ],
   "metadata": {
    "collapsed": false
   }
  },
  {
   "cell_type": "markdown",
   "source": [
    "Чтение файла с данными и вывод случайных пяти строчек таблицы для ознакомления."
   ],
   "metadata": {
    "collapsed": false
   }
  },
  {
   "cell_type": "code",
   "execution_count": null,
   "outputs": [],
   "source": [
    "# users_data = pd.read_csv('/datasets/Churn.csv')\n",
    "users_data = pd.read_csv('Churn.csv')\n",
    "users_data.sample(n=5)"
   ],
   "metadata": {
    "collapsed": false
   }
  },
  {
   "cell_type": "markdown",
   "source": [
    "Получение общей информации о датафрейме."
   ],
   "metadata": {
    "collapsed": false
   }
  },
  {
   "cell_type": "code",
   "execution_count": null,
   "outputs": [],
   "source": [
    "users_data.info()"
   ],
   "metadata": {
    "collapsed": false
   }
  },
  {
   "cell_type": "markdown",
   "source": [
    "Все столбцы заполнены, явных пропусков не наблюдается, предобработка данных в данном случае не требуется. Посмотрим на пять случайных строк для знакомства с содержимым данных.\n",
    "\n",
    "**Наблюдение:**\n",
    "Перед нами стоит задача классификации. За целевой признак берем столбец is_ultra. Остальные признаки помогут нам предсказывать решение по столбцу is_ultra."
   ],
   "metadata": {
    "collapsed": false
   }
  },
  {
   "cell_type": "markdown",
   "source": [
    "## Шаг 2. Подготовка данных <a class=\"anchor\" id=\"section2\"></a>\n",
    "Разделите исходные данные на обучающую, валидационную и тестовую выборки.\n",
    "Разобьем выборку по принципу 60/20/20."
   ],
   "metadata": {
    "collapsed": false
   }
  },
  {
   "cell_type": "markdown",
   "source": [
    "**Итог:**\n",
    "Данные были разбиты по принципу 60/20/20.\n",
    "- Обучение пройдет на данных `features_train_data` и `target_train_data`;\n",
    "- Валидация модели на данных `features_valid_data` и `target_valid_data`;\n",
    "- Лучшая модель по валидации будет применена на данных `features_test_data` и `target_test_data`."
   ],
   "metadata": {
    "collapsed": false
   }
  },
  {
   "cell_type": "markdown",
   "source": [
    "## Шаг 3. Исследование разных моделей машинного обучения <a class=\"anchor\" id=\"section3\"></a>\n",
    "Исследуйте качество разных моделей, меняя гиперпараметры. Кратко напишите выводы исследования."
   ],
   "metadata": {
    "collapsed": false
   }
  },
  {
   "cell_type": "markdown",
   "source": [
    "## Шаг 4. Оценка качества моделей <a class=\"anchor\" id=\"section4\"></a>\n",
    "Проверьте качество модели на тестовой выборке."
   ],
   "metadata": {
    "collapsed": false
   }
  },
  {
   "cell_type": "markdown",
   "source": [
    "## Шаг 5. Дополнительное задание <a class=\"anchor\" id=\"section5\"></a>\n",
    "Дополнительное задание: проверьте модели на вменяемость.\n",
    "Проведем сравнение между константным предсказанием и лучшей обученной моделью - случайным лесом."
   ],
   "metadata": {
    "collapsed": false
   }
  },
  {
   "cell_type": "markdown",
   "source": [
    "## Шаг 6. Общий вывод <a class=\"anchor\" id=\"section6\"></a>\n",
    "\n",
    "В ходе проделанной работы было выполнено:"
   ],
   "metadata": {
    "collapsed": false
   }
  }
 ],
 "metadata": {
  "kernelspec": {
   "display_name": "Python 3",
   "language": "python",
   "name": "python3"
  },
  "language_info": {
   "codemirror_mode": {
    "name": "ipython",
    "version": 2
   },
   "file_extension": ".py",
   "mimetype": "text/x-python",
   "name": "python",
   "nbconvert_exporter": "python",
   "pygments_lexer": "ipython2",
   "version": "2.7.6"
  }
 },
 "nbformat": 4,
 "nbformat_minor": 0
}

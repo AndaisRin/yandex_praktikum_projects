{
 "cells": [
  {
   "cell_type": "markdown",
   "metadata": {
    "deletable": false,
    "editable": false,
    "id": "E0vqbgi9ay0H"
   },
   "source": [
    "# Яндекс Музыка"
   ]
  },
  {
   "cell_type": "markdown",
   "metadata": {
    "deletable": false,
    "editable": false,
    "id": "VUC88oWjTJw2"
   },
   "source": [
    "Сравнение Москвы и Петербурга окружено мифами. Например:\n",
    " * Москва — мегаполис, подчинённый жёсткому ритму рабочей недели;\n",
    " * Петербург — культурная столица, со своими вкусами.\n",
    "\n",
    "На данных Яндекс Музыки вы сравните поведение пользователей двух столиц.\n",
    "\n",
    "**Цель исследования** — проверьте три гипотезы:\n",
    "1. Активность пользователей зависит от дня недели. Причём в Москве и Петербурге это проявляется по-разному.\n",
    "2. В понедельник утром в Москве преобладают одни жанры, а в Петербурге — другие. Так же и вечером пятницы преобладают разные жанры — в зависимости от города. \n",
    "3. Москва и Петербург предпочитают разные жанры музыки. В Москве чаще слушают поп-музыку, в Петербурге — русский рэп.\n",
    "\n",
    "**Ход исследования**\n",
    "\n",
    "Данные о поведении пользователей вы получите из файла `yandex_music_project.csv`. О качестве данных ничего не известно. Поэтому перед проверкой гипотез понадобится обзор данных. \n",
    "\n",
    "Вы проверите данные на ошибки и оцените их влияние на исследование. Затем, на этапе предобработки вы поищете возможность исправить самые критичные ошибки данных.\n",
    " \n",
    "Таким образом, исследование пройдёт в три этапа:\n",
    " 1. Обзор данных.\n",
    " 2. Предобработка данных.\n",
    " 3. Проверка гипотез.\n",
    "\n"
   ]
  },
  {
   "cell_type": "markdown",
   "metadata": {
    "deletable": false,
    "editable": false,
    "id": "Ml1hmfXC_Zcs"
   },
   "source": [
    "## Обзор данных\n",
    "\n",
    "Составьте первое представление о данных Яндекс Музыки.\n",
    "\n",
    "\n"
   ]
  },
  {
   "cell_type": "markdown",
   "metadata": {
    "deletable": false,
    "editable": false,
    "id": "57eAOGIz_Zcs",
    "tags": [
     "start_task"
    ]
   },
   "source": [
    "**Задание 1**\n",
    "\n",
    "Основной инструмент аналитика — `pandas`. Импортируйте эту библиотеку."
   ]
  },
  {
   "cell_type": "code",
   "execution_count": 1,
   "metadata": {
    "deletable": false,
    "id": "AXN7PHPN_Zcs"
   },
   "outputs": [],
   "source": [
    "import pandas as pd"
   ]
  },
  {
   "cell_type": "markdown",
   "metadata": {
    "deletable": false,
    "editable": false,
    "id": "SG23P8tt_Zcs",
    "tags": [
     "start_task"
    ]
   },
   "source": [
    "**Задание 2**\n",
    "\n",
    "Прочитайте файл `yandex_music_project.csv` из папки `/datasets` и сохраните его в переменной `df`:"
   ]
  },
  {
   "cell_type": "code",
   "execution_count": 2,
   "metadata": {
    "deletable": false,
    "id": "fFVu7vqh_Zct"
   },
   "outputs": [],
   "source": [
    "df = pd.read_csv('/datasets/yandex_music_project.csv')"
   ]
  },
  {
   "cell_type": "markdown",
   "metadata": {
    "deletable": false,
    "editable": false,
    "id": "rDoOMd3uTqnZ",
    "tags": [
     "start_task"
    ]
   },
   "source": [
    "**Задание 3**\n",
    "\n",
    "\n",
    "Выведите на экран первые десять строк таблицы:"
   ]
  },
  {
   "cell_type": "code",
   "execution_count": 3,
   "metadata": {
    "deletable": false,
    "id": "oWTVX3gW_Zct"
   },
   "outputs": [
    {
     "data": {
      "text/html": [
       "<div>\n",
       "<style scoped>\n",
       "    .dataframe tbody tr th:only-of-type {\n",
       "        vertical-align: middle;\n",
       "    }\n",
       "\n",
       "    .dataframe tbody tr th {\n",
       "        vertical-align: top;\n",
       "    }\n",
       "\n",
       "    .dataframe thead th {\n",
       "        text-align: right;\n",
       "    }\n",
       "</style>\n",
       "<table border=\"1\" class=\"dataframe\">\n",
       "  <thead>\n",
       "    <tr style=\"text-align: right;\">\n",
       "      <th></th>\n",
       "      <th>userID</th>\n",
       "      <th>Track</th>\n",
       "      <th>artist</th>\n",
       "      <th>genre</th>\n",
       "      <th>City</th>\n",
       "      <th>time</th>\n",
       "      <th>Day</th>\n",
       "    </tr>\n",
       "  </thead>\n",
       "  <tbody>\n",
       "    <tr>\n",
       "      <th>0</th>\n",
       "      <td>FFB692EC</td>\n",
       "      <td>Kamigata To Boots</td>\n",
       "      <td>The Mass Missile</td>\n",
       "      <td>rock</td>\n",
       "      <td>Saint-Petersburg</td>\n",
       "      <td>20:28:33</td>\n",
       "      <td>Wednesday</td>\n",
       "    </tr>\n",
       "    <tr>\n",
       "      <th>1</th>\n",
       "      <td>55204538</td>\n",
       "      <td>Delayed Because of Accident</td>\n",
       "      <td>Andreas Rönnberg</td>\n",
       "      <td>rock</td>\n",
       "      <td>Moscow</td>\n",
       "      <td>14:07:09</td>\n",
       "      <td>Friday</td>\n",
       "    </tr>\n",
       "    <tr>\n",
       "      <th>2</th>\n",
       "      <td>20EC38</td>\n",
       "      <td>Funiculì funiculà</td>\n",
       "      <td>Mario Lanza</td>\n",
       "      <td>pop</td>\n",
       "      <td>Saint-Petersburg</td>\n",
       "      <td>20:58:07</td>\n",
       "      <td>Wednesday</td>\n",
       "    </tr>\n",
       "    <tr>\n",
       "      <th>3</th>\n",
       "      <td>A3DD03C9</td>\n",
       "      <td>Dragons in the Sunset</td>\n",
       "      <td>Fire + Ice</td>\n",
       "      <td>folk</td>\n",
       "      <td>Saint-Petersburg</td>\n",
       "      <td>08:37:09</td>\n",
       "      <td>Monday</td>\n",
       "    </tr>\n",
       "    <tr>\n",
       "      <th>4</th>\n",
       "      <td>E2DC1FAE</td>\n",
       "      <td>Soul People</td>\n",
       "      <td>Space Echo</td>\n",
       "      <td>dance</td>\n",
       "      <td>Moscow</td>\n",
       "      <td>08:34:34</td>\n",
       "      <td>Monday</td>\n",
       "    </tr>\n",
       "    <tr>\n",
       "      <th>5</th>\n",
       "      <td>842029A1</td>\n",
       "      <td>Преданная</td>\n",
       "      <td>IMPERVTOR</td>\n",
       "      <td>rusrap</td>\n",
       "      <td>Saint-Petersburg</td>\n",
       "      <td>13:09:41</td>\n",
       "      <td>Friday</td>\n",
       "    </tr>\n",
       "    <tr>\n",
       "      <th>6</th>\n",
       "      <td>4CB90AA5</td>\n",
       "      <td>True</td>\n",
       "      <td>Roman Messer</td>\n",
       "      <td>dance</td>\n",
       "      <td>Moscow</td>\n",
       "      <td>13:00:07</td>\n",
       "      <td>Wednesday</td>\n",
       "    </tr>\n",
       "    <tr>\n",
       "      <th>7</th>\n",
       "      <td>F03E1C1F</td>\n",
       "      <td>Feeling This Way</td>\n",
       "      <td>Polina Griffith</td>\n",
       "      <td>dance</td>\n",
       "      <td>Moscow</td>\n",
       "      <td>20:47:49</td>\n",
       "      <td>Wednesday</td>\n",
       "    </tr>\n",
       "    <tr>\n",
       "      <th>8</th>\n",
       "      <td>8FA1D3BE</td>\n",
       "      <td>И вновь продолжается бой</td>\n",
       "      <td>NaN</td>\n",
       "      <td>ruspop</td>\n",
       "      <td>Moscow</td>\n",
       "      <td>09:17:40</td>\n",
       "      <td>Friday</td>\n",
       "    </tr>\n",
       "    <tr>\n",
       "      <th>9</th>\n",
       "      <td>E772D5C0</td>\n",
       "      <td>Pessimist</td>\n",
       "      <td>NaN</td>\n",
       "      <td>dance</td>\n",
       "      <td>Saint-Petersburg</td>\n",
       "      <td>21:20:49</td>\n",
       "      <td>Wednesday</td>\n",
       "    </tr>\n",
       "  </tbody>\n",
       "</table>\n",
       "</div>"
      ],
      "text/plain": [
       "     userID                        Track            artist   genre  \\\n",
       "0  FFB692EC            Kamigata To Boots  The Mass Missile    rock   \n",
       "1  55204538  Delayed Because of Accident  Andreas Rönnberg    rock   \n",
       "2    20EC38            Funiculì funiculà       Mario Lanza     pop   \n",
       "3  A3DD03C9        Dragons in the Sunset        Fire + Ice    folk   \n",
       "4  E2DC1FAE                  Soul People        Space Echo   dance   \n",
       "5  842029A1                    Преданная         IMPERVTOR  rusrap   \n",
       "6  4CB90AA5                         True      Roman Messer   dance   \n",
       "7  F03E1C1F             Feeling This Way   Polina Griffith   dance   \n",
       "8  8FA1D3BE     И вновь продолжается бой               NaN  ruspop   \n",
       "9  E772D5C0                    Pessimist               NaN   dance   \n",
       "\n",
       "             City        time        Day  \n",
       "0  Saint-Petersburg  20:28:33  Wednesday  \n",
       "1            Moscow  14:07:09     Friday  \n",
       "2  Saint-Petersburg  20:58:07  Wednesday  \n",
       "3  Saint-Petersburg  08:37:09     Monday  \n",
       "4            Moscow  08:34:34     Monday  \n",
       "5  Saint-Petersburg  13:09:41     Friday  \n",
       "6            Moscow  13:00:07  Wednesday  \n",
       "7            Moscow  20:47:49  Wednesday  \n",
       "8            Moscow  09:17:40     Friday  \n",
       "9  Saint-Petersburg  21:20:49  Wednesday  "
      ]
     },
     "execution_count": 3,
     "metadata": {},
     "output_type": "execute_result"
    }
   ],
   "source": [
    "df.head(10)"
   ]
  },
  {
   "cell_type": "markdown",
   "metadata": {
    "deletable": false,
    "editable": false,
    "id": "EO73Kwic_Zct",
    "tags": [
     "start_task"
    ]
   },
   "source": [
    "**Задание 4**\n",
    "\n",
    "\n",
    "Одной командой получить общую информацию о таблице c помощью метода `info()`:"
   ]
  },
  {
   "cell_type": "code",
   "execution_count": 4,
   "metadata": {
    "deletable": false,
    "id": "DSf2kIb-_Zct"
   },
   "outputs": [
    {
     "name": "stdout",
     "output_type": "stream",
     "text": [
      "<class 'pandas.core.frame.DataFrame'>\n",
      "RangeIndex: 65079 entries, 0 to 65078\n",
      "Data columns (total 7 columns):\n",
      " #   Column    Non-Null Count  Dtype \n",
      "---  ------    --------------  ----- \n",
      " 0     userID  65079 non-null  object\n",
      " 1   Track     63848 non-null  object\n",
      " 2   artist    57876 non-null  object\n",
      " 3   genre     63881 non-null  object\n",
      " 4     City    65079 non-null  object\n",
      " 5   time      65079 non-null  object\n",
      " 6   Day       65079 non-null  object\n",
      "dtypes: object(7)\n",
      "memory usage: 3.5+ MB\n"
     ]
    }
   ],
   "source": [
    "df.info()"
   ]
  },
  {
   "cell_type": "markdown",
   "metadata": {
    "deletable": false,
    "editable": false,
    "id": "TaQ2Iwbr_Zct"
   },
   "source": [
    "Итак, в таблице семь столбцов. Тип данных во всех столбцах — `object`.\n",
    "\n",
    "Согласно документации к данным:\n",
    "* `userID` — идентификатор пользователя;\n",
    "* `Track` — название трека;  \n",
    "* `artist` — имя исполнителя;\n",
    "* `genre` — название жанра;\n",
    "* `City` — город пользователя;\n",
    "* `time` — время начала прослушивания;\n",
    "* `Day` — день недели.\n",
    "\n",
    "Количество значений в столбцах различается. Значит, в данных есть пропущенные значения."
   ]
  },
  {
   "cell_type": "markdown",
   "metadata": {
    "deletable": false,
    "editable": false,
    "id": "rAfziTBDmf2h",
    "tags": [
     "start_task"
    ]
   },
   "source": [
    "**Задание 5**\n",
    "\n",
    "**Вопрос со свободной формой ответа**\n",
    "\n",
    "В названиях колонок видны нарушения стиля:\n",
    "* Строчные буквы сочетаются с прописными.\n",
    "* Встречаются пробелы.\n",
    "\n",
    "Какое третье нарушение?"
   ]
  },
  {
   "cell_type": "code",
   "execution_count": 5,
   "metadata": {
    "id": "jD8EXEIvmf2h"
   },
   "outputs": [],
   "source": [
    "# Неполное описание столбцов"
   ]
  },
  {
   "cell_type": "markdown",
   "metadata": {
    "deletable": false,
    "editable": false,
    "id": "MCB6-dXG_Zct"
   },
   "source": [
    "**Выводы**\n",
    "\n",
    "В каждой строке таблицы — данные о прослушанном треке. Часть колонок описывает саму композицию: название, исполнителя и жанр. Остальные данные рассказывают о пользователе: из какого он города, когда он слушал музыку. \n",
    "\n",
    "Предварительно можно утверждать, что данных достаточно для проверки гипотез. Но встречаются пропуски в данных, а в названиях колонок — расхождения с хорошим стилем.\n",
    "\n",
    "Чтобы двигаться дальше, нужно устранить проблемы в данных."
   ]
  },
  {
   "cell_type": "markdown",
   "metadata": {
    "deletable": false,
    "editable": false,
    "id": "SjYF6Ub9_Zct"
   },
   "source": [
    "## Предобработка данных\n",
    "Исправьте стиль в заголовках столбцов, исключите пропуски. Затем проверьте данные на дубликаты."
   ]
  },
  {
   "cell_type": "markdown",
   "metadata": {
    "deletable": false,
    "editable": false,
    "id": "dIaKXr29_Zct",
    "tags": [
     "start_task"
    ]
   },
   "source": [
    "### Стиль заголовков\n",
    "\n",
    "**Задание 6**\n",
    "\n",
    "Выведите на экран названия столбцов:"
   ]
  },
  {
   "cell_type": "code",
   "execution_count": 6,
   "metadata": {
    "deletable": false,
    "id": "oKOTdF_Q_Zct"
   },
   "outputs": [
    {
     "data": {
      "text/plain": [
       "Index(['  userID', 'Track', 'artist', 'genre', '  City  ', 'time', 'Day'], dtype='object')"
      ]
     },
     "execution_count": 6,
     "metadata": {},
     "output_type": "execute_result"
    }
   ],
   "source": [
    "df.columns"
   ]
  },
  {
   "cell_type": "markdown",
   "metadata": {
    "deletable": false,
    "editable": false,
    "id": "zj5534cv_Zct",
    "tags": [
     "start_task"
    ]
   },
   "source": [
    "**Задание 7**\n",
    "\n",
    "\n",
    "Приведите названия в соответствие с хорошим стилем:\n",
    "* несколько слов в названии запишите в «змеином_регистре»,\n",
    "* все символы сделайте строчными,\n",
    "* устраните пробелы.\n",
    "\n",
    "Для этого переименуйте колонки так:\n",
    "* `'  userID'` → `'user_id'`;\n",
    "* `'Track'` → `'track'`;\n",
    "* `'  City  '` → `'city'`;\n",
    "* `'Day'` → `'day'`."
   ]
  },
  {
   "cell_type": "code",
   "execution_count": 7,
   "metadata": {
    "deletable": false,
    "id": "ISlFqs5y_Zct"
   },
   "outputs": [],
   "source": [
    "df.rename(columns={'  userID': 'user_id', 'Track': 'track', '  City  ': 'city', 'Day': 'day'}, inplace=True)"
   ]
  },
  {
   "cell_type": "markdown",
   "metadata": {
    "deletable": false,
    "editable": false,
    "id": "1dqbh00J_Zct",
    "tags": [
     "start_task"
    ]
   },
   "source": [
    "**Задание 8**\n",
    "\n",
    "\n",
    "Проверьте результат. Для этого ещё раз выведите на экран названия столбцов:"
   ]
  },
  {
   "cell_type": "code",
   "execution_count": 8,
   "metadata": {
    "deletable": false,
    "id": "d4NOAmTW_Zct"
   },
   "outputs": [
    {
     "data": {
      "text/plain": [
       "Index(['user_id', 'track', 'artist', 'genre', 'city', 'time', 'day'], dtype='object')"
      ]
     },
     "execution_count": 8,
     "metadata": {},
     "output_type": "execute_result"
    }
   ],
   "source": [
    "df.columns"
   ]
  },
  {
   "cell_type": "markdown",
   "metadata": {
    "deletable": false,
    "editable": false,
    "id": "5ISfbcfY_Zct",
    "tags": [
     "start_task"
    ]
   },
   "source": [
    "### Пропуски значений\n",
    "\n",
    "**Задание 9**\n",
    "\n",
    "Сначала посчитайте, сколько в таблице пропущенных значений. Для этого достаточно двух методов `pandas`:"
   ]
  },
  {
   "cell_type": "code",
   "execution_count": 9,
   "metadata": {
    "deletable": false,
    "id": "RskX29qr_Zct"
   },
   "outputs": [
    {
     "data": {
      "text/plain": [
       "user_id       0\n",
       "track      1231\n",
       "artist     7203\n",
       "genre      1198\n",
       "city          0\n",
       "time          0\n",
       "day           0\n",
       "dtype: int64"
      ]
     },
     "execution_count": 9,
     "metadata": {},
     "output_type": "execute_result"
    }
   ],
   "source": [
    "df.isna().sum()"
   ]
  },
  {
   "cell_type": "markdown",
   "metadata": {
    "deletable": false,
    "editable": false,
    "id": "qubhgnlO_Zct"
   },
   "source": [
    "Не все пропущенные значения влияют на исследование. Так в `track` и `artist` пропуски не важны для вашей работы. Достаточно заменить их явными обозначениями.\n",
    "\n",
    "Но пропуски в `genre` могут помешать сравнению музыкальных вкусов в Москве и Санкт-Петербурге. На практике было бы правильно установить причину пропусков и восстановить данные. Такой возможности нет в учебном проекте. Придётся:\n",
    "* заполнить и эти пропуски явными обозначениями;\n",
    "* оценить, насколько они повредят расчётам. "
   ]
  },
  {
   "cell_type": "markdown",
   "metadata": {
    "deletable": false,
    "editable": false,
    "id": "fSv2laPA_Zct",
    "tags": [
     "start_task"
    ]
   },
   "source": [
    "**Задание 10**\n",
    "\n",
    "Замените пропущенные значения в столбцах `track`, `artist` и `genre` на строку `'unknown'`. Для этого создайте список `columns_to_replace`, переберите его элементы циклом `for` и для каждого столбца выполните замену пропущенных значений:"
   ]
  },
  {
   "cell_type": "code",
   "execution_count": 10,
   "metadata": {
    "deletable": false,
    "id": "KplB5qWs_Zct"
   },
   "outputs": [],
   "source": [
    "columns_to_replace = ['track', 'artist', 'genre']\n",
    "for column in columns_to_replace:\n",
    "    df[column] = df[column].fillna('unknown')"
   ]
  },
  {
   "cell_type": "markdown",
   "metadata": {
    "deletable": false,
    "editable": false,
    "id": "Ilsm-MZo_Zct",
    "tags": [
     "start_task"
    ]
   },
   "source": [
    "**Задание 11**\n",
    "\n",
    "Убедитесь, что в таблице не осталось пропусков. Для этого ещё раз посчитайте пропущенные значения."
   ]
  },
  {
   "cell_type": "code",
   "execution_count": 11,
   "metadata": {
    "deletable": false,
    "id": "Tq4nYRX4_Zct"
   },
   "outputs": [
    {
     "data": {
      "text/plain": [
       "user_id    0\n",
       "track      0\n",
       "artist     0\n",
       "genre      0\n",
       "city       0\n",
       "time       0\n",
       "day        0\n",
       "dtype: int64"
      ]
     },
     "execution_count": 11,
     "metadata": {},
     "output_type": "execute_result"
    }
   ],
   "source": [
    "df.isna().sum()"
   ]
  },
  {
   "cell_type": "markdown",
   "metadata": {
    "deletable": false,
    "editable": false,
    "id": "BWKRtBJ3_Zct",
    "tags": [
     "start_task"
    ]
   },
   "source": [
    "### Дубликаты\n",
    "\n",
    "**Задание 12**\n",
    "\n",
    "Посчитайте явные дубликаты в таблице одной командой:"
   ]
  },
  {
   "cell_type": "code",
   "execution_count": 12,
   "metadata": {
    "deletable": false,
    "id": "36eES_S0_Zct"
   },
   "outputs": [
    {
     "data": {
      "text/plain": [
       "3826"
      ]
     },
     "execution_count": 12,
     "metadata": {},
     "output_type": "execute_result"
    }
   ],
   "source": [
    "df.duplicated().sum()"
   ]
  },
  {
   "cell_type": "markdown",
   "metadata": {
    "deletable": false,
    "editable": false,
    "id": "Ot25h6XR_Zct",
    "tags": [
     "start_task"
    ]
   },
   "source": [
    "**Задание 13**\n",
    "\n",
    "Вызовите специальный метод `pandas`, чтобы удалить явные дубликаты:"
   ]
  },
  {
   "cell_type": "code",
   "execution_count": 13,
   "metadata": {
    "deletable": false,
    "id": "exFHq6tt_Zct"
   },
   "outputs": [],
   "source": [
    "df.drop_duplicates(inplace=True, ignore_index= True)"
   ]
  },
  {
   "cell_type": "markdown",
   "metadata": {
    "deletable": false,
    "editable": false,
    "id": "Im2YwBEG_Zct",
    "tags": [
     "start_task"
    ]
   },
   "source": [
    "**Задание 14**\n",
    "\n",
    "Ещё раз посчитайте явные дубликаты в таблице — убедитесь, что полностью от них избавились:"
   ]
  },
  {
   "cell_type": "code",
   "execution_count": 14,
   "metadata": {
    "deletable": false,
    "id": "-8PuNWQ0_Zct"
   },
   "outputs": [
    {
     "data": {
      "text/plain": [
       "0"
      ]
     },
     "execution_count": 14,
     "metadata": {},
     "output_type": "execute_result"
    }
   ],
   "source": [
    "df.duplicated().sum()"
   ]
  },
  {
   "cell_type": "markdown",
   "metadata": {
    "deletable": false,
    "editable": false,
    "id": "QlFBsxAr_Zct"
   },
   "source": [
    "Теперь избавьтесь от неявных дубликатов в колонке `genre`. Например, название одного и того же жанра может быть записано немного по-разному. Такие ошибки тоже повлияют на результат исследования."
   ]
  },
  {
   "cell_type": "markdown",
   "metadata": {
    "deletable": false,
    "editable": false,
    "id": "eSjWwsOh_Zct",
    "tags": [
     "start_task"
    ]
   },
   "source": [
    "**Задание 15**\n",
    "\n",
    "Выведите на экран список уникальных названий жанров, отсортированный в алфавитном порядке. Для этого:\n",
    "1. извлеките нужный столбец датафрейма; \n",
    "2. примените к нему метод сортировки;\n",
    "3. для отсортированного столбца вызовите метод, который вернёт уникальные значения из столбца."
   ]
  },
  {
   "cell_type": "code",
   "execution_count": 15,
   "metadata": {
    "deletable": false,
    "id": "JIUcqzZN_Zct"
   },
   "outputs": [
    {
     "name": "stdout",
     "output_type": "stream",
     "text": [
      "['acid' 'acoustic' 'action' 'adult' 'africa' 'afrikaans' 'alternative'\n",
      " 'alternativepunk' 'ambient' 'americana' 'animated' 'anime' 'arabesk'\n",
      " 'arabic' 'arena' 'argentinetango' 'art' 'audiobook' 'author' 'avantgarde'\n",
      " 'axé' 'baile' 'balkan' 'beats' 'bigroom' 'black' 'bluegrass' 'blues'\n",
      " 'bollywood' 'bossa' 'brazilian' 'breakbeat' 'breaks' 'broadway'\n",
      " 'cantautori' 'cantopop' 'canzone' 'caribbean' 'caucasian' 'celtic'\n",
      " 'chamber' 'chanson' 'children' 'chill' 'chinese' 'choral' 'christian'\n",
      " 'christmas' 'classical' 'classicmetal' 'club' 'colombian' 'comedy'\n",
      " 'conjazz' 'contemporary' 'country' 'cuban' 'dance' 'dancehall' 'dancepop'\n",
      " 'dark' 'death' 'deep' 'deutschrock' 'deutschspr' 'dirty' 'disco' 'dnb'\n",
      " 'documentary' 'downbeat' 'downtempo' 'drum' 'dub' 'dubstep' 'eastern'\n",
      " 'easy' 'electronic' 'electropop' 'emo' 'entehno' 'epicmetal' 'estrada'\n",
      " 'ethnic' 'eurofolk' 'european' 'experimental' 'extrememetal' 'fado'\n",
      " 'fairytail' 'film' 'fitness' 'flamenco' 'folk' 'folklore' 'folkmetal'\n",
      " 'folkrock' 'folktronica' 'forró' 'frankreich' 'französisch' 'french'\n",
      " 'funk' 'future' 'gangsta' 'garage' 'german' 'ghazal' 'gitarre' 'glitch'\n",
      " 'gospel' 'gothic' 'grime' 'grunge' 'gypsy' 'handsup' \"hard'n'heavy\"\n",
      " 'hardcore' 'hardstyle' 'hardtechno' 'hip' 'hip-hop' 'hiphop' 'historisch'\n",
      " 'holiday' 'hop' 'horror' 'house' 'hymn' 'idm' 'independent' 'indian'\n",
      " 'indie' 'indipop' 'industrial' 'inspirational' 'instrumental'\n",
      " 'international' 'irish' 'jam' 'japanese' 'jazz' 'jewish' 'jpop' 'jungle'\n",
      " 'k-pop' 'karadeniz' 'karaoke' 'kayokyoku' 'korean' 'laiko' 'latin'\n",
      " 'latino' 'leftfield' 'local' 'lounge' 'loungeelectronic' 'lovers'\n",
      " 'malaysian' 'mandopop' 'marschmusik' 'meditative' 'mediterranean'\n",
      " 'melodic' 'metal' 'metalcore' 'mexican' 'middle' 'minimal'\n",
      " 'miscellaneous' 'modern' 'mood' 'mpb' 'muslim' 'native' 'neoklassik'\n",
      " 'neue' 'new' 'newage' 'newwave' 'nu' 'nujazz' 'numetal' 'oceania' 'old'\n",
      " 'opera' 'orchestral' 'other' 'piano' 'podcasts' 'pop' 'popdance'\n",
      " 'popelectronic' 'popeurodance' 'poprussian' 'post' 'posthardcore'\n",
      " 'postrock' 'power' 'progmetal' 'progressive' 'psychedelic' 'punjabi'\n",
      " 'punk' 'quebecois' 'ragga' 'ram' 'rancheras' 'rap' 'rave' 'reggae'\n",
      " 'reggaeton' 'regional' 'relax' 'religious' 'retro' 'rhythm' 'rnb' 'rnr'\n",
      " 'rock' 'rockabilly' 'rockalternative' 'rockindie' 'rockother' 'romance'\n",
      " 'roots' 'ruspop' 'rusrap' 'rusrock' 'russian' 'salsa' 'samba' 'scenic'\n",
      " 'schlager' 'self' 'sertanejo' 'shanson' 'shoegazing' 'showtunes' 'singer'\n",
      " 'ska' 'skarock' 'slow' 'smooth' 'soft' 'soul' 'soulful' 'sound'\n",
      " 'soundtrack' 'southern' 'specialty' 'speech' 'spiritual' 'sport'\n",
      " 'stonerrock' 'surf' 'swing' 'synthpop' 'synthrock' 'sängerportrait'\n",
      " 'tango' 'tanzorchester' 'taraftar' 'tatar' 'tech' 'techno' 'teen'\n",
      " 'thrash' 'top' 'traditional' 'tradjazz' 'trance' 'tribal' 'trip'\n",
      " 'triphop' 'tropical' 'türk' 'türkçe' 'ukrrock' 'unknown' 'urban' 'uzbek'\n",
      " 'variété' 'vi' 'videogame' 'vocal' 'western' 'world' 'worldbeat' 'ïîï'\n",
      " 'электроника']\n"
     ]
    }
   ],
   "source": [
    "print(df['genre'].sort_values().unique())"
   ]
  },
  {
   "cell_type": "markdown",
   "metadata": {
    "deletable": false,
    "editable": false,
    "id": "qej-Qmuo_Zct",
    "tags": [
     "start_task"
    ]
   },
   "source": [
    "**Задание 16**\n",
    "\n",
    "Просмотрите список и найдите неявные дубликаты названия `hiphop`. Это могут быть названия с ошибками или альтернативные названия того же жанра.\n",
    "\n",
    "Вы увидите следующие неявные дубликаты:\n",
    "* *hip*,\n",
    "* *hop*,\n",
    "* *hip-hop*.\n",
    "\n",
    "Чтобы очистить от них таблицу используйте метод `replace()` с двумя аргументами: списком строк-дубликатов (включащий *hip*, *hop* и *hip-hop*) и строкой с правильным значением. Вам нужно исправить колонку `genre` в таблице `df`: заменить каждое значение из списка дубликатов на верное. Вместо `hip`, `hop` и `hip-hop` в таблице должно быть значение `hiphop`:"
   ]
  },
  {
   "cell_type": "code",
   "execution_count": 16,
   "metadata": {
    "deletable": false,
    "id": "ErNDkmns_Zct"
   },
   "outputs": [],
   "source": [
    "dubl = ['hip', 'hop', 'hip-hop']\n",
    "name = 'hiphop'\n",
    "df['genre_name'] = df['genre'].replace(to_replace=dubl, value=name, inplace=True)"
   ]
  },
  {
   "cell_type": "markdown",
   "metadata": {
    "deletable": false,
    "editable": false,
    "id": "zQKF16_RG15m",
    "tags": [
     "start_task"
    ]
   },
   "source": [
    "**Задание 17**\n",
    "\n",
    "Проверьте, что заменили неправильные названия:\n",
    "\n",
    "*   hip,\n",
    "*   hop,\n",
    "*   hip-hop.\n",
    "\n",
    "Выведите отсортированный список уникальных значений столбца `genre`:"
   ]
  },
  {
   "cell_type": "code",
   "execution_count": 17,
   "metadata": {
    "deletable": false,
    "id": "wvixALnFG15m"
   },
   "outputs": [
    {
     "name": "stdout",
     "output_type": "stream",
     "text": [
      "['acid' 'acoustic' 'action' 'adult' 'africa' 'afrikaans' 'alternative'\n",
      " 'alternativepunk' 'ambient' 'americana' 'animated' 'anime' 'arabesk'\n",
      " 'arabic' 'arena' 'argentinetango' 'art' 'audiobook' 'author' 'avantgarde'\n",
      " 'axé' 'baile' 'balkan' 'beats' 'bigroom' 'black' 'bluegrass' 'blues'\n",
      " 'bollywood' 'bossa' 'brazilian' 'breakbeat' 'breaks' 'broadway'\n",
      " 'cantautori' 'cantopop' 'canzone' 'caribbean' 'caucasian' 'celtic'\n",
      " 'chamber' 'chanson' 'children' 'chill' 'chinese' 'choral' 'christian'\n",
      " 'christmas' 'classical' 'classicmetal' 'club' 'colombian' 'comedy'\n",
      " 'conjazz' 'contemporary' 'country' 'cuban' 'dance' 'dancehall' 'dancepop'\n",
      " 'dark' 'death' 'deep' 'deutschrock' 'deutschspr' 'dirty' 'disco' 'dnb'\n",
      " 'documentary' 'downbeat' 'downtempo' 'drum' 'dub' 'dubstep' 'eastern'\n",
      " 'easy' 'electronic' 'electropop' 'emo' 'entehno' 'epicmetal' 'estrada'\n",
      " 'ethnic' 'eurofolk' 'european' 'experimental' 'extrememetal' 'fado'\n",
      " 'fairytail' 'film' 'fitness' 'flamenco' 'folk' 'folklore' 'folkmetal'\n",
      " 'folkrock' 'folktronica' 'forró' 'frankreich' 'französisch' 'french'\n",
      " 'funk' 'future' 'gangsta' 'garage' 'german' 'ghazal' 'gitarre' 'glitch'\n",
      " 'gospel' 'gothic' 'grime' 'grunge' 'gypsy' 'handsup' \"hard'n'heavy\"\n",
      " 'hardcore' 'hardstyle' 'hardtechno' 'hiphop' 'historisch' 'holiday'\n",
      " 'horror' 'house' 'hymn' 'idm' 'independent' 'indian' 'indie' 'indipop'\n",
      " 'industrial' 'inspirational' 'instrumental' 'international' 'irish' 'jam'\n",
      " 'japanese' 'jazz' 'jewish' 'jpop' 'jungle' 'k-pop' 'karadeniz' 'karaoke'\n",
      " 'kayokyoku' 'korean' 'laiko' 'latin' 'latino' 'leftfield' 'local'\n",
      " 'lounge' 'loungeelectronic' 'lovers' 'malaysian' 'mandopop' 'marschmusik'\n",
      " 'meditative' 'mediterranean' 'melodic' 'metal' 'metalcore' 'mexican'\n",
      " 'middle' 'minimal' 'miscellaneous' 'modern' 'mood' 'mpb' 'muslim'\n",
      " 'native' 'neoklassik' 'neue' 'new' 'newage' 'newwave' 'nu' 'nujazz'\n",
      " 'numetal' 'oceania' 'old' 'opera' 'orchestral' 'other' 'piano' 'podcasts'\n",
      " 'pop' 'popdance' 'popelectronic' 'popeurodance' 'poprussian' 'post'\n",
      " 'posthardcore' 'postrock' 'power' 'progmetal' 'progressive' 'psychedelic'\n",
      " 'punjabi' 'punk' 'quebecois' 'ragga' 'ram' 'rancheras' 'rap' 'rave'\n",
      " 'reggae' 'reggaeton' 'regional' 'relax' 'religious' 'retro' 'rhythm'\n",
      " 'rnb' 'rnr' 'rock' 'rockabilly' 'rockalternative' 'rockindie' 'rockother'\n",
      " 'romance' 'roots' 'ruspop' 'rusrap' 'rusrock' 'russian' 'salsa' 'samba'\n",
      " 'scenic' 'schlager' 'self' 'sertanejo' 'shanson' 'shoegazing' 'showtunes'\n",
      " 'singer' 'ska' 'skarock' 'slow' 'smooth' 'soft' 'soul' 'soulful' 'sound'\n",
      " 'soundtrack' 'southern' 'specialty' 'speech' 'spiritual' 'sport'\n",
      " 'stonerrock' 'surf' 'swing' 'synthpop' 'synthrock' 'sängerportrait'\n",
      " 'tango' 'tanzorchester' 'taraftar' 'tatar' 'tech' 'techno' 'teen'\n",
      " 'thrash' 'top' 'traditional' 'tradjazz' 'trance' 'tribal' 'trip'\n",
      " 'triphop' 'tropical' 'türk' 'türkçe' 'ukrrock' 'unknown' 'urban' 'uzbek'\n",
      " 'variété' 'vi' 'videogame' 'vocal' 'western' 'world' 'worldbeat' 'ïîï'\n",
      " 'электроника']\n"
     ]
    }
   ],
   "source": [
    "print(df['genre'].sort_values().unique())"
   ]
  },
  {
   "cell_type": "markdown",
   "metadata": {
    "deletable": false,
    "editable": false,
    "id": "jz6a9-7HQUDd"
   },
   "source": [
    "**Выводы**\n",
    "\n",
    "Предобработка обнаружила три проблемы в данных:\n",
    "\n",
    "- нарушения в стиле заголовков,\n",
    "- пропущенные значения,\n",
    "- дубликаты — явные и неявные.\n",
    "\n",
    "Вы исправили заголовки, чтобы упростить работу с таблицей. Без дубликатов исследование станет более точным.\n",
    "\n",
    "Пропущенные значения вы заменили на `'unknown'`. Ещё предстоит увидеть, не повредят ли исследованию пропуски в колонке `genre`.\n",
    "\n",
    "Теперь можно перейти к проверке гипотез. "
   ]
  },
  {
   "cell_type": "markdown",
   "metadata": {
    "deletable": false,
    "editable": false,
    "id": "WttZHXH0SqKk"
   },
   "source": [
    "## Проверка гипотез"
   ]
  },
  {
   "cell_type": "markdown",
   "metadata": {
    "deletable": false,
    "editable": false,
    "id": "Im936VVi_Zcu"
   },
   "source": [
    "### Сравнение поведения пользователей двух столиц"
   ]
  },
  {
   "cell_type": "markdown",
   "metadata": {
    "deletable": false,
    "editable": false,
    "id": "nwt_MuaL_Zcu"
   },
   "source": [
    "Первая гипотеза утверждает, что пользователи по-разному слушают музыку в Москве и Санкт-Петербурге. Проверьте это предположение по данным о трёх днях недели — понедельнике, среде и пятнице. Для этого:\n",
    "\n",
    "* Разделите пользователей Москвы и Санкт-Петербурга.\n",
    "* Сравните, сколько треков послушала каждая группа пользователей в понедельник, среду и пятницу.\n"
   ]
  },
  {
   "cell_type": "markdown",
   "metadata": {
    "deletable": false,
    "editable": false,
    "id": "8Dw_YMmT_Zcu",
    "tags": [
     "start_task"
    ]
   },
   "source": [
    "**Задание 18**\n",
    "\n",
    "Для тренировки сначала выполните каждый из расчётов по отдельности. \n",
    "\n",
    "Оцените активность пользователей в каждом городе. Сгруппируйте данные по городу и посчитайте прослушивания в каждой группе.\n",
    "\n"
   ]
  },
  {
   "cell_type": "code",
   "execution_count": 18,
   "metadata": {
    "deletable": false,
    "id": "0_Qs96oh_Zcu"
   },
   "outputs": [
    {
     "data": {
      "text/plain": [
       "city\n",
       "Moscow              42741\n",
       "Saint-Petersburg    18512\n",
       "Name: city, dtype: int64"
      ]
     },
     "execution_count": 18,
     "metadata": {},
     "output_type": "execute_result"
    }
   ],
   "source": [
    "df.groupby('city')['city'].count()"
   ]
  },
  {
   "cell_type": "markdown",
   "metadata": {
    "deletable": false,
    "editable": false,
    "id": "dzli3w8o_Zcu",
    "tags": [
     "start_task"
    ]
   },
   "source": [
    "В Москве прослушиваний больше, чем в Петербурге. Из этого не следует, что московские пользователи чаще слушают музыку. Просто самих пользователей в Москве больше.\n",
    "\n",
    "**Задание 19**\n",
    "\n",
    "Теперь сгруппируйте данные по дню недели и посчитайте прослушивания в понедельник, среду и пятницу. Учтите, что в данных есть информация о прослушиваниях только за эти дни.\n"
   ]
  },
  {
   "cell_type": "code",
   "execution_count": 19,
   "metadata": {
    "deletable": false,
    "id": "uZMKjiJz_Zcu"
   },
   "outputs": [
    {
     "data": {
      "text/html": [
       "<div>\n",
       "<style scoped>\n",
       "    .dataframe tbody tr th:only-of-type {\n",
       "        vertical-align: middle;\n",
       "    }\n",
       "\n",
       "    .dataframe tbody tr th {\n",
       "        vertical-align: top;\n",
       "    }\n",
       "\n",
       "    .dataframe thead th {\n",
       "        text-align: right;\n",
       "    }\n",
       "</style>\n",
       "<table border=\"1\" class=\"dataframe\">\n",
       "  <thead>\n",
       "    <tr style=\"text-align: right;\">\n",
       "      <th></th>\n",
       "      <th>user_id</th>\n",
       "      <th>track</th>\n",
       "      <th>artist</th>\n",
       "      <th>genre</th>\n",
       "      <th>city</th>\n",
       "      <th>time</th>\n",
       "      <th>genre_name</th>\n",
       "    </tr>\n",
       "    <tr>\n",
       "      <th>day</th>\n",
       "      <th></th>\n",
       "      <th></th>\n",
       "      <th></th>\n",
       "      <th></th>\n",
       "      <th></th>\n",
       "      <th></th>\n",
       "      <th></th>\n",
       "    </tr>\n",
       "  </thead>\n",
       "  <tbody>\n",
       "    <tr>\n",
       "      <th>Friday</th>\n",
       "      <td>21840</td>\n",
       "      <td>21840</td>\n",
       "      <td>21840</td>\n",
       "      <td>21840</td>\n",
       "      <td>21840</td>\n",
       "      <td>21840</td>\n",
       "      <td>0</td>\n",
       "    </tr>\n",
       "    <tr>\n",
       "      <th>Monday</th>\n",
       "      <td>21354</td>\n",
       "      <td>21354</td>\n",
       "      <td>21354</td>\n",
       "      <td>21354</td>\n",
       "      <td>21354</td>\n",
       "      <td>21354</td>\n",
       "      <td>0</td>\n",
       "    </tr>\n",
       "    <tr>\n",
       "      <th>Wednesday</th>\n",
       "      <td>18059</td>\n",
       "      <td>18059</td>\n",
       "      <td>18059</td>\n",
       "      <td>18059</td>\n",
       "      <td>18059</td>\n",
       "      <td>18059</td>\n",
       "      <td>0</td>\n",
       "    </tr>\n",
       "  </tbody>\n",
       "</table>\n",
       "</div>"
      ],
      "text/plain": [
       "           user_id  track  artist  genre   city   time  genre_name\n",
       "day                                                               \n",
       "Friday       21840  21840   21840  21840  21840  21840           0\n",
       "Monday       21354  21354   21354  21354  21354  21354           0\n",
       "Wednesday    18059  18059   18059  18059  18059  18059           0"
      ]
     },
     "execution_count": 19,
     "metadata": {},
     "output_type": "execute_result"
    }
   ],
   "source": [
    "df.groupby('day').count()"
   ]
  },
  {
   "cell_type": "markdown",
   "metadata": {
    "deletable": false,
    "editable": false,
    "id": "cC2tNrlL_Zcu"
   },
   "source": [
    "В среднем пользователи из двух городов менее активны по средам. Но картина может измениться, если рассмотреть каждый город в отдельности."
   ]
  },
  {
   "cell_type": "markdown",
   "metadata": {
    "deletable": false,
    "editable": false,
    "id": "POzs8bGa_Zcu",
    "tags": [
     "start_task"
    ]
   },
   "source": [
    "**Задание 20**\n",
    "\n",
    "\n",
    "Вы видели, как работает группировка по городу и по дням недели. Теперь напишите функцию, которая объединит два эти расчёта.\n",
    "\n",
    "Создайте функцию `number_tracks()`, которая посчитает прослушивания для заданного дня и города. Ей понадобятся два параметра:\n",
    "* день недели,\n",
    "* название города.\n",
    "\n",
    "В функции сохраните в переменную строки исходной таблицы, у которых значение:\n",
    "  * в колонке `day` равно параметру `day`,\n",
    "  * в колонке `city` равно параметру `city`.\n",
    "\n",
    "Для этого примените последовательную фильтрацию с логической индексацией (или сложные логические выражения в одну строку, если вы уже знакомы с ними).\n",
    "\n",
    "Затем посчитайте значения в столбце `user_id` получившейся таблицы. Результат сохраните в новую переменную. Верните эту переменную из функции."
   ]
  },
  {
   "cell_type": "code",
   "execution_count": 20,
   "metadata": {
    "deletable": false,
    "id": "Nz3GdQB1_Zcu"
   },
   "outputs": [],
   "source": [
    "def number_tracks(day, city):\n",
    "    track_list = df[(df['day']==day)&(df['city']==city)]\n",
    "    track_list_count = track_list['user_id'].count()\n",
    "    return track_list_count\n",
    "\n",
    "# Функция для подсчёта прослушиваний для конкретного города и дня.\n",
    "# С помощью последовательной фильтрации с логической индексацией она \n",
    "# сначала получит из исходной таблицы строки с нужным днём,\n",
    "# затем из результата отфильтрует строки с нужным городом,\n",
    "# методом count() посчитает количество значений в колонке user_id. \n",
    "# Это количество функция вернёт в качестве результата"
   ]
  },
  {
   "cell_type": "markdown",
   "metadata": {
    "deletable": false,
    "editable": false,
    "id": "ytf7xFrFJQ2r",
    "tags": [
     "start_task"
    ]
   },
   "source": [
    "**Задание 21**\n",
    "\n",
    "Вызовите `number_tracks()` шесть раз, меняя значение параметров — так, чтобы получить данные для каждого города в каждый из трёх дней."
   ]
  },
  {
   "cell_type": "code",
   "execution_count": 21,
   "metadata": {
    "deletable": false,
    "id": "rJcRATNQ_Zcu"
   },
   "outputs": [
    {
     "name": "stdout",
     "output_type": "stream",
     "text": [
      "15740\n"
     ]
    }
   ],
   "source": [
    "print(number_tracks('Monday', 'Moscow'))"
   ]
  },
  {
   "cell_type": "code",
   "execution_count": 22,
   "metadata": {
    "deletable": false,
    "id": "hq_ncZ5T_Zcu"
   },
   "outputs": [
    {
     "name": "stdout",
     "output_type": "stream",
     "text": [
      "5614\n"
     ]
    }
   ],
   "source": [
    "print(number_tracks('Monday', 'Saint-Petersburg'))"
   ]
  },
  {
   "cell_type": "code",
   "execution_count": 23,
   "metadata": {
    "deletable": false,
    "id": "_NTy2VPU_Zcu"
   },
   "outputs": [
    {
     "name": "stdout",
     "output_type": "stream",
     "text": [
      "11056\n"
     ]
    }
   ],
   "source": [
    "print(number_tracks('Wednesday', 'Moscow'))"
   ]
  },
  {
   "cell_type": "code",
   "execution_count": 24,
   "metadata": {
    "deletable": false,
    "id": "j2y3TAwo_Zcu"
   },
   "outputs": [
    {
     "name": "stdout",
     "output_type": "stream",
     "text": [
      "7003\n"
     ]
    }
   ],
   "source": [
    "print(number_tracks('Wednesday', 'Saint-Petersburg'))"
   ]
  },
  {
   "cell_type": "code",
   "execution_count": 25,
   "metadata": {
    "deletable": false,
    "id": "vYDw5u_K_Zcu"
   },
   "outputs": [
    {
     "name": "stdout",
     "output_type": "stream",
     "text": [
      "15945\n"
     ]
    }
   ],
   "source": [
    "print(number_tracks('Friday', 'Moscow'))"
   ]
  },
  {
   "cell_type": "code",
   "execution_count": 26,
   "metadata": {
    "deletable": false,
    "id": "8_yzFtW3_Zcu"
   },
   "outputs": [
    {
     "name": "stdout",
     "output_type": "stream",
     "text": [
      "5895\n"
     ]
    }
   ],
   "source": [
    "print(number_tracks('Friday', 'Saint-Petersburg'))"
   ]
  },
  {
   "cell_type": "markdown",
   "metadata": {
    "deletable": false,
    "editable": false,
    "id": "7QXffbO-_Zcu",
    "tags": [
     "start_task"
    ]
   },
   "source": [
    "**Задание 22**\n",
    "\n",
    "Создайте c помощью конструктора `pd.DataFrame` таблицу, где\n",
    "* названия колонок — `['city', 'monday', 'wednesday', 'friday']`;\n",
    "* данные — результаты, которые вы получили с помощью `number_tracks`."
   ]
  },
  {
   "cell_type": "code",
   "execution_count": 27,
   "metadata": {
    "deletable": false,
    "id": "APAcLpOr_Zcu"
   },
   "outputs": [],
   "source": [
    "columns_info = ['city', 'monday', 'wednesday', 'friday']\n",
    "data_info = [['Moscow', 15740, 11056, 15945],\n",
    "             ['Saint-Petersburg', 5614, 7003, 5895]]\n",
    "info = pd.DataFrame(data=data_info, columns=columns_info)"
   ]
  },
  {
   "cell_type": "markdown",
   "metadata": {
    "deletable": false,
    "editable": false,
    "id": "-EgPIHYu_Zcu"
   },
   "source": [
    "**Выводы**\n",
    "\n",
    "Данные показывают разницу поведения пользователей:\n",
    "\n",
    "- В Москве пик прослушиваний приходится на понедельник и пятницу, а в среду заметен спад.\n",
    "- В Петербурге, наоборот, больше слушают музыку по средам. Активность в понедельник и пятницу здесь почти в равной мере уступает среде.\n",
    "\n",
    "Значит, данные говорят в пользу первой гипотезы."
   ]
  },
  {
   "cell_type": "markdown",
   "metadata": {
    "deletable": false,
    "editable": false,
    "id": "atZAxtq4_Zcu"
   },
   "source": [
    "### Музыка в начале и в конце недели"
   ]
  },
  {
   "cell_type": "markdown",
   "metadata": {
    "deletable": false,
    "editable": false,
    "id": "eXrQqXFH_Zcu"
   },
   "source": [
    "Согласно второй гипотезе, утром в понедельник в Москве преобладают одни жанры, а в Петербурге — другие. Так же и вечером пятницы преобладают разные жанры — в зависимости от города."
   ]
  },
  {
   "cell_type": "markdown",
   "metadata": {
    "deletable": false,
    "editable": false,
    "id": "S8UcW6Hw_Zcu",
    "tags": [
     "start_task"
    ]
   },
   "source": [
    "**Задание 23**\n",
    "\n",
    "Сохраните таблицы с данными в две переменные:\n",
    "* по Москве — в `moscow_general`;\n",
    "* по Санкт-Петербургу — в `spb_general`."
   ]
  },
  {
   "cell_type": "code",
   "execution_count": 28,
   "metadata": {
    "deletable": false,
    "id": "qeaFfM_P_Zcu"
   },
   "outputs": [],
   "source": [
    "# получение таблицы moscow_general из тех строк таблицы df, \n",
    "# для которых значение в столбце 'city' равно 'Moscow'\n",
    "moscow_general = df[df['city'] == 'Moscow']"
   ]
  },
  {
   "cell_type": "code",
   "execution_count": 29,
   "metadata": {
    "deletable": false,
    "id": "ORaVRKto_Zcu"
   },
   "outputs": [],
   "source": [
    "# получение таблицы spb_general из тех строк таблицы df,\n",
    "# для которых значение в столбце 'city' равно 'Saint-Petersburg'\n",
    "spb_general = df[df['city'] == 'Saint-Petersburg']"
   ]
  },
  {
   "cell_type": "markdown",
   "metadata": {
    "deletable": false,
    "editable": false,
    "id": "MEJV-CX2_Zcu",
    "tags": [
     "start_task"
    ]
   },
   "source": [
    "**Задание 24**\n",
    "\n",
    "Создайте функцию `genre_weekday()` с четырьмя параметрами:\n",
    "* таблица (датафрейм) с данными,\n",
    "* день недели,\n",
    "* начальная временная метка в формате 'hh:mm', \n",
    "* последняя временная метка в формате 'hh:mm'.\n",
    "\n",
    "Функция должна вернуть информацию о топ-10 жанров тех треков, которые прослушивали в указанный день, в промежутке между двумя отметками времени."
   ]
  },
  {
   "cell_type": "code",
   "execution_count": 43,
   "metadata": {
    "deletable": false,
    "id": "laJT9BYl_Zcu"
   },
   "outputs": [],
   "source": [
    "# Объявление функции genre_weekday() с параметрами table, day, time1, time2,\n",
    "# которая возвращает информацию о самых популярных жанрах в указанный день в\n",
    "# заданное время:\n",
    "# 1) в переменную genre_df сохраняются те строки переданного датафрейма table, для\n",
    "#    которых одновременно:\n",
    "#    - значение в столбце day равно значению аргумента day\n",
    "#    - значение в столбце time больше значения аргумента time1\n",
    "#    - значение в столбце time меньше значения аргумента time2\n",
    "#    Используйте последовательную фильтрацию с помощью логической индексации.\n",
    "# 2) сгруппировать датафрейм genre_df по столбцу genre, взять один из его\n",
    "#    столбцов и посчитать методом count() количество записей для каждого из\n",
    "#    присутствующих жанров, получившийся Series записать в переменную\n",
    "#    genre_df_count\n",
    "# 3) отсортировать genre_df_count по убыванию встречаемости и сохранить\n",
    "#    в переменную genre_df_sorted\n",
    "# 4) вернуть Series из 10 первых значений genre_df_sorted, это будут топ-10\n",
    "#    популярных жанров (в указанный день, в заданное время)\n",
    "\n",
    "def genre_weekday(df, day, time1, time2):\n",
    "    # последовательная фильтрация\n",
    "    # оставляем в genre_df только те строки df, у которых день равен day\n",
    "    genre_df = df[df['day']==day]\n",
    "    # оставляем в genre_df только те строки genre_df, у которых время меньше time2\n",
    "    genre_df = genre_df[genre_df['time']<=time2]\n",
    "    # оставляем в genre_df только те строки genre_df, у которых время больше time1\n",
    "    genre_df = genre_df[genre_df['time']>=time1]\n",
    "    # сгруппируем отфильтрованный датафрейм по столбцу с названиями жанров, возьмём столбец genre и посчитаем кол-во строк для каждого жанра методом count()\n",
    "    genre_df_grouped = genre_df.groupby('genre')['genre'].count()\n",
    "    # отсортируем результат по убыванию (чтобы в начале Series оказались самые популярные жанры)\n",
    "    genre_df_sorted = genre_df_grouped.sort_values(ascending=False)\n",
    "    # вернём Series с 10 самыми популярными жанрами в указанный отрезок времени заданного дня\n",
    "    return genre_df_sorted[:10]"
   ]
  },
  {
   "cell_type": "markdown",
   "metadata": {
    "deletable": false,
    "editable": false,
    "id": "la2s2_PF_Zcu",
    "tags": [
     "start_task"
    ]
   },
   "source": [
    "**Задание 25**\n",
    "\n",
    "\n",
    "Cравните результаты функции `genre_weekday()` для Москвы и Санкт-Петербурга в понедельник утром (с 7:00 до 11:00) и в пятницу вечером (с 17:00 до 23:00):"
   ]
  },
  {
   "cell_type": "code",
   "execution_count": 44,
   "metadata": {
    "deletable": false,
    "id": "yz7itPUQ_Zcu"
   },
   "outputs": [
    {
     "data": {
      "text/plain": [
       "genre\n",
       "pop            781\n",
       "dance          549\n",
       "electronic     480\n",
       "rock           474\n",
       "hiphop         286\n",
       "ruspop         186\n",
       "world          181\n",
       "rusrap         175\n",
       "alternative    164\n",
       "unknown        161\n",
       "Name: genre, dtype: int64"
      ]
     },
     "execution_count": 44,
     "metadata": {},
     "output_type": "execute_result"
    }
   ],
   "source": [
    "genre_weekday(moscow_general, 'Monday', '07:00', '11:00')"
   ]
  },
  {
   "cell_type": "code",
   "execution_count": 45,
   "metadata": {
    "deletable": false,
    "id": "kwUcHPdy_Zcu"
   },
   "outputs": [
    {
     "data": {
      "text/plain": [
       "genre\n",
       "pop            218\n",
       "dance          182\n",
       "rock           162\n",
       "electronic     147\n",
       "hiphop          80\n",
       "ruspop          64\n",
       "alternative     58\n",
       "rusrap          55\n",
       "jazz            44\n",
       "classical       40\n",
       "Name: genre, dtype: int64"
      ]
     },
     "execution_count": 45,
     "metadata": {},
     "output_type": "execute_result"
    }
   ],
   "source": [
    "genre_weekday(spb_general, 'Monday', '07:00', '11:00')"
   ]
  },
  {
   "cell_type": "code",
   "execution_count": 46,
   "metadata": {
    "deletable": false,
    "id": "EzXVRE1o_Zcu"
   },
   "outputs": [
    {
     "data": {
      "text/plain": [
       "genre\n",
       "pop            713\n",
       "rock           517\n",
       "dance          495\n",
       "electronic     482\n",
       "hiphop         273\n",
       "world          208\n",
       "ruspop         170\n",
       "alternative    163\n",
       "classical      163\n",
       "rusrap         142\n",
       "Name: genre, dtype: int64"
      ]
     },
     "execution_count": 46,
     "metadata": {},
     "output_type": "execute_result"
    }
   ],
   "source": [
    "genre_weekday(moscow_general, 'Friday', '17:00', '23:00')"
   ]
  },
  {
   "cell_type": "code",
   "execution_count": 47,
   "metadata": {
    "deletable": false,
    "id": "JZaEKu5v_Zcu"
   },
   "outputs": [
    {
     "data": {
      "text/plain": [
       "genre\n",
       "pop            256\n",
       "electronic     216\n",
       "rock           216\n",
       "dance          210\n",
       "hiphop          97\n",
       "alternative     63\n",
       "jazz            61\n",
       "classical       60\n",
       "rusrap          59\n",
       "world           54\n",
       "Name: genre, dtype: int64"
      ]
     },
     "execution_count": 47,
     "metadata": {},
     "output_type": "execute_result"
    }
   ],
   "source": [
    "genre_weekday(spb_general, 'Friday', '17:00', '23:00')"
   ]
  },
  {
   "cell_type": "markdown",
   "metadata": {
    "deletable": false,
    "editable": false,
    "id": "wrCe4MNX_Zcu"
   },
   "source": [
    "**Выводы**\n",
    "\n",
    "Если сравнить топ-10 жанров в понедельник утром, можно сделать такие выводы:\n",
    "\n",
    "1. В Москве и Петербурге слушают похожую музыку. Единственное отличие — в московский рейтинг вошёл жанр “world”, а в петербургский — джаз и классика.\n",
    "\n",
    "2. В Москве пропущенных значений оказалось так много, что значение `'unknown'` заняло десятое место среди самых популярных жанров. Значит, пропущенные значения занимают существенную долю в данных и угрожают достоверности исследования.\n",
    "\n",
    "Вечер пятницы не меняет эту картину. Некоторые жанры поднимаются немного выше, другие спускаются, но в целом топ-10 остаётся тем же самым.\n",
    "\n",
    "Таким образом, вторая гипотеза подтвердилась лишь частично:\n",
    "* Пользователи слушают похожую музыку в начале недели и в конце.\n",
    "* Разница между Москвой и Петербургом не слишком выражена. В Москве чаще слушают русскую популярную музыку, в Петербурге — джаз.\n",
    "\n",
    "Однако пропуски в данных ставят под сомнение этот результат. В Москве их так много, что рейтинг топ-10 мог бы выглядеть иначе, если бы не утерянные  данные о жанрах."
   ]
  },
  {
   "cell_type": "markdown",
   "metadata": {
    "deletable": false,
    "editable": false,
    "id": "JolODAqr_Zcu"
   },
   "source": [
    "### Жанровые предпочтения в Москве и Петербурге\n",
    "\n",
    "Гипотеза: Петербург — столица рэпа, музыку этого жанра там слушают чаще, чем в Москве.  А Москва — город контрастов, в котором, тем не менее, преобладает поп-музыка."
   ]
  },
  {
   "cell_type": "markdown",
   "metadata": {
    "deletable": false,
    "editable": false,
    "id": "DlegSvaT_Zcu",
    "tags": [
     "start_task"
    ]
   },
   "source": [
    "**Задание 26**\n",
    "\n",
    "Сгруппируйте таблицу `moscow_general` по жанру и посчитайте прослушивания треков каждого жанра методом `count()`. Затем отсортируйте результат в порядке убывания и сохраните его в таблице `moscow_genres`."
   ]
  },
  {
   "cell_type": "code",
   "execution_count": 50,
   "metadata": {
    "deletable": false,
    "id": "r19lIPke_Zcu"
   },
   "outputs": [],
   "source": [
    "moscow_genres = moscow_general.groupby('genre')['genre'].count().sort_values(ascending=False)"
   ]
  },
  {
   "cell_type": "markdown",
   "metadata": {
    "deletable": false,
    "editable": false,
    "id": "6kMuomxTiIr8",
    "tags": [
     "start_task"
    ]
   },
   "source": [
    "**Задание 27**\n",
    "\n",
    "Выведите на экран первые десять строк `moscow_genres`:"
   ]
  },
  {
   "cell_type": "code",
   "execution_count": 51,
   "metadata": {
    "deletable": false,
    "id": "WhCSooF8_Zcv"
   },
   "outputs": [
    {
     "data": {
      "text/plain": [
       "genre\n",
       "pop            5892\n",
       "dance          4435\n",
       "rock           3965\n",
       "electronic     3786\n",
       "hiphop         2096\n",
       "classical      1616\n",
       "world          1432\n",
       "alternative    1379\n",
       "ruspop         1372\n",
       "rusrap         1161\n",
       "Name: genre, dtype: int64"
      ]
     },
     "execution_count": 51,
     "metadata": {},
     "output_type": "execute_result"
    }
   ],
   "source": [
    "moscow_genres.head(10)"
   ]
  },
  {
   "cell_type": "markdown",
   "metadata": {
    "deletable": false,
    "editable": false,
    "id": "cnPG2vnN_Zcv",
    "tags": [
     "start_task"
    ]
   },
   "source": [
    "**Задание 28**\n",
    "\n",
    "\n",
    "Теперь повторите то же и для Петербурга.\n",
    "\n",
    "Сгруппируйте таблицу `spb_general` по жанру. Посчитайте прослушивания треков каждого жанра. Результат отсортируйте в порядке убывания и сохраните в таблице `spb_genres`:\n"
   ]
  },
  {
   "cell_type": "code",
   "execution_count": 52,
   "metadata": {
    "deletable": false,
    "id": "gluLIpE7_Zcv"
   },
   "outputs": [],
   "source": [
    "spb_genres = spb_general.groupby('genre')['genre'].count().sort_values(ascending=False)"
   ]
  },
  {
   "cell_type": "markdown",
   "metadata": {
    "deletable": false,
    "editable": false,
    "id": "5Doha_ODgyQ8",
    "tags": [
     "start_task"
    ]
   },
   "source": [
    "**Задание 29**\n",
    "\n",
    "Выведите на экран первые десять строк `spb_genres`:"
   ]
  },
  {
   "cell_type": "code",
   "execution_count": 53,
   "metadata": {
    "deletable": false,
    "id": "uaGJHjVU_Zcv"
   },
   "outputs": [
    {
     "data": {
      "text/plain": [
       "genre\n",
       "pop            2431\n",
       "dance          1932\n",
       "rock           1879\n",
       "electronic     1736\n",
       "hiphop          960\n",
       "alternative     649\n",
       "classical       646\n",
       "rusrap          564\n",
       "ruspop          538\n",
       "world           515\n",
       "Name: genre, dtype: int64"
      ]
     },
     "execution_count": 53,
     "metadata": {},
     "output_type": "execute_result"
    }
   ],
   "source": [
    "spb_genres.head(10)"
   ]
  },
  {
   "cell_type": "markdown",
   "metadata": {
    "deletable": false,
    "editable": false,
    "id": "RY51YJYu_Zcv"
   },
   "source": [
    "**Выводы**"
   ]
  },
  {
   "cell_type": "markdown",
   "metadata": {
    "deletable": false,
    "editable": false,
    "id": "nVhnJEm__Zcv"
   },
   "source": [
    "Гипотеза частично подтвердилась:\n",
    "* Поп-музыка — самый популярный жанр в Москве, как и предполагала гипотеза. Более того, в топ-10 жанров встречается близкий жанр — русская популярная музыка.\n",
    "* Вопреки ожиданиям, рэп одинаково популярен в Москве и Петербурге. \n"
   ]
  },
  {
   "cell_type": "markdown",
   "metadata": {
    "deletable": false,
    "editable": false,
    "id": "ykKQ0N65_Zcv"
   },
   "source": [
    "## Итоги исследования"
   ]
  },
  {
   "cell_type": "markdown",
   "metadata": {
    "deletable": false,
    "editable": false,
    "id": "tjUwbHb3_Zcv"
   },
   "source": [
    "Вы проверили три гипотезы и установили:\n",
    "\n",
    "1. День недели по-разному влияет на активность пользователей в Москве и Петербурге. \n",
    "\n",
    "Первая гипотеза полностью подтвердилась.\n",
    "\n",
    "2. Музыкальные предпочтения не сильно меняются в течение недели — будь то Москва или Петербург. Небольшие различия заметны в начале недели, по понедельникам:\n",
    "* в Москве слушают музыку жанра “world”,\n",
    "* в Петербурге — джаз и классику.\n",
    "\n",
    "Таким образом, вторая гипотеза подтвердилась лишь отчасти. Этот результат мог оказаться иным, если бы не пропуски в данных.\n",
    "\n",
    "3. Во вкусах пользователей Москвы и Петербурга больше общего чем различий. Вопреки ожиданиям, предпочтения жанров в Петербурге напоминают московские.\n",
    "\n",
    "Третья гипотеза не подтвердилась. Если различия в предпочтениях и существуют, на основной массе пользователей они незаметны.\n",
    "\n",
    "**На практике исследования содержат проверки статистических гипотез.**\n",
    "Из данных одного сервиса не всегда можно сделать вывод о всех жителях города.\n",
    "Проверки статистических гипотез покажут, насколько они достоверны, исходя из имеющихся данных. \n",
    "С методами проверок гипотез вы ещё познакомитесь в следующих темах."
   ]
  }
 ],
 "metadata": {
  "ExecuteTimeLog": [
   {
    "duration": 57,
    "start_time": "2022-08-05T14:38:11.370Z"
   },
   {
    "duration": 397,
    "start_time": "2022-08-05T14:38:19.864Z"
   },
   {
    "duration": 245,
    "start_time": "2022-08-05T14:38:23.181Z"
   },
   {
    "duration": 17,
    "start_time": "2022-08-05T14:38:24.636Z"
   },
   {
    "duration": 36,
    "start_time": "2022-08-05T14:39:30.727Z"
   },
   {
    "duration": 5,
    "start_time": "2022-08-05T14:44:12.287Z"
   },
   {
    "duration": 4,
    "start_time": "2022-08-05T14:49:32.963Z"
   },
   {
    "duration": 5,
    "start_time": "2022-08-05T14:49:35.372Z"
   },
   {
    "duration": 26,
    "start_time": "2022-08-05T14:54:38.494Z"
   },
   {
    "duration": 20,
    "start_time": "2022-08-05T15:03:32.145Z"
   },
   {
    "duration": 21,
    "start_time": "2022-08-05T15:04:03.559Z"
   },
   {
    "duration": 26,
    "start_time": "2022-08-05T15:04:32.825Z"
   },
   {
    "duration": 84,
    "start_time": "2022-08-05T15:05:30.188Z"
   },
   {
    "duration": 118,
    "start_time": "2022-08-05T15:06:15.919Z"
   },
   {
    "duration": 46,
    "start_time": "2022-08-05T15:10:52.097Z"
   },
   {
    "duration": 344,
    "start_time": "2022-08-05T15:11:24.758Z"
   },
   {
    "duration": 165,
    "start_time": "2022-08-05T15:11:26.726Z"
   },
   {
    "duration": 17,
    "start_time": "2022-08-05T15:11:28.163Z"
   },
   {
    "duration": 32,
    "start_time": "2022-08-05T15:11:29.591Z"
   },
   {
    "duration": 2,
    "start_time": "2022-08-05T15:11:31.236Z"
   },
   {
    "duration": 4,
    "start_time": "2022-08-05T15:11:33.593Z"
   },
   {
    "duration": 3,
    "start_time": "2022-08-05T15:11:34.792Z"
   },
   {
    "duration": 4,
    "start_time": "2022-08-05T15:11:35.823Z"
   },
   {
    "duration": 25,
    "start_time": "2022-08-05T15:11:36.747Z"
   },
   {
    "duration": 19,
    "start_time": "2022-08-05T15:11:38.116Z"
   },
   {
    "duration": 26,
    "start_time": "2022-08-05T15:11:41.096Z"
   },
   {
    "duration": 66,
    "start_time": "2022-08-05T15:11:46.961Z"
   },
   {
    "duration": 66,
    "start_time": "2022-08-05T15:11:48.191Z"
   },
   {
    "duration": 59,
    "start_time": "2022-08-05T15:12:08.034Z"
   },
   {
    "duration": 47,
    "start_time": "2022-08-05T15:15:08.796Z"
   },
   {
    "duration": 44,
    "start_time": "2022-08-05T15:16:08.394Z"
   },
   {
    "duration": 110,
    "start_time": "2022-08-05T15:20:46.829Z"
   },
   {
    "duration": 73,
    "start_time": "2022-08-05T15:21:17.672Z"
   },
   {
    "duration": 66,
    "start_time": "2022-08-05T15:21:21.911Z"
   },
   {
    "duration": 57,
    "start_time": "2022-08-05T15:21:23.960Z"
   },
   {
    "duration": 47,
    "start_time": "2022-08-05T15:21:25.961Z"
   },
   {
    "duration": 110,
    "start_time": "2022-08-05T15:21:27.913Z"
   },
   {
    "duration": 2,
    "start_time": "2022-08-05T15:21:43.280Z"
   },
   {
    "duration": 184,
    "start_time": "2022-08-05T15:21:44.201Z"
   },
   {
    "duration": 11,
    "start_time": "2022-08-05T15:21:45.620Z"
   },
   {
    "duration": 30,
    "start_time": "2022-08-05T15:21:46.787Z"
   },
   {
    "duration": 3,
    "start_time": "2022-08-05T15:21:47.871Z"
   },
   {
    "duration": 4,
    "start_time": "2022-08-05T15:21:49.669Z"
   },
   {
    "duration": 4,
    "start_time": "2022-08-05T15:21:50.544Z"
   },
   {
    "duration": 4,
    "start_time": "2022-08-05T15:21:51.274Z"
   },
   {
    "duration": 24,
    "start_time": "2022-08-05T15:21:51.995Z"
   },
   {
    "duration": 26,
    "start_time": "2022-08-05T15:21:53.488Z"
   },
   {
    "duration": 45,
    "start_time": "2022-08-05T15:21:54.113Z"
   },
   {
    "duration": 70,
    "start_time": "2022-08-05T15:21:54.949Z"
   },
   {
    "duration": 73,
    "start_time": "2022-08-05T15:21:56.049Z"
   },
   {
    "duration": 76,
    "start_time": "2022-08-05T15:21:57.291Z"
   },
   {
    "duration": 42,
    "start_time": "2022-08-05T15:21:58.872Z"
   },
   {
    "duration": 109,
    "start_time": "2022-08-05T15:22:00.233Z"
   },
   {
    "duration": 414,
    "start_time": "2022-08-05T15:23:03.870Z"
   },
   {
    "duration": 177,
    "start_time": "2022-08-05T15:23:07.372Z"
   },
   {
    "duration": 17,
    "start_time": "2022-08-05T15:23:08.584Z"
   },
   {
    "duration": 40,
    "start_time": "2022-08-05T15:23:09.676Z"
   },
   {
    "duration": 2,
    "start_time": "2022-08-05T15:23:13.085Z"
   },
   {
    "duration": 5,
    "start_time": "2022-08-05T15:23:16.912Z"
   },
   {
    "duration": 4,
    "start_time": "2022-08-05T15:23:18.613Z"
   },
   {
    "duration": 5,
    "start_time": "2022-08-05T15:23:20.246Z"
   },
   {
    "duration": 27,
    "start_time": "2022-08-05T15:23:22.297Z"
   },
   {
    "duration": 20,
    "start_time": "2022-08-05T15:23:25.819Z"
   },
   {
    "duration": 24,
    "start_time": "2022-08-05T15:23:27.063Z"
   },
   {
    "duration": 65,
    "start_time": "2022-08-05T15:23:28.654Z"
   },
   {
    "duration": 65,
    "start_time": "2022-08-05T15:23:32.426Z"
   },
   {
    "duration": 69,
    "start_time": "2022-08-05T15:23:37.654Z"
   },
   {
    "duration": 48,
    "start_time": "2022-08-05T15:23:41.673Z"
   },
   {
    "duration": 136,
    "start_time": "2022-08-05T15:23:44.284Z"
   },
   {
    "duration": 11,
    "start_time": "2022-08-05T16:16:49.189Z"
   },
   {
    "duration": 44,
    "start_time": "2022-08-05T16:17:22.101Z"
   },
   {
    "duration": 374,
    "start_time": "2022-08-05T16:19:21.835Z"
   },
   {
    "duration": 186,
    "start_time": "2022-08-05T16:19:24.428Z"
   },
   {
    "duration": 17,
    "start_time": "2022-08-05T16:19:25.289Z"
   },
   {
    "duration": 29,
    "start_time": "2022-08-05T16:19:26.483Z"
   },
   {
    "duration": 2,
    "start_time": "2022-08-05T16:19:27.787Z"
   },
   {
    "duration": 4,
    "start_time": "2022-08-05T16:19:29.714Z"
   },
   {
    "duration": 5,
    "start_time": "2022-08-05T16:19:31.073Z"
   },
   {
    "duration": 4,
    "start_time": "2022-08-05T16:19:32.095Z"
   },
   {
    "duration": 24,
    "start_time": "2022-08-05T16:19:33.106Z"
   },
   {
    "duration": 21,
    "start_time": "2022-08-05T16:19:34.559Z"
   },
   {
    "duration": 25,
    "start_time": "2022-08-05T16:19:35.414Z"
   },
   {
    "duration": 65,
    "start_time": "2022-08-05T16:19:36.509Z"
   },
   {
    "duration": 67,
    "start_time": "2022-08-05T16:19:37.957Z"
   },
   {
    "duration": 60,
    "start_time": "2022-08-05T16:19:39.348Z"
   },
   {
    "duration": 38,
    "start_time": "2022-08-05T16:19:44.957Z"
   },
   {
    "duration": 105,
    "start_time": "2022-08-05T16:19:50.964Z"
   },
   {
    "duration": 44,
    "start_time": "2022-08-05T16:20:05.367Z"
   },
   {
    "duration": 11,
    "start_time": "2022-08-05T16:29:52.525Z"
   },
   {
    "duration": 439,
    "start_time": "2022-08-05T17:58:23.508Z"
   },
   {
    "duration": 188,
    "start_time": "2022-08-05T17:58:23.950Z"
   },
   {
    "duration": 23,
    "start_time": "2022-08-05T17:58:24.140Z"
   },
   {
    "duration": 49,
    "start_time": "2022-08-05T17:58:24.166Z"
   },
   {
    "duration": 2,
    "start_time": "2022-08-05T17:58:24.217Z"
   },
   {
    "duration": 14,
    "start_time": "2022-08-05T17:58:24.221Z"
   },
   {
    "duration": 20,
    "start_time": "2022-08-05T17:58:24.238Z"
   },
   {
    "duration": 14,
    "start_time": "2022-08-05T17:58:24.261Z"
   },
   {
    "duration": 41,
    "start_time": "2022-08-05T17:58:24.278Z"
   },
   {
    "duration": 21,
    "start_time": "2022-08-05T17:58:24.322Z"
   },
   {
    "duration": 28,
    "start_time": "2022-08-05T17:58:24.345Z"
   },
   {
    "duration": 126,
    "start_time": "2022-08-05T17:58:24.375Z"
   },
   {
    "duration": 82,
    "start_time": "2022-08-05T17:58:24.510Z"
   },
   {
    "duration": 96,
    "start_time": "2022-08-05T17:58:24.594Z"
   },
   {
    "duration": 47,
    "start_time": "2022-08-05T17:58:24.692Z"
   },
   {
    "duration": 20,
    "start_time": "2022-08-05T17:58:24.741Z"
   },
   {
    "duration": 80,
    "start_time": "2022-08-05T17:58:24.765Z"
   },
   {
    "duration": 3,
    "start_time": "2022-08-05T17:58:24.847Z"
   },
   {
    "duration": 8,
    "start_time": "2022-08-05T17:58:24.852Z"
   },
   {
    "duration": 6,
    "start_time": "2022-08-05T17:58:24.862Z"
   },
   {
    "duration": 10,
    "start_time": "2022-08-05T17:58:24.870Z"
   },
   {
    "duration": 4,
    "start_time": "2022-08-05T17:58:24.882Z"
   },
   {
    "duration": 4,
    "start_time": "2022-08-05T17:58:24.889Z"
   },
   {
    "duration": 3,
    "start_time": "2022-08-05T17:58:24.910Z"
   },
   {
    "duration": 11,
    "start_time": "2022-08-05T17:58:24.916Z"
   },
   {
    "duration": 8,
    "start_time": "2022-08-05T17:58:24.929Z"
   },
   {
    "duration": 12,
    "start_time": "2022-08-05T17:58:24.939Z"
   },
   {
    "duration": 8,
    "start_time": "2022-08-05T17:58:24.955Z"
   },
   {
    "duration": 5,
    "start_time": "2022-08-05T17:58:24.965Z"
   },
   {
    "duration": 51,
    "start_time": "2022-08-05T17:58:24.972Z"
   },
   {
    "duration": 0,
    "start_time": "2022-08-05T17:58:25.024Z"
   },
   {
    "duration": 0,
    "start_time": "2022-08-05T17:58:25.026Z"
   },
   {
    "duration": 1,
    "start_time": "2022-08-05T17:58:25.027Z"
   },
   {
    "duration": 0,
    "start_time": "2022-08-05T17:58:25.029Z"
   },
   {
    "duration": 0,
    "start_time": "2022-08-05T17:58:25.030Z"
   },
   {
    "duration": 0,
    "start_time": "2022-08-05T17:58:25.031Z"
   },
   {
    "duration": 0,
    "start_time": "2022-08-05T17:58:25.032Z"
   },
   {
    "duration": 0,
    "start_time": "2022-08-05T17:58:25.033Z"
   },
   {
    "duration": 399,
    "start_time": "2022-08-05T17:59:11.829Z"
   },
   {
    "duration": 173,
    "start_time": "2022-08-05T17:59:12.230Z"
   },
   {
    "duration": 17,
    "start_time": "2022-08-05T17:59:12.405Z"
   },
   {
    "duration": 33,
    "start_time": "2022-08-05T17:59:12.424Z"
   },
   {
    "duration": 4,
    "start_time": "2022-08-05T17:59:12.459Z"
   },
   {
    "duration": 7,
    "start_time": "2022-08-05T17:59:12.464Z"
   },
   {
    "duration": 5,
    "start_time": "2022-08-05T17:59:12.472Z"
   },
   {
    "duration": 33,
    "start_time": "2022-08-05T17:59:12.478Z"
   },
   {
    "duration": 29,
    "start_time": "2022-08-05T17:59:12.513Z"
   },
   {
    "duration": 23,
    "start_time": "2022-08-05T17:59:12.545Z"
   },
   {
    "duration": 44,
    "start_time": "2022-08-05T17:59:12.570Z"
   },
   {
    "duration": 100,
    "start_time": "2022-08-05T17:59:12.616Z"
   },
   {
    "duration": 91,
    "start_time": "2022-08-05T17:59:12.718Z"
   },
   {
    "duration": 79,
    "start_time": "2022-08-05T17:59:12.813Z"
   },
   {
    "duration": 56,
    "start_time": "2022-08-05T17:59:12.894Z"
   },
   {
    "duration": 19,
    "start_time": "2022-08-05T17:59:12.953Z"
   },
   {
    "duration": 62,
    "start_time": "2022-08-05T17:59:12.974Z"
   },
   {
    "duration": 3,
    "start_time": "2022-08-05T17:59:13.038Z"
   },
   {
    "duration": 7,
    "start_time": "2022-08-05T17:59:13.043Z"
   },
   {
    "duration": 19,
    "start_time": "2022-08-05T17:59:13.052Z"
   },
   {
    "duration": 7,
    "start_time": "2022-08-05T17:59:13.073Z"
   },
   {
    "duration": 9,
    "start_time": "2022-08-05T17:59:13.082Z"
   },
   {
    "duration": 6,
    "start_time": "2022-08-05T17:59:13.092Z"
   },
   {
    "duration": 10,
    "start_time": "2022-08-05T17:59:13.100Z"
   },
   {
    "duration": 11,
    "start_time": "2022-08-05T17:59:13.112Z"
   },
   {
    "duration": 4,
    "start_time": "2022-08-05T17:59:13.125Z"
   },
   {
    "duration": 5,
    "start_time": "2022-08-05T17:59:13.131Z"
   },
   {
    "duration": 6,
    "start_time": "2022-08-05T17:59:13.138Z"
   },
   {
    "duration": 9,
    "start_time": "2022-08-05T17:59:13.146Z"
   },
   {
    "duration": 51,
    "start_time": "2022-08-05T17:59:13.157Z"
   },
   {
    "duration": 0,
    "start_time": "2022-08-05T17:59:13.210Z"
   },
   {
    "duration": 0,
    "start_time": "2022-08-05T17:59:13.211Z"
   },
   {
    "duration": 0,
    "start_time": "2022-08-05T17:59:13.213Z"
   },
   {
    "duration": 0,
    "start_time": "2022-08-05T17:59:13.215Z"
   },
   {
    "duration": 0,
    "start_time": "2022-08-05T17:59:13.218Z"
   },
   {
    "duration": 0,
    "start_time": "2022-08-05T17:59:13.219Z"
   },
   {
    "duration": 0,
    "start_time": "2022-08-05T17:59:13.220Z"
   },
   {
    "duration": 0,
    "start_time": "2022-08-05T17:59:13.222Z"
   },
   {
    "duration": 367,
    "start_time": "2022-08-05T18:01:08.654Z"
   },
   {
    "duration": 165,
    "start_time": "2022-08-05T18:01:09.023Z"
   },
   {
    "duration": 21,
    "start_time": "2022-08-05T18:01:09.189Z"
   },
   {
    "duration": 29,
    "start_time": "2022-08-05T18:01:09.211Z"
   },
   {
    "duration": 3,
    "start_time": "2022-08-05T18:01:09.242Z"
   },
   {
    "duration": 7,
    "start_time": "2022-08-05T18:01:09.246Z"
   },
   {
    "duration": 5,
    "start_time": "2022-08-05T18:01:09.255Z"
   },
   {
    "duration": 9,
    "start_time": "2022-08-05T18:01:09.261Z"
   },
   {
    "duration": 51,
    "start_time": "2022-08-05T18:01:09.271Z"
   },
   {
    "duration": 22,
    "start_time": "2022-08-05T18:01:09.323Z"
   },
   {
    "duration": 25,
    "start_time": "2022-08-05T18:01:09.346Z"
   },
   {
    "duration": 87,
    "start_time": "2022-08-05T18:01:09.373Z"
   },
   {
    "duration": 77,
    "start_time": "2022-08-05T18:01:09.462Z"
   },
   {
    "duration": 74,
    "start_time": "2022-08-05T18:01:09.542Z"
   },
   {
    "duration": 38,
    "start_time": "2022-08-05T18:01:09.618Z"
   },
   {
    "duration": 14,
    "start_time": "2022-08-05T18:01:09.658Z"
   },
   {
    "duration": 61,
    "start_time": "2022-08-05T18:01:09.674Z"
   },
   {
    "duration": 2,
    "start_time": "2022-08-05T18:01:09.737Z"
   },
   {
    "duration": 6,
    "start_time": "2022-08-05T18:01:09.741Z"
   },
   {
    "duration": 5,
    "start_time": "2022-08-05T18:01:09.748Z"
   },
   {
    "duration": 9,
    "start_time": "2022-08-05T18:01:09.754Z"
   },
   {
    "duration": 6,
    "start_time": "2022-08-05T18:01:09.764Z"
   },
   {
    "duration": 6,
    "start_time": "2022-08-05T18:01:09.772Z"
   },
   {
    "duration": 8,
    "start_time": "2022-08-05T18:01:09.780Z"
   },
   {
    "duration": 8,
    "start_time": "2022-08-05T18:01:09.789Z"
   },
   {
    "duration": 3,
    "start_time": "2022-08-05T18:01:09.810Z"
   },
   {
    "duration": 11,
    "start_time": "2022-08-05T18:01:09.814Z"
   },
   {
    "duration": 4,
    "start_time": "2022-08-05T18:01:09.827Z"
   },
   {
    "duration": 7,
    "start_time": "2022-08-05T18:01:09.833Z"
   },
   {
    "duration": 59,
    "start_time": "2022-08-05T18:01:09.841Z"
   },
   {
    "duration": 0,
    "start_time": "2022-08-05T18:01:09.902Z"
   },
   {
    "duration": 0,
    "start_time": "2022-08-05T18:01:09.902Z"
   },
   {
    "duration": 0,
    "start_time": "2022-08-05T18:01:09.904Z"
   },
   {
    "duration": 0,
    "start_time": "2022-08-05T18:01:09.904Z"
   },
   {
    "duration": 0,
    "start_time": "2022-08-05T18:01:09.905Z"
   },
   {
    "duration": 0,
    "start_time": "2022-08-05T18:01:09.906Z"
   },
   {
    "duration": 0,
    "start_time": "2022-08-05T18:01:09.907Z"
   },
   {
    "duration": 0,
    "start_time": "2022-08-05T18:01:09.909Z"
   },
   {
    "duration": 386,
    "start_time": "2022-08-05T18:02:58.266Z"
   },
   {
    "duration": 175,
    "start_time": "2022-08-05T18:02:58.655Z"
   },
   {
    "duration": 19,
    "start_time": "2022-08-05T18:02:58.831Z"
   },
   {
    "duration": 40,
    "start_time": "2022-08-05T18:02:58.852Z"
   },
   {
    "duration": 2,
    "start_time": "2022-08-05T18:02:58.910Z"
   },
   {
    "duration": 11,
    "start_time": "2022-08-05T18:02:58.914Z"
   },
   {
    "duration": 7,
    "start_time": "2022-08-05T18:02:58.927Z"
   },
   {
    "duration": 21,
    "start_time": "2022-08-05T18:02:58.935Z"
   },
   {
    "duration": 31,
    "start_time": "2022-08-05T18:02:58.958Z"
   },
   {
    "duration": 35,
    "start_time": "2022-08-05T18:02:58.991Z"
   },
   {
    "duration": 27,
    "start_time": "2022-08-05T18:02:59.028Z"
   },
   {
    "duration": 84,
    "start_time": "2022-08-05T18:02:59.057Z"
   },
   {
    "duration": 87,
    "start_time": "2022-08-05T18:02:59.142Z"
   },
   {
    "duration": 81,
    "start_time": "2022-08-05T18:02:59.233Z"
   },
   {
    "duration": 41,
    "start_time": "2022-08-05T18:02:59.316Z"
   },
   {
    "duration": 15,
    "start_time": "2022-08-05T18:02:59.359Z"
   },
   {
    "duration": 67,
    "start_time": "2022-08-05T18:02:59.376Z"
   },
   {
    "duration": 3,
    "start_time": "2022-08-05T18:02:59.445Z"
   },
   {
    "duration": 15,
    "start_time": "2022-08-05T18:02:59.450Z"
   },
   {
    "duration": 8,
    "start_time": "2022-08-05T18:02:59.467Z"
   },
   {
    "duration": 16,
    "start_time": "2022-08-05T18:02:59.477Z"
   },
   {
    "duration": 13,
    "start_time": "2022-08-05T18:02:59.495Z"
   },
   {
    "duration": 10,
    "start_time": "2022-08-05T18:02:59.510Z"
   },
   {
    "duration": 14,
    "start_time": "2022-08-05T18:02:59.522Z"
   },
   {
    "duration": 16,
    "start_time": "2022-08-05T18:02:59.538Z"
   },
   {
    "duration": 9,
    "start_time": "2022-08-05T18:02:59.556Z"
   },
   {
    "duration": 9,
    "start_time": "2022-08-05T18:02:59.567Z"
   },
   {
    "duration": 8,
    "start_time": "2022-08-05T18:02:59.578Z"
   },
   {
    "duration": 7,
    "start_time": "2022-08-05T18:02:59.589Z"
   },
   {
    "duration": 51,
    "start_time": "2022-08-05T18:02:59.598Z"
   },
   {
    "duration": 0,
    "start_time": "2022-08-05T18:02:59.652Z"
   },
   {
    "duration": 0,
    "start_time": "2022-08-05T18:02:59.654Z"
   },
   {
    "duration": 0,
    "start_time": "2022-08-05T18:02:59.655Z"
   },
   {
    "duration": 0,
    "start_time": "2022-08-05T18:02:59.656Z"
   },
   {
    "duration": 0,
    "start_time": "2022-08-05T18:02:59.658Z"
   },
   {
    "duration": 0,
    "start_time": "2022-08-05T18:02:59.659Z"
   },
   {
    "duration": 0,
    "start_time": "2022-08-05T18:02:59.661Z"
   },
   {
    "duration": 0,
    "start_time": "2022-08-05T18:02:59.663Z"
   },
   {
    "duration": 419,
    "start_time": "2022-08-05T18:03:39.000Z"
   },
   {
    "duration": 175,
    "start_time": "2022-08-05T18:03:39.422Z"
   },
   {
    "duration": 18,
    "start_time": "2022-08-05T18:03:39.599Z"
   },
   {
    "duration": 38,
    "start_time": "2022-08-05T18:03:39.619Z"
   },
   {
    "duration": 3,
    "start_time": "2022-08-05T18:03:39.659Z"
   },
   {
    "duration": 8,
    "start_time": "2022-08-05T18:03:39.663Z"
   },
   {
    "duration": 6,
    "start_time": "2022-08-05T18:03:39.672Z"
   },
   {
    "duration": 31,
    "start_time": "2022-08-05T18:03:39.679Z"
   },
   {
    "duration": 44,
    "start_time": "2022-08-05T18:03:39.713Z"
   },
   {
    "duration": 33,
    "start_time": "2022-08-05T18:03:39.759Z"
   },
   {
    "duration": 53,
    "start_time": "2022-08-05T18:03:39.794Z"
   },
   {
    "duration": 78,
    "start_time": "2022-08-05T18:03:39.850Z"
   },
   {
    "duration": 117,
    "start_time": "2022-08-05T18:03:39.931Z"
   },
   {
    "duration": 72,
    "start_time": "2022-08-05T18:03:40.051Z"
   },
   {
    "duration": 39,
    "start_time": "2022-08-05T18:03:40.124Z"
   },
   {
    "duration": 13,
    "start_time": "2022-08-05T18:03:40.165Z"
   },
   {
    "duration": 60,
    "start_time": "2022-08-05T18:03:40.180Z"
   },
   {
    "duration": 2,
    "start_time": "2022-08-05T18:03:40.242Z"
   },
   {
    "duration": 6,
    "start_time": "2022-08-05T18:03:40.246Z"
   },
   {
    "duration": 8,
    "start_time": "2022-08-05T18:03:40.253Z"
   },
   {
    "duration": 7,
    "start_time": "2022-08-05T18:03:40.263Z"
   },
   {
    "duration": 6,
    "start_time": "2022-08-05T18:03:40.271Z"
   },
   {
    "duration": 6,
    "start_time": "2022-08-05T18:03:40.278Z"
   },
   {
    "duration": 5,
    "start_time": "2022-08-05T18:03:40.286Z"
   },
   {
    "duration": 9,
    "start_time": "2022-08-05T18:03:40.310Z"
   },
   {
    "duration": 5,
    "start_time": "2022-08-05T18:03:40.321Z"
   },
   {
    "duration": 12,
    "start_time": "2022-08-05T18:03:40.328Z"
   },
   {
    "duration": 24,
    "start_time": "2022-08-05T18:03:40.341Z"
   },
   {
    "duration": 11,
    "start_time": "2022-08-05T18:03:40.368Z"
   },
   {
    "duration": 51,
    "start_time": "2022-08-05T18:03:40.381Z"
   },
   {
    "duration": 0,
    "start_time": "2022-08-05T18:03:40.433Z"
   },
   {
    "duration": 0,
    "start_time": "2022-08-05T18:03:40.434Z"
   },
   {
    "duration": 0,
    "start_time": "2022-08-05T18:03:40.436Z"
   },
   {
    "duration": 0,
    "start_time": "2022-08-05T18:03:40.437Z"
   },
   {
    "duration": 0,
    "start_time": "2022-08-05T18:03:40.438Z"
   },
   {
    "duration": 0,
    "start_time": "2022-08-05T18:03:40.439Z"
   },
   {
    "duration": 0,
    "start_time": "2022-08-05T18:03:40.440Z"
   },
   {
    "duration": 0,
    "start_time": "2022-08-05T18:03:40.441Z"
   },
   {
    "duration": 379,
    "start_time": "2022-08-05T18:04:26.051Z"
   },
   {
    "duration": 173,
    "start_time": "2022-08-05T18:04:26.432Z"
   },
   {
    "duration": 21,
    "start_time": "2022-08-05T18:04:26.607Z"
   },
   {
    "duration": 30,
    "start_time": "2022-08-05T18:04:26.630Z"
   },
   {
    "duration": 5,
    "start_time": "2022-08-05T18:04:26.662Z"
   },
   {
    "duration": 7,
    "start_time": "2022-08-05T18:04:26.669Z"
   },
   {
    "duration": 37,
    "start_time": "2022-08-05T18:04:26.678Z"
   },
   {
    "duration": 12,
    "start_time": "2022-08-05T18:04:26.717Z"
   },
   {
    "duration": 27,
    "start_time": "2022-08-05T18:04:26.731Z"
   },
   {
    "duration": 20,
    "start_time": "2022-08-05T18:04:26.761Z"
   },
   {
    "duration": 40,
    "start_time": "2022-08-05T18:04:26.783Z"
   },
   {
    "duration": 64,
    "start_time": "2022-08-05T18:04:26.826Z"
   },
   {
    "duration": 83,
    "start_time": "2022-08-05T18:04:26.891Z"
   },
   {
    "duration": 76,
    "start_time": "2022-08-05T18:04:26.976Z"
   },
   {
    "duration": 40,
    "start_time": "2022-08-05T18:04:27.053Z"
   },
   {
    "duration": 30,
    "start_time": "2022-08-05T18:04:27.095Z"
   },
   {
    "duration": 53,
    "start_time": "2022-08-05T18:04:27.128Z"
   },
   {
    "duration": 3,
    "start_time": "2022-08-05T18:04:27.183Z"
   },
   {
    "duration": 20,
    "start_time": "2022-08-05T18:04:27.188Z"
   },
   {
    "duration": 36,
    "start_time": "2022-08-05T18:04:27.216Z"
   },
   {
    "duration": 12,
    "start_time": "2022-08-05T18:04:27.255Z"
   },
   {
    "duration": 5,
    "start_time": "2022-08-05T18:04:27.269Z"
   },
   {
    "duration": 6,
    "start_time": "2022-08-05T18:04:27.276Z"
   },
   {
    "duration": 5,
    "start_time": "2022-08-05T18:04:27.284Z"
   },
   {
    "duration": 9,
    "start_time": "2022-08-05T18:04:27.291Z"
   },
   {
    "duration": 30,
    "start_time": "2022-08-05T18:04:27.302Z"
   },
   {
    "duration": 5,
    "start_time": "2022-08-05T18:04:27.335Z"
   },
   {
    "duration": 5,
    "start_time": "2022-08-05T18:04:27.346Z"
   },
   {
    "duration": 9,
    "start_time": "2022-08-05T18:04:27.354Z"
   },
   {
    "duration": 69,
    "start_time": "2022-08-05T18:04:27.365Z"
   },
   {
    "duration": 0,
    "start_time": "2022-08-05T18:04:27.436Z"
   },
   {
    "duration": 0,
    "start_time": "2022-08-05T18:04:27.437Z"
   },
   {
    "duration": 0,
    "start_time": "2022-08-05T18:04:27.438Z"
   },
   {
    "duration": 0,
    "start_time": "2022-08-05T18:04:27.440Z"
   },
   {
    "duration": 0,
    "start_time": "2022-08-05T18:04:27.442Z"
   },
   {
    "duration": 0,
    "start_time": "2022-08-05T18:04:27.444Z"
   },
   {
    "duration": 0,
    "start_time": "2022-08-05T18:04:27.446Z"
   },
   {
    "duration": 0,
    "start_time": "2022-08-05T18:04:27.447Z"
   },
   {
    "duration": 390,
    "start_time": "2022-08-05T18:06:22.032Z"
   },
   {
    "duration": 192,
    "start_time": "2022-08-05T18:06:22.426Z"
   },
   {
    "duration": 17,
    "start_time": "2022-08-05T18:06:22.622Z"
   },
   {
    "duration": 30,
    "start_time": "2022-08-05T18:06:22.641Z"
   },
   {
    "duration": 3,
    "start_time": "2022-08-05T18:06:22.673Z"
   },
   {
    "duration": 10,
    "start_time": "2022-08-05T18:06:22.678Z"
   },
   {
    "duration": 23,
    "start_time": "2022-08-05T18:06:22.690Z"
   },
   {
    "duration": 14,
    "start_time": "2022-08-05T18:06:22.716Z"
   },
   {
    "duration": 27,
    "start_time": "2022-08-05T18:06:22.732Z"
   },
   {
    "duration": 27,
    "start_time": "2022-08-05T18:06:22.761Z"
   },
   {
    "duration": 35,
    "start_time": "2022-08-05T18:06:22.790Z"
   },
   {
    "duration": 67,
    "start_time": "2022-08-05T18:06:22.827Z"
   },
   {
    "duration": 81,
    "start_time": "2022-08-05T18:06:22.896Z"
   },
   {
    "duration": 77,
    "start_time": "2022-08-05T18:06:22.980Z"
   },
   {
    "duration": 54,
    "start_time": "2022-08-05T18:06:23.059Z"
   },
   {
    "duration": 16,
    "start_time": "2022-08-05T18:06:23.116Z"
   },
   {
    "duration": 46,
    "start_time": "2022-08-05T18:06:23.133Z"
   },
   {
    "duration": 3,
    "start_time": "2022-08-05T18:06:23.181Z"
   },
   {
    "duration": 9,
    "start_time": "2022-08-05T18:06:23.186Z"
   },
   {
    "duration": 9,
    "start_time": "2022-08-05T18:06:23.214Z"
   },
   {
    "duration": 10,
    "start_time": "2022-08-05T18:06:23.225Z"
   },
   {
    "duration": 5,
    "start_time": "2022-08-05T18:06:23.237Z"
   },
   {
    "duration": 5,
    "start_time": "2022-08-05T18:06:23.243Z"
   },
   {
    "duration": 7,
    "start_time": "2022-08-05T18:06:23.250Z"
   },
   {
    "duration": 7,
    "start_time": "2022-08-05T18:06:23.258Z"
   },
   {
    "duration": 5,
    "start_time": "2022-08-05T18:06:23.267Z"
   },
   {
    "duration": 8,
    "start_time": "2022-08-05T18:06:23.273Z"
   },
   {
    "duration": 6,
    "start_time": "2022-08-05T18:06:23.282Z"
   },
   {
    "duration": 10,
    "start_time": "2022-08-05T18:06:23.289Z"
   },
   {
    "duration": 101,
    "start_time": "2022-08-05T18:06:23.301Z"
   },
   {
    "duration": 0,
    "start_time": "2022-08-05T18:06:23.404Z"
   },
   {
    "duration": 0,
    "start_time": "2022-08-05T18:06:23.405Z"
   },
   {
    "duration": 0,
    "start_time": "2022-08-05T18:06:23.406Z"
   },
   {
    "duration": 0,
    "start_time": "2022-08-05T18:06:23.407Z"
   },
   {
    "duration": 0,
    "start_time": "2022-08-05T18:06:23.408Z"
   },
   {
    "duration": 0,
    "start_time": "2022-08-05T18:06:23.409Z"
   },
   {
    "duration": 0,
    "start_time": "2022-08-05T18:06:23.410Z"
   },
   {
    "duration": 0,
    "start_time": "2022-08-05T18:06:23.411Z"
   },
   {
    "duration": 405,
    "start_time": "2022-08-05T18:10:27.885Z"
   },
   {
    "duration": 179,
    "start_time": "2022-08-05T18:10:28.292Z"
   },
   {
    "duration": 16,
    "start_time": "2022-08-05T18:10:28.473Z"
   },
   {
    "duration": 50,
    "start_time": "2022-08-05T18:10:28.490Z"
   },
   {
    "duration": 2,
    "start_time": "2022-08-05T18:10:28.543Z"
   },
   {
    "duration": 7,
    "start_time": "2022-08-05T18:10:28.546Z"
   },
   {
    "duration": 5,
    "start_time": "2022-08-05T18:10:28.555Z"
   },
   {
    "duration": 6,
    "start_time": "2022-08-05T18:10:28.562Z"
   },
   {
    "duration": 57,
    "start_time": "2022-08-05T18:10:28.569Z"
   },
   {
    "duration": 24,
    "start_time": "2022-08-05T18:10:28.628Z"
   },
   {
    "duration": 26,
    "start_time": "2022-08-05T18:10:28.654Z"
   },
   {
    "duration": 94,
    "start_time": "2022-08-05T18:10:28.681Z"
   },
   {
    "duration": 76,
    "start_time": "2022-08-05T18:10:28.777Z"
   },
   {
    "duration": 75,
    "start_time": "2022-08-05T18:10:28.856Z"
   },
   {
    "duration": 39,
    "start_time": "2022-08-05T18:10:28.933Z"
   },
   {
    "duration": 10,
    "start_time": "2022-08-05T18:10:28.974Z"
   },
   {
    "duration": 65,
    "start_time": "2022-08-05T18:10:28.986Z"
   },
   {
    "duration": 3,
    "start_time": "2022-08-05T18:10:29.052Z"
   },
   {
    "duration": 6,
    "start_time": "2022-08-05T18:10:29.056Z"
   },
   {
    "duration": 6,
    "start_time": "2022-08-05T18:10:29.063Z"
   },
   {
    "duration": 7,
    "start_time": "2022-08-05T18:10:29.070Z"
   },
   {
    "duration": 5,
    "start_time": "2022-08-05T18:10:29.078Z"
   },
   {
    "duration": 5,
    "start_time": "2022-08-05T18:10:29.084Z"
   },
   {
    "duration": 18,
    "start_time": "2022-08-05T18:10:29.091Z"
   },
   {
    "duration": 18,
    "start_time": "2022-08-05T18:10:29.110Z"
   },
   {
    "duration": 8,
    "start_time": "2022-08-05T18:10:29.130Z"
   },
   {
    "duration": 5,
    "start_time": "2022-08-05T18:10:29.139Z"
   },
   {
    "duration": 5,
    "start_time": "2022-08-05T18:10:29.145Z"
   },
   {
    "duration": 5,
    "start_time": "2022-08-05T18:10:29.152Z"
   },
   {
    "duration": 84,
    "start_time": "2022-08-05T18:10:29.159Z"
   },
   {
    "duration": 0,
    "start_time": "2022-08-05T18:10:29.245Z"
   },
   {
    "duration": 0,
    "start_time": "2022-08-05T18:10:29.246Z"
   },
   {
    "duration": 0,
    "start_time": "2022-08-05T18:10:29.247Z"
   },
   {
    "duration": 0,
    "start_time": "2022-08-05T18:10:29.249Z"
   },
   {
    "duration": 0,
    "start_time": "2022-08-05T18:10:29.250Z"
   },
   {
    "duration": 0,
    "start_time": "2022-08-05T18:10:29.251Z"
   },
   {
    "duration": 0,
    "start_time": "2022-08-05T18:10:29.252Z"
   },
   {
    "duration": 0,
    "start_time": "2022-08-05T18:10:29.253Z"
   },
   {
    "duration": 13,
    "start_time": "2022-08-05T18:34:30.972Z"
   },
   {
    "duration": 57,
    "start_time": "2022-08-05T18:48:54.595Z"
   },
   {
    "duration": 14,
    "start_time": "2022-08-05T18:49:07.339Z"
   },
   {
    "duration": 67,
    "start_time": "2022-08-05T18:49:30.477Z"
   },
   {
    "duration": 11,
    "start_time": "2022-08-05T18:49:49.870Z"
   },
   {
    "duration": 12,
    "start_time": "2022-08-05T18:50:05.378Z"
   },
   {
    "duration": 7,
    "start_time": "2022-08-05T18:50:16.539Z"
   },
   {
    "duration": 39,
    "start_time": "2022-08-05T18:50:26.827Z"
   },
   {
    "duration": 415,
    "start_time": "2022-08-05T18:53:35.987Z"
   },
   {
    "duration": 164,
    "start_time": "2022-08-05T18:53:36.404Z"
   },
   {
    "duration": 17,
    "start_time": "2022-08-05T18:53:36.569Z"
   },
   {
    "duration": 34,
    "start_time": "2022-08-05T18:53:36.588Z"
   },
   {
    "duration": 2,
    "start_time": "2022-08-05T18:53:36.625Z"
   },
   {
    "duration": 5,
    "start_time": "2022-08-05T18:53:36.629Z"
   },
   {
    "duration": 5,
    "start_time": "2022-08-05T18:53:36.636Z"
   },
   {
    "duration": 9,
    "start_time": "2022-08-05T18:53:36.642Z"
   },
   {
    "duration": 26,
    "start_time": "2022-08-05T18:53:36.653Z"
   },
   {
    "duration": 20,
    "start_time": "2022-08-05T18:53:36.709Z"
   },
   {
    "duration": 25,
    "start_time": "2022-08-05T18:53:36.730Z"
   },
   {
    "duration": 83,
    "start_time": "2022-08-05T18:53:36.756Z"
   },
   {
    "duration": 74,
    "start_time": "2022-08-05T18:53:36.840Z"
   },
   {
    "duration": 58,
    "start_time": "2022-08-05T18:53:36.916Z"
   },
   {
    "duration": 49,
    "start_time": "2022-08-05T18:53:36.976Z"
   },
   {
    "duration": 10,
    "start_time": "2022-08-05T18:53:37.027Z"
   },
   {
    "duration": 39,
    "start_time": "2022-08-05T18:53:37.039Z"
   },
   {
    "duration": 30,
    "start_time": "2022-08-05T18:53:37.080Z"
   },
   {
    "duration": 73,
    "start_time": "2022-08-05T18:53:37.111Z"
   },
   {
    "duration": 3,
    "start_time": "2022-08-05T18:53:37.186Z"
   },
   {
    "duration": 20,
    "start_time": "2022-08-05T18:53:37.190Z"
   },
   {
    "duration": 11,
    "start_time": "2022-08-05T18:53:37.211Z"
   },
   {
    "duration": 9,
    "start_time": "2022-08-05T18:53:37.224Z"
   },
   {
    "duration": 15,
    "start_time": "2022-08-05T18:53:37.235Z"
   },
   {
    "duration": 12,
    "start_time": "2022-08-05T18:53:37.252Z"
   },
   {
    "duration": 6,
    "start_time": "2022-08-05T18:53:37.266Z"
   },
   {
    "duration": 9,
    "start_time": "2022-08-05T18:53:37.274Z"
   },
   {
    "duration": 7,
    "start_time": "2022-08-05T18:53:37.284Z"
   },
   {
    "duration": 5,
    "start_time": "2022-08-05T18:53:37.294Z"
   },
   {
    "duration": 50,
    "start_time": "2022-08-05T18:53:37.302Z"
   },
   {
    "duration": 0,
    "start_time": "2022-08-05T18:53:37.354Z"
   },
   {
    "duration": 0,
    "start_time": "2022-08-05T18:53:37.357Z"
   },
   {
    "duration": 0,
    "start_time": "2022-08-05T18:53:37.359Z"
   },
   {
    "duration": 0,
    "start_time": "2022-08-05T18:53:37.359Z"
   },
   {
    "duration": 0,
    "start_time": "2022-08-05T18:53:37.361Z"
   },
   {
    "duration": 0,
    "start_time": "2022-08-05T18:53:37.362Z"
   },
   {
    "duration": 0,
    "start_time": "2022-08-05T18:53:37.364Z"
   },
   {
    "duration": 0,
    "start_time": "2022-08-05T18:53:37.365Z"
   },
   {
    "duration": 403,
    "start_time": "2022-08-05T18:58:48.516Z"
   },
   {
    "duration": 180,
    "start_time": "2022-08-05T18:58:48.921Z"
   },
   {
    "duration": 19,
    "start_time": "2022-08-05T18:58:49.102Z"
   },
   {
    "duration": 31,
    "start_time": "2022-08-05T18:58:49.122Z"
   },
   {
    "duration": 2,
    "start_time": "2022-08-05T18:58:49.155Z"
   },
   {
    "duration": 8,
    "start_time": "2022-08-05T18:58:49.158Z"
   },
   {
    "duration": 6,
    "start_time": "2022-08-05T18:58:49.168Z"
   },
   {
    "duration": 6,
    "start_time": "2022-08-05T18:58:49.176Z"
   },
   {
    "duration": 45,
    "start_time": "2022-08-05T18:58:49.183Z"
   },
   {
    "duration": 38,
    "start_time": "2022-08-05T18:58:49.230Z"
   },
   {
    "duration": 34,
    "start_time": "2022-08-05T18:58:49.270Z"
   },
   {
    "duration": 108,
    "start_time": "2022-08-05T18:58:49.305Z"
   },
   {
    "duration": 72,
    "start_time": "2022-08-05T18:58:49.414Z"
   },
   {
    "duration": 73,
    "start_time": "2022-08-05T18:58:49.490Z"
   },
   {
    "duration": 52,
    "start_time": "2022-08-05T18:58:49.564Z"
   },
   {
    "duration": 10,
    "start_time": "2022-08-05T18:58:49.618Z"
   },
   {
    "duration": 41,
    "start_time": "2022-08-05T18:58:49.630Z"
   },
   {
    "duration": 13,
    "start_time": "2022-08-05T18:58:49.673Z"
   },
   {
    "duration": 86,
    "start_time": "2022-08-05T18:58:49.687Z"
   },
   {
    "duration": 4,
    "start_time": "2022-08-05T18:58:49.775Z"
   },
   {
    "duration": 21,
    "start_time": "2022-08-05T18:58:49.780Z"
   },
   {
    "duration": 16,
    "start_time": "2022-08-05T18:58:49.803Z"
   },
   {
    "duration": 17,
    "start_time": "2022-08-05T18:58:49.820Z"
   },
   {
    "duration": 24,
    "start_time": "2022-08-05T18:58:49.839Z"
   },
   {
    "duration": 7,
    "start_time": "2022-08-05T18:58:49.865Z"
   },
   {
    "duration": 9,
    "start_time": "2022-08-05T18:58:49.874Z"
   },
   {
    "duration": 29,
    "start_time": "2022-08-05T18:58:49.885Z"
   },
   {
    "duration": 14,
    "start_time": "2022-08-05T18:58:49.916Z"
   },
   {
    "duration": 6,
    "start_time": "2022-08-05T18:58:49.931Z"
   },
   {
    "duration": 46,
    "start_time": "2022-08-05T18:58:49.938Z"
   },
   {
    "duration": 0,
    "start_time": "2022-08-05T18:58:49.985Z"
   },
   {
    "duration": 0,
    "start_time": "2022-08-05T18:58:49.986Z"
   },
   {
    "duration": 0,
    "start_time": "2022-08-05T18:58:49.987Z"
   },
   {
    "duration": 0,
    "start_time": "2022-08-05T18:58:49.988Z"
   },
   {
    "duration": 0,
    "start_time": "2022-08-05T18:58:49.989Z"
   },
   {
    "duration": 0,
    "start_time": "2022-08-05T18:58:49.990Z"
   },
   {
    "duration": 0,
    "start_time": "2022-08-05T18:58:49.991Z"
   },
   {
    "duration": 1,
    "start_time": "2022-08-05T18:58:49.992Z"
   },
   {
    "duration": 416,
    "start_time": "2022-08-05T19:02:49.987Z"
   },
   {
    "duration": 163,
    "start_time": "2022-08-05T19:02:50.405Z"
   },
   {
    "duration": 27,
    "start_time": "2022-08-05T19:02:50.570Z"
   },
   {
    "duration": 36,
    "start_time": "2022-08-05T19:02:50.599Z"
   },
   {
    "duration": 2,
    "start_time": "2022-08-05T19:02:50.637Z"
   },
   {
    "duration": 7,
    "start_time": "2022-08-05T19:02:50.641Z"
   },
   {
    "duration": 7,
    "start_time": "2022-08-05T19:02:50.650Z"
   },
   {
    "duration": 7,
    "start_time": "2022-08-05T19:02:50.658Z"
   },
   {
    "duration": 27,
    "start_time": "2022-08-05T19:02:50.667Z"
   },
   {
    "duration": 19,
    "start_time": "2022-08-05T19:02:50.709Z"
   },
   {
    "duration": 23,
    "start_time": "2022-08-05T19:02:50.730Z"
   },
   {
    "duration": 80,
    "start_time": "2022-08-05T19:02:50.755Z"
   },
   {
    "duration": 74,
    "start_time": "2022-08-05T19:02:50.837Z"
   },
   {
    "duration": 59,
    "start_time": "2022-08-05T19:02:50.914Z"
   },
   {
    "duration": 55,
    "start_time": "2022-08-05T19:02:50.974Z"
   },
   {
    "duration": 11,
    "start_time": "2022-08-05T19:02:51.030Z"
   },
   {
    "duration": 38,
    "start_time": "2022-08-05T19:02:51.043Z"
   },
   {
    "duration": 32,
    "start_time": "2022-08-05T19:02:51.082Z"
   },
   {
    "duration": 54,
    "start_time": "2022-08-05T19:02:51.115Z"
   },
   {
    "duration": 3,
    "start_time": "2022-08-05T19:02:51.171Z"
   },
   {
    "duration": 34,
    "start_time": "2022-08-05T19:02:51.175Z"
   },
   {
    "duration": 12,
    "start_time": "2022-08-05T19:02:51.211Z"
   },
   {
    "duration": 14,
    "start_time": "2022-08-05T19:02:51.225Z"
   },
   {
    "duration": 13,
    "start_time": "2022-08-05T19:02:51.240Z"
   },
   {
    "duration": 15,
    "start_time": "2022-08-05T19:02:51.254Z"
   },
   {
    "duration": 43,
    "start_time": "2022-08-05T19:02:51.271Z"
   },
   {
    "duration": 3,
    "start_time": "2022-08-05T19:02:51.315Z"
   },
   {
    "duration": 5,
    "start_time": "2022-08-05T19:02:51.319Z"
   },
   {
    "duration": 5,
    "start_time": "2022-08-05T19:02:51.325Z"
   },
   {
    "duration": 52,
    "start_time": "2022-08-05T19:02:51.331Z"
   },
   {
    "duration": 0,
    "start_time": "2022-08-05T19:02:51.385Z"
   },
   {
    "duration": 0,
    "start_time": "2022-08-05T19:02:51.386Z"
   },
   {
    "duration": 0,
    "start_time": "2022-08-05T19:02:51.387Z"
   },
   {
    "duration": 0,
    "start_time": "2022-08-05T19:02:51.388Z"
   },
   {
    "duration": 0,
    "start_time": "2022-08-05T19:02:51.389Z"
   },
   {
    "duration": 0,
    "start_time": "2022-08-05T19:02:51.390Z"
   },
   {
    "duration": 0,
    "start_time": "2022-08-05T19:02:51.391Z"
   },
   {
    "duration": 0,
    "start_time": "2022-08-05T19:02:51.392Z"
   },
   {
    "duration": 4,
    "start_time": "2022-08-05T19:15:39.988Z"
   },
   {
    "duration": 9,
    "start_time": "2022-08-05T19:16:11.109Z"
   },
   {
    "duration": 11,
    "start_time": "2022-08-05T19:19:34.488Z"
   },
   {
    "duration": 9,
    "start_time": "2022-08-05T19:19:37.467Z"
   },
   {
    "duration": 392,
    "start_time": "2022-08-05T19:19:45.273Z"
   },
   {
    "duration": 177,
    "start_time": "2022-08-05T19:19:45.667Z"
   },
   {
    "duration": 15,
    "start_time": "2022-08-05T19:19:45.846Z"
   },
   {
    "duration": 30,
    "start_time": "2022-08-05T19:19:45.863Z"
   },
   {
    "duration": 3,
    "start_time": "2022-08-05T19:19:45.910Z"
   },
   {
    "duration": 9,
    "start_time": "2022-08-05T19:19:45.914Z"
   },
   {
    "duration": 5,
    "start_time": "2022-08-05T19:19:45.924Z"
   },
   {
    "duration": 7,
    "start_time": "2022-08-05T19:19:45.931Z"
   },
   {
    "duration": 45,
    "start_time": "2022-08-05T19:19:45.939Z"
   },
   {
    "duration": 39,
    "start_time": "2022-08-05T19:19:45.986Z"
   },
   {
    "duration": 28,
    "start_time": "2022-08-05T19:19:46.026Z"
   },
   {
    "duration": 76,
    "start_time": "2022-08-05T19:19:46.056Z"
   },
   {
    "duration": 77,
    "start_time": "2022-08-05T19:19:46.134Z"
   },
   {
    "duration": 58,
    "start_time": "2022-08-05T19:19:46.215Z"
   },
   {
    "duration": 55,
    "start_time": "2022-08-05T19:19:46.275Z"
   },
   {
    "duration": 11,
    "start_time": "2022-08-05T19:19:46.332Z"
   },
   {
    "duration": 47,
    "start_time": "2022-08-05T19:19:46.344Z"
   },
   {
    "duration": 20,
    "start_time": "2022-08-05T19:19:46.393Z"
   },
   {
    "duration": 55,
    "start_time": "2022-08-05T19:19:46.415Z"
   },
   {
    "duration": 4,
    "start_time": "2022-08-05T19:19:46.471Z"
   },
   {
    "duration": 41,
    "start_time": "2022-08-05T19:19:46.476Z"
   },
   {
    "duration": 14,
    "start_time": "2022-08-05T19:19:46.518Z"
   },
   {
    "duration": 14,
    "start_time": "2022-08-05T19:19:46.533Z"
   },
   {
    "duration": 13,
    "start_time": "2022-08-05T19:19:46.549Z"
   },
   {
    "duration": 47,
    "start_time": "2022-08-05T19:19:46.563Z"
   },
   {
    "duration": 13,
    "start_time": "2022-08-05T19:19:46.611Z"
   },
   {
    "duration": 7,
    "start_time": "2022-08-05T19:19:46.626Z"
   },
   {
    "duration": 15,
    "start_time": "2022-08-05T19:19:46.634Z"
   },
   {
    "duration": 8,
    "start_time": "2022-08-05T19:19:46.651Z"
   },
   {
    "duration": 51,
    "start_time": "2022-08-05T19:19:46.661Z"
   },
   {
    "duration": 0,
    "start_time": "2022-08-05T19:19:46.713Z"
   },
   {
    "duration": 0,
    "start_time": "2022-08-05T19:19:46.714Z"
   },
   {
    "duration": 0,
    "start_time": "2022-08-05T19:19:46.715Z"
   },
   {
    "duration": 0,
    "start_time": "2022-08-05T19:19:46.716Z"
   },
   {
    "duration": 0,
    "start_time": "2022-08-05T19:19:46.718Z"
   },
   {
    "duration": 0,
    "start_time": "2022-08-05T19:19:46.719Z"
   },
   {
    "duration": 0,
    "start_time": "2022-08-05T19:19:46.720Z"
   },
   {
    "duration": 0,
    "start_time": "2022-08-05T19:19:46.721Z"
   },
   {
    "duration": 380,
    "start_time": "2022-08-05T21:09:46.075Z"
   },
   {
    "duration": 182,
    "start_time": "2022-08-05T21:09:46.457Z"
   },
   {
    "duration": 18,
    "start_time": "2022-08-05T21:09:46.641Z"
   },
   {
    "duration": 47,
    "start_time": "2022-08-05T21:09:46.662Z"
   },
   {
    "duration": 4,
    "start_time": "2022-08-05T21:09:46.719Z"
   },
   {
    "duration": 6,
    "start_time": "2022-08-05T21:09:46.725Z"
   },
   {
    "duration": 7,
    "start_time": "2022-08-05T21:09:46.733Z"
   },
   {
    "duration": 7,
    "start_time": "2022-08-05T21:09:46.741Z"
   },
   {
    "duration": 27,
    "start_time": "2022-08-05T21:09:46.750Z"
   },
   {
    "duration": 44,
    "start_time": "2022-08-05T21:09:46.780Z"
   },
   {
    "duration": 28,
    "start_time": "2022-08-05T21:09:46.826Z"
   },
   {
    "duration": 80,
    "start_time": "2022-08-05T21:09:46.856Z"
   },
   {
    "duration": 89,
    "start_time": "2022-08-05T21:09:46.938Z"
   },
   {
    "duration": 63,
    "start_time": "2022-08-05T21:09:47.029Z"
   },
   {
    "duration": 63,
    "start_time": "2022-08-05T21:09:47.094Z"
   },
   {
    "duration": 14,
    "start_time": "2022-08-05T21:09:47.159Z"
   },
   {
    "duration": 71,
    "start_time": "2022-08-05T21:09:47.175Z"
   },
   {
    "duration": 16,
    "start_time": "2022-08-05T21:09:47.248Z"
   },
   {
    "duration": 93,
    "start_time": "2022-08-05T21:09:47.266Z"
   },
   {
    "duration": 4,
    "start_time": "2022-08-05T21:09:47.362Z"
   },
   {
    "duration": 50,
    "start_time": "2022-08-05T21:09:47.368Z"
   },
   {
    "duration": 33,
    "start_time": "2022-08-05T21:09:47.420Z"
   },
   {
    "duration": 46,
    "start_time": "2022-08-05T21:09:47.457Z"
   },
   {
    "duration": 21,
    "start_time": "2022-08-05T21:09:47.505Z"
   },
   {
    "duration": 19,
    "start_time": "2022-08-05T21:09:47.528Z"
   },
   {
    "duration": 14,
    "start_time": "2022-08-05T21:09:47.548Z"
   },
   {
    "duration": 4,
    "start_time": "2022-08-05T21:09:47.564Z"
   },
   {
    "duration": 12,
    "start_time": "2022-08-05T21:09:47.571Z"
   },
   {
    "duration": 40,
    "start_time": "2022-08-05T21:09:47.585Z"
   },
   {
    "duration": 5,
    "start_time": "2022-08-05T21:09:47.627Z"
   },
   {
    "duration": 10,
    "start_time": "2022-08-05T21:09:47.633Z"
   },
   {
    "duration": 5,
    "start_time": "2022-08-05T21:09:47.644Z"
   },
   {
    "duration": 7,
    "start_time": "2022-08-05T21:09:47.650Z"
   },
   {
    "duration": 8,
    "start_time": "2022-08-05T21:09:47.659Z"
   },
   {
    "duration": 10,
    "start_time": "2022-08-05T21:09:47.669Z"
   },
   {
    "duration": 25,
    "start_time": "2022-08-05T21:09:47.681Z"
   },
   {
    "duration": 28,
    "start_time": "2022-08-05T21:09:47.710Z"
   },
   {
    "duration": 5,
    "start_time": "2022-08-05T21:09:47.740Z"
   },
   {
    "duration": 18,
    "start_time": "2022-08-05T21:13:49.870Z"
   },
   {
    "duration": 12,
    "start_time": "2022-08-05T21:13:51.442Z"
   },
   {
    "duration": 21,
    "start_time": "2022-08-05T21:13:52.569Z"
   },
   {
    "duration": 14,
    "start_time": "2022-08-05T21:13:53.689Z"
   },
   {
    "duration": 4,
    "start_time": "2022-08-05T21:14:29.566Z"
   },
   {
    "duration": 19,
    "start_time": "2022-08-05T21:14:31.702Z"
   },
   {
    "duration": 12,
    "start_time": "2022-08-05T21:14:32.525Z"
   },
   {
    "duration": 19,
    "start_time": "2022-08-05T21:14:33.374Z"
   },
   {
    "duration": 15,
    "start_time": "2022-08-05T21:14:38.372Z"
   },
   {
    "duration": 9,
    "start_time": "2022-08-05T21:19:09.267Z"
   },
   {
    "duration": 4,
    "start_time": "2022-08-05T21:19:10.465Z"
   },
   {
    "duration": 9,
    "start_time": "2022-08-05T21:20:05.739Z"
   },
   {
    "duration": 5,
    "start_time": "2022-08-05T21:20:07.014Z"
   },
   {
    "duration": 5,
    "start_time": "2022-08-05T21:27:57.673Z"
   },
   {
    "duration": 5,
    "start_time": "2022-08-05T21:27:59.779Z"
   }
  ],
  "colab": {
   "collapsed_sections": [
    "E0vqbgi9ay0H",
    "VUC88oWjTJw2"
   ],
   "name": "automatization_template_upd4.ipynb",
   "provenance": []
  },
  "kernelspec": {
   "display_name": "Python 3 (ipykernel)",
   "language": "python",
   "name": "python3"
  },
  "language_info": {
   "codemirror_mode": {
    "name": "ipython",
    "version": 3
   },
   "file_extension": ".py",
   "mimetype": "text/x-python",
   "name": "python",
   "nbconvert_exporter": "python",
   "pygments_lexer": "ipython3",
   "version": "3.9.12"
  },
  "toc": {
   "base_numbering": 1,
   "nav_menu": {
    "height": "215px",
    "width": "403px"
   },
   "number_sections": true,
   "sideBar": true,
   "skip_h1_title": true,
   "title_cell": "Table of Contents",
   "title_sidebar": "Contents",
   "toc_cell": false,
   "toc_position": {
    "height": "calc(100% - 180px)",
    "left": "10px",
    "top": "150px",
    "width": "285.825px"
   },
   "toc_section_display": true,
   "toc_window_display": false
  }
 },
 "nbformat": 4,
 "nbformat_minor": 1
}

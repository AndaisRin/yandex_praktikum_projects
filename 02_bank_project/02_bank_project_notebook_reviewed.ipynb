{
 "cells": [
  {
   "cell_type": "markdown",
   "metadata": {},
   "source": [
    "<div style=\"border:solid Chocolate 2px; padding: 40px\">\n",
    "\n",
    "<b>Катерина, привет!</b>\n",
    "\n",
    "Меня зовут Евгений Головин, я буду ревьюером твоего проекта. Если ты не против, то предлагаю посмотреть наше общение на \"ты\" ;) Если удобнее на \"вы\", то нет проблем, только скажи об этом.\n",
    "\n",
    "В ходе работы я оставил тебе комментарии <font color='green'>зеленого</font>, <font color='gold'>желтого</font> и <font color='red'>красного</font> цветов. Сейчас объясню, что они значат:\n",
    "\n",
    "<br/>\n",
    "\n",
    "<div class=\"alert alert-success\">\n",
    "<h2> Комментарий ревьюера <a class=\"tocSkip\"> </h2>\n",
    "\n",
    "<b>Все супер!👍:</b> Решение на этом шаге является полностью правильным.\n",
    "</div>\n",
    "\n",
    "<br/>\n",
    "\n",
    "<div class=\"alert alert-warning\">\n",
    "    <h2> Комментарий ревьюера <a class=\"tocSkip\"> </h2>\n",
    "    \n",
    "<b>Небольшие замечания и рекомендации💡:</b> Решение на этом шаге станет еще лучше, если внести небольшие коррективы.\n",
    "</div>\n",
    "\n",
    "\n",
    "<br/>\n",
    "<div class=\"alert alert-block alert-danger\">\n",
    "<h2> Комментарий ревьюера <a class=\"tocSkip\"></h2>\n",
    "\n",
    "    \n",
    "<b>На доработку🤔:</b>\n",
    " Решение на этом шаге требует существенной переработки и внесения правок. Напоминаю, что проект не может быть принят с первого раза, если ревью содержит комментарии, рекомендующие доработать шаги.\n",
    "</div>\n",
    "    \n",
    "Увидев мой комментарий, не удаляй его, он будет очень полезен в случае повторной проверки работы :)\n",
    "    \n",
    "<div class=\"alert alert-info\">\n",
    "<b>А свой помечай вот так, чтобы я его не потерял ;)</b> \n",
    "</div>\n",
    "    \n",
    "Увидев мой комментарий, не удаляй его, он будет очень полезен в случае повторной проверки работы :)\n",
    "    \n",
    "На мои комментарии можно и нужно реагировать, только делать это стоит так, чтобы твои и мои комменты не смешались: выделяй свои цветами, сильно отличающимися от моих.\n",
    "    \n",
    "Увидев у тебя неточность, в первый раз я лишь укажу на ее наличие и дам тебе возможность самому найти и исправить ее. На реальной работе твой руководитель будет поступать также, и я пытаюсь подготовить тебя именно к работе аналитиком. Но если ты пока не справишься с такой задачей - при следующей проверке я дам более точную подсказку!"
   ]
  },
  {
   "cell_type": "markdown",
   "metadata": {},
   "source": [
    "<div class=\"alert alert-info\">\n",
    "<b>Очень приятно познакомиться! Спасибо, что помогаете стать лучше) </b> \n",
    "</div>"
   ]
  },
  {
   "cell_type": "markdown",
   "metadata": {},
   "source": [
    "<div class=\"alert alert-success\">\n",
    "<h2> Комментарий ревьюера v2 <a class=\"tocSkip\"> </h2>\n",
    "\n",
    "<b>Все супер!👍:</b> Рад быть полезным ;)"
   ]
  },
  {
   "cell_type": "markdown",
   "metadata": {
    "datalore": {
     "hide_input_from_viewers": false,
     "hide_output_from_viewers": false,
     "node_id": "ODO94JjWPiWg8hilyTNBIc",
     "type": "MD"
    }
   },
   "source": [
    "# Исследование надёжности заёмщиков\n",
    "**Описание проекта**\n",
    "\n",
    "Заказчик — кредитный отдел банка. Нужно разобраться, влияет ли семейное положение и количество детей клиента на факт погашения кредита в срок. Входные данные от банка — статистика о платёжеспособности клиентов.\n",
    "Результаты исследования будут учтены при построении модели кредитного скоринга — специальной системы, которая оценивает способность потенциального заёмщика вернуть кредит банку.\n",
    "\n",
    "**Описание данных**\n",
    "- `children` — количество детей в семье\n",
    "- `days_employed` — общий трудовой стаж в днях\n",
    "- `dob_years` — возраст клиента в годах\n",
    "- `education` — уровень образования клиента\n",
    "- `education_id` — идентификатор уровня образования\n",
    "- `family_status` — семейное положение\n",
    "- `family_status_id` — идентификатор семейного положения\n",
    "- `gender` — пол клиента\n",
    "- `income_type` — тип занятости\n",
    "- `debt` — имел ли задолженность по возврату кредитов\n",
    "- `total_income` — ежемесячный доход\n",
    "- `purpose` — цель получения кредита"
   ]
  },
  {
   "cell_type": "markdown",
   "metadata": {
    "datalore": {
     "hide_input_from_viewers": false,
     "hide_output_from_viewers": false,
     "node_id": "bXz4Ja5dKn60Kzi8lDBOxz",
     "type": "MD"
    }
   },
   "source": [
    "## Решение задачи\n",
    "### Шаг 1. Знакомство с данными и изучение общей информации.\n",
    "\n",
    "Импортируем необходимые библиотеки для дальнейшей работы."
   ]
  },
  {
   "cell_type": "code",
   "execution_count": null,
   "metadata": {
    "datalore": {
     "hide_input_from_viewers": false,
     "hide_output_from_viewers": false,
     "node_id": "pQt1AqzRn8xdvH3qPhUXcq",
     "type": "CODE"
    },
    "pycharm": {
     "is_executing": true
    }
   },
   "outputs": [],
   "source": [
    "import pandas as pd\n",
    "import numpy as np\n",
    "import seaborn"
   ]
  },
  {
   "cell_type": "markdown",
   "metadata": {
    "datalore": {
     "hide_input_from_viewers": false,
     "hide_output_from_viewers": false,
     "node_id": "vsGDo6OL0bOMa3dS61WgqE",
     "type": "MD"
    }
   },
   "source": [
    "Чтение файла с данными и вывод первых десяти строчек таблицы для ознакомления."
   ]
  },
  {
   "cell_type": "code",
   "execution_count": 2,
   "metadata": {
    "datalore": {
     "hide_input_from_viewers": false,
     "hide_output_from_viewers": false,
     "node_id": "A25bfeRjofuXkn351JMOTW",
     "type": "CODE"
    }
   },
   "outputs": [
    {
     "data": {
      "text/plain": "   children  days_employed  dob_years education  education_id  \\\n0         1   -8437.673028         42    высшее             0   \n1         1   -4024.803754         36   среднее             1   \n2         0   -5623.422610         33   Среднее             1   \n3         3   -4124.747207         32   среднее             1   \n4         0  340266.072047         53   среднее             1   \n5         0    -926.185831         27    высшее             0   \n6         0   -2879.202052         43    высшее             0   \n7         0    -152.779569         50   СРЕДНЕЕ             1   \n8         2   -6929.865299         35    ВЫСШЕЕ             0   \n9         0   -2188.756445         41   среднее             1   \n\n      family_status  family_status_id gender income_type  debt   total_income  \\\n0   женат / замужем                 0      F   сотрудник     0  253875.639453   \n1   женат / замужем                 0      F   сотрудник     0  112080.014102   \n2   женат / замужем                 0      M   сотрудник     0  145885.952297   \n3   женат / замужем                 0      M   сотрудник     0  267628.550329   \n4  гражданский брак                 1      F   пенсионер     0  158616.077870   \n5  гражданский брак                 1      M   компаньон     0  255763.565419   \n6   женат / замужем                 0      F   компаньон     0  240525.971920   \n7   женат / замужем                 0      M   сотрудник     0  135823.934197   \n8  гражданский брак                 1      F   сотрудник     0   95856.832424   \n9   женат / замужем                 0      M   сотрудник     0  144425.938277   \n\n                      purpose  \n0               покупка жилья  \n1     приобретение автомобиля  \n2               покупка жилья  \n3  дополнительное образование  \n4             сыграть свадьбу  \n5               покупка жилья  \n6           операции с жильем  \n7                 образование  \n8       на проведение свадьбы  \n9     покупка жилья для семьи  ",
      "text/html": "<div>\n<style scoped>\n    .dataframe tbody tr th:only-of-type {\n        vertical-align: middle;\n    }\n\n    .dataframe tbody tr th {\n        vertical-align: top;\n    }\n\n    .dataframe thead th {\n        text-align: right;\n    }\n</style>\n<table border=\"1\" class=\"dataframe\">\n  <thead>\n    <tr style=\"text-align: right;\">\n      <th></th>\n      <th>children</th>\n      <th>days_employed</th>\n      <th>dob_years</th>\n      <th>education</th>\n      <th>education_id</th>\n      <th>family_status</th>\n      <th>family_status_id</th>\n      <th>gender</th>\n      <th>income_type</th>\n      <th>debt</th>\n      <th>total_income</th>\n      <th>purpose</th>\n    </tr>\n  </thead>\n  <tbody>\n    <tr>\n      <th>0</th>\n      <td>1</td>\n      <td>-8437.673028</td>\n      <td>42</td>\n      <td>высшее</td>\n      <td>0</td>\n      <td>женат / замужем</td>\n      <td>0</td>\n      <td>F</td>\n      <td>сотрудник</td>\n      <td>0</td>\n      <td>253875.639453</td>\n      <td>покупка жилья</td>\n    </tr>\n    <tr>\n      <th>1</th>\n      <td>1</td>\n      <td>-4024.803754</td>\n      <td>36</td>\n      <td>среднее</td>\n      <td>1</td>\n      <td>женат / замужем</td>\n      <td>0</td>\n      <td>F</td>\n      <td>сотрудник</td>\n      <td>0</td>\n      <td>112080.014102</td>\n      <td>приобретение автомобиля</td>\n    </tr>\n    <tr>\n      <th>2</th>\n      <td>0</td>\n      <td>-5623.422610</td>\n      <td>33</td>\n      <td>Среднее</td>\n      <td>1</td>\n      <td>женат / замужем</td>\n      <td>0</td>\n      <td>M</td>\n      <td>сотрудник</td>\n      <td>0</td>\n      <td>145885.952297</td>\n      <td>покупка жилья</td>\n    </tr>\n    <tr>\n      <th>3</th>\n      <td>3</td>\n      <td>-4124.747207</td>\n      <td>32</td>\n      <td>среднее</td>\n      <td>1</td>\n      <td>женат / замужем</td>\n      <td>0</td>\n      <td>M</td>\n      <td>сотрудник</td>\n      <td>0</td>\n      <td>267628.550329</td>\n      <td>дополнительное образование</td>\n    </tr>\n    <tr>\n      <th>4</th>\n      <td>0</td>\n      <td>340266.072047</td>\n      <td>53</td>\n      <td>среднее</td>\n      <td>1</td>\n      <td>гражданский брак</td>\n      <td>1</td>\n      <td>F</td>\n      <td>пенсионер</td>\n      <td>0</td>\n      <td>158616.077870</td>\n      <td>сыграть свадьбу</td>\n    </tr>\n    <tr>\n      <th>5</th>\n      <td>0</td>\n      <td>-926.185831</td>\n      <td>27</td>\n      <td>высшее</td>\n      <td>0</td>\n      <td>гражданский брак</td>\n      <td>1</td>\n      <td>M</td>\n      <td>компаньон</td>\n      <td>0</td>\n      <td>255763.565419</td>\n      <td>покупка жилья</td>\n    </tr>\n    <tr>\n      <th>6</th>\n      <td>0</td>\n      <td>-2879.202052</td>\n      <td>43</td>\n      <td>высшее</td>\n      <td>0</td>\n      <td>женат / замужем</td>\n      <td>0</td>\n      <td>F</td>\n      <td>компаньон</td>\n      <td>0</td>\n      <td>240525.971920</td>\n      <td>операции с жильем</td>\n    </tr>\n    <tr>\n      <th>7</th>\n      <td>0</td>\n      <td>-152.779569</td>\n      <td>50</td>\n      <td>СРЕДНЕЕ</td>\n      <td>1</td>\n      <td>женат / замужем</td>\n      <td>0</td>\n      <td>M</td>\n      <td>сотрудник</td>\n      <td>0</td>\n      <td>135823.934197</td>\n      <td>образование</td>\n    </tr>\n    <tr>\n      <th>8</th>\n      <td>2</td>\n      <td>-6929.865299</td>\n      <td>35</td>\n      <td>ВЫСШЕЕ</td>\n      <td>0</td>\n      <td>гражданский брак</td>\n      <td>1</td>\n      <td>F</td>\n      <td>сотрудник</td>\n      <td>0</td>\n      <td>95856.832424</td>\n      <td>на проведение свадьбы</td>\n    </tr>\n    <tr>\n      <th>9</th>\n      <td>0</td>\n      <td>-2188.756445</td>\n      <td>41</td>\n      <td>среднее</td>\n      <td>1</td>\n      <td>женат / замужем</td>\n      <td>0</td>\n      <td>M</td>\n      <td>сотрудник</td>\n      <td>0</td>\n      <td>144425.938277</td>\n      <td>покупка жилья для семьи</td>\n    </tr>\n  </tbody>\n</table>\n</div>"
     },
     "execution_count": 2,
     "metadata": {},
     "output_type": "execute_result"
    }
   ],
   "source": [
    "client_data = pd.read_csv('bank_data.csv')\n",
    "client_data.head(10)"
   ]
  },
  {
   "cell_type": "markdown",
   "metadata": {
    "datalore": {
     "hide_input_from_viewers": false,
     "hide_output_from_viewers": false,
     "node_id": "MEALI2c6s5I7l7silFhw8I",
     "type": "MD"
    }
   },
   "source": [
    "Для начала переименуем столбцы для удобства понимания их значений:\n",
    "- `debt` -> `credit_debt` (имел ли задолженность по возврату кредитов);\n",
    "- `income_type` -> `type_of_employment` (тип занятости);\n",
    "- `total_income` -> `monthly_income` (ежемесячный доход)"
   ]
  },
  {
   "cell_type": "code",
   "execution_count": 3,
   "metadata": {
    "datalore": {
     "hide_input_from_viewers": false,
     "hide_output_from_viewers": false,
     "node_id": "ywYOYZtN1TiZG5y8CwIhYh",
     "type": "CODE"
    }
   },
   "outputs": [
    {
     "data": {
      "text/plain": "   children  days_employed  dob_years education  education_id  \\\n0         1   -8437.673028         42    высшее             0   \n1         1   -4024.803754         36   среднее             1   \n2         0   -5623.422610         33   Среднее             1   \n3         3   -4124.747207         32   среднее             1   \n4         0  340266.072047         53   среднее             1   \n\n      family_status  family_status_id gender type_of_employment  credit_debt  \\\n0   женат / замужем                 0      F          сотрудник            0   \n1   женат / замужем                 0      F          сотрудник            0   \n2   женат / замужем                 0      M          сотрудник            0   \n3   женат / замужем                 0      M          сотрудник            0   \n4  гражданский брак                 1      F          пенсионер            0   \n\n   monthly_income                     purpose  \n0   253875.639453               покупка жилья  \n1   112080.014102     приобретение автомобиля  \n2   145885.952297               покупка жилья  \n3   267628.550329  дополнительное образование  \n4   158616.077870             сыграть свадьбу  ",
      "text/html": "<div>\n<style scoped>\n    .dataframe tbody tr th:only-of-type {\n        vertical-align: middle;\n    }\n\n    .dataframe tbody tr th {\n        vertical-align: top;\n    }\n\n    .dataframe thead th {\n        text-align: right;\n    }\n</style>\n<table border=\"1\" class=\"dataframe\">\n  <thead>\n    <tr style=\"text-align: right;\">\n      <th></th>\n      <th>children</th>\n      <th>days_employed</th>\n      <th>dob_years</th>\n      <th>education</th>\n      <th>education_id</th>\n      <th>family_status</th>\n      <th>family_status_id</th>\n      <th>gender</th>\n      <th>type_of_employment</th>\n      <th>credit_debt</th>\n      <th>monthly_income</th>\n      <th>purpose</th>\n    </tr>\n  </thead>\n  <tbody>\n    <tr>\n      <th>0</th>\n      <td>1</td>\n      <td>-8437.673028</td>\n      <td>42</td>\n      <td>высшее</td>\n      <td>0</td>\n      <td>женат / замужем</td>\n      <td>0</td>\n      <td>F</td>\n      <td>сотрудник</td>\n      <td>0</td>\n      <td>253875.639453</td>\n      <td>покупка жилья</td>\n    </tr>\n    <tr>\n      <th>1</th>\n      <td>1</td>\n      <td>-4024.803754</td>\n      <td>36</td>\n      <td>среднее</td>\n      <td>1</td>\n      <td>женат / замужем</td>\n      <td>0</td>\n      <td>F</td>\n      <td>сотрудник</td>\n      <td>0</td>\n      <td>112080.014102</td>\n      <td>приобретение автомобиля</td>\n    </tr>\n    <tr>\n      <th>2</th>\n      <td>0</td>\n      <td>-5623.422610</td>\n      <td>33</td>\n      <td>Среднее</td>\n      <td>1</td>\n      <td>женат / замужем</td>\n      <td>0</td>\n      <td>M</td>\n      <td>сотрудник</td>\n      <td>0</td>\n      <td>145885.952297</td>\n      <td>покупка жилья</td>\n    </tr>\n    <tr>\n      <th>3</th>\n      <td>3</td>\n      <td>-4124.747207</td>\n      <td>32</td>\n      <td>среднее</td>\n      <td>1</td>\n      <td>женат / замужем</td>\n      <td>0</td>\n      <td>M</td>\n      <td>сотрудник</td>\n      <td>0</td>\n      <td>267628.550329</td>\n      <td>дополнительное образование</td>\n    </tr>\n    <tr>\n      <th>4</th>\n      <td>0</td>\n      <td>340266.072047</td>\n      <td>53</td>\n      <td>среднее</td>\n      <td>1</td>\n      <td>гражданский брак</td>\n      <td>1</td>\n      <td>F</td>\n      <td>пенсионер</td>\n      <td>0</td>\n      <td>158616.077870</td>\n      <td>сыграть свадьбу</td>\n    </tr>\n  </tbody>\n</table>\n</div>"
     },
     "execution_count": 3,
     "metadata": {},
     "output_type": "execute_result"
    }
   ],
   "source": [
    "client_data = client_data.rename(columns={'debt': 'credit_debt', 'income_type': 'type_of_employment', 'total_income': 'monthly_income'})\n",
    "client_data.head()"
   ]
  },
  {
   "cell_type": "markdown",
   "metadata": {
    "datalore": {
     "hide_input_from_viewers": false,
     "hide_output_from_viewers": false,
     "node_id": "89YVbmaOgKRIE90S3pd04Z",
     "type": "MD"
    }
   },
   "source": [
    "Получение информации о датафрейме."
   ]
  },
  {
   "cell_type": "code",
   "execution_count": 4,
   "metadata": {
    "datalore": {
     "hide_input_from_viewers": false,
     "hide_output_from_viewers": false,
     "node_id": "OtCkTmEGhtrEHJoS8e4REP",
     "type": "CODE"
    }
   },
   "outputs": [
    {
     "name": "stdout",
     "output_type": "stream",
     "text": [
      "<class 'pandas.core.frame.DataFrame'>\n",
      "RangeIndex: 21525 entries, 0 to 21524\n",
      "Data columns (total 12 columns):\n",
      " #   Column              Non-Null Count  Dtype  \n",
      "---  ------              --------------  -----  \n",
      " 0   children            21525 non-null  int64  \n",
      " 1   days_employed       19351 non-null  float64\n",
      " 2   dob_years           21525 non-null  int64  \n",
      " 3   education           21525 non-null  object \n",
      " 4   education_id        21525 non-null  int64  \n",
      " 5   family_status       21525 non-null  object \n",
      " 6   family_status_id    21525 non-null  int64  \n",
      " 7   gender              21525 non-null  object \n",
      " 8   type_of_employment  21525 non-null  object \n",
      " 9   credit_debt         21525 non-null  int64  \n",
      " 10  monthly_income      19351 non-null  float64\n",
      " 11  purpose             21525 non-null  object \n",
      "dtypes: float64(2), int64(5), object(5)\n",
      "memory usage: 2.0+ MB\n"
     ]
    }
   ],
   "source": [
    "client_data.info()"
   ]
  },
  {
   "cell_type": "markdown",
   "metadata": {
    "datalore": {
     "hide_input_from_viewers": false,
     "hide_output_from_viewers": false,
     "node_id": "1TadSXLd4FKRVBENy3Npcx",
     "type": "MD"
    }
   },
   "source": [
    "Можно заметить, что значения отличаются только в двух столбцах и имеют одинаковое число явных пропусков. Проверим точное число пропусков и какую долю они составляют, если количество пропусков меньше 2-5%, то такие строки можно будет безболезненно удалить, в ином случае придется обработать пропуски и заполнить пропущенные значения."
   ]
  },
  {
   "cell_type": "code",
   "execution_count": 5,
   "metadata": {
    "datalore": {
     "hide_input_from_viewers": false,
     "hide_output_from_viewers": false,
     "node_id": "UteELGgZL9LndjoyMnwBTK",
     "type": "CODE"
    }
   },
   "outputs": [
    {
     "name": "stdout",
     "output_type": "stream",
     "text": [
      "Всего значений в таблице 21525, из них пропущено 2174, доля пропущенных равна 10.10%.\n"
     ]
    }
   ],
   "source": [
    "# Какую долю составляют пропущенные значения в каждом из столбцов с пропусками\n",
    "print('Всего значений в таблице {0}, из них пропущено {1}, доля пропущенных равна {2:.2%}.'.format(len(client_data), client_data['monthly_income'].isna().sum(), client_data['monthly_income'].isna().sum() / len(client_data)))"
   ]
  },
  {
   "cell_type": "markdown",
   "metadata": {},
   "source": [
    "<div class=\"alert alert-success\">\n",
    "<h2> Комментарий ревьюера <a class=\"tocSkip\"> </h2>\n",
    "\n",
    "<b>Все супер!👍:</b> Так, хорошо"
   ]
  },
  {
   "cell_type": "markdown",
   "metadata": {
    "datalore": {
     "hide_input_from_viewers": false,
     "hide_output_from_viewers": false,
     "node_id": "Xh9g6zehEBVlakuATWVjM8",
     "type": "MD"
    }
   },
   "source": [
    "10% довольно существенная часть данных, значит просто убрать их нельзя.\n",
    "\n",
    "**Наблюдение 1** : можно заметить, что пропуски есть только в двух столбцах `days_employed` и `monthly_income` и количество этих пропусков одинаково. \n",
    "\n",
    "*Теория по наблюдению:* разумно будет проверить, что пропуски в колонках с трудовым стажем и ежемесячным доходом наблюдаются у одних и тех же клиентов."
   ]
  },
  {
   "cell_type": "markdown",
   "metadata": {
    "datalore": {
     "hide_input_from_viewers": false,
     "hide_output_from_viewers": false,
     "node_id": "HkKQ9i9nEcrey7QBRMfRpq",
     "type": "MD"
    }
   },
   "source": [
    "Узнаем разброс данных в каждом столбце, чтобы иметь представление о наполнении таблицы."
   ]
  },
  {
   "cell_type": "code",
   "execution_count": 6,
   "metadata": {
    "datalore": {
     "hide_input_from_viewers": false,
     "hide_output_from_viewers": false,
     "node_id": "X77JtWR8OvmXf3pMyRprdQ",
     "type": "CODE"
    }
   },
   "outputs": [
    {
     "data": {
      "text/plain": "           children  days_employed     dob_years  education_id  \\\ncount  21525.000000   19351.000000  21525.000000  21525.000000   \nmean       0.538908   63046.497661     43.293380      0.817236   \nstd        1.381587  140827.311974     12.574584      0.548138   \nmin       -1.000000  -18388.949901      0.000000      0.000000   \n25%        0.000000   -2747.423625     33.000000      1.000000   \n50%        0.000000   -1203.369529     42.000000      1.000000   \n75%        1.000000    -291.095954     53.000000      1.000000   \nmax       20.000000  401755.400475     75.000000      4.000000   \n\n       family_status_id   credit_debt  monthly_income  \ncount      21525.000000  21525.000000    1.935100e+04  \nmean           0.972544      0.080883    1.674223e+05  \nstd            1.420324      0.272661    1.029716e+05  \nmin            0.000000      0.000000    2.066726e+04  \n25%            0.000000      0.000000    1.030532e+05  \n50%            0.000000      0.000000    1.450179e+05  \n75%            1.000000      0.000000    2.034351e+05  \nmax            4.000000      1.000000    2.265604e+06  ",
      "text/html": "<div>\n<style scoped>\n    .dataframe tbody tr th:only-of-type {\n        vertical-align: middle;\n    }\n\n    .dataframe tbody tr th {\n        vertical-align: top;\n    }\n\n    .dataframe thead th {\n        text-align: right;\n    }\n</style>\n<table border=\"1\" class=\"dataframe\">\n  <thead>\n    <tr style=\"text-align: right;\">\n      <th></th>\n      <th>children</th>\n      <th>days_employed</th>\n      <th>dob_years</th>\n      <th>education_id</th>\n      <th>family_status_id</th>\n      <th>credit_debt</th>\n      <th>monthly_income</th>\n    </tr>\n  </thead>\n  <tbody>\n    <tr>\n      <th>count</th>\n      <td>21525.000000</td>\n      <td>19351.000000</td>\n      <td>21525.000000</td>\n      <td>21525.000000</td>\n      <td>21525.000000</td>\n      <td>21525.000000</td>\n      <td>1.935100e+04</td>\n    </tr>\n    <tr>\n      <th>mean</th>\n      <td>0.538908</td>\n      <td>63046.497661</td>\n      <td>43.293380</td>\n      <td>0.817236</td>\n      <td>0.972544</td>\n      <td>0.080883</td>\n      <td>1.674223e+05</td>\n    </tr>\n    <tr>\n      <th>std</th>\n      <td>1.381587</td>\n      <td>140827.311974</td>\n      <td>12.574584</td>\n      <td>0.548138</td>\n      <td>1.420324</td>\n      <td>0.272661</td>\n      <td>1.029716e+05</td>\n    </tr>\n    <tr>\n      <th>min</th>\n      <td>-1.000000</td>\n      <td>-18388.949901</td>\n      <td>0.000000</td>\n      <td>0.000000</td>\n      <td>0.000000</td>\n      <td>0.000000</td>\n      <td>2.066726e+04</td>\n    </tr>\n    <tr>\n      <th>25%</th>\n      <td>0.000000</td>\n      <td>-2747.423625</td>\n      <td>33.000000</td>\n      <td>1.000000</td>\n      <td>0.000000</td>\n      <td>0.000000</td>\n      <td>1.030532e+05</td>\n    </tr>\n    <tr>\n      <th>50%</th>\n      <td>0.000000</td>\n      <td>-1203.369529</td>\n      <td>42.000000</td>\n      <td>1.000000</td>\n      <td>0.000000</td>\n      <td>0.000000</td>\n      <td>1.450179e+05</td>\n    </tr>\n    <tr>\n      <th>75%</th>\n      <td>1.000000</td>\n      <td>-291.095954</td>\n      <td>53.000000</td>\n      <td>1.000000</td>\n      <td>1.000000</td>\n      <td>0.000000</td>\n      <td>2.034351e+05</td>\n    </tr>\n    <tr>\n      <th>max</th>\n      <td>20.000000</td>\n      <td>401755.400475</td>\n      <td>75.000000</td>\n      <td>4.000000</td>\n      <td>4.000000</td>\n      <td>1.000000</td>\n      <td>2.265604e+06</td>\n    </tr>\n  </tbody>\n</table>\n</div>"
     },
     "execution_count": 6,
     "metadata": {},
     "output_type": "execute_result"
    }
   ],
   "source": [
    "client_data.describe()"
   ]
  },
  {
   "cell_type": "markdown",
   "metadata": {
    "datalore": {
     "hide_input_from_viewers": false,
     "hide_output_from_viewers": false,
     "node_id": "GzlQ1u0fcY66MXCaPhSyx1",
     "type": "MD"
    }
   },
   "source": [
    "**Наблюдение 2** : \n",
    "1. Можно заметить странные значения в столбце `children`(количество детей в семье), а именно минимальное значение `-1`, чего в реальной жизни не может быть, и максимальное значение `20`, что необычно, но возможно.\n",
    "2. В столбце `days_employed`(общий трудовой стаж в днях) можно заметить такие аномалии как отрицательный трудовой стаж, например минимальный стаж равен `-18388` дням или 50 с небольшим годам. \n",
    "3. В столбце `days_employed`(общий трудовой стаж в днях) так же наблюдается необычный средний и максимальный трудовой стаж в `63046` дней и `401755` дней или 173 года и больше 1100 лет соответственно.\n",
    "4. Возраст некоторых получателей кредита в столбце `days_employed` равен `0`, что является нарушением закона или ошибкой ввода.\n",
    "\n",
    "*Теории по наблюдению:* \n",
    "1. `20` детей, как и `-1` значения резко выбивающиеся, из общего ряда. Нужно посчитать количество таких значений и в случае малого количества удалить, т.к. существенного влияния на качество данных они не окажут. Отрицательные значения в столбце `children` могут быть пропуском информации, вероятно их можно будет заменить на `0`, как при отсутствии детей.\n",
    "2. 75% клиентов имеют отрицательный стаж можно попробовать исправить это, взяв значения по модулю.\n",
    "3. Слишком высокий стаж может быть из-за одного-двух неверных значений, можно попробовать найти эти аномалии и удалить их из таблицы.\n",
    "4. Возраст, равный `0`, может быть пропуском. Уместно проверить связаны ли эти пропуски с предыдущими найденными пропусками в `days_employed` и `monthly_income`."
   ]
  },
  {
   "cell_type": "markdown",
   "metadata": {},
   "source": [
    "<div class=\"alert alert-success\">\n",
    "<h2> Комментарий ревьюера <a class=\"tocSkip\"> </h2>\n",
    "\n",
    "<b>Все супер!👍:</b> Хорошо, согласен"
   ]
  },
  {
   "cell_type": "markdown",
   "metadata": {
    "datalore": {
     "hide_input_from_viewers": false,
     "hide_output_from_viewers": false,
     "node_id": "lAYQ00ghtFQwRHomIExeTG",
     "type": "MD"
    }
   },
   "source": [
    "### Шаг 2. Предобработка данных\n",
    "#### *Работа с пропусками*\n",
    "\n",
    "Проверим теорию из **наблюдения 1** - совпадают ли строки в `days_employed` и `monthly_income`, имеющие пропуски в значениях, или нет."
   ]
  },
  {
   "cell_type": "code",
   "execution_count": 7,
   "metadata": {
    "datalore": {
     "hide_input_from_viewers": false,
     "hide_output_from_viewers": false,
     "node_id": "qoxAAdqVuboBem39IT6dx2",
     "type": "CODE"
    }
   },
   "outputs": [
    {
     "name": "stdout",
     "output_type": "stream",
     "text": [
      "<class 'pandas.core.frame.DataFrame'>\n",
      "Int64Index: 2174 entries, 12 to 21510\n",
      "Data columns (total 12 columns):\n",
      " #   Column              Non-Null Count  Dtype  \n",
      "---  ------              --------------  -----  \n",
      " 0   children            2174 non-null   int64  \n",
      " 1   days_employed       0 non-null      float64\n",
      " 2   dob_years           2174 non-null   int64  \n",
      " 3   education           2174 non-null   object \n",
      " 4   education_id        2174 non-null   int64  \n",
      " 5   family_status       2174 non-null   object \n",
      " 6   family_status_id    2174 non-null   int64  \n",
      " 7   gender              2174 non-null   object \n",
      " 8   type_of_employment  2174 non-null   object \n",
      " 9   credit_debt         2174 non-null   int64  \n",
      " 10  monthly_income      0 non-null      float64\n",
      " 11  purpose             2174 non-null   object \n",
      "dtypes: float64(2), int64(5), object(5)\n",
      "memory usage: 220.8+ KB\n"
     ]
    }
   ],
   "source": [
    "client_data[(client_data['days_employed'].isna() == True) & (client_data['monthly_income'].isna() == True)].info()"
   ]
  },
  {
   "cell_type": "markdown",
   "metadata": {
    "datalore": {
     "hide_input_from_viewers": false,
     "hide_output_from_viewers": false,
     "node_id": "cdBzfR9XDOjxqjyh30LB7U",
     "type": "MD"
    }
   },
   "source": [
    "**Наблюдение 3**\n",
    "\n",
    "***Теория получила подтверждение*** – в строках, где отсутствуют данные в столбце `days_employed`, отсутствуют данные и по `monthly_income`. \n",
    "\n",
    "*Теория по наблюдению:* стоит проверить относятся ли пропуски с одному типу занятости, возможно можно будет заменить значения средним по типу.\n",
    "\n",
    "Проверим теорию из **наблюдения 3**, из разных ли профессий люди имеют пропуски в данных, если из одной, то можно будет заполнить NaN средним по этой группе."
   ]
  },
  {
   "cell_type": "code",
   "execution_count": 8,
   "metadata": {
    "datalore": {
     "hide_input_from_viewers": false,
     "hide_output_from_viewers": false,
     "node_id": "4MzW51RwcISpZ5jSbiC4Le",
     "type": "CODE"
    }
   },
   "outputs": [
    {
     "data": {
      "text/plain": "сотрудник          1105\nкомпаньон           508\nпенсионер           413\nгосслужащий         147\nпредприниматель       1\nName: type_of_employment, dtype: int64"
     },
     "execution_count": 8,
     "metadata": {},
     "output_type": "execute_result"
    }
   ],
   "source": [
    "client_data[(client_data['monthly_income'].isnull() == True) & (client_data['days_employed'].isnull() == True)]['type_of_employment'].value_counts()"
   ]
  },
  {
   "cell_type": "markdown",
   "metadata": {
    "datalore": {
     "hide_input_from_viewers": false,
     "hide_output_from_viewers": false,
     "node_id": "W3Jwtikx0FcHSQi40CYgN2",
     "type": "MD"
    }
   },
   "source": [
    "Из разных. Значит, взять среднее по одной группе профессий `type_of_employment` уже нельзя, будем заполнять NaN по среднему из каждой группы."
   ]
  },
  {
   "cell_type": "code",
   "execution_count": 9,
   "metadata": {
    "datalore": {
     "hide_input_from_viewers": false,
     "hide_output_from_viewers": false,
     "node_id": "99PzcVuxFz6VQzwJaLws4R",
     "type": "CODE"
    }
   },
   "outputs": [],
   "source": [
    "client_data['monthly_income'] = client_data['monthly_income'].fillna(client_data.groupby('type_of_employment')['monthly_income'].transform('median'))"
   ]
  },
  {
   "cell_type": "markdown",
   "metadata": {},
   "source": [
    "<div class=\"alert alert-success\">\n",
    "<h2> Комментарий ревьюера <a class=\"tocSkip\"> </h2>\n",
    "\n",
    "<b>Все супер!👍:</b> Заполнено медианой, это правильно, хотя написано, что будешь заполнять средним. Средним не надо"
   ]
  },
  {
   "cell_type": "markdown",
   "metadata": {},
   "source": [
    "<div class=\"alert alert-info\">\n",
    "<b>Да, здесь случилась ошибка описания действий 😅 Среднее по типам занятости было бы с искажениями, из-за возможных аномалий в большую или меньшую сторону</b> \n",
    "</div>"
   ]
  },
  {
   "cell_type": "markdown",
   "metadata": {},
   "source": [
    "<div class=\"alert alert-success\">\n",
    "<h2> Комментарий ревьюера v2 <a class=\"tocSkip\"> </h2>\n",
    "\n",
    "<b>Все супер!👍:</b> Понял, хорошо)"
   ]
  },
  {
   "cell_type": "markdown",
   "metadata": {
    "datalore": {
     "hide_input_from_viewers": false,
     "hide_output_from_viewers": false,
     "node_id": "toaXNd4njJIVWFiBNVd0T7",
     "type": "MD"
    }
   },
   "source": [
    "Плюсом такого заполнения пропусков является, то что каждый пенсионер с пропуском доходов, получает как средний пенсионер, а каждый работник - как средний работник.\n",
    "\n",
    "Теперь можно проверить теорию о пропусках возраста из **наблюдения 2**."
   ]
  },
  {
   "cell_type": "code",
   "execution_count": 10,
   "metadata": {
    "datalore": {
     "hide_input_from_viewers": false,
     "hide_output_from_viewers": false,
     "node_id": "0Kqn1Lio7WKebrIn9CfWCl",
     "type": "CODE"
    }
   },
   "outputs": [
    {
     "name": "stdout",
     "output_type": "stream",
     "text": [
      "Количество клиентов с нулевым возрастом: 101\n",
      "<class 'pandas.core.frame.DataFrame'>\n",
      "Int64Index: 0 entries\n",
      "Data columns (total 12 columns):\n",
      " #   Column              Non-Null Count  Dtype  \n",
      "---  ------              --------------  -----  \n",
      " 0   children            0 non-null      int64  \n",
      " 1   days_employed       0 non-null      float64\n",
      " 2   dob_years           0 non-null      int64  \n",
      " 3   education           0 non-null      object \n",
      " 4   education_id        0 non-null      int64  \n",
      " 5   family_status       0 non-null      object \n",
      " 6   family_status_id    0 non-null      int64  \n",
      " 7   gender              0 non-null      object \n",
      " 8   type_of_employment  0 non-null      object \n",
      " 9   credit_debt         0 non-null      int64  \n",
      " 10  monthly_income      0 non-null      float64\n",
      " 11  purpose             0 non-null      object \n",
      "dtypes: float64(2), int64(5), object(5)\n",
      "memory usage: 0.0+ bytes\n"
     ]
    }
   ],
   "source": [
    "print('Количество клиентов с нулевым возрастом:', client_data[client_data['dob_years'] == 0].count()[0])\n",
    "client_data[(client_data['days_employed'].isna() == True) & (client_data['monthly_income'].isna() == True) & ((client_data['dob_years'] == 0) == True)].info()"
   ]
  },
  {
   "cell_type": "markdown",
   "metadata": {
    "datalore": {
     "hide_input_from_viewers": false,
     "hide_output_from_viewers": false,
     "node_id": "5xQPe8ygq1KVbpVu03tT2B",
     "type": "MD"
    }
   },
   "source": [
    "Из 101 клиента с пропущенным возрастом, только 10 клиентов имеют пропущенные значения сразу в трех столбцах, а значит между пропусками в возрасте и в столбцах со стажем и доходом нет связи. ***Теория опровергнута.***\n",
    "\n",
    "Проверим есть ли ещё несовершеннолетние в списках или только нулевой возраст. Если только нулевой, то возможна ошибка ввода данных и уместно будет заполнить средним значением по типу занятости."
   ]
  },
  {
   "cell_type": "code",
   "execution_count": 11,
   "metadata": {
    "datalore": {
     "hide_input_from_viewers": false,
     "hide_output_from_viewers": false,
     "node_id": "e3MAEgtxhKETLKOnZUPT05",
     "type": "CODE"
    }
   },
   "outputs": [
    {
     "name": "stdout",
     "output_type": "stream",
     "text": [
      "Количество строк с возрастом равным 0 - 101\n",
      "Количество строк с несовершеннолетними - 101\n"
     ]
    }
   ],
   "source": [
    "print('Количество строк с возрастом равным 0 -', client_data[client_data['dob_years'] == 0].count()[0])\n",
    "print('Количество строк с несовершеннолетними -', client_data[client_data['dob_years'] < 19].count()[0])"
   ]
  },
  {
   "cell_type": "markdown",
   "metadata": {
    "datalore": {
     "hide_input_from_viewers": false,
     "hide_output_from_viewers": false,
     "node_id": "KN6VRXmLroEgSKOhY4cWyH",
     "type": "MD"
    }
   },
   "source": [
    "Т.к. количество одних и других совпадает, то можно утверждать что это одни и те же люди. Заполним значения возраста средним по каждому типу занятости."
   ]
  },
  {
   "cell_type": "code",
   "execution_count": 12,
   "metadata": {
    "datalore": {
     "hide_input_from_viewers": false,
     "hide_output_from_viewers": false,
     "node_id": "aEkuByYlRS5UM9hjIWMKNY",
     "type": "CODE"
    }
   },
   "outputs": [],
   "source": [
    "client_data['dob_years'] = client_data.groupby('type_of_employment')['dob_years'].transform(lambda x: x.replace(0, int(x.mean())))"
   ]
  },
  {
   "cell_type": "markdown",
   "metadata": {},
   "source": [
    "<div class=\"alert alert-success\">\n",
    "<h2> Комментарий ревьюера <a class=\"tocSkip\"> </h2>\n",
    "\n",
    "<b>Все супер!👍:</b> Хорошо, согласен"
   ]
  },
  {
   "cell_type": "markdown",
   "metadata": {
    "datalore": {
     "hide_input_from_viewers": false,
     "hide_output_from_viewers": false,
     "node_id": "5wmc4O39vTtxzLtPY8jPSP",
     "type": "MD"
    }
   },
   "source": [
    "#### *Обработка аномалий*\n",
    "Продолжим проверять теории из **наблюдения 2**.\n",
    "\n",
    "Для этого узнаем сколько людей указали аномальные значения в столбце `children`и что можно с этими значениями сделать."
   ]
  },
  {
   "cell_type": "code",
   "execution_count": 13,
   "metadata": {
    "datalore": {
     "hide_input_from_viewers": false,
     "hide_output_from_viewers": false,
     "node_id": "q25TGlizUrfr2Em7dqFKw8",
     "type": "CODE"
    }
   },
   "outputs": [
    {
     "data": {
      "text/plain": " 0     14149\n 1      4818\n 2      2055\n 3       330\n 20       76\n-1        47\n 4        41\n 5         9\nName: children, dtype: int64"
     },
     "execution_count": 13,
     "metadata": {},
     "output_type": "execute_result"
    }
   ],
   "source": [
    "client_data['children'].value_counts()"
   ]
  },
  {
   "cell_type": "markdown",
   "metadata": {
    "datalore": {
     "hide_input_from_viewers": false,
     "hide_output_from_viewers": false,
     "node_id": "01ILMt3KLLVFuUj2rubFr0",
     "type": "MD"
    }
   },
   "source": [
    "76 клиентов с `20` детьми - удаление такого количества строк не приведет к существенному ухудшению данных. \n",
    "\n",
    "47 человек, которые записали отрицательное количество детей с одной стороны их удаление тоже не приведет к ухудшению общей картины, с другой здесь легко исправить данные, заменив `-1` на `0`. Такое изменение статистику не испортит."
   ]
  },
  {
   "cell_type": "code",
   "execution_count": 14,
   "metadata": {
    "datalore": {
     "hide_input_from_viewers": false,
     "hide_output_from_viewers": false,
     "node_id": "iskidjA3WWQXSHAioH3qxw",
     "type": "CODE"
    }
   },
   "outputs": [
    {
     "data": {
      "text/plain": "0    14196\n1     4818\n2     2055\n3      330\n4       41\n5        9\nName: children, dtype: int64"
     },
     "execution_count": 14,
     "metadata": {},
     "output_type": "execute_result"
    }
   ],
   "source": [
    "# Удаление аномальных строк\n",
    "client_data = client_data.loc[client_data['children'] != 20]\n",
    "#Замена значений в аномальных строках\n",
    "client_data = client_data.replace({'children':{-1:0}})\n",
    "client_data['children'].value_counts()"
   ]
  },
  {
   "cell_type": "markdown",
   "metadata": {
    "datalore": {
     "hide_input_from_viewers": false,
     "hide_output_from_viewers": false,
     "node_id": "e337UVDIjWYvHUYi4G7f6h",
     "type": "MD"
    }
   },
   "source": [
    "Продолжим исследовать теории выдвинутые в **наблюдении 2**. Для этого можно создать сводную таблицу по каждому из типов занятости для того, чтоб разобраться с отрицательным стажем и выяснить, кто создает перекос значения среднего стажа.\n",
    "\n",
    "Для каждого типа `type_of_employment` выведем следующее:\n",
    "1) общее кол-во строк данного типа в таблице;\n",
    "\n",
    "2) среднее значение по `days_employed`;\n",
    "\n",
    "3) для проверки корректности вычисления среднего и применения abs() выведем кол-во значений по `days_employed` > 0 по данному `type_of_employment`."
   ]
  },
  {
   "cell_type": "code",
   "execution_count": 15,
   "metadata": {
    "datalore": {
     "hide_input_from_viewers": false,
     "hide_output_from_viewers": false,
     "node_id": "oP2lOzTOOccwB6VBbI814e",
     "type": "CODE"
    }
   },
   "outputs": [
    {
     "data": {
      "text/plain": "                   days_employed                          \n                           count           mean <lambda_0>\ntype_of_employment                                        \nбезработный                    2  366413.652744        2.0\nв декрете                      1   -3296.759962        0.0\nгосслужащий                 1311   -3398.915807        0.0\nкомпаньон                   4558   -2116.633489        0.0\nпенсионер                   3436  365011.937155     3436.0\nпредприниматель                1    -520.848083        0.0\nсотрудник                   9974   -2325.075758        0.0\nстудент                        1    -578.751554        0.0",
      "text/html": "<div>\n<style scoped>\n    .dataframe tbody tr th:only-of-type {\n        vertical-align: middle;\n    }\n\n    .dataframe tbody tr th {\n        vertical-align: top;\n    }\n\n    .dataframe thead tr th {\n        text-align: left;\n    }\n\n    .dataframe thead tr:last-of-type th {\n        text-align: right;\n    }\n</style>\n<table border=\"1\" class=\"dataframe\">\n  <thead>\n    <tr>\n      <th></th>\n      <th colspan=\"3\" halign=\"left\">days_employed</th>\n    </tr>\n    <tr>\n      <th></th>\n      <th>count</th>\n      <th>mean</th>\n      <th>&lt;lambda_0&gt;</th>\n    </tr>\n    <tr>\n      <th>type_of_employment</th>\n      <th></th>\n      <th></th>\n      <th></th>\n    </tr>\n  </thead>\n  <tbody>\n    <tr>\n      <th>безработный</th>\n      <td>2</td>\n      <td>366413.652744</td>\n      <td>2.0</td>\n    </tr>\n    <tr>\n      <th>в декрете</th>\n      <td>1</td>\n      <td>-3296.759962</td>\n      <td>0.0</td>\n    </tr>\n    <tr>\n      <th>госслужащий</th>\n      <td>1311</td>\n      <td>-3398.915807</td>\n      <td>0.0</td>\n    </tr>\n    <tr>\n      <th>компаньон</th>\n      <td>4558</td>\n      <td>-2116.633489</td>\n      <td>0.0</td>\n    </tr>\n    <tr>\n      <th>пенсионер</th>\n      <td>3436</td>\n      <td>365011.937155</td>\n      <td>3436.0</td>\n    </tr>\n    <tr>\n      <th>предприниматель</th>\n      <td>1</td>\n      <td>-520.848083</td>\n      <td>0.0</td>\n    </tr>\n    <tr>\n      <th>сотрудник</th>\n      <td>9974</td>\n      <td>-2325.075758</td>\n      <td>0.0</td>\n    </tr>\n    <tr>\n      <th>студент</th>\n      <td>1</td>\n      <td>-578.751554</td>\n      <td>0.0</td>\n    </tr>\n  </tbody>\n</table>\n</div>"
     },
     "execution_count": 15,
     "metadata": {},
     "output_type": "execute_result"
    }
   ],
   "source": [
    "client_data.groupby('type_of_employment').agg({'days_employed':['count', 'mean', lambda x: sum(x>0)]})"
   ]
  },
  {
   "cell_type": "markdown",
   "metadata": {},
   "source": [
    "<div class=\"alert alert-info\">\n",
    "<b>Решила перенести  сюда перевод стажа в года, и сделать небольшой фильтр, если стаж больше возраста, то стаж делится на 10, потому что средние значения стажа безработных и пенсионеров больше 1000 лет.</b> \n",
    "</div>"
   ]
  },
  {
   "cell_type": "markdown",
   "metadata": {},
   "source": [
    "<div class=\"alert alert-success\">\n",
    "<h2> Комментарий ревьюера v2 <a class=\"tocSkip\"> </h2>\n",
    "\n",
    "<b>Все супер!👍:</b> Понял, хорошо, давай)"
   ]
  },
  {
   "cell_type": "code",
   "execution_count": 16,
   "metadata": {},
   "outputs": [
    {
     "name": "stdout",
     "output_type": "stream",
     "text": [
      "Количество клиентов с завышенным стажем 3438\n"
     ]
    }
   ],
   "source": [
    "client_data['days_employed'] = client_data['days_employed']/365\n",
    "client_data = client_data.rename(columns={'days_employed': 'years_employed'})\n",
    "\n",
    "client_data.loc[(client_data['years_employed'] > client_data['dob_years']), 'years_employed'] = client_data['years_employed'] / 10\n",
    "\n",
    "print('Количество клиентов с завышенным стажем', client_data[client_data['years_employed'] > client_data['dob_years']].count()[0])"
   ]
  },
  {
   "cell_type": "markdown",
   "metadata": {
    "datalore": {
     "hide_input_from_viewers": false,
     "hide_output_from_viewers": false,
     "node_id": "v48ZA01KljKEOwiyCRWbyG",
     "type": "MD"
    }
   },
   "source": [
    "Из полученной сводной таблицы видно, что значения по отработанным дням `days_employed` однотипны: по всем 'безработным' и 'пенсионерам' все значения больше 0, по остальным меньше 0, поэтому можем безболезненно применять `abs()`, считать среднее.\n",
    "\n",
    "Для корректного заполнения пропущенных значений логично будет посчитать коэффициент полноты количества отработанных дней, учитывая, что официально можно трудиться с 16 лет, который будет рассчитан в столбце `ratio_days_employed` с учетом среднего этого показателя по группе."
   ]
  },
  {
   "cell_type": "code",
   "execution_count": 17,
   "metadata": {
    "datalore": {
     "hide_input_from_viewers": false,
     "hide_output_from_viewers": false,
     "node_id": "r3eGaK64nFpu4MKsHisG6q",
     "type": "CODE"
    }
   },
   "outputs": [],
   "source": [
    "client_data['years_employed'] = client_data['years_employed'].abs()\n",
    "client_data['ratio_years_employed'] = client_data[client_data['years_employed'].notnull()]['years_employed']/((client_data['dob_years']-16)*365)\n",
    "client_data['years_employed'] = client_data.groupby('type_of_employment')['years_employed'].transform(lambda x: x.fillna(x.mean()*client_data['dob_years']*365))"
   ]
  },
  {
   "cell_type": "markdown",
   "metadata": {
    "datalore": {
     "hide_input_from_viewers": false,
     "hide_output_from_viewers": false,
     "node_id": "CCWHzgUrXIsV38xGSLcp0k",
     "type": "MD"
    }
   },
   "source": [
    "После заполнения данных медианными и средними значениями, можно удалить вспомогательный столбец."
   ]
  },
  {
   "cell_type": "code",
   "execution_count": 18,
   "metadata": {
    "datalore": {
     "hide_input_from_viewers": false,
     "hide_output_from_viewers": false,
     "node_id": "pryZIAR6geE9gJmHgn6dxt",
     "type": "CODE"
    }
   },
   "outputs": [],
   "source": [
    "client_data = client_data.drop('ratio_years_employed', axis=1)"
   ]
  },
  {
   "cell_type": "code",
   "execution_count": 19,
   "metadata": {
    "datalore": {
     "hide_input_from_viewers": false,
     "hide_output_from_viewers": false,
     "node_id": "tJgemhe9WSibiLBg4j76u9",
     "type": "CODE"
    }
   },
   "outputs": [
    {
     "name": "stdout",
     "output_type": "stream",
     "text": [
      "Количество клиентов с завышенным стажем 5603\n",
      "Количество клиентов со стажем больше 100 лет - 3892\n",
      "Количество клиентов со стажем больше 1000 лет - 2165\n"
     ]
    }
   ],
   "source": [
    "print('Количество клиентов с завышенным стажем', client_data[client_data['years_employed'] > client_data['dob_years']].count()[0])\n",
    "print('Количество клиентов со стажем больше 100 лет -', client_data[client_data['years_employed'] > 100].count()[0])\n",
    "print('Количество клиентов со стажем больше 1000 лет -', client_data[client_data['years_employed'] > 1000].count()[0])"
   ]
  },
  {
   "cell_type": "markdown",
   "metadata": {
    "datalore": {
     "hide_input_from_viewers": false,
     "hide_output_from_viewers": false,
     "node_id": "5nmT6vcvgBkiCZ5rUbfcUO",
     "type": "MD"
    }
   },
   "source": [
    "Больше половины клиентов банка имеют невероятный стаж, что может быть как ошибкой ввода, так и ошибкой расчета сотрудника. Как решить данное искажение я пока не имею идей. По возможности спросила бы совета.\n",
    "\n",
    "<div class=\"alert alert-info\">\n",
    "<b> Upd. </b>Всё равно 25% клиентов имеют завышенный стаж, что несомненно лучше, чем половина, но все равно не так приятно. Мне кажестя такое возможно, если человек в какой-то период жизни работал на нескольких работах, например журналистом в нескольких изданиях, и эти трудовые стажи сложились. \n",
    "Есть два варианта решенния проблемы в таком случае:\n",
    "    \n",
    "1) разделить на 10 значения стажа, если сотрудник действительно ошибся при заполнении;\n",
    "\n",
    "2) заменить таким клиентам стаж на максимально возможный, т.е. вычесть из их возраста 16, как возраст с которого можно официально работать.\n",
    "    \n",
    "<b>Здесь тоже считаю уместным спросить совета как лучше поступить)</b>\n",
    " \n",
    "</div>"
   ]
  },
  {
   "cell_type": "markdown",
   "metadata": {},
   "source": [
    "<div class=\"alert alert-block alert-danger\">\n",
    "<h2> Комментарий ревьюера <a class=\"tocSkip\"></h2>\n",
    "\n",
    "<b>На доработку🤔:</b> Думаю, что оптимальным решением будет найти порог, более которого ты все значения разделишь на 10. Скорее всего при заполнении произошла ошибка, сотрудник забыл поставить точку"
   ]
  },
  {
   "cell_type": "markdown",
   "metadata": {},
   "source": [
    "<div class=\"alert alert-success\">\n",
    "<h2> Комментарий ревьюера v2 <a class=\"tocSkip\"> </h2>\n",
    "\n",
    "<b>Все супер!👍:</b> Хм, интересно, да. Думаю, что второй вариант будет оптимальнее"
   ]
  },
  {
   "cell_type": "markdown",
   "metadata": {
    "datalore": {
     "hide_input_from_viewers": false,
     "hide_output_from_viewers": false,
     "node_id": "yLgqwNj5LsVyXwAsWIKZ1I",
     "type": "MD"
    }
   },
   "source": [
    "#### *Замена типа данных*\n",
    "Месячную зарплату `monthly_income` и стаж в днях `days_employed` переводим в `int`, так же кажется уместным заменить стаж по дням на годовой стаж.\n",
    "Используем функцию `astype`, т.к. столбцы у нас имеют чистый формат `float64`, т.е. перевод в `int` будет безопасным. \n",
    "<div class=\"alert alert-info\">\n",
    "<b> </b> Upd. Стаж из дней в года теперь переведен чуть раньше.\n",
    "</div>"
   ]
  },
  {
   "cell_type": "code",
   "execution_count": 20,
   "metadata": {
    "datalore": {
     "hide_input_from_viewers": false,
     "hide_output_from_viewers": false,
     "node_id": "WoDvoO9tYKPfdCc9n9A6LU",
     "type": "CODE"
    }
   },
   "outputs": [
    {
     "data": {
      "text/plain": "   children  years_employed  dob_years education  education_id  \\\n0         1              23         42    высшее             0   \n1         1              11         36   среднее             1   \n2         0              15         33   Среднее             1   \n3         3              11         32   среднее             1   \n4         0              93         53   среднее             1   \n\n      family_status  family_status_id gender type_of_employment  credit_debt  \\\n0   женат / замужем                 0      F          сотрудник            0   \n1   женат / замужем                 0      F          сотрудник            0   \n2   женат / замужем                 0      M          сотрудник            0   \n3   женат / замужем                 0      M          сотрудник            0   \n4  гражданский брак                 1      F          пенсионер            0   \n\n   monthly_income                     purpose  \n0          253875               покупка жилья  \n1          112080     приобретение автомобиля  \n2          145885               покупка жилья  \n3          267628  дополнительное образование  \n4          158616             сыграть свадьбу  ",
      "text/html": "<div>\n<style scoped>\n    .dataframe tbody tr th:only-of-type {\n        vertical-align: middle;\n    }\n\n    .dataframe tbody tr th {\n        vertical-align: top;\n    }\n\n    .dataframe thead th {\n        text-align: right;\n    }\n</style>\n<table border=\"1\" class=\"dataframe\">\n  <thead>\n    <tr style=\"text-align: right;\">\n      <th></th>\n      <th>children</th>\n      <th>years_employed</th>\n      <th>dob_years</th>\n      <th>education</th>\n      <th>education_id</th>\n      <th>family_status</th>\n      <th>family_status_id</th>\n      <th>gender</th>\n      <th>type_of_employment</th>\n      <th>credit_debt</th>\n      <th>monthly_income</th>\n      <th>purpose</th>\n    </tr>\n  </thead>\n  <tbody>\n    <tr>\n      <th>0</th>\n      <td>1</td>\n      <td>23</td>\n      <td>42</td>\n      <td>высшее</td>\n      <td>0</td>\n      <td>женат / замужем</td>\n      <td>0</td>\n      <td>F</td>\n      <td>сотрудник</td>\n      <td>0</td>\n      <td>253875</td>\n      <td>покупка жилья</td>\n    </tr>\n    <tr>\n      <th>1</th>\n      <td>1</td>\n      <td>11</td>\n      <td>36</td>\n      <td>среднее</td>\n      <td>1</td>\n      <td>женат / замужем</td>\n      <td>0</td>\n      <td>F</td>\n      <td>сотрудник</td>\n      <td>0</td>\n      <td>112080</td>\n      <td>приобретение автомобиля</td>\n    </tr>\n    <tr>\n      <th>2</th>\n      <td>0</td>\n      <td>15</td>\n      <td>33</td>\n      <td>Среднее</td>\n      <td>1</td>\n      <td>женат / замужем</td>\n      <td>0</td>\n      <td>M</td>\n      <td>сотрудник</td>\n      <td>0</td>\n      <td>145885</td>\n      <td>покупка жилья</td>\n    </tr>\n    <tr>\n      <th>3</th>\n      <td>3</td>\n      <td>11</td>\n      <td>32</td>\n      <td>среднее</td>\n      <td>1</td>\n      <td>женат / замужем</td>\n      <td>0</td>\n      <td>M</td>\n      <td>сотрудник</td>\n      <td>0</td>\n      <td>267628</td>\n      <td>дополнительное образование</td>\n    </tr>\n    <tr>\n      <th>4</th>\n      <td>0</td>\n      <td>93</td>\n      <td>53</td>\n      <td>среднее</td>\n      <td>1</td>\n      <td>гражданский брак</td>\n      <td>1</td>\n      <td>F</td>\n      <td>пенсионер</td>\n      <td>0</td>\n      <td>158616</td>\n      <td>сыграть свадьбу</td>\n    </tr>\n  </tbody>\n</table>\n</div>"
     },
     "execution_count": 20,
     "metadata": {},
     "output_type": "execute_result"
    }
   ],
   "source": [
    "client_data['years_employed'] = client_data['years_employed'].astype('int64')\n",
    "client_data['monthly_income'] = client_data['monthly_income'].astype('int64')\n",
    "client_data.head()"
   ]
  },
  {
   "cell_type": "code",
   "execution_count": 21,
   "metadata": {
    "datalore": {
     "hide_input_from_viewers": false,
     "hide_output_from_viewers": false,
     "node_id": "ZmYRnYUZ5ZB0RjU8kIH64h",
     "type": "CODE"
    }
   },
   "outputs": [
    {
     "name": "stdout",
     "output_type": "stream",
     "text": [
      "<class 'pandas.core.frame.DataFrame'>\n",
      "Int64Index: 21449 entries, 0 to 21524\n",
      "Data columns (total 12 columns):\n",
      " #   Column              Non-Null Count  Dtype \n",
      "---  ------              --------------  ----- \n",
      " 0   children            21449 non-null  int64 \n",
      " 1   years_employed      21449 non-null  int64 \n",
      " 2   dob_years           21449 non-null  int64 \n",
      " 3   education           21449 non-null  object\n",
      " 4   education_id        21449 non-null  int64 \n",
      " 5   family_status       21449 non-null  object\n",
      " 6   family_status_id    21449 non-null  int64 \n",
      " 7   gender              21449 non-null  object\n",
      " 8   type_of_employment  21449 non-null  object\n",
      " 9   credit_debt         21449 non-null  int64 \n",
      " 10  monthly_income      21449 non-null  int64 \n",
      " 11  purpose             21449 non-null  object\n",
      "dtypes: int64(7), object(5)\n",
      "memory usage: 2.6+ MB\n"
     ]
    }
   ],
   "source": [
    "client_data.info()"
   ]
  },
  {
   "cell_type": "markdown",
   "metadata": {
    "datalore": {
     "hide_input_from_viewers": false,
     "hide_output_from_viewers": false,
     "node_id": "xF6XQ0wV8ZtSzA7IYh7IiY",
     "type": "MD"
    }
   },
   "source": [
    "Все данные представлены в довольно удобном формате. Месячную зарплату и стаж перевели в 'int', чтобы видеть целочисленные значения. В остальном типы данных везде выглядят хорошо."
   ]
  },
  {
   "cell_type": "markdown",
   "metadata": {},
   "source": [
    "<div class=\"alert alert-success\">\n",
    "<h2> Комментарий ревьюера <a class=\"tocSkip\"> </h2>\n",
    "\n",
    "<b>Все супер!👍:</b> Верно, молодец"
   ]
  },
  {
   "cell_type": "code",
   "execution_count": 22,
   "metadata": {},
   "outputs": [
    {
     "data": {
      "text/plain": "           children  years_employed     dob_years  education_id  \\\ncount  21449.000000    2.144900e+04  21449.000000  21449.000000   \nmean       0.472143    4.895947e+04     43.499371      0.817148   \nstd        0.751339    2.964910e+05     12.234339      0.548507   \nmin        0.000000    0.000000e+00     19.000000      0.000000   \n25%        0.000000    2.000000e+00     34.000000      1.000000   \n50%        0.000000    7.000000e+00     43.000000      1.000000   \n75%        1.000000    9.100000e+01     53.000000      1.000000   \nmax        5.000000    2.664587e+06     75.000000      4.000000   \n\n       family_status_id   credit_debt  monthly_income  \ncount      21449.000000  21449.000000    2.144900e+04  \nmean           0.973099      0.080796    1.652211e+05  \nstd            1.420521      0.272528    9.811308e+04  \nmin            0.000000      0.000000    2.066700e+04  \n25%            0.000000      0.000000    1.077720e+05  \n50%            0.000000      0.000000    1.425940e+05  \n75%            1.000000      0.000000    1.955370e+05  \nmax            4.000000      1.000000    2.265604e+06  ",
      "text/html": "<div>\n<style scoped>\n    .dataframe tbody tr th:only-of-type {\n        vertical-align: middle;\n    }\n\n    .dataframe tbody tr th {\n        vertical-align: top;\n    }\n\n    .dataframe thead th {\n        text-align: right;\n    }\n</style>\n<table border=\"1\" class=\"dataframe\">\n  <thead>\n    <tr style=\"text-align: right;\">\n      <th></th>\n      <th>children</th>\n      <th>years_employed</th>\n      <th>dob_years</th>\n      <th>education_id</th>\n      <th>family_status_id</th>\n      <th>credit_debt</th>\n      <th>monthly_income</th>\n    </tr>\n  </thead>\n  <tbody>\n    <tr>\n      <th>count</th>\n      <td>21449.000000</td>\n      <td>2.144900e+04</td>\n      <td>21449.000000</td>\n      <td>21449.000000</td>\n      <td>21449.000000</td>\n      <td>21449.000000</td>\n      <td>2.144900e+04</td>\n    </tr>\n    <tr>\n      <th>mean</th>\n      <td>0.472143</td>\n      <td>4.895947e+04</td>\n      <td>43.499371</td>\n      <td>0.817148</td>\n      <td>0.973099</td>\n      <td>0.080796</td>\n      <td>1.652211e+05</td>\n    </tr>\n    <tr>\n      <th>std</th>\n      <td>0.751339</td>\n      <td>2.964910e+05</td>\n      <td>12.234339</td>\n      <td>0.548507</td>\n      <td>1.420521</td>\n      <td>0.272528</td>\n      <td>9.811308e+04</td>\n    </tr>\n    <tr>\n      <th>min</th>\n      <td>0.000000</td>\n      <td>0.000000e+00</td>\n      <td>19.000000</td>\n      <td>0.000000</td>\n      <td>0.000000</td>\n      <td>0.000000</td>\n      <td>2.066700e+04</td>\n    </tr>\n    <tr>\n      <th>25%</th>\n      <td>0.000000</td>\n      <td>2.000000e+00</td>\n      <td>34.000000</td>\n      <td>1.000000</td>\n      <td>0.000000</td>\n      <td>0.000000</td>\n      <td>1.077720e+05</td>\n    </tr>\n    <tr>\n      <th>50%</th>\n      <td>0.000000</td>\n      <td>7.000000e+00</td>\n      <td>43.000000</td>\n      <td>1.000000</td>\n      <td>0.000000</td>\n      <td>0.000000</td>\n      <td>1.425940e+05</td>\n    </tr>\n    <tr>\n      <th>75%</th>\n      <td>1.000000</td>\n      <td>9.100000e+01</td>\n      <td>53.000000</td>\n      <td>1.000000</td>\n      <td>1.000000</td>\n      <td>0.000000</td>\n      <td>1.955370e+05</td>\n    </tr>\n    <tr>\n      <th>max</th>\n      <td>5.000000</td>\n      <td>2.664587e+06</td>\n      <td>75.000000</td>\n      <td>4.000000</td>\n      <td>4.000000</td>\n      <td>1.000000</td>\n      <td>2.265604e+06</td>\n    </tr>\n  </tbody>\n</table>\n</div>"
     },
     "execution_count": 22,
     "metadata": {},
     "output_type": "execute_result"
    }
   ],
   "source": [
    "client_data.describe()"
   ]
  },
  {
   "cell_type": "markdown",
   "metadata": {},
   "source": [
    "<div class=\"alert alert-info\">\n",
    "<b> После изучения указанных тобой замечаний подумала, что перед тем как делить клиентов на категории, неплохо бы еще раз поглядеть на то, чем наполнен датафрейм)</b> \n",
    "\n",
    "2 миллиона лет стажа у кого-то, этот человек явно очень ценный сотрудник. \n",
    "\n",
    "Но важнее другое. Доходы распределены немного иначе, чем те категории, что применены чуть ниже. Возможно новое распределение доходов должно быть примерно таким:\n",
    "    - до 60 000;    \n",
    "    - до 120 000;  \n",
    "    - до 180 000;  \n",
    "    - больше 180 000.\n",
    "\n",
    "Такие категории близки к равномерному распределению и выглядят похожими на жизненные.\n",
    "\n",
    "</div>"
   ]
  },
  {
   "cell_type": "markdown",
   "metadata": {},
   "source": [
    "<div class=\"alert alert-success\">\n",
    "<h2> Комментарий ревьюера v2 <a class=\"tocSkip\"> </h2>\n",
    "\n",
    "<b>Все супер!👍:</b> Так было бы точно лучше разделить данные. Хорошая работа!"
   ]
  },
  {
   "cell_type": "markdown",
   "metadata": {
    "datalore": {
     "hide_input_from_viewers": false,
     "hide_output_from_viewers": false,
     "node_id": "wEtRtEj2l0QTGRmH9NPKh9",
     "type": "MD"
    }
   },
   "source": [
    "#### *Обработка дубликатов*\n",
    "В этом блоке необходимо почистить данные от повторяющихся значений. Если в данных присутствуют строки-дубликаты, необходимо удалить их. Также нужно проверить таблицу на неявные дубликаты."
   ]
  },
  {
   "cell_type": "code",
   "execution_count": 23,
   "metadata": {
    "datalore": {
     "hide_input_from_viewers": false,
     "hide_output_from_viewers": false,
     "node_id": "UY12XqKqPmhLSK5ZHBjJpv",
     "type": "CODE"
    }
   },
   "outputs": [
    {
     "name": "stdout",
     "output_type": "stream",
     "text": [
      "В таблице есть 54 одинаковых строки.\n"
     ]
    }
   ],
   "source": [
    "# Подсчет явных дубликатов в таблице\n",
    "print('В таблице есть {0} одинаковых строки.'.format(client_data.duplicated().sum()))"
   ]
  },
  {
   "cell_type": "code",
   "execution_count": 24,
   "metadata": {
    "datalore": {
     "hide_input_from_viewers": false,
     "hide_output_from_viewers": false,
     "node_id": "fkISQorS9tNpkWglgxI7zX",
     "type": "CODE"
    }
   },
   "outputs": [],
   "source": [
    "# Удаление явных дубликатов\n",
    "client_data.drop_duplicates(inplace=True, ignore_index= True)"
   ]
  },
  {
   "cell_type": "markdown",
   "metadata": {
    "datalore": {
     "hide_input_from_viewers": false,
     "hide_output_from_viewers": false,
     "node_id": "yEAGAgUmrYyfPoFbBZaMgz",
     "type": "MD"
    }
   },
   "source": [
    "Проверим столбцы с текстом на неявные дубликаты."
   ]
  },
  {
   "cell_type": "code",
   "execution_count": 25,
   "metadata": {
    "datalore": {
     "hide_input_from_viewers": false,
     "hide_output_from_viewers": false,
     "node_id": "NWglZMW2fjd20eE7t32v5c",
     "type": "CODE"
    }
   },
   "outputs": [
    {
     "name": "stdout",
     "output_type": "stream",
     "text": [
      "Уникальные значения столбца 'education' ['ВЫСШЕЕ' 'Высшее' 'НАЧАЛЬНОЕ' 'НЕОКОНЧЕННОЕ ВЫСШЕЕ' 'Начальное'\n",
      " 'Неоконченное высшее' 'СРЕДНЕЕ' 'Среднее' 'УЧЕНАЯ СТЕПЕНЬ'\n",
      " 'Ученая степень' 'высшее' 'начальное' 'неоконченное высшее' 'среднее'\n",
      " 'ученая степень']\n",
      "Уникальные значения столбца 'family_status' ['Не женат / не замужем' 'в разводе' 'вдовец / вдова' 'гражданский брак'\n",
      " 'женат / замужем']\n",
      "Уникальные значения столбца 'gender' ['F' 'M' 'XNA']\n",
      "Уникальные значения столбца 'type_of_employment' ['безработный' 'в декрете' 'госслужащий' 'компаньон' 'пенсионер'\n",
      " 'предприниматель' 'сотрудник' 'студент']\n",
      "Уникальные значения столбца 'purpose' ['автомобили' 'автомобиль' 'высшее образование'\n",
      " 'дополнительное образование' 'жилье' 'заняться высшим образованием'\n",
      " 'заняться образованием' 'на покупку автомобиля'\n",
      " 'на покупку подержанного автомобиля' 'на покупку своего автомобиля'\n",
      " 'на проведение свадьбы' 'недвижимость' 'образование' 'операции с жильем'\n",
      " 'операции с коммерческой недвижимостью' 'операции с недвижимостью'\n",
      " 'операции со своей недвижимостью' 'покупка жилой недвижимости'\n",
      " 'покупка жилья' 'покупка жилья для сдачи' 'покупка жилья для семьи'\n",
      " 'покупка коммерческой недвижимости' 'покупка недвижимости'\n",
      " 'покупка своего жилья' 'получение высшего образования'\n",
      " 'получение дополнительного образования' 'получение образования'\n",
      " 'приобретение автомобиля' 'профильное образование' 'ремонт жилью'\n",
      " 'свадьба' 'свой автомобиль' 'сделка с автомобилем'\n",
      " 'сделка с подержанным автомобилем' 'строительство жилой недвижимости'\n",
      " 'строительство недвижимости' 'строительство собственной недвижимости'\n",
      " 'сыграть свадьбу']\n"
     ]
    }
   ],
   "source": [
    "print('Уникальные значения столбца \\'education\\'', client_data['education'].sort_values().unique())\n",
    "print('Уникальные значения столбца \\'family_status\\'', client_data['family_status'].sort_values().unique())\n",
    "print('Уникальные значения столбца \\'gender\\'', client_data['gender'].sort_values().unique())\n",
    "print('Уникальные значения столбца \\'type_of_employment\\'', client_data['type_of_employment'].sort_values().unique())\n",
    "print('Уникальные значения столбца \\'purpose\\'', client_data['purpose'].sort_values().unique())"
   ]
  },
  {
   "cell_type": "markdown",
   "metadata": {
    "datalore": {
     "hide_input_from_viewers": false,
     "hide_output_from_viewers": false,
     "node_id": "t8DK4dTMjSNtzJbAOybLd3",
     "type": "MD"
    }
   },
   "source": [
    "**Наблюдение 4** : \n",
    "1. Уникальные значения столбца `education` отличаются только регистром.\n",
    "2. Уникальные значения столбца `family_status` не нуждаются в корректировке.\n",
    "3. Уникальные значения столбца `gender` содержит некоторое количество пропущенных значений, возможно эти пропуски не влияют на качество данных.\n",
    "4. Уникальные значения столбца `type_of_employment` не нуждаются в корректировке.\n",
    "5. Уникальные значения столбца `purpose` имеют четыре основные категории, описанные разными словами.\n",
    "\n",
    "*Теория по наблюдению:* \n",
    "1. Для столбца `education` разумно использовать метод `.lower()`, чтобы привести значения к одному стилю.\n",
    "2. Значения столбца `family_status` не нуждаются в корректировке, но для общности данных тоже можно использовать метод `.lower()`.\n",
    "3. Значения столбца `gender` не нуждаются в корректировке.\n",
    "4. Значения столбца `type_of_employment` не нуждаются в корректировке.\n",
    "5. Уникальные значения столбца `purpose` очень разнородны и будет логичнее создать дополнительный столбец с обобщенными категориями."
   ]
  },
  {
   "cell_type": "code",
   "execution_count": 26,
   "metadata": {
    "datalore": {
     "hide_input_from_viewers": false,
     "hide_output_from_viewers": false,
     "node_id": "hAA0aKc9foohQVbacLzeND",
     "type": "CODE"
    }
   },
   "outputs": [
    {
     "data": {
      "text/plain": "   children  years_employed  dob_years education  education_id  \\\n0         1              23         42    высшее             0   \n1         1              11         36   среднее             1   \n2         0              15         33   среднее             1   \n3         3              11         32   среднее             1   \n4         0              93         53   среднее             1   \n\n      family_status  family_status_id gender type_of_employment  credit_debt  \\\n0   женат / замужем                 0      F          сотрудник            0   \n1   женат / замужем                 0      F          сотрудник            0   \n2   женат / замужем                 0      M          сотрудник            0   \n3   женат / замужем                 0      M          сотрудник            0   \n4  гражданский брак                 1      F          пенсионер            0   \n\n   monthly_income                     purpose  \n0          253875               покупка жилья  \n1          112080     приобретение автомобиля  \n2          145885               покупка жилья  \n3          267628  дополнительное образование  \n4          158616             сыграть свадьбу  ",
      "text/html": "<div>\n<style scoped>\n    .dataframe tbody tr th:only-of-type {\n        vertical-align: middle;\n    }\n\n    .dataframe tbody tr th {\n        vertical-align: top;\n    }\n\n    .dataframe thead th {\n        text-align: right;\n    }\n</style>\n<table border=\"1\" class=\"dataframe\">\n  <thead>\n    <tr style=\"text-align: right;\">\n      <th></th>\n      <th>children</th>\n      <th>years_employed</th>\n      <th>dob_years</th>\n      <th>education</th>\n      <th>education_id</th>\n      <th>family_status</th>\n      <th>family_status_id</th>\n      <th>gender</th>\n      <th>type_of_employment</th>\n      <th>credit_debt</th>\n      <th>monthly_income</th>\n      <th>purpose</th>\n    </tr>\n  </thead>\n  <tbody>\n    <tr>\n      <th>0</th>\n      <td>1</td>\n      <td>23</td>\n      <td>42</td>\n      <td>высшее</td>\n      <td>0</td>\n      <td>женат / замужем</td>\n      <td>0</td>\n      <td>F</td>\n      <td>сотрудник</td>\n      <td>0</td>\n      <td>253875</td>\n      <td>покупка жилья</td>\n    </tr>\n    <tr>\n      <th>1</th>\n      <td>1</td>\n      <td>11</td>\n      <td>36</td>\n      <td>среднее</td>\n      <td>1</td>\n      <td>женат / замужем</td>\n      <td>0</td>\n      <td>F</td>\n      <td>сотрудник</td>\n      <td>0</td>\n      <td>112080</td>\n      <td>приобретение автомобиля</td>\n    </tr>\n    <tr>\n      <th>2</th>\n      <td>0</td>\n      <td>15</td>\n      <td>33</td>\n      <td>среднее</td>\n      <td>1</td>\n      <td>женат / замужем</td>\n      <td>0</td>\n      <td>M</td>\n      <td>сотрудник</td>\n      <td>0</td>\n      <td>145885</td>\n      <td>покупка жилья</td>\n    </tr>\n    <tr>\n      <th>3</th>\n      <td>3</td>\n      <td>11</td>\n      <td>32</td>\n      <td>среднее</td>\n      <td>1</td>\n      <td>женат / замужем</td>\n      <td>0</td>\n      <td>M</td>\n      <td>сотрудник</td>\n      <td>0</td>\n      <td>267628</td>\n      <td>дополнительное образование</td>\n    </tr>\n    <tr>\n      <th>4</th>\n      <td>0</td>\n      <td>93</td>\n      <td>53</td>\n      <td>среднее</td>\n      <td>1</td>\n      <td>гражданский брак</td>\n      <td>1</td>\n      <td>F</td>\n      <td>пенсионер</td>\n      <td>0</td>\n      <td>158616</td>\n      <td>сыграть свадьбу</td>\n    </tr>\n  </tbody>\n</table>\n</div>"
     },
     "execution_count": 26,
     "metadata": {},
     "output_type": "execute_result"
    }
   ],
   "source": [
    "# Удаление неявных дубликатов\n",
    "client_data['education'] = client_data['education'].str.lower()\n",
    "client_data['family_status'] = client_data['family_status'].str.lower()\n",
    "client_data.head()"
   ]
  },
  {
   "cell_type": "markdown",
   "metadata": {},
   "source": [
    "<div class=\"alert alert-success\">\n",
    "<h2> Комментарий ревьюера <a class=\"tocSkip\"> </h2>\n",
    "\n",
    "<b>Все супер!👍:</b> Согласен, молодец!"
   ]
  },
  {
   "cell_type": "markdown",
   "metadata": {
    "datalore": {
     "hide_input_from_viewers": false,
     "hide_output_from_viewers": false,
     "node_id": "JbO8bU8sKEhihN7ABmIKfl",
     "type": "MD"
    }
   },
   "source": [
    "#### *Категоризация данных*\n",
    "\n",
    "Создадим два новых датафрейма со столбцами:\n",
    "- `education_id` и `education` — в первом;\n",
    "- `family_status_id` и `family_status` — во втором.\n",
    "\n",
    "Удалим из исходного датафрейма столбцы education и family_status, оставив только их идентификаторы: `education_id` и `family_status_id`. "
   ]
  },
  {
   "cell_type": "code",
   "execution_count": 27,
   "metadata": {
    "datalore": {
     "hide_input_from_viewers": false,
     "hide_output_from_viewers": false,
     "node_id": "FNcwipI6qOL6Vjmm2qE8ak",
     "type": "CODE"
    }
   },
   "outputs": [],
   "source": [
    "# Создание двух вспомогательных словарей\n",
    "education_dict = client_data[['education', 'education_id']]\n",
    "family_status_dict = client_data[['family_status', 'family_status_id']]\n",
    "# Удаление ненужных столбцов\n",
    "client_data = client_data.drop('education', axis=1)\n",
    "client_data = client_data.drop('family_status', axis=1)"
   ]
  },
  {
   "cell_type": "markdown",
   "metadata": {
    "datalore": {
     "hide_input_from_viewers": false,
     "hide_output_from_viewers": false,
     "node_id": "cyQ9nmDtEAq4p8ZHyQK26y",
     "type": "MD"
    }
   },
   "source": [
    "На основании диапазонов, указанных ниже, создадим столбец `total_income_category` с категориями:\n",
    "- 0–30000 — 'E';\n",
    "- 30001–50000 — 'D';\n",
    "- 50001–200000 — 'C';\n",
    "- 200001–1000000 — 'B';\n",
    "- 1000001 и выше — 'A'.\n",
    "\n",
    "Например, кредитополучателю с доходом 25000 нужно назначить категорию 'E', а клиенту, получающему 235000, — 'B'."
   ]
  },
  {
   "cell_type": "code",
   "execution_count": 28,
   "metadata": {
    "datalore": {
     "hide_input_from_viewers": false,
     "hide_output_from_viewers": false,
     "node_id": "xdrWleZKJ545kaFo0ISY79",
     "type": "CODE"
    }
   },
   "outputs": [],
   "source": [
    "def categorize_income(row):\n",
    "    monthly_income = row['monthly_income']\n",
    "    if  monthly_income <= 30000:\n",
    "        return 'E'\n",
    "    elif 30000 < monthly_income <= 50000:\n",
    "        return 'D'\n",
    "    elif 50000 < monthly_income <= 200000:\n",
    "        return 'C'\n",
    "    elif 200000 < monthly_income <= 1000000:\n",
    "        return 'B'\n",
    "    else:\n",
    "        return 'A'"
   ]
  },
  {
   "cell_type": "markdown",
   "metadata": {
    "datalore": {
     "hide_input_from_viewers": false,
     "hide_output_from_viewers": false,
     "node_id": "8qEICcVulcE4opYXMVRg0X",
     "type": "MD"
    }
   },
   "source": [
    "Создадим функцию, которая на основании данных из столбца `purpose` сформирует новый столбец purpose_category, в который войдут следующие категории:\n",
    "- ‘операции с автомобилем’,\n",
    "- ‘операции с недвижимостью’,\n",
    "- ‘проведение свадьбы’,\n",
    "- ‘получение образования’.\n",
    "\n",
    "А так же функцию, которая разделит клиентов на тех у кого нет детей, тех у кого 1-2 ребенка и многодетных."
   ]
  },
  {
   "cell_type": "code",
   "execution_count": 29,
   "metadata": {
    "datalore": {
     "hide_input_from_viewers": false,
     "hide_output_from_viewers": false,
     "node_id": "YrsYzKcCCA7Tot1IFVq7Qq",
     "type": "CODE"
    }
   },
   "outputs": [],
   "source": [
    "# Списки неявных дубликатов для основных категорий целей кредитов\n",
    "def categorize_purpose(row):\n",
    "    purpose = row['purpose']\n",
    "    car_operations = 'автомоб'\n",
    "    conducting_a_wedding = 'свадьб'\n",
    "    getting_an_education = 'образован'\n",
    "    purpose_category = ['операции с автомобилем', 'операции с недвижимостью', 'получение образования',\n",
    "                        'проведение свадьбы']\n",
    "    if car_operations in purpose:\n",
    "        return str(purpose_category[0])\n",
    "    elif getting_an_education in purpose:\n",
    "        return str(purpose_category[2])\n",
    "    elif conducting_a_wedding in purpose:\n",
    "        return str(purpose_category[3])\n",
    "    else:\n",
    "        return str(purpose_category[1])"
   ]
  },
  {
   "cell_type": "code",
   "execution_count": 30,
   "metadata": {
    "datalore": {
     "hide_input_from_viewers": false,
     "hide_output_from_viewers": false,
     "node_id": "TQwYIkoIrrZejfF23mwjOw",
     "type": "CODE"
    }
   },
   "outputs": [],
   "source": [
    "# Категории клиентов по количеству детей\n",
    "def categorize_children(row):\n",
    "    if row['children'] == 0:\n",
    "        return 'нет детей'\n",
    "    elif 1 <= row['children'] <= 2:\n",
    "        return '1-2 ребенка'\n",
    "    else:\n",
    "        return 'многодетные'"
   ]
  },
  {
   "cell_type": "code",
   "execution_count": 31,
   "metadata": {
    "datalore": {
     "hide_input_from_viewers": false,
     "hide_output_from_viewers": false,
     "node_id": "dtV60lvCcPmMMSVNmiJiPs",
     "type": "CODE"
    }
   },
   "outputs": [],
   "source": [
    "client_data['monthly_income_category'] = client_data.apply(categorize_income, axis=1)\n",
    "client_data['purpose_category'] = client_data.apply(categorize_purpose, axis=1)\n",
    "client_data['children_category'] = client_data.apply(categorize_children, axis=1)"
   ]
  },
  {
   "cell_type": "code",
   "execution_count": 32,
   "metadata": {
    "datalore": {
     "hide_input_from_viewers": false,
     "hide_output_from_viewers": false,
     "node_id": "ZcjnqwNtyEkMjqUn06zrME",
     "type": "CODE"
    }
   },
   "outputs": [
    {
     "data": {
      "text/plain": "   children  years_employed  dob_years  education_id  family_status_id gender  \\\n0         1              23         42             0                 0      F   \n1         1              11         36             1                 0      F   \n2         0              15         33             1                 0      M   \n3         3              11         32             1                 0      M   \n4         0              93         53             1                 1      F   \n5         0               2         27             0                 1      M   \n6         0               7         43             0                 0      F   \n7         0               0         50             1                 0      M   \n8         2              18         35             0                 1      F   \n9         0               5         41             1                 0      M   \n\n  type_of_employment  credit_debt  monthly_income                     purpose  \\\n0          сотрудник            0          253875               покупка жилья   \n1          сотрудник            0          112080     приобретение автомобиля   \n2          сотрудник            0          145885               покупка жилья   \n3          сотрудник            0          267628  дополнительное образование   \n4          пенсионер            0          158616             сыграть свадьбу   \n5          компаньон            0          255763               покупка жилья   \n6          компаньон            0          240525           операции с жильем   \n7          сотрудник            0          135823                 образование   \n8          сотрудник            0           95856       на проведение свадьбы   \n9          сотрудник            0          144425     покупка жилья для семьи   \n\n  monthly_income_category          purpose_category children_category  \n0                       B  операции с недвижимостью       1-2 ребенка  \n1                       C    операции с автомобилем       1-2 ребенка  \n2                       C  операции с недвижимостью         нет детей  \n3                       B     получение образования       многодетные  \n4                       C        проведение свадьбы         нет детей  \n5                       B  операции с недвижимостью         нет детей  \n6                       B  операции с недвижимостью         нет детей  \n7                       C     получение образования         нет детей  \n8                       C        проведение свадьбы       1-2 ребенка  \n9                       C  операции с недвижимостью         нет детей  ",
      "text/html": "<div>\n<style scoped>\n    .dataframe tbody tr th:only-of-type {\n        vertical-align: middle;\n    }\n\n    .dataframe tbody tr th {\n        vertical-align: top;\n    }\n\n    .dataframe thead th {\n        text-align: right;\n    }\n</style>\n<table border=\"1\" class=\"dataframe\">\n  <thead>\n    <tr style=\"text-align: right;\">\n      <th></th>\n      <th>children</th>\n      <th>years_employed</th>\n      <th>dob_years</th>\n      <th>education_id</th>\n      <th>family_status_id</th>\n      <th>gender</th>\n      <th>type_of_employment</th>\n      <th>credit_debt</th>\n      <th>monthly_income</th>\n      <th>purpose</th>\n      <th>monthly_income_category</th>\n      <th>purpose_category</th>\n      <th>children_category</th>\n    </tr>\n  </thead>\n  <tbody>\n    <tr>\n      <th>0</th>\n      <td>1</td>\n      <td>23</td>\n      <td>42</td>\n      <td>0</td>\n      <td>0</td>\n      <td>F</td>\n      <td>сотрудник</td>\n      <td>0</td>\n      <td>253875</td>\n      <td>покупка жилья</td>\n      <td>B</td>\n      <td>операции с недвижимостью</td>\n      <td>1-2 ребенка</td>\n    </tr>\n    <tr>\n      <th>1</th>\n      <td>1</td>\n      <td>11</td>\n      <td>36</td>\n      <td>1</td>\n      <td>0</td>\n      <td>F</td>\n      <td>сотрудник</td>\n      <td>0</td>\n      <td>112080</td>\n      <td>приобретение автомобиля</td>\n      <td>C</td>\n      <td>операции с автомобилем</td>\n      <td>1-2 ребенка</td>\n    </tr>\n    <tr>\n      <th>2</th>\n      <td>0</td>\n      <td>15</td>\n      <td>33</td>\n      <td>1</td>\n      <td>0</td>\n      <td>M</td>\n      <td>сотрудник</td>\n      <td>0</td>\n      <td>145885</td>\n      <td>покупка жилья</td>\n      <td>C</td>\n      <td>операции с недвижимостью</td>\n      <td>нет детей</td>\n    </tr>\n    <tr>\n      <th>3</th>\n      <td>3</td>\n      <td>11</td>\n      <td>32</td>\n      <td>1</td>\n      <td>0</td>\n      <td>M</td>\n      <td>сотрудник</td>\n      <td>0</td>\n      <td>267628</td>\n      <td>дополнительное образование</td>\n      <td>B</td>\n      <td>получение образования</td>\n      <td>многодетные</td>\n    </tr>\n    <tr>\n      <th>4</th>\n      <td>0</td>\n      <td>93</td>\n      <td>53</td>\n      <td>1</td>\n      <td>1</td>\n      <td>F</td>\n      <td>пенсионер</td>\n      <td>0</td>\n      <td>158616</td>\n      <td>сыграть свадьбу</td>\n      <td>C</td>\n      <td>проведение свадьбы</td>\n      <td>нет детей</td>\n    </tr>\n    <tr>\n      <th>5</th>\n      <td>0</td>\n      <td>2</td>\n      <td>27</td>\n      <td>0</td>\n      <td>1</td>\n      <td>M</td>\n      <td>компаньон</td>\n      <td>0</td>\n      <td>255763</td>\n      <td>покупка жилья</td>\n      <td>B</td>\n      <td>операции с недвижимостью</td>\n      <td>нет детей</td>\n    </tr>\n    <tr>\n      <th>6</th>\n      <td>0</td>\n      <td>7</td>\n      <td>43</td>\n      <td>0</td>\n      <td>0</td>\n      <td>F</td>\n      <td>компаньон</td>\n      <td>0</td>\n      <td>240525</td>\n      <td>операции с жильем</td>\n      <td>B</td>\n      <td>операции с недвижимостью</td>\n      <td>нет детей</td>\n    </tr>\n    <tr>\n      <th>7</th>\n      <td>0</td>\n      <td>0</td>\n      <td>50</td>\n      <td>1</td>\n      <td>0</td>\n      <td>M</td>\n      <td>сотрудник</td>\n      <td>0</td>\n      <td>135823</td>\n      <td>образование</td>\n      <td>C</td>\n      <td>получение образования</td>\n      <td>нет детей</td>\n    </tr>\n    <tr>\n      <th>8</th>\n      <td>2</td>\n      <td>18</td>\n      <td>35</td>\n      <td>0</td>\n      <td>1</td>\n      <td>F</td>\n      <td>сотрудник</td>\n      <td>0</td>\n      <td>95856</td>\n      <td>на проведение свадьбы</td>\n      <td>C</td>\n      <td>проведение свадьбы</td>\n      <td>1-2 ребенка</td>\n    </tr>\n    <tr>\n      <th>9</th>\n      <td>0</td>\n      <td>5</td>\n      <td>41</td>\n      <td>1</td>\n      <td>0</td>\n      <td>M</td>\n      <td>сотрудник</td>\n      <td>0</td>\n      <td>144425</td>\n      <td>покупка жилья для семьи</td>\n      <td>C</td>\n      <td>операции с недвижимостью</td>\n      <td>нет детей</td>\n    </tr>\n  </tbody>\n</table>\n</div>"
     },
     "execution_count": 32,
     "metadata": {},
     "output_type": "execute_result"
    }
   ],
   "source": [
    "client_data.head(10)"
   ]
  },
  {
   "cell_type": "markdown",
   "metadata": {},
   "source": [
    "<div class=\"alert alert-success\">\n",
    "<h2> Комментарий ревьюера <a class=\"tocSkip\"> </h2>\n",
    "\n",
    "<b>Все супер!👍:</b> Хорошо!"
   ]
  },
  {
   "cell_type": "markdown",
   "metadata": {
    "datalore": {
     "hide_input_from_viewers": false,
     "hide_output_from_viewers": false,
     "node_id": "TLDpV69aLQVwsLXB3XlEhD",
     "type": "MD"
    }
   },
   "source": [
    "\n",
    "## Ответьте на вопросы\n",
    "Ответы на вопросы можно разместить в ячейках тетрадок Jupyter Notebook с типом markdown.\n",
    "- Есть ли зависимость между количеством детей и возвратом кредита в срок?\n",
    "- Есть ли зависимость между семейным положением и возвратом кредита в срок?\n",
    "- Есть ли зависимость между уровнем дохода и возвратом кредита в срок?\n",
    "- Как разные цели кредита влияют на его возврат в срок?\n",
    "\n",
    "Ответы сопроводите интерпретацией — поясните, о чём именно говорит полученный вами результат.\n",
    "\n",
    "Для ответа на вопрос о зависимости взаимосвязи количества детей и вероятностью возврата кредита построим сводную таблицу и посмотрим на полученные данные."
   ]
  },
  {
   "cell_type": "code",
   "execution_count": 33,
   "metadata": {
    "datalore": {
     "hide_input_from_viewers": false,
     "hide_output_from_viewers": false,
     "node_id": "qpp01RMPBqlPgAzLfwndxF",
     "type": "CODE"
    }
   },
   "outputs": [
    {
     "data": {
      "text/plain": "                         mean         len\n                  credit_debt credit_debt\nchildren_category                        \n1-2 ребенка          0.092989        6861\nмногодетные          0.081579         380\nнет детей            0.075173       14154",
      "text/html": "<div>\n<style scoped>\n    .dataframe tbody tr th:only-of-type {\n        vertical-align: middle;\n    }\n\n    .dataframe tbody tr th {\n        vertical-align: top;\n    }\n\n    .dataframe thead tr th {\n        text-align: left;\n    }\n\n    .dataframe thead tr:last-of-type th {\n        text-align: right;\n    }\n</style>\n<table border=\"1\" class=\"dataframe\">\n  <thead>\n    <tr>\n      <th></th>\n      <th>mean</th>\n      <th>len</th>\n    </tr>\n    <tr>\n      <th></th>\n      <th>credit_debt</th>\n      <th>credit_debt</th>\n    </tr>\n    <tr>\n      <th>children_category</th>\n      <th></th>\n      <th></th>\n    </tr>\n  </thead>\n  <tbody>\n    <tr>\n      <th>1-2 ребенка</th>\n      <td>0.092989</td>\n      <td>6861</td>\n    </tr>\n    <tr>\n      <th>многодетные</th>\n      <td>0.081579</td>\n      <td>380</td>\n    </tr>\n    <tr>\n      <th>нет детей</th>\n      <td>0.075173</td>\n      <td>14154</td>\n    </tr>\n  </tbody>\n</table>\n</div>"
     },
     "execution_count": 33,
     "metadata": {},
     "output_type": "execute_result"
    }
   ],
   "source": [
    "pd.pivot_table(client_data,\n",
    "               index=['children_category'], \n",
    "               values=['credit_debt'],\n",
    "               aggfunc=[np.mean, len])"
   ]
  },
  {
   "cell_type": "markdown",
   "metadata": {},
   "source": [
    "<div class=\"alert alert-warning\">\n",
    "    <h2> Комментарий ревьюера <a class=\"tocSkip\"> </h2>\n",
    "    \n",
    "<b>Небольшие замечания и рекомендации💡:</b> Верно. Хочу узнать, что ты думаешь по поводу категории многодетные. Можно ли по ней делать вывод, учитывая то, что в ней всего 380 случаев?"
   ]
  },
  {
   "cell_type": "markdown",
   "metadata": {},
   "source": [
    "<div class=\"alert alert-info\">\n",
    "<b></b> Спасибо за замечание, по ~2% клиентов действительно можно представить неверные результаты. Можно попробовать изменить категории на `нет детей`, `1 ребенок` и `несколько детей`, с одной стороны такое разделение должно помочь, ведь расходы на одного ребенка могут сильно отличаться от расходов на двоих и более детей, к тому же, по крайней мере из моего опыта, только 1/5 часть семей имеет больше одного ребенка. Можно проверить как изменятся показатели, создав дополнительную категорию с предложенным разделением.\n",
    "</div>"
   ]
  },
  {
   "cell_type": "code",
   "execution_count": 34,
   "metadata": {},
   "outputs": [
    {
     "data": {
      "text/plain": "                                 mean         len\n                          credit_debt credit_debt\nanother_children_category                        \n1 ребенок                    0.092327        4809\nмногодетные                  0.092516        2432\nнет детей                    0.075173       14154",
      "text/html": "<div>\n<style scoped>\n    .dataframe tbody tr th:only-of-type {\n        vertical-align: middle;\n    }\n\n    .dataframe tbody tr th {\n        vertical-align: top;\n    }\n\n    .dataframe thead tr th {\n        text-align: left;\n    }\n\n    .dataframe thead tr:last-of-type th {\n        text-align: right;\n    }\n</style>\n<table border=\"1\" class=\"dataframe\">\n  <thead>\n    <tr>\n      <th></th>\n      <th>mean</th>\n      <th>len</th>\n    </tr>\n    <tr>\n      <th></th>\n      <th>credit_debt</th>\n      <th>credit_debt</th>\n    </tr>\n    <tr>\n      <th>another_children_category</th>\n      <th></th>\n      <th></th>\n    </tr>\n  </thead>\n  <tbody>\n    <tr>\n      <th>1 ребенок</th>\n      <td>0.092327</td>\n      <td>4809</td>\n    </tr>\n    <tr>\n      <th>многодетные</th>\n      <td>0.092516</td>\n      <td>2432</td>\n    </tr>\n    <tr>\n      <th>нет детей</th>\n      <td>0.075173</td>\n      <td>14154</td>\n    </tr>\n  </tbody>\n</table>\n</div>"
     },
     "execution_count": 34,
     "metadata": {},
     "output_type": "execute_result"
    }
   ],
   "source": [
    "# Новые категории клиентов по количеству детей\n",
    "def another_categorize_children(row):\n",
    "    if row['children'] == 0:\n",
    "        return 'нет детей'\n",
    "    elif row['children'] == 1:\n",
    "        return '1 ребенок'\n",
    "    else:\n",
    "        return 'многодетные'\n",
    "# Добавим новый столбец    \n",
    "client_data['another_children_category'] = client_data.apply(another_categorize_children, axis=1)\n",
    "# И выведем сводную таблицу\n",
    "pd.pivot_table(client_data,\n",
    "               index=['another_children_category'], \n",
    "               values=['credit_debt'],\n",
    "               aggfunc=[np.mean, len])"
   ]
  },
  {
   "cell_type": "markdown",
   "metadata": {},
   "source": [
    "<div class=\"alert alert-info\">\n",
    "<b>  </b> \n",
    "Да, с новым разделением распределение клиентов стало чуть более равномерным, 11% все же не 2. Однако, вывод по способности возвращать кредит останется таким же - бездетные заемщики вернут кредит с болшей вероятностью.\n",
    "</div>"
   ]
  },
  {
   "cell_type": "markdown",
   "metadata": {},
   "source": [
    "<div class=\"alert alert-success\">\n",
    "<h2> Комментарий ревьюера v2 <a class=\"tocSkip\"> </h2>\n",
    "\n",
    "<b>Все супер!👍:</b> Правильно!"
   ]
  },
  {
   "cell_type": "markdown",
   "metadata": {
    "datalore": {
     "hide_input_from_viewers": false,
     "hide_output_from_viewers": false,
     "node_id": "mX7Fx8BvkmEtXY3SlktLls",
     "type": "MD"
    }
   },
   "source": [
    "Исходя из полученной таблицы, можно сказать, что бездетные заемщики возвращают кредит немного чаще, чем те, у кого есть дети.\n",
    "\n",
    "Проверим насколько семейное положение влияет на вероятность возврата заемных денег так же с помощью сводной таблицы. Уместно напомнить, что категории в `family_status_id` соответствуют следующим значениям\n",
    "- `0` - женат / замужем, \n",
    "- `1` - гражданский брак, \n",
    "- `2` - вдовец / вдова,\n",
    "- `3` - в разводе,\n",
    "- `4` - не женат / не замужем."
   ]
  },
  {
   "cell_type": "code",
   "execution_count": 35,
   "metadata": {
    "datalore": {
     "hide_input_from_viewers": false,
     "hide_output_from_viewers": false,
     "node_id": "ccBtRZQxQINb3Ww6jBFLeN",
     "type": "CODE"
    }
   },
   "outputs": [
    {
     "data": {
      "text/plain": "                        mean         len\n                 credit_debt credit_debt\nfamily_status_id                        \n0                   0.075478       12295\n1                   0.092749        4151\n2                   0.065969         955\n3                   0.070411        1193\n4                   0.097465        2801",
      "text/html": "<div>\n<style scoped>\n    .dataframe tbody tr th:only-of-type {\n        vertical-align: middle;\n    }\n\n    .dataframe tbody tr th {\n        vertical-align: top;\n    }\n\n    .dataframe thead tr th {\n        text-align: left;\n    }\n\n    .dataframe thead tr:last-of-type th {\n        text-align: right;\n    }\n</style>\n<table border=\"1\" class=\"dataframe\">\n  <thead>\n    <tr>\n      <th></th>\n      <th>mean</th>\n      <th>len</th>\n    </tr>\n    <tr>\n      <th></th>\n      <th>credit_debt</th>\n      <th>credit_debt</th>\n    </tr>\n    <tr>\n      <th>family_status_id</th>\n      <th></th>\n      <th></th>\n    </tr>\n  </thead>\n  <tbody>\n    <tr>\n      <th>0</th>\n      <td>0.075478</td>\n      <td>12295</td>\n    </tr>\n    <tr>\n      <th>1</th>\n      <td>0.092749</td>\n      <td>4151</td>\n    </tr>\n    <tr>\n      <th>2</th>\n      <td>0.065969</td>\n      <td>955</td>\n    </tr>\n    <tr>\n      <th>3</th>\n      <td>0.070411</td>\n      <td>1193</td>\n    </tr>\n    <tr>\n      <th>4</th>\n      <td>0.097465</td>\n      <td>2801</td>\n    </tr>\n  </tbody>\n</table>\n</div>"
     },
     "execution_count": 35,
     "metadata": {},
     "output_type": "execute_result"
    }
   ],
   "source": [
    "pd.pivot_table(client_data,\n",
    "               index=['family_status_id'], \n",
    "               values=['credit_debt'],\n",
    "               aggfunc=[np.mean, len])"
   ]
  },
  {
   "cell_type": "markdown",
   "metadata": {
    "datalore": {
     "hide_input_from_viewers": false,
     "hide_output_from_viewers": false,
     "node_id": "1Y5YmrXiYmJ3qfKqU0mUux",
     "type": "MD"
    }
   },
   "source": [
    "Исходя из полученной таблицы, можно сказать, что хуже всего кредит возвращают люди не связанные узами брака или живущие в гражданском браке, меньше всего не возвратов у вдов и вдовцов.\n",
    "\n",
    "Узнаем есть ли зависимость между уровнем дохода и возвратом кредита в срок."
   ]
  },
  {
   "cell_type": "markdown",
   "metadata": {},
   "source": [
    "<div class=\"alert alert-success\">\n",
    "<h2> Комментарий ревьюера <a class=\"tocSkip\"> </h2>\n",
    "\n",
    "<b>Все супер!👍:</b> Согласен"
   ]
  },
  {
   "cell_type": "code",
   "execution_count": 36,
   "metadata": {
    "datalore": {
     "hide_input_from_viewers": false,
     "hide_output_from_viewers": false,
     "node_id": "nx0iuumlKzkE80QlGcVs8F",
     "type": "CODE"
    }
   },
   "outputs": [
    {
     "data": {
      "text/plain": "                               mean         len\n                        credit_debt credit_debt\nmonthly_income_category                        \nA                          0.080000          25\nB                          0.070490        5022\nC                          0.084752       15976\nD                          0.060000         350\nE                          0.090909          22",
      "text/html": "<div>\n<style scoped>\n    .dataframe tbody tr th:only-of-type {\n        vertical-align: middle;\n    }\n\n    .dataframe tbody tr th {\n        vertical-align: top;\n    }\n\n    .dataframe thead tr th {\n        text-align: left;\n    }\n\n    .dataframe thead tr:last-of-type th {\n        text-align: right;\n    }\n</style>\n<table border=\"1\" class=\"dataframe\">\n  <thead>\n    <tr>\n      <th></th>\n      <th>mean</th>\n      <th>len</th>\n    </tr>\n    <tr>\n      <th></th>\n      <th>credit_debt</th>\n      <th>credit_debt</th>\n    </tr>\n    <tr>\n      <th>monthly_income_category</th>\n      <th></th>\n      <th></th>\n    </tr>\n  </thead>\n  <tbody>\n    <tr>\n      <th>A</th>\n      <td>0.080000</td>\n      <td>25</td>\n    </tr>\n    <tr>\n      <th>B</th>\n      <td>0.070490</td>\n      <td>5022</td>\n    </tr>\n    <tr>\n      <th>C</th>\n      <td>0.084752</td>\n      <td>15976</td>\n    </tr>\n    <tr>\n      <th>D</th>\n      <td>0.060000</td>\n      <td>350</td>\n    </tr>\n    <tr>\n      <th>E</th>\n      <td>0.090909</td>\n      <td>22</td>\n    </tr>\n  </tbody>\n</table>\n</div>"
     },
     "execution_count": 36,
     "metadata": {},
     "output_type": "execute_result"
    }
   ],
   "source": [
    "pd.pivot_table(client_data,\n",
    "               index=['monthly_income_category'], \n",
    "               values=['credit_debt'],\n",
    "               aggfunc=[np.mean, len])"
   ]
  },
  {
   "cell_type": "markdown",
   "metadata": {
    "datalore": {
     "hide_input_from_viewers": false,
     "hide_output_from_viewers": false,
     "node_id": "yclsM9GlcfE1CfbEGMo6VK",
     "type": "MD"
    }
   },
   "source": [
    "Из полученной таблицы, видно, что лучше всего возвращают кредиты люди с достатком примерно 30000–50000, а хуже всего с доходами меньше 30000.\n",
    "\n",
    "Проверим есть ли зависимость между целью кредита и его возвратом."
   ]
  },
  {
   "cell_type": "markdown",
   "metadata": {},
   "source": [
    "<div class=\"alert alert-block alert-danger\">\n",
    "<h2> Комментарий ревьюера <a class=\"tocSkip\"></h2>\n",
    "\n",
    "<b>На доработку🤔:</b> Не соглашусь. Вижу, что есть категории, которые слишком малы для того, чтобы делать по ним выводы."
   ]
  },
  {
   "cell_type": "markdown",
   "metadata": {},
   "source": [
    "<div class=\"alert alert-info\">\n",
    "Спасибо) После изучения распределения данных изменим категории, на те, которые указаны перед блоком обработки дубликатов.\n",
    "</div>"
   ]
  },
  {
   "cell_type": "code",
   "execution_count": 37,
   "metadata": {},
   "outputs": [
    {
     "data": {
      "text/plain": "                                       mean         len\n                                credit_debt credit_debt\nanother_monthly_income_category                        \nбольше 200 000                     0.070537        5047\nдо 140 000                         0.084657        7997\nдо 200 000                         0.087039        6882\nдо 70 000                          0.068754        1469",
      "text/html": "<div>\n<style scoped>\n    .dataframe tbody tr th:only-of-type {\n        vertical-align: middle;\n    }\n\n    .dataframe tbody tr th {\n        vertical-align: top;\n    }\n\n    .dataframe thead tr th {\n        text-align: left;\n    }\n\n    .dataframe thead tr:last-of-type th {\n        text-align: right;\n    }\n</style>\n<table border=\"1\" class=\"dataframe\">\n  <thead>\n    <tr>\n      <th></th>\n      <th>mean</th>\n      <th>len</th>\n    </tr>\n    <tr>\n      <th></th>\n      <th>credit_debt</th>\n      <th>credit_debt</th>\n    </tr>\n    <tr>\n      <th>another_monthly_income_category</th>\n      <th></th>\n      <th></th>\n    </tr>\n  </thead>\n  <tbody>\n    <tr>\n      <th>больше 200 000</th>\n      <td>0.070537</td>\n      <td>5047</td>\n    </tr>\n    <tr>\n      <th>до 140 000</th>\n      <td>0.084657</td>\n      <td>7997</td>\n    </tr>\n    <tr>\n      <th>до 200 000</th>\n      <td>0.087039</td>\n      <td>6882</td>\n    </tr>\n    <tr>\n      <th>до 70 000</th>\n      <td>0.068754</td>\n      <td>1469</td>\n    </tr>\n  </tbody>\n</table>\n</div>"
     },
     "execution_count": 37,
     "metadata": {},
     "output_type": "execute_result"
    }
   ],
   "source": [
    "# Новые категории клиентов по доходу\n",
    "def another_categorize_income(row):\n",
    "    monthly_income = row['monthly_income']\n",
    "    if  monthly_income <= 70000:\n",
    "        return 'до 70 000'\n",
    "    elif 70000 < monthly_income <= 140000:\n",
    "        return 'до 140 000'\n",
    "    elif 140000 < monthly_income <= 200000:\n",
    "        return 'до 200 000'\n",
    "    else:\n",
    "        return 'больше 200 000'\n",
    "    \n",
    "# Добавим новый столбец    \n",
    "client_data['another_monthly_income_category'] = client_data.apply(another_categorize_income, axis=1)\n",
    "# И выведем сводную таблицу\n",
    "pd.pivot_table(client_data,\n",
    "               index=['another_monthly_income_category'], \n",
    "               values=['credit_debt'],\n",
    "               aggfunc=[np.mean, len])"
   ]
  },
  {
   "cell_type": "markdown",
   "metadata": {},
   "source": [
    "<div class=\"alert alert-info\">\n",
    "<b></b> Новое распределение по более обширным категориям показывает отличные результаты от предыдущего разделения. По ним можно заметить что хуже отдают люди с доходом от 140 000 до 200 000, хотя показатель невозврата всего на 0,3% процента отличается от тех, чьи доходы от 70 000 до 140 000.\n",
    "</div>"
   ]
  },
  {
   "cell_type": "markdown",
   "metadata": {},
   "source": [
    "<div class=\"alert alert-success\">\n",
    "<h2> Комментарий ревьюера v2 <a class=\"tocSkip\"> </h2>\n",
    "\n",
    "<b>Все супер!👍:</b> Отличная работа в этом разделе. Категории стали относительно равночисленными, вывод верный. Молодец!"
   ]
  },
  {
   "cell_type": "code",
   "execution_count": 38,
   "metadata": {
    "datalore": {
     "hide_input_from_viewers": false,
     "hide_output_from_viewers": false,
     "node_id": "y0TKyEjZzMUBUfKBWYBd7R",
     "type": "CODE"
    }
   },
   "outputs": [
    {
     "data": {
      "text/plain": "                                mean         len\n                         credit_debt credit_debt\npurpose_category                                \nоперации с автомобилем      0.093430        4292\nоперации с недвижимостью    0.072370       10778\nполучение образования       0.092273        3999\nпроведение свадьбы          0.078676        2326",
      "text/html": "<div>\n<style scoped>\n    .dataframe tbody tr th:only-of-type {\n        vertical-align: middle;\n    }\n\n    .dataframe tbody tr th {\n        vertical-align: top;\n    }\n\n    .dataframe thead tr th {\n        text-align: left;\n    }\n\n    .dataframe thead tr:last-of-type th {\n        text-align: right;\n    }\n</style>\n<table border=\"1\" class=\"dataframe\">\n  <thead>\n    <tr>\n      <th></th>\n      <th>mean</th>\n      <th>len</th>\n    </tr>\n    <tr>\n      <th></th>\n      <th>credit_debt</th>\n      <th>credit_debt</th>\n    </tr>\n    <tr>\n      <th>purpose_category</th>\n      <th></th>\n      <th></th>\n    </tr>\n  </thead>\n  <tbody>\n    <tr>\n      <th>операции с автомобилем</th>\n      <td>0.093430</td>\n      <td>4292</td>\n    </tr>\n    <tr>\n      <th>операции с недвижимостью</th>\n      <td>0.072370</td>\n      <td>10778</td>\n    </tr>\n    <tr>\n      <th>получение образования</th>\n      <td>0.092273</td>\n      <td>3999</td>\n    </tr>\n    <tr>\n      <th>проведение свадьбы</th>\n      <td>0.078676</td>\n      <td>2326</td>\n    </tr>\n  </tbody>\n</table>\n</div>"
     },
     "execution_count": 38,
     "metadata": {},
     "output_type": "execute_result"
    }
   ],
   "source": [
    "pd.pivot_table(client_data,\n",
    "               index=['purpose_category'], \n",
    "               values=['credit_debt'],\n",
    "               aggfunc=[np.mean, len])"
   ]
  },
  {
   "cell_type": "markdown",
   "metadata": {},
   "source": [
    "<div class=\"alert alert-success\">\n",
    "<h2> Комментарий ревьюера <a class=\"tocSkip\"> </h2>\n",
    "\n",
    "<b>Все супер!👍:</b> С выводом по целям полностью согласен"
   ]
  },
  {
   "cell_type": "markdown",
   "metadata": {
    "datalore": {
     "hide_input_from_viewers": false,
     "hide_output_from_viewers": false,
     "node_id": "U8YvMpXiCnw41b1J2Dna9f",
     "type": "MD"
    }
   },
   "source": [
    "Операции с недвижимостью самая надежная в плане возврата цель кредита, в отличие от покупки автомобиля.\n",
    "\n",
    "## Общий вывод\n",
    "\n",
    "Проведя данное исследование можно сказать, что самыми ответственными заемщиками должны быть заемщики с официально оформленными отношениями в настоящем или прошлом и не имеющие детей, с целью изменить жилищные условия и доходом от 30000 до 50000.\n",
    "\n",
    "Проверить выводы поможет тепловая карта, построенная по сводной таблице с учетом всех вышеперечисленных категорий."
   ]
  },
  {
   "cell_type": "code",
   "execution_count": 39,
   "metadata": {
    "datalore": {
     "hide_input_from_viewers": false,
     "hide_output_from_viewers": false,
     "node_id": "ytHK1IIbxsXmNU0ASPGeP2",
     "type": "CODE"
    }
   },
   "outputs": [
    {
     "data": {
      "text/plain": "<AxesSubplot:xlabel='None-None', ylabel='children_category-family_status_id-monthly_income_category-purpose_category'>"
     },
     "execution_count": 39,
     "metadata": {},
     "output_type": "execute_result"
    },
    {
     "data": {
      "text/plain": "<Figure size 432x288 with 2 Axes>",
      "image/png": "[encoded data removed]"
     },
     "metadata": {},
     "output_type": "display_data"
    }
   ],
   "source": [
    "client_data_pivot = pd.pivot_table(client_data,\n",
    "               index=['children_category', 'family_status_id', 'monthly_income_category', 'purpose_category'], \n",
    "               values=['credit_debt'],\n",
    "               aggfunc=[np.mean])\n",
    "seaborn.heatmap(client_data_pivot)"
   ]
  },
  {
   "cell_type": "markdown",
   "metadata": {
    "datalore": {
     "hide_input_from_viewers": false,
     "hide_output_from_viewers": false,
     "node_id": "m7tBm1BV2QDdaNhDVRWhv6",
     "type": "MD"
    }
   },
   "source": [
    "Одними из самых ярких на тепловой карте, а значит хуже всех возвращающими кредиты, являются клиенты, совмещающие следующие категории: \n",
    "- `многодетные`-`гражданский брак`-`доход от 50000 до 200000`-`операции с автомобилем`, \n",
    "- `многодетные`-`гражданский брак`-`доход от 200000 до 1000000`-`получениие образования`,\n",
    "- `нет детей`-`гражданский брак`-`доход от 200000 до 1000000`-`операции с автомобилем`.\n",
    "\n",
    "По одному такие наложившиеся друг на друга категории могли не вызывать опасений, но важно учитывать не только каждый отдельный фактор, но и совокупность с остальными."
   ]
  },
  {
   "cell_type": "markdown",
   "metadata": {},
   "source": [
    "<div class=\"alert alert-block alert-danger\">\n",
    "<h2> Комментарий ревьюера <a class=\"tocSkip\"></h2>\n",
    "\n",
    "<b>На доработку🤔:</b>  Думаю, что нужно исключить из построения тепловой карты малочисленные категории, по которым нельзя сделать никакого вывода."
   ]
  },
  {
   "cell_type": "markdown",
   "metadata": {},
   "source": [
    "<div class=\"alert alert-info\">\n",
    "<b> Тепловая карта была криком отчаяния, когда не получилось правильно отсортировать сводную многоструктурную таблицу 😅\n",
    "    </b> \n",
    "Разобравшись с сортировкой сводной таблицы можно сравнить выводы, увиденные на тепловой карте с табличными расчетами.\n",
    "</div>"
   ]
  },
  {
   "cell_type": "markdown",
   "metadata": {},
   "source": [
    "<div class=\"alert alert-success\">\n",
    "<h2> Комментарий ревьюера v2 <a class=\"tocSkip\"> </h2>\n",
    "\n",
    "<b>Все супер!👍:</b> А, понял. Давай сравнивать)"
   ]
  },
  {
   "cell_type": "code",
   "execution_count": 40,
   "metadata": {},
   "outputs": [
    {
     "data": {
      "text/plain": "                                                                                                           mean  \\\n                                                                                                    credit_debt   \nanother_children_category family_status_id another_monthly_income_category purpose_category                       \n1 ребенок                 2                до 70 000                       операции с недвижимостью       0.000   \nмногодетные               3                больше 200 000                  операции с автомобилем         0.000   \n1 ребенок                 3                до 70 000                       операции с недвижимостью       0.000   \n                          1                до 70 000                       операции с недвижимостью       0.000   \n                                                                           получение образования          0.000   \n...                                                                                                         ...   \nмногодетные               4                до 200 000                      операции с автомобилем         0.375   \n                          3                до 70 000                       операции с автомобилем         0.500   \n                          2                до 140 000                      операции с автомобилем         0.500   \n                          3                до 70 000                       получение образования          1.000   \n                                                                           операции с недвижимостью       1.000   \n\n                                                                                                            len  \n                                                                                                    credit_debt  \nanother_children_category family_status_id another_monthly_income_category purpose_category                      \n1 ребенок                 2                до 70 000                       операции с недвижимостью           7  \nмногодетные               3                больше 200 000                  операции с автомобилем             4  \n1 ребенок                 3                до 70 000                       операции с недвижимостью          10  \n                          1                до 70 000                       операции с недвижимостью          15  \n                                                                           получение образования             12  \n...                                                                                                         ...  \nмногодетные               4                до 200 000                      операции с автомобилем             8  \n                          3                до 70 000                       операции с автомобилем             2  \n                          2                до 140 000                      операции с автомобилем             2  \n                          3                до 70 000                       получение образования              1  \n                                                                           операции с недвижимостью           1  \n\n[187 rows x 2 columns]",
      "text/html": "<div>\n<style scoped>\n    .dataframe tbody tr th:only-of-type {\n        vertical-align: middle;\n    }\n\n    .dataframe tbody tr th {\n        vertical-align: top;\n    }\n\n    .dataframe thead tr th {\n        text-align: left;\n    }\n\n    .dataframe thead tr:last-of-type th {\n        text-align: right;\n    }\n</style>\n<table border=\"1\" class=\"dataframe\">\n  <thead>\n    <tr>\n      <th></th>\n      <th></th>\n      <th></th>\n      <th></th>\n      <th>mean</th>\n      <th>len</th>\n    </tr>\n    <tr>\n      <th></th>\n      <th></th>\n      <th></th>\n      <th></th>\n      <th>credit_debt</th>\n      <th>credit_debt</th>\n    </tr>\n    <tr>\n      <th>another_children_category</th>\n      <th>family_status_id</th>\n      <th>another_monthly_income_category</th>\n      <th>purpose_category</th>\n      <th></th>\n      <th></th>\n    </tr>\n  </thead>\n  <tbody>\n    <tr>\n      <th>1 ребенок</th>\n      <th>2</th>\n      <th>до 70 000</th>\n      <th>операции с недвижимостью</th>\n      <td>0.000</td>\n      <td>7</td>\n    </tr>\n    <tr>\n      <th>многодетные</th>\n      <th>3</th>\n      <th>больше 200 000</th>\n      <th>операции с автомобилем</th>\n      <td>0.000</td>\n      <td>4</td>\n    </tr>\n    <tr>\n      <th rowspan=\"3\" valign=\"top\">1 ребенок</th>\n      <th>3</th>\n      <th>до 70 000</th>\n      <th>операции с недвижимостью</th>\n      <td>0.000</td>\n      <td>10</td>\n    </tr>\n    <tr>\n      <th rowspan=\"2\" valign=\"top\">1</th>\n      <th rowspan=\"2\" valign=\"top\">до 70 000</th>\n      <th>операции с недвижимостью</th>\n      <td>0.000</td>\n      <td>15</td>\n    </tr>\n    <tr>\n      <th>получение образования</th>\n      <td>0.000</td>\n      <td>12</td>\n    </tr>\n    <tr>\n      <th>...</th>\n      <th>...</th>\n      <th>...</th>\n      <th>...</th>\n      <td>...</td>\n      <td>...</td>\n    </tr>\n    <tr>\n      <th rowspan=\"5\" valign=\"top\">многодетные</th>\n      <th>4</th>\n      <th>до 200 000</th>\n      <th>операции с автомобилем</th>\n      <td>0.375</td>\n      <td>8</td>\n    </tr>\n    <tr>\n      <th>3</th>\n      <th>до 70 000</th>\n      <th>операции с автомобилем</th>\n      <td>0.500</td>\n      <td>2</td>\n    </tr>\n    <tr>\n      <th>2</th>\n      <th>до 140 000</th>\n      <th>операции с автомобилем</th>\n      <td>0.500</td>\n      <td>2</td>\n    </tr>\n    <tr>\n      <th rowspan=\"2\" valign=\"top\">3</th>\n      <th rowspan=\"2\" valign=\"top\">до 70 000</th>\n      <th>получение образования</th>\n      <td>1.000</td>\n      <td>1</td>\n    </tr>\n    <tr>\n      <th>операции с недвижимостью</th>\n      <td>1.000</td>\n      <td>1</td>\n    </tr>\n  </tbody>\n</table>\n<p>187 rows × 2 columns</p>\n</div>"
     },
     "execution_count": 40,
     "metadata": {},
     "output_type": "execute_result"
    }
   ],
   "source": [
    "client_data_pivot = pd.pivot_table(client_data,\n",
    "               index=['another_children_category', 'family_status_id', 'another_monthly_income_category', 'purpose_category'], \n",
    "               values=['credit_debt'],\n",
    "               aggfunc=[np.mean, len])\n",
    "client_data_pivot.sort_values(by=('mean', 'credit_debt'))"
   ]
  },
  {
   "cell_type": "markdown",
   "metadata": {},
   "source": [
    "<div class=\"alert alert-info\">\n",
    "Что же, графики не всегда легко прочитать правильно, чтобы полностью увидеть картину. Собрав данные из таблицы в сводную таблицу и отсортировав по среднему значению невозвратных кредитов можно отметить группы повышенного риска: \n",
    "\n",
    "- `многодетные` - `не женат / не замужем` - `до 200 000` - `операции с автомобилем`\n",
    "- `многодетные` - `в разводе` - `до 70 000` - `операции с автомобилем`\n",
    "- `многодетные` - `вдовец / вдова` - `до 140 000` - `операции с автомобилем`\n",
    "- `многодетные` - `в разводе` - `до 70 000` - `получение образования`\n",
    "- `многодетные` - `в разводе` - `до 70 000` - `операции с недвижимостью`\n",
    "\n",
    "Хотя возможно это будет не самая показательная выборка, ведь в каждой указанной совокупности категорий есть только один-два заемщика.\n",
    "    \n",
    "<b>Ps.</b> Не подскажешь удобные платформы для работы с тетрадками? А то в Юпитере мне очень не хватает удобства PyCharm, где редактор подсказывает названия переменных и функций, а так же выводит информацию об аргументах функции. Нашла Datalore, от тех же разработчиков, но у него есть ограничение на суммарное время работы(\n",
    "</div>"
   ]
  },
  {
   "cell_type": "markdown",
   "metadata": {},
   "source": [
    "<div class=\"alert alert-success\">\n",
    "<h2> Комментарий ревьюера v2 <a class=\"tocSkip\"> </h2>\n",
    "\n",
    "<b>Все супер!👍:</b> Отлично!"
   ]
  },
  {
   "cell_type": "markdown",
   "metadata": {},
   "source": [
    "<div style=\"border:solid Chocolate 2px; padding: 40px\">\n",
    "    \n",
    "**Общий вывод по проекту ревьювера**:\n",
    " Екатерина, спасибо за проект! Ты приложила много усилий, чтобы довести его до конца, проделана огромная работа, и это видно невооруженным глазом, ты большой молодец!\n",
    "    \n",
    "**Отмечу положительные моменты**:\n",
    "    \n",
    "    1. Все разложено по полочкам, всегда понятен ход твоих мыслей, приятно смотреть\n",
    "    \n",
    "    2. На разных шагах проекта ты предлагала очень интересные решения и методы для их реализации. Хорошая работа!\n",
    "    \n",
    "    \n",
    "**На что стоит обратить внимание**:\n",
    "    \n",
    "    1. На изменение аномалий в предобработке данных\n",
    "    \n",
    "    2. На то, что вывод можно делать только по нормальной по численности выборке, если сделать по малочисленной, то он будет не репрезентативен\n",
    "    \n",
    "    \n",
    "**Удачи и жду твой проект на повторное ревью!**"
   ]
  },
  {
   "cell_type": "markdown",
   "metadata": {},
   "source": [
    "<div style=\"border:solid Chocolate 2px; padding: 40px\">\n",
    "    \n",
    "**Общий вывод по проекту ревьювера v2**:\n",
    " Екатерина, спасибо за работу, проект зачтен, поздравляю тебя! Увидимся в Практикуме! ;)"
   ]
  },
  {
   "cell_type": "markdown",
   "metadata": {},
   "source": []
  }
 ],
 "metadata": {
  "datalore": {
   "base_environment": "default",
   "computation_mode": "JUPYTER",
   "package_manager": "pip",
   "packages": [],
   "version": 1
  },
  "kernelspec": {
   "display_name": "Python 3 (ipykernel)",
   "language": "python",
   "name": "python3"
  },
  "language_info": {
   "codemirror_mode": {
    "name": "ipython",
    "version": 3
   },
   "file_extension": ".py",
   "mimetype": "text/x-python",
   "name": "python",
   "nbconvert_exporter": "python",
   "pygments_lexer": "ipython3",
   "version": "3.9.12"
  },
  "latex_envs": {
   "LaTeX_envs_menu_present": true,
   "autoclose": true,
   "autocomplete": true,
   "bibliofile": "biblio.bib",
   "cite_by": "apalike",
   "current_citInitial": 1,
   "eqLabelWithNumbers": true,
   "eqNumInitial": 1,
   "hotkeys": {
    "equation": "Ctrl-E",
    "itemize": "Ctrl-I"
   },
   "labels_anchors": false,
   "latex_user_defs": false,
   "report_style_numbering": false,
   "user_envs_cfg": false
  },
  "toc": {
   "base_numbering": 1,
   "nav_menu": {
    "height": "202px",
    "width": "313px"
   },
   "number_sections": true,
   "sideBar": true,
   "skip_h1_title": true,
   "title_cell": "Table of Contents",
   "title_sidebar": "Contents",
   "toc_cell": false,
   "toc_position": {
    "height": "calc(100% - 180px)",
    "left": "10px",
    "top": "150px",
    "width": "230.913px"
   },
   "toc_section_display": true,
   "toc_window_display": true
  }
 },
 "nbformat": 4,
 "nbformat_minor": 4
}

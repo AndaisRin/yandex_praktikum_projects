{
 "cells": [
  {
   "cell_type": "markdown",
   "source": [
    "# Описание проекта\n",
    "Интернет-магазин «Викишоп» запускает новый сервис. Теперь пользователи могут редактировать и дополнять описания товаров, как в вики-сообществах. То есть клиенты предлагают свои правки и комментируют изменения других. Магазину нужен инструмент, который будет искать токсичные комментарии и отправлять их на модерацию.\n",
    "Обучите модель классифицировать комментарии на позитивные и негативные. В вашем распоряжении набор данных с разметкой о токсичности правок.\n",
    "Постройте модель со значением метрики качества F1 не меньше 0.75.\n",
    "## Описание данных\n",
    "Столбец text в нём содержит текст комментария, а toxic — целевой признак.\n",
    "## Постановка задачи\n",
    "### [Шаг 1. Знакомство с данными, их изучение и предобработка](#section1)\n",
    "- загрузить библиотеки и данные;\n",
    "- оценить распределение целевого признака;\n",
    "- определение тестовой, валидационной и тренировочной выборок;\n",
    "- вывод.\n",
    "### [Шаг 2. Работа с моделями:](#section2)\n",
    "- создание предсказания модели LinearClassifier;\n",
    "- создание предсказания модели RandomForestClassifier;\n",
    "- создание предсказания модели CatBoostClassifier;\n",
    "- создание предсказания модели LGBMClassifier;\n",
    "- создание предсказания модели DummyClassifier;\n",
    "- анализ работы лучшей модели на тестовых данных;\n",
    "- вывод.\n",
    "### [Шаг 3. Общий вывод](#section3)"
   ],
   "metadata": {
    "collapsed": false
   }
  },
  {
   "cell_type": "markdown",
   "source": [
    "# Решение задачи\n",
    "## Шаг 1. Знакомство с данными, их изучение и предобработка <a class=\"anchor\" id=\"section1\"></a>\n",
    "\n",
    "Импортируем необходимые библиотеки для дальнейшей работы."
   ],
   "metadata": {
    "collapsed": false
   }
  },
  {
   "cell_type": "code",
   "execution_count": 1,
   "outputs": [],
   "source": [
    "# !pip install pymystem3"
   ],
   "metadata": {
    "collapsed": false
   }
  },
  {
   "cell_type": "code",
   "execution_count": 2,
   "metadata": {
    "collapsed": true
   },
   "outputs": [
    {
     "name": "stderr",
     "output_type": "stream",
     "text": [
      "[nltk_data] Downloading package stopwords to C:\\Users\\Dream\n",
      "[nltk_data]     Machines\\AppData\\Roaming\\nltk_data...\n",
      "[nltk_data]   Package stopwords is already up-to-date!\n"
     ]
    }
   ],
   "source": [
    "import pandas as pd\n",
    "import numpy as np\n",
    "import nltk\n",
    "import re\n",
    "import matplotlib.pyplot as plt\n",
    "from tqdm import tqdm\n",
    "\n",
    "from catboost import CatBoostClassifier\n",
    "from sklearn.dummy import DummyClassifier\n",
    "from sklearn.ensemble import RandomForestClassifier\n",
    "from sklearn.tree import DecisionTreeClassifier\n",
    "from sklearn.feature_extraction.text import CountVectorizer, TfidfVectorizer\n",
    "from sklearn.linear_model import LogisticRegression, SGDClassifier\n",
    "from sklearn.model_selection import train_test_split, cross_val_score, GridSearchCV\n",
    "from sklearn.metrics import f1_score, precision_score, recall_score, accuracy_score, roc_auc_score, roc_curve\n",
    "from sklearn.pipeline import Pipeline\n",
    "from sklearn.svm import SVC\n",
    "from sklearn.utils import shuffle\n",
    "\n",
    "from nltk.stem import WordNetLemmatizer\n",
    "from nltk.corpus import stopwords as nltk_stopwords\n",
    "\n",
    "nltk.download('stopwords')\n",
    "stopwords = set(nltk_stopwords.words('english'))\n",
    "\n",
    "from pymystem3 import Mystem\n",
    "\n",
    "m = Mystem()\n",
    "\n",
    "import warnings\n",
    "\n",
    "warnings.filterwarnings('ignore')\n",
    "\n",
    "RANDOM_VAL = np.random.RandomState(42)\n",
    "RAND = 42"
   ]
  },
  {
   "cell_type": "markdown",
   "source": [
    "Загрузим данные."
   ],
   "metadata": {
    "collapsed": false
   }
  },
  {
   "cell_type": "code",
   "execution_count": 3,
   "outputs": [],
   "source": [
    "try:\n",
    "    toxic_data = pd.read_csv('toxic_comments.csv')\n",
    "except:\n",
    "    toxic_data = pd.read_csv('/datasets/toxic_comments.csv')"
   ],
   "metadata": {
    "collapsed": false
   }
  },
  {
   "cell_type": "code",
   "execution_count": 4,
   "outputs": [],
   "source": [
    "# Функция оценки пропусков в таблице\n",
    "def pass_value_barh(data):\n",
    "    try:\n",
    "        (\n",
    "            (data.isna().mean() * 100)\n",
    "            .to_frame()\n",
    "            .rename(columns={0: 'space'})\n",
    "            .query('space > 0')\n",
    "            .sort_values(by='space', ascending=True)\n",
    "            .plot(kind='barh', figsize=(20, 10), legend=False, fontsize=10)\n",
    "            .set_title('Пропущенные значения, %' + \"\\n\", fontsize=22)\n",
    "        )\n",
    "        print('Всего значений в таблице {0}, из них пропущено от {1} до {2} значений, доля пропущенных '\n",
    "              'равна от {3:.2%} до {4:.2%} в {5} столбцах.'.format(len(data),\n",
    "                                                                   min(i for i in data.isna().sum() if i > 0),\n",
    "                                                                   max(data.isna().sum()),\n",
    "                                                                   min(i for i in data.isna().sum() if i > 0) / len(\n",
    "                                                                       data),\n",
    "                                                                   max(data.isna().sum()) / len(data),\n",
    "                                                                   (data.isna().sum(axis=0) > 0).sum()\n",
    "                                                                   ))\n",
    "    except:\n",
    "        print('пропусков не осталось :) ')"
   ],
   "metadata": {
    "collapsed": false
   }
  },
  {
   "cell_type": "code",
   "execution_count": 5,
   "outputs": [],
   "source": [
    "# Функция изучения данных в таблице\n",
    "def research_info(data):\n",
    "    rows_count, columns_count = data.shape\n",
    "    print('Количество стобцов:', columns_count)\n",
    "    print('Количество строк:', rows_count)\n",
    "    print('Дубликатов: {}'.format(data.duplicated().sum()))\n",
    "    display(data.sample(n=5))\n",
    "    pass_value_barh(data)"
   ],
   "metadata": {
    "collapsed": false
   }
  },
  {
   "cell_type": "code",
   "execution_count": 6,
   "outputs": [
    {
     "name": "stdout",
     "output_type": "stream",
     "text": [
      "Количество стобцов: 3\n",
      "Количество строк: 159292\n",
      "Дубликатов: 0\n"
     ]
    },
    {
     "data": {
      "text/plain": "        Unnamed: 0                                               text  toxic\n112795      112893  unblock| It was no me who was changing things ...      0\n5608          5608  I think there's little doubt that there is tak...      0\n37853        37899  \"\\n\\nNo they did not they have contact outside...      0\n63849        63916  \"\\n\\n...not sure what such a \"\" has to do w/ a...      0\n42979        43029  Big Brother Australia 2012 \\nI see you have pa...      0",
      "text/html": "<div>\n<style scoped>\n    .dataframe tbody tr th:only-of-type {\n        vertical-align: middle;\n    }\n\n    .dataframe tbody tr th {\n        vertical-align: top;\n    }\n\n    .dataframe thead th {\n        text-align: right;\n    }\n</style>\n<table border=\"1\" class=\"dataframe\">\n  <thead>\n    <tr style=\"text-align: right;\">\n      <th></th>\n      <th>Unnamed: 0</th>\n      <th>text</th>\n      <th>toxic</th>\n    </tr>\n  </thead>\n  <tbody>\n    <tr>\n      <th>112795</th>\n      <td>112893</td>\n      <td>unblock| It was no me who was changing things ...</td>\n      <td>0</td>\n    </tr>\n    <tr>\n      <th>5608</th>\n      <td>5608</td>\n      <td>I think there's little doubt that there is tak...</td>\n      <td>0</td>\n    </tr>\n    <tr>\n      <th>37853</th>\n      <td>37899</td>\n      <td>\"\\n\\nNo they did not they have contact outside...</td>\n      <td>0</td>\n    </tr>\n    <tr>\n      <th>63849</th>\n      <td>63916</td>\n      <td>\"\\n\\n...not sure what such a \"\" has to do w/ a...</td>\n      <td>0</td>\n    </tr>\n    <tr>\n      <th>42979</th>\n      <td>43029</td>\n      <td>Big Brother Australia 2012 \\nI see you have pa...</td>\n      <td>0</td>\n    </tr>\n  </tbody>\n</table>\n</div>"
     },
     "metadata": {},
     "output_type": "display_data"
    },
    {
     "name": "stdout",
     "output_type": "stream",
     "text": [
      "пропусков не осталось :) \n"
     ]
    },
    {
     "data": {
      "text/plain": "<Figure size 2000x1000 with 1 Axes>",
      "image/png": "[encoded data removed]"
     },
     "metadata": {},
     "output_type": "display_data"
    }
   ],
   "source": [
    "research_info(toxic_data)"
   ],
   "metadata": {
    "collapsed": false
   }
  },
  {
   "cell_type": "markdown",
   "source": [
    "В представленном датасете 159292 строк и 3 столбца. Текст сырой, его необходимо будет очистить и ламметизировать. Пропущенных значений нет. Целевым признаком является ['toxic'], оценка токсичности в комментарии ['text'], так же есть столбец ['Unnamed: 0'], который дублирует индексы в таблице."
   ],
   "metadata": {
    "collapsed": false
   }
  },
  {
   "cell_type": "code",
   "execution_count": 7,
   "outputs": [],
   "source": [
    "toxic_data = toxic_data.drop(columns='Unnamed: 0')"
   ],
   "metadata": {
    "collapsed": false
   }
  },
  {
   "cell_type": "markdown",
   "source": [
    "Перед началом работы с текстом его необходимо отчистить от знаков препинания, привести к нижнему регистру, а после провести лемматизацию."
   ],
   "metadata": {
    "collapsed": false
   }
  },
  {
   "cell_type": "code",
   "execution_count": 8,
   "outputs": [],
   "source": [
    "toxic_data['text'] = toxic_data['text'].apply(lambda sentence: re.sub(r'[^a-zA-Z]', ' ', sentence.lower()))"
   ],
   "metadata": {
    "collapsed": false
   }
  },
  {
   "cell_type": "code",
   "execution_count": 9,
   "outputs": [],
   "source": [
    "# Лемматизация корпуса\n",
    "lemmatizer = WordNetLemmatizer()\n",
    "toxic_data['text'] = toxic_data['text'].apply(\n",
    "    lambda sentence: \" \".join([lemmatizer.lemmatize(w, \"n\") for w in nltk.word_tokenize(sentence)]))"
   ],
   "metadata": {
    "collapsed": false
   }
  },
  {
   "cell_type": "markdown",
   "source": [
    "Проверим баланс классов в датасете."
   ],
   "metadata": {
    "collapsed": false
   }
  },
  {
   "cell_type": "code",
   "execution_count": 10,
   "outputs": [
    {
     "data": {
      "text/plain": "<Figure size 640x480 with 1 Axes>",
      "image/png": "[encoded data removed]"
     },
     "metadata": {},
     "output_type": "display_data"
    }
   ],
   "source": [
    "toxic_data['toxic'].hist(bins=3, weights=np.ones_like(toxic_data['toxic']) / len(toxic_data))\n",
    "plt.title('Распределение биноминальных значений')\n",
    "plt.show()"
   ],
   "metadata": {
    "collapsed": false
   }
  },
  {
   "cell_type": "markdown",
   "source": [
    "Очень большое распределение между признаками, которое разумно будет устранить с помощью функции upsample, после разделения данных на выборки."
   ],
   "metadata": {
    "collapsed": false
   }
  },
  {
   "cell_type": "code",
   "execution_count": 11,
   "outputs": [],
   "source": [
    "train, test = train_test_split(toxic_data, test_size=0.2)\n",
    "valid, test = train_test_split(test, test_size=0.5)\n",
    "\n",
    "features_train = train.drop(['toxic'], axis=1)\n",
    "target_train = train['toxic']\n",
    "\n",
    "features_valid = valid.drop(['toxic'], axis=1)\n",
    "target_valid = valid['toxic']\n",
    "\n",
    "features_test = test.drop(['toxic'], axis=1)\n",
    "target_test = test['toxic']\n",
    "\n",
    "eval_set = [(features_valid, target_valid)]"
   ],
   "metadata": {
    "collapsed": false
   }
  },
  {
   "cell_type": "code",
   "execution_count": 12,
   "outputs": [],
   "source": [
    "# функция upsample для создания сбалансированности выборки\n",
    "def upsample(features, target, repeat):\n",
    "    features_zeros = features[target == 0]\n",
    "    features_ones = features[target == 1]\n",
    "    target_zeros = target[target == 0]\n",
    "    target_ones = target[target == 1]\n",
    "    features_upsampled = pd.concat([features_zeros] + [features_ones] * repeat)\n",
    "    target_upsampled = pd.concat([target_zeros] + [target_ones] * repeat)\n",
    "    features_upsampled, target_upsampled = shuffle(features_upsampled, target_upsampled, random_state=42)\n",
    "    return features_upsampled, target_upsampled"
   ],
   "metadata": {
    "collapsed": false
   }
  },
  {
   "cell_type": "code",
   "execution_count": 13,
   "outputs": [],
   "source": [
    "features_up, target_up = upsample(features_train, target_train, repeat=6)"
   ],
   "metadata": {
    "collapsed": false
   }
  },
  {
   "cell_type": "code",
   "execution_count": 14,
   "outputs": [
    {
     "data": {
      "text/plain": "<Figure size 640x480 with 1 Axes>",
      "image/png": "[encoded data removed]"
     },
     "metadata": {},
     "output_type": "display_data"
    }
   ],
   "source": [
    "target_up.hist(bins=3, weights=np.ones_like(target_up.index) / len(target_up.index))\n",
    "plt.title('Распределение биноминальных значений')\n",
    "plt.show()"
   ],
   "metadata": {
    "collapsed": false
   }
  },
  {
   "cell_type": "code",
   "execution_count": 15,
   "outputs": [
    {
     "name": "stdout",
     "output_type": "stream",
     "text": [
      "Размер тренировочной выборки (с дисбалансом) - 80% (127433 строк)\n",
      "Размер тренировочной выборки (без дисбаланса) - 121% (192473 строк)\n",
      "Размер валидационной выборки - 10% (15929 строк)\n",
      "Размер тестовой выборки - 10% (15930 строк)\n"
     ]
    }
   ],
   "source": [
    "print('Размер тренировочной выборки (с дисбалансом) - {:.0%} ({} строк)'.format(\n",
    "    features_train.shape[0] / toxic_data.shape[0], features_train.shape[0]))\n",
    "print('Размер тренировочной выборки (без дисбаланса) - {:.0%} ({} строк)'.format(\n",
    "    features_up.shape[0] / toxic_data.shape[0], features_up.shape[0]))\n",
    "print('Размер валидационной выборки - {:.0%} ({} строк)'.format(features_valid.shape[0] / toxic_data.shape[0],\n",
    "                                                                features_valid.shape[0]))\n",
    "print('Размер тестовой выборки - {:.0%} ({} строк)'.format(features_test.shape[0] / toxic_data.shape[0],\n",
    "                                                           features_test.shape[0]))"
   ],
   "metadata": {
    "collapsed": false
   }
  },
  {
   "cell_type": "markdown",
   "source": [
    "Получаем два набора обучающих данных (с дисбалансом и без него), а так же валидационную и тестовую выборки для сравнения параметров модели и её проверки.\n",
    "\n",
    "Но перед началом обучения необходимо провести векторизацию корпуса текстов."
   ],
   "metadata": {
    "collapsed": false
   }
  },
  {
   "cell_type": "code",
   "execution_count": 16,
   "outputs": [],
   "source": [
    "count_tf_idf = TfidfVectorizer(stop_words=stopwords)\n",
    "tfidf_train = count_tf_idf.fit_transform(features_train.values.astype('U').flatten())\n",
    "tfidf_train_up = count_tf_idf.transform(features_up.values.astype('U').flatten())\n",
    "tfidf_valid = count_tf_idf.transform(features_valid.values.astype('U').flatten())\n",
    "tfidf_test = count_tf_idf.transform(features_test.values.astype('U').flatten())"
   ],
   "metadata": {
    "collapsed": false
   }
  },
  {
   "cell_type": "code",
   "execution_count": 17,
   "outputs": [
    {
     "name": "stdout",
     "output_type": "stream",
     "text": [
      "(127433, 138749)\n",
      "(192473, 138749)\n",
      "(15929, 138749)\n",
      "(15930, 138749)\n"
     ]
    }
   ],
   "source": [
    "print(tfidf_train.shape)\n",
    "print(tfidf_train_up.shape)\n",
    "print(tfidf_valid.shape)\n",
    "print(tfidf_test.shape)"
   ],
   "metadata": {
    "collapsed": false
   }
  },
  {
   "cell_type": "markdown",
   "source": [
    "**Вывод**\n",
    "- данные загружены;\n",
    "- пропусков нет;\n",
    "- тексты приведены к нужному формату и лемматизированы;\n",
    "- получены наборы обучающих, валидационных и тестовых данных;\n",
    "- для обучающих данных проведена балансировка;\n",
    "- проведена векторизация корпусов текстов."
   ],
   "metadata": {
    "collapsed": false
   }
  },
  {
   "cell_type": "markdown",
   "source": [
    "## Шаг 2. Работа с моделями <a class=\"anchor\" id=\"section2\"></a>\n",
    "\n",
    "Создадим функции, которые позволят сравнить в конце все модели и следить за качеством по ходу работы."
   ],
   "metadata": {
    "collapsed": false
   }
  },
  {
   "cell_type": "code",
   "execution_count": 18,
   "outputs": [],
   "source": [
    "# Генерация таблицы с метриками\n",
    "def get_metrics(name: str = None,\n",
    "                accuracy: str = None,\n",
    "                f1: str = None):\n",
    "    df_metrics = pd.DataFrame()\n",
    "    df_metrics['model'] = [name]\n",
    "    df_metrics['accuracy'] = [accuracy]\n",
    "    df_metrics['f1_score'] = [f1]\n",
    "    return df_metrics"
   ],
   "metadata": {
    "collapsed": false
   }
  },
  {
   "cell_type": "markdown",
   "source": [
    "Выберем следующие регрессоры для обучения модели:\n",
    "\n",
    "- LogisticRegression;\n",
    "- RandomForestRegressor;\n",
    "- CatBoostRegressor;\n",
    "- DummyRegressor.\n",
    "\n",
    "**1. LogisticRegression**"
   ],
   "metadata": {
    "collapsed": false
   }
  },
  {
   "cell_type": "code",
   "execution_count": 19,
   "outputs": [],
   "source": [
    "lr = LogisticRegression(random_state=RAND, class_weight='balanced', n_jobs=-1)\n",
    "lr.fit(tfidf_train, target_train)\n",
    "predict_lr = lr.predict(tfidf_valid)\n",
    "accuracy_lr = accuracy_score(predict_lr, target_valid)\n",
    "f1_lr = f1_score(predict_lr, target_valid)\n",
    "metrics = get_metrics('LinearRegression', accuracy_lr, f1_lr)"
   ],
   "metadata": {
    "collapsed": false
   }
  },
  {
   "cell_type": "code",
   "execution_count": 20,
   "outputs": [],
   "source": [
    "lr_up = LogisticRegression(random_state=RAND, class_weight='balanced', n_jobs=-1)\n",
    "lr_up.fit(tfidf_train_up, target_up)\n",
    "\n",
    "predict_lr_up = lr_up.predict(tfidf_valid)\n",
    "accuracy_lr_up = accuracy_score(predict_lr_up, target_valid)\n",
    "f1_lr_up = f1_score(predict_lr_up, target_valid)\n",
    "\n",
    "metrics = metrics.append(get_metrics('LinearRegression_up', accuracy_lr_up, f1_lr_up))"
   ],
   "metadata": {
    "collapsed": false
   }
  },
  {
   "cell_type": "markdown",
   "source": [
    "**2. RandomForestClassifier**"
   ],
   "metadata": {
    "collapsed": false
   }
  },
  {
   "cell_type": "code",
   "execution_count": 21,
   "outputs": [],
   "source": [
    "rfc = RandomForestClassifier(random_state=RANDOM_VAL, n_jobs=-1)\n",
    "rfc.fit(tfidf_train, target_train)\n",
    "predict_rfc = rfc.predict(tfidf_valid)\n",
    "accuracy_rfc = accuracy_score(predict_rfc, target_valid)\n",
    "f1_rfc = f1_score(predict_rfc, target_valid)\n",
    "\n",
    "metrics = metrics.append(get_metrics('RandomForestClassifier', accuracy_rfc, f1_rfc))"
   ],
   "metadata": {
    "collapsed": false
   }
  },
  {
   "cell_type": "code",
   "execution_count": 22,
   "outputs": [],
   "source": [
    "rfc_up = RandomForestClassifier(random_state=RANDOM_VAL, n_jobs=-1)\n",
    "rfc_up.fit(tfidf_train_up, target_up)\n",
    "predict_rfc_up = rfc_up.predict(tfidf_valid)\n",
    "accuracy_rfc_up = accuracy_score(predict_rfc_up, target_valid)\n",
    "f1_rfc_up = f1_score(predict_rfc_up, target_valid)\n",
    "\n",
    "metrics = metrics.append(get_metrics('RandomForestClassifier_up', accuracy_rfc_up, f1_rfc_up))"
   ],
   "metadata": {
    "collapsed": false
   }
  },
  {
   "cell_type": "markdown",
   "source": [
    "**3. CatBoostClassifier**"
   ],
   "metadata": {
    "collapsed": false
   }
  },
  {
   "cell_type": "code",
   "execution_count": 24,
   "outputs": [],
   "source": [
    "model_cbr = CatBoostClassifier(random_seed=RAND,\n",
    "                               allow_writing_files=False)\n",
    "\n",
    "model_cbr.fit(tfidf_train,\n",
    "              target_train,\n",
    "              verbose=0)\n",
    "predict_cbr = model_cbr.predict(tfidf_valid)\n",
    "accuracy_cbr = accuracy_score(predict_cbr, target_valid)\n",
    "f1_cbr = f1_score(predict_cbr, target_valid)\n",
    "\n",
    "metrics = metrics.append(get_metrics('CatBoostRegressor', accuracy_cbr, f1_cbr))"
   ],
   "metadata": {
    "collapsed": false
   }
  },
  {
   "cell_type": "code",
   "execution_count": 25,
   "outputs": [],
   "source": [
    "model_cbr_up = CatBoostClassifier(random_seed=RAND,\n",
    "                                  allow_writing_files=False)\n",
    "\n",
    "model_cbr_up.fit(tfidf_train_up,\n",
    "                 target_up,\n",
    "                 verbose=0)\n",
    "predict_cbr_up = model_cbr_up.predict(tfidf_valid)\n",
    "accuracy_cbr_up = accuracy_score(predict_cbr_up, target_valid)\n",
    "f1_cbr_up = f1_score(predict_cbr_up, target_valid)\n",
    "\n",
    "metrics = metrics.append(get_metrics('CatBoostRegressor_up', accuracy_cbr_up, f1_cbr_up))"
   ],
   "metadata": {
    "collapsed": false
   }
  },
  {
   "cell_type": "markdown",
   "source": [
    "**4. DummyClassifier**"
   ],
   "metadata": {
    "collapsed": false
   }
  },
  {
   "cell_type": "code",
   "execution_count": 26,
   "outputs": [],
   "source": [
    "model_dc = DummyClassifier()\n",
    "model_dc.fit(tfidf_train, target_train)\n",
    "predict_dc = model_dc.predict(tfidf_valid)\n",
    "accuracy_dc = accuracy_score(predict_dc, target_valid)\n",
    "f1_dc = f1_score(predict_dc, target_valid)\n",
    "metrics = metrics.append(get_metrics('DummyClassifier', accuracy_dc, f1_dc))"
   ],
   "metadata": {
    "collapsed": false
   }
  },
  {
   "cell_type": "code",
   "execution_count": 27,
   "outputs": [],
   "source": [
    "model_dc_up = DummyClassifier()\n",
    "model_dc_up.fit(tfidf_train_up, target_up)\n",
    "predict_dc_up = model_dc_up.predict(tfidf_valid)\n",
    "accuracy_dc_up = accuracy_score(predict_dc_up, target_valid)\n",
    "f1_dc_up = f1_score(predict_dc_up, target_valid)\n",
    "metrics = metrics.append(get_metrics('DummyClassifier_up', accuracy_dc_up, f1_dc_up))"
   ],
   "metadata": {
    "collapsed": false
   }
  },
  {
   "cell_type": "code",
   "execution_count": 28,
   "outputs": [
    {
     "data": {
      "text/plain": "<pandas.io.formats.style.Styler at 0x1cb163aa4c0>",
      "text/html": "<style  type=\"text/css\" >\n#T_b4191_row0_col0{\n            background-color:  #f5a081;\n            color:  #000000;\n        }#T_b4191_row0_col1,#T_b4191_row1_col1{\n            background-color:  #c0282f;\n            color:  #f1f1f1;\n        }#T_b4191_row1_col0{\n            background-color:  #f49a7b;\n            color:  #000000;\n        }#T_b4191_row2_col0,#T_b4191_row2_col1{\n            background-color:  #d44e41;\n            color:  #000000;\n        }#T_b4191_row3_col0{\n            background-color:  #d95847;\n            color:  #000000;\n        }#T_b4191_row3_col1{\n            background-color:  #d55042;\n            color:  #000000;\n        }#T_b4191_row4_col0,#T_b4191_row5_col1{\n            background-color:  #b40426;\n            color:  #f1f1f1;\n        }#T_b4191_row4_col1{\n            background-color:  #bd1f2d;\n            color:  #f1f1f1;\n        }#T_b4191_row5_col0{\n            background-color:  #cf453c;\n            color:  #f1f1f1;\n        }#T_b4191_row6_col0,#T_b4191_row6_col1,#T_b4191_row7_col0,#T_b4191_row7_col1{\n            background-color:  #3b4cc0;\n            color:  #f1f1f1;\n        }</style><table id=\"T_b4191_\" ><thead>    <tr>        <th class=\"blank level0\" ></th>        <th class=\"col_heading level0 col0\" >accuracy</th>        <th class=\"col_heading level0 col1\" >f1_score</th>    </tr>    <tr>        <th class=\"index_name level0\" >model</th>        <th class=\"blank\" ></th>        <th class=\"blank\" ></th>    </tr></thead><tbody>\n                <tr>\n                        <th id=\"T_b4191_level0_row0\" class=\"row_heading level0 row0\" >LinearRegression</th>\n                        <td id=\"T_b4191_row0_col0\" class=\"data row0 col0\" >0.942118</td>\n                        <td id=\"T_b4191_row0_col1\" class=\"data row0 col1\" >0.749729</td>\n            </tr>\n            <tr>\n                        <th id=\"T_b4191_level0_row1\" class=\"row_heading level0 row1\" >LinearRegression_up</th>\n                        <td id=\"T_b4191_row1_col0\" class=\"data row1 col0\" >0.943123</td>\n                        <td id=\"T_b4191_row1_col1\" class=\"data row1 col1\" >0.751372</td>\n            </tr>\n            <tr>\n                        <th id=\"T_b4191_level0_row2\" class=\"row_heading level0 row2\" >RandomForestClassifier</th>\n                        <td id=\"T_b4191_row2_col0\" class=\"data row2 col0\" >0.952351</td>\n                        <td id=\"T_b4191_row2_col1\" class=\"data row2 col1\" >0.705243</td>\n            </tr>\n            <tr>\n                        <th id=\"T_b4191_level0_row3\" class=\"row_heading level0 row3\" >RandomForestClassifier_up</th>\n                        <td id=\"T_b4191_row3_col0\" class=\"data row3 col0\" >0.951158</td>\n                        <td id=\"T_b4191_row3_col1\" class=\"data row3 col1\" >0.700999</td>\n            </tr>\n            <tr>\n                        <th id=\"T_b4191_level0_row4\" class=\"row_heading level0 row4\" >CatBoostRegressor</th>\n                        <td id=\"T_b4191_row4_col0\" class=\"data row4 col0\" >0.957750</td>\n                        <td id=\"T_b4191_row4_col1\" class=\"data row4 col1\" >0.756600</td>\n            </tr>\n            <tr>\n                        <th id=\"T_b4191_level0_row5\" class=\"row_heading level0 row5\" >CatBoostRegressor_up</th>\n                        <td id=\"T_b4191_row5_col0\" class=\"data row5 col0\" >0.953293</td>\n                        <td id=\"T_b4191_row5_col1\" class=\"data row5 col1\" >0.776308</td>\n            </tr>\n            <tr>\n                        <th id=\"T_b4191_level0_row6\" class=\"row_heading level0 row6\" >DummyClassifier</th>\n                        <td id=\"T_b4191_row6_col0\" class=\"data row6 col0\" >0.899366</td>\n                        <td id=\"T_b4191_row6_col1\" class=\"data row6 col1\" >0.000000</td>\n            </tr>\n            <tr>\n                        <th id=\"T_b4191_level0_row7\" class=\"row_heading level0 row7\" >DummyClassifier_up</th>\n                        <td id=\"T_b4191_row7_col0\" class=\"data row7 col0\" >0.899366</td>\n                        <td id=\"T_b4191_row7_col1\" class=\"data row7 col1\" >0.000000</td>\n            </tr>\n    </tbody></table>"
     },
     "execution_count": 28,
     "metadata": {},
     "output_type": "execute_result"
    }
   ],
   "source": [
    "metrics = metrics.set_index('model')\n",
    "metrics.style.background_gradient(cmap='coolwarm')"
   ],
   "metadata": {
    "collapsed": false
   }
  },
  {
   "cell_type": "markdown",
   "source": [
    "Лучшей моделью по ключевой метрике f1 показала себя CatBoostRegressor, обученнная на сбалансированных данных. Дообучим модель на объединенных тестовых и валидационных данных и проверим качество выбранной модели на тестовых данных."
   ],
   "metadata": {
    "collapsed": false
   }
  },
  {
   "cell_type": "code",
   "execution_count": 29,
   "outputs": [
    {
     "name": "stdout",
     "output_type": "stream",
     "text": [
      "Точность модели CatBoostRegressor равна: 0.95\n",
      "F1 модели CatBoostRegressor равна: 0.77\n"
     ]
    }
   ],
   "source": [
    "best_model = model_cbr_up\n",
    "predict_best = best_model.predict(tfidf_test)\n",
    "accuracy_best = accuracy_score(predict_best, target_test)\n",
    "f1_best = f1_score(predict_best, target_test)\n",
    "print('Точность модели CatBoostRegressor равна: {:.2f}'.format(accuracy_best))\n",
    "print('F1 модели CatBoostRegressor равна: {:.2f}'.format(f1_best))"
   ],
   "metadata": {
    "collapsed": false
   }
  },
  {
   "cell_type": "markdown",
   "source": [
    "**Вывод**\n",
    "Искомая модель найдена, скор полученный на тестовой выборке удовлетворяет условию, в данных не найдены пропуски и дубликаты. Лучшая модель основанна на алгоритме CatBoostRegressor."
   ],
   "metadata": {
    "collapsed": false
   }
  },
  {
   "cell_type": "markdown",
   "source": [
    "## Шаг 3. Общий вывод <a class=\"anchor\" id=\"section3\"></a>\n",
    "В ходе проделанной работы было выполнено:\n",
    "1. В рамках подготовки данных:\n",
    "- проведена предобработка данных;\n",
    "- проведена лемматизация и векторизация корпусов текста;\n",
    "- решена проблема дисбаланса данных.\n",
    "2. В рамках работы с моделями:\n",
    "- исследованы модели регрессии;\n",
    "- получена таблица сравнительных признаков качества моделей;\n",
    "- выбрана лучшая модель;\n",
    "- её качество проверено на тестовой выборке;\n",
    "- модель прошла проверку DummyRegressor."
   ],
   "metadata": {
    "collapsed": false
   }
  }
 ],
 "metadata": {
  "kernelspec": {
   "display_name": "Python 3",
   "language": "python",
   "name": "python3"
  },
  "language_info": {
   "codemirror_mode": {
    "name": "ipython",
    "version": 2
   },
   "file_extension": ".py",
   "mimetype": "text/x-python",
   "name": "python",
   "nbconvert_exporter": "python",
   "pygments_lexer": "ipython2",
   "version": "2.7.6"
  }
 },
 "nbformat": 4,
 "nbformat_minor": 0
}

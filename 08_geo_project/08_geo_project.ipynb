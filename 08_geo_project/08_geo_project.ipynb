{
 "cells": [
  {
   "cell_type": "markdown",
   "metadata": {},
   "source": [
    "# Описание проекта\n",
    "\n",
    "Допустим, вы работаете в добывающей компании «ГлавРосГосНефть». Нужно решить, где бурить новую скважину.\n",
    "Шаги для выбора локации обычно такие:\n",
    "- В избранном регионе собирают характеристики для скважин: качество нефти и объём её запасов;\n",
    "- Строят модель для предсказания объёма запасов в новых скважинах;\n",
    "- Выбирают скважины с самыми высокими оценками значений;\n",
    "- Определяют регион с максимальной суммарной прибылью отобранных скважин.\n",
    "\n",
    "- Вам предоставлены пробы нефти в трёх регионах. Характеристики для каждой скважины в регионе уже известны. Постройте модель для определения региона, где добыча принесёт наибольшую прибыль. Проанализируйте возможную прибыль и риски техникой Bootstrap.\n",
    "\n",
    "### Описание данных\n",
    "Данные геологоразведки трёх регионов находятся в файлах:\n",
    "- `/datasets/geo_data_0.csv`;\n",
    "- `/datasets/geo_data_1.csv`;\n",
    "- `/datasets/geo_data_2.csv`;\n",
    "- `id` — уникальный идентификатор скважины;\n",
    "- `f0`, `f1`, `f2` — три признака точек (неважно, что они означают, но сами признаки значимы);\n",
    "- `product` — объём запасов в скважине (тыс. баррелей).\n",
    "\n",
    "**Условия задачи:**\n",
    "- Для обучения модели подходит только линейная регрессия (остальные — недостаточно предсказуемые).\n",
    "- При разведке региона исследуют 500 точек, из которых с помощью машинного обучения выбирают 200 лучших для разработки.\n",
    "- Бюджет на разработку скважин в регионе — 10 млрд рублей.\n",
    "- При нынешних ценах один баррель сырья приносит 450 рублей дохода. Доход с каждой единицы продукта составляет 450 тыс. рублей, поскольку объём указан в тысячах баррелей.\n",
    "- После оценки рисков нужно оставить лишь те регионы, в которых вероятность убытков меньше 2.5%. Среди них выбирают регион с наибольшей средней прибылью.\n",
    "\n",
    "Данные синтетические: детали контрактов и характеристики месторождений не разглашаются.\n",
    "\n",
    "## Постановка задачи\n",
    "### [Шаг 1. Знакомство с данными, их изучение и предобработка](#section1)\n",
    "Загрузить и подготовить данные. Пояснить порядок действий.\n",
    "\n",
    "### [Шаг 2. Обучение и проверка модели для каждого региона:](#section2)\n",
    "2.1. Разбить данные на обучающую и валидационную выборки в соотношении 75:25.\n",
    "2.2. Обучить модель и сделать предсказания на валидационной выборке.\n",
    "2.3. Сохранить предсказания и правильные ответы на валидационной выборке.\n",
    "2.4. Напечать на экране средний запас предсказанного сырья и RMSE модели.\n",
    "2.5. Проанализировать результаты.\n",
    "\n",
    "### [Шаг 3. Подготовка к расчёту прибыли:](#section3)\n",
    "3.1. Все ключевые значения для расчётов сохранить в отдельных переменных.\n",
    "3.2. Рассчитать достаточный объём сырья для безубыточной разработки новой скважины. Сравнить полученный объём сырья со средним запасом в каждом регионе.\n",
    "3.3. Написать выводы по этапу подготовки расчёта прибыли.\n",
    "\n",
    "### [Шаг 4. Создание функции для расчёта прибыли по выбранным скважинам и предсказаниям модели:](#section4)\n",
    "4.1. Выбрать скважины с максимальными значениями предсказаний.\n",
    "4.2. Просуммировать целевое значение объёма сырья, соответствующее этим предсказаниям.\n",
    "4.3. Рассчитать прибыль для полученного объёма сырья.\n",
    "\n",
    "### [Шаг 5. Расчет рисков и прибылей для каждого региона:](#section5)\n",
    "5.1. Применить технику Bootstrap с 1000 выборок, чтобы найти распределение прибыли.\n",
    "5.2. Найти среднюю прибыль, 95%-й доверительный интервал и риск убытков. Убыток — это отрицательная прибыль.\n",
    "5.3. Написать выводы: предложить регион для разработки скважин и обосновать выбор.\n",
    "\n",
    "### [Шаг 6. Общий вывод](#section6)\n"
   ]
  },
  {
   "cell_type": "markdown",
   "metadata": {},
   "source": [
    "# Решение задачи\n",
    "## Шаг 1. Знакомство с данными, их изучение и предобработка <a class=\"anchor\" id=\"section1\"></a>\n",
    "\n",
    "Импортируем необходимые библиотеки для дальнейшей работы."
   ]
  },
  {
   "cell_type": "code",
   "execution_count": 1,
   "metadata": {},
   "outputs": [],
   "source": [
    "import pandas as pd\n",
    "import numpy as np\n",
    "import matplotlib.pyplot as plt\n",
    "import seaborn as sns\n",
    "import statistics as st\n",
    "import scipy.stats as sst\n",
    "\n",
    "from sklearn import preprocessing as sp\n",
    "from sklearn.model_selection import train_test_split\n",
    "from sklearn.linear_model import LinearRegression\n",
    "from sklearn.metrics import mean_squared_error\n",
    "\n",
    "import warnings\n",
    "\n",
    "warnings.filterwarnings('ignore')\n",
    "\n",
    "# Здесь же зафиксируем псевдослучайность\n",
    "random_val = np.random.RandomState(42)"
   ]
  },
  {
   "cell_type": "markdown",
   "metadata": {},
   "source": [
    "<div class=\"alert alert-block alert-success\">\n",
    "<b>Успех:</b> Отлично, что все импорты собраны в первой ячейке ноутбука! Если у того, кто будет запускать твой ноутбук будут отсутствовать некоторые библиотеки, то он это увидит сразу, а не в процессе!\n",
    "</div>"
   ]
  },
  {
   "cell_type": "markdown",
   "metadata": {},
   "source": [
    "Загрузим данные."
   ]
  },
  {
   "cell_type": "code",
   "execution_count": 2,
   "metadata": {},
   "outputs": [],
   "source": [
    "geo_data_0 = pd.read_csv('/datasets/geo_data_0.csv')\n",
    "geo_data_1 = pd.read_csv('/datasets/geo_data_1.csv')\n",
    "geo_data_2 = pd.read_csv('/datasets/geo_data_2.csv')"
   ]
  },
  {
   "cell_type": "markdown",
   "metadata": {},
   "source": [
    "Создадим функцию для получения общей информации о наборе данных каждого региона."
   ]
  },
  {
   "cell_type": "code",
   "execution_count": 3,
   "metadata": {},
   "outputs": [],
   "source": [
    "def research_info(data):\n",
    "    print('Размеры таблицы: {}'.format(data.shape))\n",
    "    print('Дубликатов: {}'.format(data.isna().sum().sum()))\n",
    "    print('Пропусков: {}'.format(data.duplicated().sum()))\n",
    "    display(data.describe())\n",
    "    print('Распределение признаков:')\n",
    "    data[['f0', 'f1', 'f2']].boxplot()\n",
    "    plt.show()"
   ]
  },
  {
   "cell_type": "code",
   "execution_count": 4,
   "metadata": {},
   "outputs": [
    {
     "name": "stdout",
     "output_type": "stream",
     "text": [
      "Регион 0\n",
      "Размеры таблицы: (100000, 5)\n",
      "Дубликатов: 0\n",
      "Пропусков: 0\n"
     ]
    },
    {
     "data": {
      "text/html": [
       "<div>\n",
       "<style scoped>\n",
       "    .dataframe tbody tr th:only-of-type {\n",
       "        vertical-align: middle;\n",
       "    }\n",
       "\n",
       "    .dataframe tbody tr th {\n",
       "        vertical-align: top;\n",
       "    }\n",
       "\n",
       "    .dataframe thead th {\n",
       "        text-align: right;\n",
       "    }\n",
       "</style>\n",
       "<table border=\"1\" class=\"dataframe\">\n",
       "  <thead>\n",
       "    <tr style=\"text-align: right;\">\n",
       "      <th></th>\n",
       "      <th>f0</th>\n",
       "      <th>f1</th>\n",
       "      <th>f2</th>\n",
       "      <th>product</th>\n",
       "    </tr>\n",
       "  </thead>\n",
       "  <tbody>\n",
       "    <tr>\n",
       "      <th>count</th>\n",
       "      <td>100000.000000</td>\n",
       "      <td>100000.000000</td>\n",
       "      <td>100000.000000</td>\n",
       "      <td>100000.000000</td>\n",
       "    </tr>\n",
       "    <tr>\n",
       "      <th>mean</th>\n",
       "      <td>0.500419</td>\n",
       "      <td>0.250143</td>\n",
       "      <td>2.502647</td>\n",
       "      <td>92.500000</td>\n",
       "    </tr>\n",
       "    <tr>\n",
       "      <th>std</th>\n",
       "      <td>0.871832</td>\n",
       "      <td>0.504433</td>\n",
       "      <td>3.248248</td>\n",
       "      <td>44.288691</td>\n",
       "    </tr>\n",
       "    <tr>\n",
       "      <th>min</th>\n",
       "      <td>-1.408605</td>\n",
       "      <td>-0.848218</td>\n",
       "      <td>-12.088328</td>\n",
       "      <td>0.000000</td>\n",
       "    </tr>\n",
       "    <tr>\n",
       "      <th>25%</th>\n",
       "      <td>-0.072580</td>\n",
       "      <td>-0.200881</td>\n",
       "      <td>0.287748</td>\n",
       "      <td>56.497507</td>\n",
       "    </tr>\n",
       "    <tr>\n",
       "      <th>50%</th>\n",
       "      <td>0.502360</td>\n",
       "      <td>0.250252</td>\n",
       "      <td>2.515969</td>\n",
       "      <td>91.849972</td>\n",
       "    </tr>\n",
       "    <tr>\n",
       "      <th>75%</th>\n",
       "      <td>1.073581</td>\n",
       "      <td>0.700646</td>\n",
       "      <td>4.715088</td>\n",
       "      <td>128.564089</td>\n",
       "    </tr>\n",
       "    <tr>\n",
       "      <th>max</th>\n",
       "      <td>2.362331</td>\n",
       "      <td>1.343769</td>\n",
       "      <td>16.003790</td>\n",
       "      <td>185.364347</td>\n",
       "    </tr>\n",
       "  </tbody>\n",
       "</table>\n",
       "</div>"
      ],
      "text/plain": [
       "                  f0             f1             f2        product\n",
       "count  100000.000000  100000.000000  100000.000000  100000.000000\n",
       "mean        0.500419       0.250143       2.502647      92.500000\n",
       "std         0.871832       0.504433       3.248248      44.288691\n",
       "min        -1.408605      -0.848218     -12.088328       0.000000\n",
       "25%        -0.072580      -0.200881       0.287748      56.497507\n",
       "50%         0.502360       0.250252       2.515969      91.849972\n",
       "75%         1.073581       0.700646       4.715088     128.564089\n",
       "max         2.362331       1.343769      16.003790     185.364347"
      ]
     },
     "metadata": {},
     "output_type": "display_data"
    },
    {
     "name": "stdout",
     "output_type": "stream",
     "text": [
      "Распределение признаков:\n"
     ]
    },
    {
     "data": {
      "image/png": "[encoded data removed]",
      "text/plain": [
       "<Figure size 432x288 with 1 Axes>"
      ]
     },
     "metadata": {
      "needs_background": "light"
     },
     "output_type": "display_data"
    }
   ],
   "source": [
    "print('Регион 0')\n",
    "research_info(geo_data_0)"
   ]
  },
  {
   "cell_type": "code",
   "execution_count": 5,
   "metadata": {},
   "outputs": [
    {
     "name": "stdout",
     "output_type": "stream",
     "text": [
      "Регион 1\n",
      "Размеры таблицы: (100000, 5)\n",
      "Дубликатов: 0\n",
      "Пропусков: 0\n"
     ]
    },
    {
     "data": {
      "text/html": [
       "<div>\n",
       "<style scoped>\n",
       "    .dataframe tbody tr th:only-of-type {\n",
       "        vertical-align: middle;\n",
       "    }\n",
       "\n",
       "    .dataframe tbody tr th {\n",
       "        vertical-align: top;\n",
       "    }\n",
       "\n",
       "    .dataframe thead th {\n",
       "        text-align: right;\n",
       "    }\n",
       "</style>\n",
       "<table border=\"1\" class=\"dataframe\">\n",
       "  <thead>\n",
       "    <tr style=\"text-align: right;\">\n",
       "      <th></th>\n",
       "      <th>f0</th>\n",
       "      <th>f1</th>\n",
       "      <th>f2</th>\n",
       "      <th>product</th>\n",
       "    </tr>\n",
       "  </thead>\n",
       "  <tbody>\n",
       "    <tr>\n",
       "      <th>count</th>\n",
       "      <td>100000.000000</td>\n",
       "      <td>100000.000000</td>\n",
       "      <td>100000.000000</td>\n",
       "      <td>100000.000000</td>\n",
       "    </tr>\n",
       "    <tr>\n",
       "      <th>mean</th>\n",
       "      <td>1.141296</td>\n",
       "      <td>-4.796579</td>\n",
       "      <td>2.494541</td>\n",
       "      <td>68.825000</td>\n",
       "    </tr>\n",
       "    <tr>\n",
       "      <th>std</th>\n",
       "      <td>8.965932</td>\n",
       "      <td>5.119872</td>\n",
       "      <td>1.703572</td>\n",
       "      <td>45.944423</td>\n",
       "    </tr>\n",
       "    <tr>\n",
       "      <th>min</th>\n",
       "      <td>-31.609576</td>\n",
       "      <td>-26.358598</td>\n",
       "      <td>-0.018144</td>\n",
       "      <td>0.000000</td>\n",
       "    </tr>\n",
       "    <tr>\n",
       "      <th>25%</th>\n",
       "      <td>-6.298551</td>\n",
       "      <td>-8.267985</td>\n",
       "      <td>1.000021</td>\n",
       "      <td>26.953261</td>\n",
       "    </tr>\n",
       "    <tr>\n",
       "      <th>50%</th>\n",
       "      <td>1.153055</td>\n",
       "      <td>-4.813172</td>\n",
       "      <td>2.011479</td>\n",
       "      <td>57.085625</td>\n",
       "    </tr>\n",
       "    <tr>\n",
       "      <th>75%</th>\n",
       "      <td>8.621015</td>\n",
       "      <td>-1.332816</td>\n",
       "      <td>3.999904</td>\n",
       "      <td>107.813044</td>\n",
       "    </tr>\n",
       "    <tr>\n",
       "      <th>max</th>\n",
       "      <td>29.421755</td>\n",
       "      <td>18.734063</td>\n",
       "      <td>5.019721</td>\n",
       "      <td>137.945408</td>\n",
       "    </tr>\n",
       "  </tbody>\n",
       "</table>\n",
       "</div>"
      ],
      "text/plain": [
       "                  f0             f1             f2        product\n",
       "count  100000.000000  100000.000000  100000.000000  100000.000000\n",
       "mean        1.141296      -4.796579       2.494541      68.825000\n",
       "std         8.965932       5.119872       1.703572      45.944423\n",
       "min       -31.609576     -26.358598      -0.018144       0.000000\n",
       "25%        -6.298551      -8.267985       1.000021      26.953261\n",
       "50%         1.153055      -4.813172       2.011479      57.085625\n",
       "75%         8.621015      -1.332816       3.999904     107.813044\n",
       "max        29.421755      18.734063       5.019721     137.945408"
      ]
     },
     "metadata": {},
     "output_type": "display_data"
    },
    {
     "name": "stdout",
     "output_type": "stream",
     "text": [
      "Распределение признаков:\n"
     ]
    },
    {
     "data": {
      "image/png": "[encoded data removed]",
      "text/plain": [
       "<Figure size 432x288 with 1 Axes>"
      ]
     },
     "metadata": {
      "needs_background": "light"
     },
     "output_type": "display_data"
    }
   ],
   "source": [
    "print('Регион 1')\n",
    "research_info(geo_data_1)"
   ]
  },
  {
   "cell_type": "code",
   "execution_count": 6,
   "metadata": {},
   "outputs": [
    {
     "name": "stdout",
     "output_type": "stream",
     "text": [
      "Регион 2\n",
      "Размеры таблицы: (100000, 5)\n",
      "Дубликатов: 0\n",
      "Пропусков: 0\n"
     ]
    },
    {
     "data": {
      "text/html": [
       "<div>\n",
       "<style scoped>\n",
       "    .dataframe tbody tr th:only-of-type {\n",
       "        vertical-align: middle;\n",
       "    }\n",
       "\n",
       "    .dataframe tbody tr th {\n",
       "        vertical-align: top;\n",
       "    }\n",
       "\n",
       "    .dataframe thead th {\n",
       "        text-align: right;\n",
       "    }\n",
       "</style>\n",
       "<table border=\"1\" class=\"dataframe\">\n",
       "  <thead>\n",
       "    <tr style=\"text-align: right;\">\n",
       "      <th></th>\n",
       "      <th>f0</th>\n",
       "      <th>f1</th>\n",
       "      <th>f2</th>\n",
       "      <th>product</th>\n",
       "    </tr>\n",
       "  </thead>\n",
       "  <tbody>\n",
       "    <tr>\n",
       "      <th>count</th>\n",
       "      <td>100000.000000</td>\n",
       "      <td>100000.000000</td>\n",
       "      <td>100000.000000</td>\n",
       "      <td>100000.000000</td>\n",
       "    </tr>\n",
       "    <tr>\n",
       "      <th>mean</th>\n",
       "      <td>0.002023</td>\n",
       "      <td>-0.002081</td>\n",
       "      <td>2.495128</td>\n",
       "      <td>95.000000</td>\n",
       "    </tr>\n",
       "    <tr>\n",
       "      <th>std</th>\n",
       "      <td>1.732045</td>\n",
       "      <td>1.730417</td>\n",
       "      <td>3.473445</td>\n",
       "      <td>44.749921</td>\n",
       "    </tr>\n",
       "    <tr>\n",
       "      <th>min</th>\n",
       "      <td>-8.760004</td>\n",
       "      <td>-7.084020</td>\n",
       "      <td>-11.970335</td>\n",
       "      <td>0.000000</td>\n",
       "    </tr>\n",
       "    <tr>\n",
       "      <th>25%</th>\n",
       "      <td>-1.162288</td>\n",
       "      <td>-1.174820</td>\n",
       "      <td>0.130359</td>\n",
       "      <td>59.450441</td>\n",
       "    </tr>\n",
       "    <tr>\n",
       "      <th>50%</th>\n",
       "      <td>0.009424</td>\n",
       "      <td>-0.009482</td>\n",
       "      <td>2.484236</td>\n",
       "      <td>94.925613</td>\n",
       "    </tr>\n",
       "    <tr>\n",
       "      <th>75%</th>\n",
       "      <td>1.158535</td>\n",
       "      <td>1.163678</td>\n",
       "      <td>4.858794</td>\n",
       "      <td>130.595027</td>\n",
       "    </tr>\n",
       "    <tr>\n",
       "      <th>max</th>\n",
       "      <td>7.238262</td>\n",
       "      <td>7.844801</td>\n",
       "      <td>16.739402</td>\n",
       "      <td>190.029838</td>\n",
       "    </tr>\n",
       "  </tbody>\n",
       "</table>\n",
       "</div>"
      ],
      "text/plain": [
       "                  f0             f1             f2        product\n",
       "count  100000.000000  100000.000000  100000.000000  100000.000000\n",
       "mean        0.002023      -0.002081       2.495128      95.000000\n",
       "std         1.732045       1.730417       3.473445      44.749921\n",
       "min        -8.760004      -7.084020     -11.970335       0.000000\n",
       "25%        -1.162288      -1.174820       0.130359      59.450441\n",
       "50%         0.009424      -0.009482       2.484236      94.925613\n",
       "75%         1.158535       1.163678       4.858794     130.595027\n",
       "max         7.238262       7.844801      16.739402     190.029838"
      ]
     },
     "metadata": {},
     "output_type": "display_data"
    },
    {
     "name": "stdout",
     "output_type": "stream",
     "text": [
      "Распределение признаков:\n"
     ]
    },
    {
     "data": {
      "image/png": "[encoded data removed]",
      "text/plain": [
       "<Figure size 432x288 with 1 Axes>"
      ]
     },
     "metadata": {
      "needs_background": "light"
     },
     "output_type": "display_data"
    }
   ],
   "source": [
    "print('Регион 2')\n",
    "research_info(geo_data_2)"
   ]
  },
  {
   "cell_type": "code",
   "execution_count": 7,
   "metadata": {},
   "outputs": [
    {
     "name": "stdout",
     "output_type": "stream",
     "text": [
      "Уникальные ли значения id в датасете региона 0: False\n",
      "Уникальные ли значения id в датасете региона 1: False\n",
      "Уникальные ли значения id в датасете региона 2: False\n"
     ]
    }
   ],
   "source": [
    "for idx, geo_data in enumerate((geo_data_0, geo_data_1, geo_data_2)):\n",
    "    print('Уникальные ли значения id в датасете региона {}: {}'.format(\n",
    "        idx,\n",
    "        geo_data['id'].unique().shape[0] == geo_data.shape[0],\n",
    "    ))"
   ]
  },
  {
   "cell_type": "markdown",
   "metadata": {},
   "source": [
    "*Итоги ознакомительной работы:*\n",
    "1. Ящики с усами показывают, что в некоторых столбцах есть данные с выбросами. Такие выбросы лучше удалить, чтобы не портилось качество обучения.\n",
    "2. Столбец `id` не несет в себе важной для обучения информации и его смело можно удалить."
   ]
  },
  {
   "cell_type": "code",
   "execution_count": 8,
   "metadata": {},
   "outputs": [],
   "source": [
    "def remove_tails(data, column):\n",
    "    del_index = []\n",
    "    q25 = np.array(data[column].quantile(0.25))\n",
    "    q75 = np.array(data[column].quantile(0.75))\n",
    "    min_part = q25 - 1.5 * (q75 - q25)\n",
    "    max_part = q75 + 1.5 * (q75 - q25)\n",
    "    for index_value, value in zip(data[column].index, data[column]):\n",
    "        if value <= min_part or max_part <= value:\n",
    "            del_index.append(index_value)\n",
    "    return del_index"
   ]
  },
  {
   "cell_type": "markdown",
   "metadata": {},
   "source": [
    "Удалим так же столбец `id`."
   ]
  },
  {
   "cell_type": "code",
   "execution_count": 10,
   "metadata": {},
   "outputs": [],
   "source": [
    "for geo_data in (geo_data_0, geo_data_1, geo_data_2):\n",
    "    geo_data.drop('id', axis=1, inplace=True)"
   ]
  },
  {
   "cell_type": "markdown",
   "metadata": {},
   "source": [
    "Проверим есть ли корреляция между данными."
   ]
  },
  {
   "cell_type": "code",
   "execution_count": 11,
   "metadata": {},
   "outputs": [
    {
     "data": {
      "image/png": "[encoded data removed]",
      "text/plain": [
       "<Figure size 432x288 with 2 Axes>"
      ]
     },
     "metadata": {
      "needs_background": "light"
     },
     "output_type": "display_data"
    },
    {
     "data": {
      "image/png": "[encoded data removed]",
      "text/plain": [
       "<Figure size 432x288 with 2 Axes>"
      ]
     },
     "metadata": {
      "needs_background": "light"
     },
     "output_type": "display_data"
    },
    {
     "data": {
      "image/png": "[encoded data removed]",
      "text/plain": [
       "<Figure size 432x288 with 2 Axes>"
      ]
     },
     "metadata": {
      "needs_background": "light"
     },
     "output_type": "display_data"
    }
   ],
   "source": [
    "for geo_data in (geo_data_0, geo_data_1, geo_data_2):\n",
    "    mask = np.triu(np.ones_like(geo_data.corr(), dtype=np.bool))\n",
    "    sns.heatmap(geo_data.corr(), mask=mask, annot=True, fmt='.4f',\n",
    "                vmin=-1, vmax=1, cmap='coolwarm')\n",
    "    plt.show()"
   ]
  },
  {
   "cell_type": "markdown",
   "metadata": {},
   "source": [
    "*Итог предобработки:*\n",
    "1. Для региона 0 признаки `f0` и `f1` согласно шкале Чеддока средне-отрицательно коррелируют между собой, `f2` и `product` - средне-положительно, по остальным парам корреляция очень слабая.\n",
    "2. Для региона 1 признаки `f2` и `product` коррелируют между собой очень высоко, по остальным парам корреляция очень слабая.\n",
    "2. Для региона 2 признаки `f2` и `product` коррелируют между собой средне-положительно, по остальным парам корреляция очень слабая.\n",
    "\n",
    "Если в случае с данными региона 1 все достаточно понятно, там очень высокая корреляция и признак `f2` следует удалить, то вот в случае с остальными стоит опираться на результат, который будет получен на моделях.\n",
    "\n",
    "Следовательно, необходимо подготовить 3 выборки:\n",
    "- для региона 0 сохранив все столбцы;\n",
    "- для региона 1 удалив столбец `f2`;\n",
    "- для региона 1 сохранив все столбцы;\n",
    "- для региона 2 сохранив все столбцы.\n"
   ]
  },
  {
   "cell_type": "code",
   "execution_count": 12,
   "metadata": {},
   "outputs": [],
   "source": [
    "geo_data_1_out_f2 = geo_data_1.drop(['f2'], axis=1)"
   ]
  },
  {
   "cell_type": "markdown",
   "metadata": {},
   "source": [
    "**Итог первичного анализа:**\n",
    "- данные проверены на отсутствие пропусков;\n",
    "- дубликаты в данных отсутствуют;\n",
    "- данные очищены от выбросов;\n",
    "- учтены коррелирующие признаки.\n",
    "\n",
    "Данные готовы к обучению.\n",
    "\n",
    "На следующем этапе необходимо:\n",
    "1. провести разделение на обучающую и валидационную выборки;\n",
    "2. нормализовать данные для каждой выборки."
   ]
  },
  {
   "cell_type": "markdown",
   "metadata": {},
   "source": [
    "## Шаг 2. Обучение и проверка модели для каждого региона <a class=\"anchor\" id=\"section2\"></a>\n"
   ]
  },
  {
   "cell_type": "markdown",
   "metadata": {},
   "source": [
    "Создадим функцию, которая разделит данные каждого региона на обучающую и валидационную выборки."
   ]
  },
  {
   "cell_type": "code",
   "execution_count": 13,
   "metadata": {},
   "outputs": [],
   "source": [
    "def split_data(data):\n",
    "    features_train_data, features_valid_data, target_train_data, target_valid_data = train_test_split(\n",
    "        data.drop(['product'], axis=1), data['product'], test_size=0.25, random_state=random_val)\n",
    "    print('Размер обучающей выборки', features_train_data.shape[0])\n",
    "    print('Размер валидационной выборки', features_valid_data.shape[0])\n",
    "    return features_train_data, features_valid_data, target_train_data, target_valid_data"
   ]
  },
  {
   "cell_type": "code",
   "execution_count": 14,
   "metadata": {},
   "outputs": [
    {
     "name": "stdout",
     "output_type": "stream",
     "text": [
      "Размер обучающей выборки 75000\n",
      "Размер валидационной выборки 25000\n"
     ]
    }
   ],
   "source": [
    "geo_0_features_train, geo_0_features_valid, geo_0_target_train, geo_0_target_valid = split_data(geo_data_0)"
   ]
  },
  {
   "cell_type": "markdown",
   "metadata": {},
   "source": [
    "Проведем дополнительно исследование для данных без учета работы с коррелирующими признаками."
   ]
  },
  {
   "cell_type": "code",
   "execution_count": 15,
   "outputs": [
    {
     "name": "stdout",
     "output_type": "stream",
     "text": [
      "Размер обучающей выборки 75000\n",
      "Размер валидационной выборки 25000\n"
     ]
    }
   ],
   "source": [
    "geo_1_features_train, geo_1_features_valid, geo_1_target_train, geo_1_target_valid = split_data(geo_data_1_out_f2)"
   ],
   "metadata": {
    "collapsed": false
   }
  },
  {
   "cell_type": "code",
   "execution_count": 17,
   "outputs": [
    {
     "name": "stdout",
     "output_type": "stream",
     "text": [
      "Размер обучающей выборки 75000\n",
      "Размер валидационной выборки 25000\n"
     ]
    }
   ],
   "source": [
    "geo_1_features_train_dirt, geo_1_features_valid_dirt, geo_1_target_train_dirt, geo_1_target_valid_dirt = split_data(geo_data_1)"
   ],
   "metadata": {
    "collapsed": false
   }
  },
  {
   "cell_type": "code",
   "execution_count": 16,
   "outputs": [
    {
     "name": "stdout",
     "output_type": "stream",
     "text": [
      "Размер обучающей выборки 75000\n",
      "Размер валидационной выборки 25000\n"
     ]
    }
   ],
   "source": [
    "geo_2_features_train, geo_2_features_valid, geo_2_target_train, geo_2_target_valid = split_data(geo_data_2)"
   ],
   "metadata": {
    "collapsed": false
   }
  },
  {
   "cell_type": "markdown",
   "metadata": {},
   "source": [
    "Создадим функцию, которая будет выполнять следующий набор действий:\n",
    "- получает на вход набор данных (созданные ранее обучающие и валидационные выборки);\n",
    "- нормализует признаки на обучающей и валидационной выборках;\n",
    "- возвращает таблицу сравнений реального и предсказанного объемов нефти в скважинах, RMSE, средний предсказанный запас сырья в регионе, суммарный предсказанный запас."
   ]
  },
  {
   "cell_type": "code",
   "execution_count": 18,
   "metadata": {},
   "outputs": [],
   "source": [
    "lr = LinearRegression(normalize=False)\n",
    "\n",
    "\n",
    "def oil_predict(features_train, features_valid, target_train, target_valid):\n",
    "    scaler = sp.MinMaxScaler()\n",
    "    features_train = scaler.fit_transform(features_train)\n",
    "    features_valid = scaler.transform(features_valid)\n",
    "\n",
    "    lr.fit(features_train, target_train)\n",
    "\n",
    "    predicted_target = lr.predict(features_valid)\n",
    "    data = {'real_product': target_valid,\n",
    "            'predicted_product': predicted_target,\n",
    "            }\n",
    "    data_frame = pd.DataFrame(data, columns=['real_product', 'predicted_product'])\n",
    "    rmse = mean_squared_error(target_valid, predicted_target) ** 0.5\n",
    "    mean = data_frame['predicted_product'].mean()\n",
    "    oil_sum = data_frame['predicted_product'].sum()\n",
    "    return data_frame, rmse, mean, oil_sum"
   ]
  },
  {
   "cell_type": "code",
   "execution_count": 19,
   "metadata": {},
   "outputs": [],
   "source": [
    "def oil_info(data_frame, rmse, mean, oil_sum):\n",
    "    print(data_frame.sample(n=3))\n",
    "    print('RMSE - {:.3f}'.format(rmse))\n",
    "    print('Средний запас сырья - {:.3f}'.format(mean))\n",
    "    print('Суммарный предсказанный запас в регионе - {:.3f}'.format(oil_sum))\n",
    "    print('Суммарный реальный запас в регионе - {:.3f}'.format(data_frame['real_product'].sum()))\n",
    "    print('Абсолютная разница реальных и предсказанных суммарных запасов - {:.3f}'.format(\n",
    "        abs(data_frame['real_product'].sum() - oil_sum)))\n",
    "    return"
   ]
  },
  {
   "cell_type": "code",
   "execution_count": 20,
   "metadata": {},
   "outputs": [
    {
     "name": "stdout",
     "output_type": "stream",
     "text": [
      "Регион 0\n",
      "       real_product  predicted_product\n",
      "80635      9.270928          50.729988\n",
      "7665     112.478330         106.976788\n",
      "62311    112.859826         123.632357\n",
      "RMSE - 37.757\n",
      "Средний запас сырья - 92.399\n",
      "Суммарный предсказанный запас в регионе - 2309969.998\n",
      "Суммарный реальный запас в регионе - 2308148.909\n",
      "Абсолютная разница реальных и предсказанных суммарных запасов - 1821.088\n"
     ]
    }
   ],
   "source": [
    "geo_0_predicted, geo_0_rmse, geo_0_predicted_mean, geo_0_predicted_sum = oil_predict(geo_0_features_train,\n",
    "                                                                                     geo_0_features_valid,\n",
    "                                                                                     geo_0_target_train,\n",
    "                                                                                     geo_0_target_valid)\n",
    "print('Регион 0')\n",
    "oil_info(geo_0_predicted, geo_0_rmse, geo_0_predicted_mean, geo_0_predicted_sum)"
   ]
  },
  {
   "cell_type": "code",
   "execution_count": 21,
   "metadata": {},
   "outputs": [
    {
     "name": "stdout",
     "output_type": "stream",
     "text": [
      "Регион 1\n",
      "       real_product  predicted_product\n",
      "62526     26.953261          66.905616\n",
      "5588      84.038886          70.877342\n",
      "90237     30.132364          70.390411\n",
      "RMSE - 45.920\n",
      "Средний запас сырья - 68.893\n",
      "Суммарный предсказанный запас в регионе - 1722335.803\n",
      "Суммарный реальный запас в регионе - 1714992.183\n",
      "Абсолютная разница реальных и предсказанных суммарных запасов - 7343.619\n"
     ]
    }
   ],
   "source": [
    "geo_1_predicted, geo_1_rmse, geo_1_predicted_mean, geo_1_predicted_sum = oil_predict(geo_1_features_train,\n",
    "                                                                                     geo_1_features_valid,\n",
    "                                                                                     geo_1_target_train,\n",
    "                                                                                     geo_1_target_valid)\n",
    "print('Регион 1')\n",
    "oil_info(geo_1_predicted, geo_1_rmse, geo_1_predicted_mean, geo_1_predicted_sum)"
   ]
  },
  {
   "cell_type": "code",
   "execution_count": 23,
   "metadata": {},
   "outputs": [
    {
     "name": "stdout",
     "output_type": "stream",
     "text": [
      "Регион 1 (с сильно-коррелирующими данными)\n",
      "       real_product  predicted_product\n",
      "17795    110.992147         110.730647\n",
      "1918      84.038886          83.268672\n",
      "57651    134.766305         134.565815\n",
      "RMSE - 0.893\n",
      "Средний запас сырья - 68.569\n",
      "Суммарный предсказанный запас в регионе - 1714237.083\n",
      "Суммарный реальный запас в регионе - 1714106.319\n",
      "Абсолютная разница реальных и предсказанных суммарных запасов - 130.764\n"
     ]
    }
   ],
   "source": [
    "geo_1_predicted_dirt, geo_1_rmse_dirt, geo_1_predicted_mean_dirt, geo_1_predicted_sum_dirt = oil_predict(geo_1_features_train_dirt,\n",
    "                                                                                                         geo_1_features_valid_dirt,\n",
    "                                                                                                         geo_1_target_train_dirt,\n",
    "                                                                                                         geo_1_target_valid_dirt)\n",
    "print('Регион 1 (с сильно-коррелирующими данными)')\n",
    "oil_info(geo_1_predicted_dirt, geo_1_rmse_dirt, geo_1_predicted_mean_dirt, geo_1_predicted_sum_dirt)"
   ]
  },
  {
   "cell_type": "code",
   "execution_count": 22,
   "outputs": [
    {
     "name": "stdout",
     "output_type": "stream",
     "text": [
      "Регион 2\n",
      "       real_product  predicted_product\n",
      "85077     74.427303          84.396192\n",
      "45215    157.119583         102.219135\n",
      "73038     45.335958          67.597622\n",
      "RMSE - 40.237\n",
      "Средний запас сырья - 95.092\n",
      "Суммарный предсказанный запас в регионе - 2377307.585\n",
      "Суммарный реальный запас в регионе - 2375880.468\n",
      "Абсолютная разница реальных и предсказанных суммарных запасов - 1427.117\n"
     ]
    }
   ],
   "source": [
    "geo_2_predicted, geo_2_rmse, geo_2_predicted_mean, geo_2_predicted_sum = oil_predict(geo_2_features_train,\n",
    "                                                                                     geo_2_features_valid,\n",
    "                                                                                     geo_2_target_train,\n",
    "                                                                                     geo_2_target_valid)\n",
    "print('Регион 2')\n",
    "oil_info(geo_2_predicted, geo_2_rmse, geo_2_predicted_mean, geo_2_predicted_sum)"
   ],
   "metadata": {
    "collapsed": false
   }
  },
  {
   "cell_type": "markdown",
   "metadata": {},
   "source": [
    "**Итог:**\n",
    "\n",
    "Данные предсказаний о количестве нефти по сумме примерно совпадают по сумме с предсказанными значениями. Лучше всего модель предсказала запасы в нулевом регионе 0 (RMSE - 37.815), далее в регионе 2 и регионе 1 соответственно.\n",
    "1. Регион 0:\n",
    "- Ошибка в нулевом регионе самая маленькая, но по среднему объему запасов регион на втором месте\n",
    "2. Регион 1:\n",
    "- Проигрывает другим регионам и по показателю средней ошибки и по среднему объему запасов\n",
    "3. Регион 1 (с сильно-коррелирующими данными)\n",
    "- Проигрывает другим регионам по среднему объему запасов, но средняя ошибка очень мала. *Модель с большой вероятностью переобучилась*\n",
    "4. Регион 2:\n",
    "- Самый большой средний объем запасов, но по ошибке регион на втором месте\n"
   ]
  },
  {
   "cell_type": "markdown",
   "metadata": {},
   "source": [
    "## Шаг 3. Подготовка к расчёту прибыли <a class=\"anchor\" id=\"section3\"></a>\n",
    "\n",
    "Сохраним все ключевые значения для расчетов согласно условиям задачи в переменные."
   ]
  },
  {
   "cell_type": "code",
   "execution_count": 24,
   "metadata": {},
   "outputs": [],
   "source": [
    "# Количество исследуемых точек при разведке\n",
    "RESEARCH_POINTS = 500\n",
    "# Количество лучших исследуемых точек\n",
    "BEST_RESEARCH_POINTS = 200\n",
    "# Бюджет на разработку скважин в регионе\n",
    "BUDGET = 1 * 1e10\n",
    "# Цена за 1000 баррелей сырья\n",
    "PRODUCT_PRICE = 4.5 * 1e5\n",
    "# Максимальная вероятность убытков\n",
    "MAX_LOSS = 2.5 * 1e-2\n",
    "# Количество выборок для bootstrap\n",
    "BOOTSTRAP_SAMPLES = 1000\n",
    "# Доверительный интервал\n",
    "CONF_INTERVAL = 9.5 * 1e-1"
   ]
  },
  {
   "cell_type": "code",
   "execution_count": 25,
   "metadata": {},
   "outputs": [
    {
     "name": "stdout",
     "output_type": "stream",
     "text": [
      "Минимальный достаточный объем добычи в регионе для безубыточной разработки 22222.22 тыс. баррелей\n",
      "Средний минимальный объем добычи в скважине для безубыточной разработки 111.11 тыс. баррелей\n"
     ]
    }
   ],
   "source": [
    "min_region_product = BUDGET / PRODUCT_PRICE\n",
    "min_product = min_region_product / BEST_RESEARCH_POINTS\n",
    "print('Минимальный достаточный объем добычи в регионе для безубыточной разработки {:.2f} тыс. баррелей'\n",
    "      .format(min_region_product))\n",
    "print('Средний минимальный объем добычи в скважине для безубыточной разработки {:.2f} тыс. баррелей'\n",
    "      .format(min_product))"
   ]
  },
  {
   "cell_type": "code",
   "execution_count": 26,
   "metadata": {},
   "outputs": [],
   "source": [
    "def oil_hist(column, bins=250):\n",
    "    plt.figure()\n",
    "    plt.hist(column, bins=bins)\n",
    "    m = st.mean(column)\n",
    "    sd = st.stdev(column)\n",
    "\n",
    "    plt.axvline(m, color='k', linestyle='dashed')\n",
    "    plt.axvline(m + sd, color='y', linestyle='dashed')\n",
    "    plt.axvline(m - sd, color='y', linestyle='dashed')\n",
    "\n",
    "    plt.xlabel('Объем нефти на скважину, тыс. барелей')\n",
    "    plt.ylabel('Количество скважин')\n",
    "    plt.title('Гистограмма распределения по объему скважин')\n",
    "    plt.show()"
   ]
  },
  {
   "cell_type": "code",
   "execution_count": 27,
   "metadata": {},
   "outputs": [
    {
     "data": {
      "image/png": "[encoded data removed]",
      "text/plain": [
       "<Figure size 432x288 with 1 Axes>"
      ]
     },
     "metadata": {
      "needs_background": "light"
     },
     "output_type": "display_data"
    }
   ],
   "source": [
    "oil_hist(geo_0_predicted['predicted_product'])"
   ]
  },
  {
   "cell_type": "code",
   "execution_count": 28,
   "metadata": {},
   "outputs": [
    {
     "data": {
      "image/png": "[encoded data removed]",
      "text/plain": [
       "<Figure size 432x288 with 1 Axes>"
      ]
     },
     "metadata": {
      "needs_background": "light"
     },
     "output_type": "display_data"
    }
   ],
   "source": [
    "oil_hist(geo_1_predicted['predicted_product'])"
   ]
  },
  {
   "cell_type": "code",
   "execution_count": 30,
   "metadata": {},
   "outputs": [
    {
     "data": {
      "image/png": "[encoded data removed]",
      "text/plain": [
       "<Figure size 432x288 with 1 Axes>"
      ]
     },
     "metadata": {
      "needs_background": "light"
     },
     "output_type": "display_data"
    }
   ],
   "source": [
    "# Регион 1 (с сильно-коррелирующими данными)\n",
    "oil_hist(geo_1_predicted_dirt['predicted_product'])"
   ]
  },
  {
   "cell_type": "code",
   "execution_count": 29,
   "outputs": [
    {
     "data": {
      "image/png": "[encoded data removed]",
      "text/plain": [
       "<Figure size 432x288 with 1 Axes>"
      ]
     },
     "metadata": {
      "needs_background": "light"
     },
     "output_type": "display_data"
    }
   ],
   "source": [
    "oil_hist(geo_2_predicted['predicted_product'])"
   ],
   "metadata": {
    "collapsed": false
   }
  },
  {
   "cell_type": "markdown",
   "metadata": {},
   "source": [
    "**Итог:**\n",
    "Несмотря на достаточный суммарный объем, предсказанный в каждом регионе для безубыточной разработки, во всех 3-х регионах среднее предсказанное количество сырья меньше, следовательно, не все скважины будут безубыточными."
   ]
  },
  {
   "cell_type": "markdown",
   "metadata": {},
   "source": [
    "## Шаг 4.  Создание функции для расчёта прибыли по выбранным скважинам и предсказаниям модели <a class=\"anchor\" id=\"section4\"></a>"
   ]
  },
  {
   "cell_type": "code",
   "execution_count": 31,
   "metadata": {},
   "outputs": [],
   "source": [
    "def calculate_best_200_profit(target, predictions):\n",
    "    top_predictions = predictions.sort_values(ascending=False)\n",
    "    top_target = target[top_predictions.index][:BEST_RESEARCH_POINTS]\n",
    "    product_volume = top_target.sum()\n",
    "    profit = product_volume * PRODUCT_PRICE - BUDGET\n",
    "    return profit, product_volume"
   ]
  },
  {
   "cell_type": "code",
   "execution_count": 32,
   "metadata": {},
   "outputs": [
    {
     "name": "stdout",
     "output_type": "stream",
     "text": [
      "Регион 0\n",
      "Прибыль (млн. руб): 3359.14\n",
      "Суммарный объем сырья (тыс. баррелей): 29686.98\n"
     ]
    }
   ],
   "source": [
    "print('Регион 0')\n",
    "geo_0_profit, geo_0_product_volume = calculate_best_200_profit(geo_0_target_valid,\n",
    "                                                               geo_0_predicted['predicted_product'])\n",
    "print('Прибыль (млн. руб): {:.2f}'.format(geo_0_profit / 1e6))\n",
    "print('Суммарный объем сырья (тыс. баррелей): {:.2f}'.format(geo_0_product_volume))"
   ]
  },
  {
   "cell_type": "code",
   "execution_count": 33,
   "metadata": {},
   "outputs": [
    {
     "name": "stdout",
     "output_type": "stream",
     "text": [
      "Регион 1\n",
      "Прибыль (млн. руб): -4243.72\n",
      "Суммарный объем сырья (тыс. баррелей): 12791.74\n"
     ]
    }
   ],
   "source": [
    "print('Регион 1')\n",
    "geo_1_profit, geo_1_product_volume = calculate_best_200_profit(geo_1_target_valid,\n",
    "                                                               geo_1_predicted['predicted_product'])\n",
    "print('Прибыль (млн. руб): {:.2f}'.format(geo_1_profit / 1e6))\n",
    "print('Суммарный объем сырья (тыс. баррелей): {:.2f}'.format(geo_1_product_volume))"
   ]
  },
  {
   "cell_type": "code",
   "execution_count": 35,
   "metadata": {},
   "outputs": [
    {
     "name": "stdout",
     "output_type": "stream",
     "text": [
      "Регион 1 (с сильно-коррелирующими данными)\n",
      "Прибыль (млн. руб): 2415.09\n",
      "Суммарный объем сырья (тыс. баррелей): 27589.08\n"
     ]
    }
   ],
   "source": [
    "print('Регион 1 (с сильно-коррелирующими данными)')\n",
    "geo_1_profit_dirt, geo_1_product_volume_dirt = calculate_best_200_profit(geo_1_target_valid_dirt,\n",
    "                                                                         geo_1_predicted_dirt['predicted_product'])\n",
    "print('Прибыль (млн. руб): {:.2f}'.format(geo_1_profit_dirt / 1e6))\n",
    "print('Суммарный объем сырья (тыс. баррелей): {:.2f}'.format(geo_1_product_volume_dirt))"
   ]
  },
  {
   "cell_type": "code",
   "execution_count": 34,
   "outputs": [
    {
     "name": "stdout",
     "output_type": "stream",
     "text": [
      "Регион 2\n",
      "Прибыль (млн. руб): 2584.16\n",
      "Суммарный объем сырья (тыс. баррелей): 27964.79\n"
     ]
    }
   ],
   "source": [
    "print('Регион 2')\n",
    "geo_2_profit, geo_2_product_volume = calculate_best_200_profit(geo_2_target_valid,\n",
    "                                                               geo_2_predicted['predicted_product'])\n",
    "print('Прибыль (млн. руб): {:.2f}'.format(geo_2_profit / 1e6))\n",
    "print('Суммарный объем сырья (тыс. баррелей): {:.2f}'.format(geo_2_product_volume))"
   ],
   "metadata": {
    "collapsed": false
   }
  },
  {
   "cell_type": "markdown",
   "metadata": {},
   "source": [
    "**Итог:**\n",
    "На данном шаге была создана функция, рассчитывающая прибыль для 200 лучших скважин из случайного набора 500 скважин региона.\n",
    "\n",
    "*Важно отметить, что на данном этапе функция выбирала 200 самых лучших по залежам скважин из всего объема данных, и Регион 1 даже в таком случае показал убыточность.*"
   ]
  },
  {
   "cell_type": "markdown",
   "metadata": {},
   "source": [
    "## Шаг 5. Расчет рисков и прибылей для каждого региона <a class=\"anchor\" id=\"section5\"></a>"
   ]
  },
  {
   "cell_type": "code",
   "execution_count": 36,
   "metadata": {},
   "outputs": [],
   "source": [
    "def profit_hist(column, bins=200):\n",
    "    plt.figure()\n",
    "    plt.hist(column, bins=bins)\n",
    "    m = st.mean(column)\n",
    "    sd = st.stdev(column)\n",
    "\n",
    "    plt.axvline(m, color='k', linestyle='dashed')\n",
    "    plt.axvline(m + sd, color='y', linestyle='dashed')\n",
    "    plt.axvline(m - sd, color='y', linestyle='dashed')\n",
    "    plt.xlabel('Прибыль со скважины, млн руб')\n",
    "    plt.ylabel('Количество скважин')\n",
    "    plt.title('Гистограмма распределения прибыли')\n",
    "    plt.show()"
   ]
  },
  {
   "cell_type": "code",
   "execution_count": 37,
   "metadata": {},
   "outputs": [],
   "source": [
    "def bootstrap_calculate_profit(target, predictions):\n",
    "    values = []\n",
    "    for _ in range(BOOTSTRAP_SAMPLES):\n",
    "        target_sample = target.sample(RESEARCH_POINTS, replace=True, random_state=random_val)\n",
    "        predictions_sample = predictions[target_sample.index]\n",
    "        profit, product_volume = calculate_best_200_profit(target_sample, predictions_sample)\n",
    "        values.append(profit)\n",
    "    values = pd.Series(values)\n",
    "    profit_mean = values.mean() / 1e6\n",
    "\n",
    "    conf_lower = values.quantile((1 - CONF_INTERVAL) / 2) / 1e6\n",
    "    conf_upper = values.quantile((1 + CONF_INTERVAL) / 2) / 1e6\n",
    "\n",
    "    loss_probability = (values < 0).mean()\n",
    "\n",
    "    print('Средняя прибыль (млн. руб): {:.2f}'.format(profit_mean))\n",
    "    print('95% доверительный интервал (млн. руб): ({:.2f}, {:.2f})'.format(conf_lower, conf_upper))\n",
    "\n",
    "    if loss_probability < MAX_LOSS:\n",
    "        print('Вероятность убытков равна {}, что меньше чем максимальная допустимая вероятность {}'.format(\n",
    "            loss_probability, MAX_LOSS))\n",
    "    else:\n",
    "        print('Вероятность убытков равна {}, что больше чем максимальная допустимая вероятность {}'.format(\n",
    "            loss_probability, MAX_LOSS))\n",
    "\n",
    "    profit_hist(values)\n",
    "    return profit_mean, conf_lower, conf_upper, loss_probability"
   ]
  },
  {
   "cell_type": "code",
   "execution_count": 38,
   "metadata": {},
   "outputs": [],
   "source": [
    "profit_and_risks = []"
   ]
  },
  {
   "cell_type": "code",
   "execution_count": 39,
   "metadata": {},
   "outputs": [
    {
     "name": "stdout",
     "output_type": "stream",
     "text": [
      "Средняя прибыль (млн. руб): 447.58\n",
      "95% доверительный интервал (млн. руб): (-72.91, 987.77)\n",
      "Вероятность убытков равна 0.05, что больше чем максимальная допустимая вероятность 0.025\n"
     ]
    },
    {
     "data": {
      "image/png": "[encoded data removed]",
      "text/plain": [
       "<Figure size 432x288 with 1 Axes>"
      ]
     },
     "metadata": {
      "needs_background": "light"
     },
     "output_type": "display_data"
    }
   ],
   "source": [
    "profit_and_risks.append(bootstrap_calculate_profit(geo_0_target_valid, geo_0_predicted['predicted_product']))"
   ]
  },
  {
   "cell_type": "code",
   "execution_count": 40,
   "metadata": {},
   "outputs": [
    {
     "name": "stdout",
     "output_type": "stream",
     "text": [
      "Средняя прибыль (млн. руб): -3707.29\n",
      "95% доверительный интервал (млн. руб): (-4260.17, -3112.14)\n",
      "Вероятность убытков равна 1.0, что больше чем максимальная допустимая вероятность 0.025\n"
     ]
    },
    {
     "data": {
      "image/png": "[encoded data removed]",
      "text/plain": [
       "<Figure size 432x288 with 1 Axes>"
      ]
     },
     "metadata": {
      "needs_background": "light"
     },
     "output_type": "display_data"
    }
   ],
   "source": [
    "profit_and_risks.append(bootstrap_calculate_profit(geo_1_target_valid, geo_1_predicted['predicted_product']))"
   ]
  },
  {
   "cell_type": "code",
   "execution_count": 41,
   "metadata": {},
   "outputs": [
    {
     "name": "stdout",
     "output_type": "stream",
     "text": [
      "Средняя прибыль (млн. руб): 327.65\n",
      "95% доверительный интервал (млн. руб): (-202.52, 874.31)\n",
      "Вероятность убытков равна 0.107, что больше чем максимальная допустимая вероятность 0.025\n"
     ]
    },
    {
     "data": {
      "image/png": "[encoded data removed]",
      "text/plain": [
       "<Figure size 432x288 with 1 Axes>"
      ]
     },
     "metadata": {
      "needs_background": "light"
     },
     "output_type": "display_data"
    }
   ],
   "source": [
    "profit_and_risks.append(bootstrap_calculate_profit(geo_2_target_valid, geo_2_predicted['predicted_product']))"
   ]
  },
  {
   "cell_type": "code",
   "execution_count": 42,
   "metadata": {},
   "outputs": [
    {
     "name": "stdout",
     "output_type": "stream",
     "text": [
      "Средняя прибыль (млн. руб): 457.03\n",
      "95% доверительный интервал (млн. руб): (33.95, 900.89)\n",
      "Вероятность убытков равна 0.018, что меньше чем максимальная допустимая вероятность 0.025\n"
     ]
    },
    {
     "data": {
      "image/png": "[encoded data removed]",
      "text/plain": [
       "<Figure size 432x288 with 1 Axes>"
      ]
     },
     "metadata": {
      "needs_background": "light"
     },
     "output_type": "display_data"
    }
   ],
   "source": [
    "print('Регион 1 (с сильно-коррелирующими данными)')\n",
    "profit_and_risks.append(bootstrap_calculate_profit(geo_1_target_valid_dirt, geo_1_predicted_dirt['predicted_product']))"
   ]
  },
  {
   "cell_type": "code",
   "execution_count": 43,
   "metadata": {},
   "outputs": [
    {
     "data": {
      "text/html": [
       "<div>\n",
       "<style scoped>\n",
       "    .dataframe tbody tr th:only-of-type {\n",
       "        vertical-align: middle;\n",
       "    }\n",
       "\n",
       "    .dataframe tbody tr th {\n",
       "        vertical-align: top;\n",
       "    }\n",
       "\n",
       "    .dataframe thead th {\n",
       "        text-align: right;\n",
       "    }\n",
       "</style>\n",
       "<table border=\"1\" class=\"dataframe\">\n",
       "  <thead>\n",
       "    <tr style=\"text-align: right;\">\n",
       "      <th></th>\n",
       "      <th>Средняя прибыль(млн)</th>\n",
       "      <th>Нижняя граница(млн)</th>\n",
       "      <th>Верхняя граница(млн)</th>\n",
       "      <th>Вероятность убытков</th>\n",
       "    </tr>\n",
       "  </thead>\n",
       "  <tbody>\n",
       "    <tr>\n",
       "      <th>0</th>\n",
       "      <td>447.580201</td>\n",
       "      <td>-72.913790</td>\n",
       "      <td>987.773344</td>\n",
       "      <td>0.050</td>\n",
       "    </tr>\n",
       "    <tr>\n",
       "      <th>1</th>\n",
       "      <td>-3707.288535</td>\n",
       "      <td>-4260.172962</td>\n",
       "      <td>-3112.141312</td>\n",
       "      <td>1.000</td>\n",
       "    </tr>\n",
       "    <tr>\n",
       "      <th>2</th>\n",
       "      <td>327.649098</td>\n",
       "      <td>-202.519823</td>\n",
       "      <td>874.306844</td>\n",
       "      <td>0.107</td>\n",
       "    </tr>\n",
       "    <tr>\n",
       "      <th>3</th>\n",
       "      <td>457.025562</td>\n",
       "      <td>33.952684</td>\n",
       "      <td>900.893958</td>\n",
       "      <td>0.018</td>\n",
       "    </tr>\n",
       "  </tbody>\n",
       "</table>\n",
       "</div>"
      ],
      "text/plain": [
       "   Средняя прибыль(млн)  Нижняя граница(млн)  Верхняя граница(млн)  \\\n",
       "0            447.580201           -72.913790            987.773344   \n",
       "1          -3707.288535         -4260.172962          -3112.141312   \n",
       "2            327.649098          -202.519823            874.306844   \n",
       "3            457.025562            33.952684            900.893958   \n",
       "\n",
       "   Вероятность убытков  \n",
       "0                0.050  \n",
       "1                1.000  \n",
       "2                0.107  \n",
       "3                0.018  "
      ]
     },
     "execution_count": 43,
     "metadata": {},
     "output_type": "execute_result"
    }
   ],
   "source": [
    "profit_and_risks_df = pd.DataFrame(profit_and_risks,\n",
    "                                   columns=['Средняя прибыль(млн)', 'Нижняя граница(млн)', 'Верхняя граница(млн)',\n",
    "                                            'Вероятность убытков'])\n",
    "profit_and_risks_df"
   ]
  },
  {
   "cell_type": "markdown",
   "metadata": {},
   "source": [
    "***Итоги:***\n",
    "*Лучшим регионом по прогнозам оказался Регион 0, имея и самую высокую прогнозируемую прибыль, и самую низкую вероятность убытков. Однако стоит учесть, что ни один из регионов не подходит под условия задачи, так как минимальный риск убытков в 2,5 раза больше заданных 2,5%.*\n",
    "При наличии сильно-коррелируещего столбца `f2` в данных региона 1, получается, что и по средней прибыли и по рискам Регион 1 подхоит под условия задачи для безубыточной разработки.\n",
    "\n",
    "Дополнительно: С учетом того, что возможные выбросы не были удалены, снизились возможные риски для регионов 0 и 2.\n"
   ]
  },
  {
   "cell_type": "markdown",
   "metadata": {},
   "source": [
    "## Шаг 6. Общий вывод <a class=\"anchor\" id=\"section6\"></a>\n",
    "\n",
    "В ходе проделанной работы было выполнено:\n",
    "1. В рамках подготовки данных:\n",
    "- проанализированы выбросы;\n",
    "- проверены на пропуски и дубликаты;\n",
    "- проверенны и учтены корреляции между признаками.\n",
    "2. Обучены модели линейной регрессии для каждого региона. Получены и сохранены предсказания моделей для каждого региона.\n",
    "3. Подготовлены данные для расчета прибыли, найдены минимальные достаточные объемы суммарно для региона и средний объем для скважины, по которым произведена дальнейшая оценка.\n",
    "4. Создана функция расчета прибыли и объемов по 200 лучшим скважинам из представленного набора данных.\n",
    "5. С помощью техники Bootstrap найдено распределение прибыли, средняя прибыль, 95%-й доверительный интервал и риск убытков."
   ]
  }
 ],
 "metadata": {
  "ExecuteTimeLog": [
   {
    "duration": 1617,
    "start_time": "2022-12-02T11:04:19.938Z"
   },
   {
    "duration": 623,
    "start_time": "2022-12-02T11:04:21.557Z"
   },
   {
    "duration": 4,
    "start_time": "2022-12-02T11:04:22.182Z"
   },
   {
    "duration": 429,
    "start_time": "2022-12-02T11:04:22.188Z"
   },
   {
    "duration": 428,
    "start_time": "2022-12-02T11:04:22.619Z"
   },
   {
    "duration": 477,
    "start_time": "2022-12-02T11:04:23.050Z"
   },
   {
    "duration": 42,
    "start_time": "2022-12-02T11:04:23.529Z"
   },
   {
    "duration": 4,
    "start_time": "2022-12-02T11:04:23.574Z"
   },
   {
    "duration": 3,
    "start_time": "2022-12-02T11:04:23.596Z"
   },
   {
    "duration": 27,
    "start_time": "2022-12-02T11:04:23.601Z"
   },
   {
    "duration": 1084,
    "start_time": "2022-12-02T11:04:23.630Z"
   },
   {
    "duration": 6,
    "start_time": "2022-12-02T11:04:24.716Z"
   },
   {
    "duration": 8,
    "start_time": "2022-12-02T11:04:24.740Z"
   },
   {
    "duration": 19,
    "start_time": "2022-12-02T11:04:24.751Z"
   },
   {
    "duration": 24,
    "start_time": "2022-12-02T11:04:24.772Z"
   },
   {
    "duration": 16,
    "start_time": "2022-12-02T11:04:24.798Z"
   },
   {
    "duration": 4,
    "start_time": "2022-12-02T11:04:24.816Z"
   },
   {
    "duration": 9,
    "start_time": "2022-12-02T11:04:24.822Z"
   },
   {
    "duration": 65,
    "start_time": "2022-12-02T11:04:24.833Z"
   },
   {
    "duration": 113,
    "start_time": "2022-12-02T11:04:24.899Z"
   },
   {
    "duration": 296,
    "start_time": "2022-12-02T11:04:25.013Z"
   },
   {
    "duration": 102,
    "start_time": "2022-12-02T11:04:25.310Z"
   },
   {
    "duration": 18,
    "start_time": "2022-12-02T11:04:25.414Z"
   },
   {
    "duration": 17,
    "start_time": "2022-12-02T11:04:25.434Z"
   },
   {
    "duration": 816,
    "start_time": "2022-12-02T11:04:25.453Z"
   },
   {
    "duration": 670,
    "start_time": "2022-12-02T11:04:26.271Z"
   },
   {
    "duration": 749,
    "start_time": "2022-12-02T11:04:26.943Z"
   },
   {
    "duration": 4,
    "start_time": "2022-12-02T11:04:27.693Z"
   },
   {
    "duration": 12,
    "start_time": "2022-12-02T11:04:27.698Z"
   },
   {
    "duration": 9,
    "start_time": "2022-12-02T11:04:27.712Z"
   },
   {
    "duration": 10,
    "start_time": "2022-12-02T11:04:27.722Z"
   },
   {
    "duration": 4,
    "start_time": "2022-12-02T11:04:27.734Z"
   },
   {
    "duration": 7,
    "start_time": "2022-12-02T11:04:27.739Z"
   },
   {
    "duration": 50,
    "start_time": "2022-12-02T11:04:27.747Z"
   },
   {
    "duration": 1947,
    "start_time": "2022-12-02T11:04:27.799Z"
   },
   {
    "duration": 1934,
    "start_time": "2022-12-02T11:04:29.748Z"
   },
   {
    "duration": 2044,
    "start_time": "2022-12-02T11:04:31.684Z"
   },
   {
    "duration": 11,
    "start_time": "2022-12-02T11:04:33.730Z"
   },
   {
    "duration": 1436,
    "start_time": "2022-12-02T11:16:39.402Z"
   },
   {
    "duration": 373,
    "start_time": "2022-12-02T11:16:40.840Z"
   },
   {
    "duration": 4,
    "start_time": "2022-12-02T11:16:41.215Z"
   },
   {
    "duration": 428,
    "start_time": "2022-12-02T11:16:41.220Z"
   },
   {
    "duration": 428,
    "start_time": "2022-12-02T11:16:41.651Z"
   },
   {
    "duration": 447,
    "start_time": "2022-12-02T11:16:42.080Z"
   },
   {
    "duration": 44,
    "start_time": "2022-12-02T11:16:42.529Z"
   },
   {
    "duration": 22,
    "start_time": "2022-12-02T11:16:42.575Z"
   },
   {
    "duration": 8,
    "start_time": "2022-12-02T11:16:42.599Z"
   },
   {
    "duration": 22,
    "start_time": "2022-12-02T11:16:42.609Z"
   },
   {
    "duration": 1070,
    "start_time": "2022-12-02T11:16:42.633Z"
   },
   {
    "duration": 5,
    "start_time": "2022-12-02T11:16:43.705Z"
   },
   {
    "duration": 12,
    "start_time": "2022-12-02T11:16:43.712Z"
   },
   {
    "duration": 18,
    "start_time": "2022-12-02T11:16:43.728Z"
   },
   {
    "duration": 16,
    "start_time": "2022-12-02T11:16:43.748Z"
   },
   {
    "duration": 42,
    "start_time": "2022-12-02T11:16:43.766Z"
   },
   {
    "duration": 15,
    "start_time": "2022-12-02T11:16:43.810Z"
   },
   {
    "duration": 6,
    "start_time": "2022-12-02T11:16:43.827Z"
   },
   {
    "duration": 6,
    "start_time": "2022-12-02T11:16:43.835Z"
   },
   {
    "duration": 159,
    "start_time": "2022-12-02T11:16:43.842Z"
   },
   {
    "duration": 195,
    "start_time": "2022-12-02T11:16:44.003Z"
   },
   {
    "duration": 98,
    "start_time": "2022-12-02T11:16:44.200Z"
   },
   {
    "duration": 201,
    "start_time": "2022-12-02T11:16:44.301Z"
   },
   {
    "duration": 92,
    "start_time": "2022-12-02T11:16:44.504Z"
   },
   {
    "duration": 5,
    "start_time": "2022-12-02T11:16:44.599Z"
   },
   {
    "duration": 6,
    "start_time": "2022-12-02T11:16:44.606Z"
   },
   {
    "duration": 685,
    "start_time": "2022-12-02T11:16:44.614Z"
   },
   {
    "duration": 640,
    "start_time": "2022-12-02T11:16:45.301Z"
   },
   {
    "duration": 809,
    "start_time": "2022-12-02T11:16:45.942Z"
   },
   {
    "duration": 4,
    "start_time": "2022-12-02T11:16:46.753Z"
   },
   {
    "duration": 21,
    "start_time": "2022-12-02T11:16:46.758Z"
   },
   {
    "duration": 19,
    "start_time": "2022-12-02T11:16:46.781Z"
   },
   {
    "duration": 10,
    "start_time": "2022-12-02T11:16:46.802Z"
   },
   {
    "duration": 22,
    "start_time": "2022-12-02T11:16:46.813Z"
   },
   {
    "duration": 26,
    "start_time": "2022-12-02T11:16:46.837Z"
   },
   {
    "duration": 24,
    "start_time": "2022-12-02T11:16:46.865Z"
   },
   {
    "duration": 1954,
    "start_time": "2022-12-02T11:16:46.891Z"
   },
   {
    "duration": 1984,
    "start_time": "2022-12-02T11:16:48.847Z"
   },
   {
    "duration": 1996,
    "start_time": "2022-12-02T11:16:50.833Z"
   },
   {
    "duration": 12,
    "start_time": "2022-12-02T11:16:52.830Z"
   },
   {
    "duration": 676,
    "start_time": "2022-12-02T11:21:44.693Z"
   },
   {
    "duration": 10,
    "start_time": "2022-12-02T11:26:17.866Z"
   },
   {
    "duration": 1952,
    "start_time": "2022-12-02T11:27:36.378Z"
   },
   {
    "duration": 1559,
    "start_time": "2022-12-02T11:31:05.074Z"
   },
   {
    "duration": 371,
    "start_time": "2022-12-02T11:31:06.635Z"
   },
   {
    "duration": 4,
    "start_time": "2022-12-02T11:31:07.008Z"
   },
   {
    "duration": 431,
    "start_time": "2022-12-02T11:31:07.014Z"
   },
   {
    "duration": 402,
    "start_time": "2022-12-02T11:31:07.447Z"
   },
   {
    "duration": 436,
    "start_time": "2022-12-02T11:31:07.851Z"
   },
   {
    "duration": 48,
    "start_time": "2022-12-02T11:31:08.288Z"
   },
   {
    "duration": 4,
    "start_time": "2022-12-02T11:31:08.338Z"
   },
   {
    "duration": 11,
    "start_time": "2022-12-02T11:31:08.344Z"
   },
   {
    "duration": 25,
    "start_time": "2022-12-02T11:31:08.357Z"
   },
   {
    "duration": 1016,
    "start_time": "2022-12-02T11:31:08.384Z"
   },
   {
    "duration": 5,
    "start_time": "2022-12-02T11:31:09.402Z"
   },
   {
    "duration": 11,
    "start_time": "2022-12-02T11:31:09.408Z"
   },
   {
    "duration": 31,
    "start_time": "2022-12-02T11:31:09.423Z"
   },
   {
    "duration": 13,
    "start_time": "2022-12-02T11:31:09.456Z"
   },
   {
    "duration": 27,
    "start_time": "2022-12-02T11:31:09.471Z"
   },
   {
    "duration": 15,
    "start_time": "2022-12-02T11:31:09.500Z"
   },
   {
    "duration": 6,
    "start_time": "2022-12-02T11:31:09.517Z"
   },
   {
    "duration": 16,
    "start_time": "2022-12-02T11:31:09.525Z"
   },
   {
    "duration": 59,
    "start_time": "2022-12-02T11:31:09.544Z"
   },
   {
    "duration": 201,
    "start_time": "2022-12-02T11:31:09.604Z"
   },
   {
    "duration": 288,
    "start_time": "2022-12-02T11:31:09.810Z"
   },
   {
    "duration": 109,
    "start_time": "2022-12-02T11:31:10.100Z"
   },
   {
    "duration": 6,
    "start_time": "2022-12-02T11:31:10.211Z"
   },
   {
    "duration": 30,
    "start_time": "2022-12-02T11:31:10.297Z"
   },
   {
    "duration": 6,
    "start_time": "2022-12-02T11:31:10.330Z"
   },
   {
    "duration": 684,
    "start_time": "2022-12-02T11:31:10.339Z"
   },
   {
    "duration": 628,
    "start_time": "2022-12-02T11:31:11.024Z"
   },
   {
    "duration": 761,
    "start_time": "2022-12-02T11:31:11.653Z"
   },
   {
    "duration": 666,
    "start_time": "2022-12-02T11:31:12.416Z"
   },
   {
    "duration": 4,
    "start_time": "2022-12-02T11:31:13.083Z"
   },
   {
    "duration": 18,
    "start_time": "2022-12-02T11:31:13.089Z"
   },
   {
    "duration": 15,
    "start_time": "2022-12-02T11:31:13.109Z"
   },
   {
    "duration": 13,
    "start_time": "2022-12-02T11:31:13.127Z"
   },
   {
    "duration": 11,
    "start_time": "2022-12-02T11:31:13.142Z"
   },
   {
    "duration": 5,
    "start_time": "2022-12-02T11:31:13.154Z"
   },
   {
    "duration": 10,
    "start_time": "2022-12-02T11:31:13.197Z"
   },
   {
    "duration": 7,
    "start_time": "2022-12-02T11:31:13.209Z"
   },
   {
    "duration": 1953,
    "start_time": "2022-12-02T11:31:13.217Z"
   },
   {
    "duration": 2168,
    "start_time": "2022-12-02T11:31:15.172Z"
   },
   {
    "duration": 1928,
    "start_time": "2022-12-02T11:31:17.344Z"
   },
   {
    "duration": 1932,
    "start_time": "2022-12-02T11:31:19.274Z"
   },
   {
    "duration": 10,
    "start_time": "2022-12-02T11:31:21.208Z"
   }
  ],
  "kernelspec": {
   "display_name": "Python 3 (ipykernel)",
   "language": "python",
   "name": "python3"
  },
  "language_info": {
   "codemirror_mode": {
    "name": "ipython",
    "version": 3
   },
   "file_extension": ".py",
   "mimetype": "text/x-python",
   "name": "python",
   "nbconvert_exporter": "python",
   "pygments_lexer": "ipython3",
   "version": "3.9.5"
  },
  "toc": {
   "base_numbering": 1,
   "nav_menu": {},
   "number_sections": true,
   "sideBar": true,
   "skip_h1_title": true,
   "title_cell": "Table of Contents",
   "title_sidebar": "Contents",
   "toc_cell": false,
   "toc_position": {},
   "toc_section_display": true,
   "toc_window_display": false
  }
 },
 "nbformat": 4,
 "nbformat_minor": 1
}

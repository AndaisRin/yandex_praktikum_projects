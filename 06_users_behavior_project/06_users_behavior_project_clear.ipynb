{
 "cells": [
  {
   "cell_type": "markdown",
   "metadata": {},
   "source": [
    "# Описание проекта\n",
    "\n",
    "Оператор мобильной связи «Мегалайн» выяснил: многие клиенты пользуются архивными тарифами. Они хотят построить систему, способную проанализировать поведение клиентов и предложить пользователям новый тариф: «Смарт» или «Ультра».\n",
    "\n",
    "В вашем распоряжении данные о поведении клиентов, которые уже перешли на эти тарифы (из проекта курса «Статистический анализ данных»). Нужно построить модель для задачи классификации, которая выберет подходящий тариф. Предобработка данных не понадобится — вы её уже сделали.\n",
    "Постройте модель с максимально большим значением accuracy. Чтобы сдать проект успешно, нужно довести долю правильных ответов по крайней мере до 0.75. Проверьте accuracy на тестовой выборке самостоятельно.\n",
    "\n",
    "\n",
    "### Описание данных\n",
    "Каждый объект в наборе данных — это информация о поведении одного пользователя за месяц. Известно:\n",
    "*   `сalls` — количество звонков,\n",
    "*   `minutes` — суммарная длительность звонков в минутах,\n",
    "*   `messages` — количество sms-сообщений,\n",
    "*   `mb_used` — израсходованный интернет-трафик в Мб,\n",
    "*   `is_ultra` — каким тарифом пользовался в течение месяца («Ультра» — 1, «Смарт» — 0).\n",
    "\n",
    "\n",
    "## Постановка задачи\n",
    "### [Шаг 1. Знакомство с данными и изучение общей информации](#section1)\n",
    "### [Шаг 2. Подготовка данных](#section2)\n",
    "Разделите исходные данные на обучающую, валидационную и тестовую выборки.\n",
    "\n",
    "### [Шаг 3. Исследование разных моделей машинного обучения](#section3)\n",
    "Исследуйте качество разных моделей, меняя гиперпараметры. Кратко напишите выводы исследования.\n",
    "\n",
    "### [Шаг 4. Оценка качества моделей](#section4)\n",
    "Проверьте качество модели на тестовой выборке.\n",
    "\n",
    "### [Шаг 5. Дополнительное задание](#section5)\n",
    "Дополнительное задание: проверьте модели на вменяемость. Ничего страшного, если не получится: эти данные сложнее тех, с которыми вы работали раньше. В следующем курсе подробнее об этом расскажем.\n",
    "\n",
    "### [Шаг 6. Общий вывод](#section6)"
   ]
  },
  {
   "cell_type": "markdown",
   "metadata": {},
   "source": [
    "# Решение задачи\n",
    "## Шаг 1. Знакомство с данными и изучение общей информации. <a class=\"anchor\" id=\"section1\"></a>\n",
    "\n",
    "Импортируем необходимые библиотеки для дальнейшей работы."
   ]
  },
  {
   "cell_type": "code",
   "execution_count": 1,
   "metadata": {},
   "outputs": [],
   "source": [
    "import pandas as pd\n",
    "import numpy as np\n",
    "from sklearn.model_selection import train_test_split\n",
    "from sklearn.tree import DecisionTreeClassifier\n",
    "from sklearn.ensemble import RandomForestClassifier\n",
    "from sklearn.linear_model import LogisticRegression\n",
    "from sklearn.dummy import DummyClassifier\n",
    "from sklearn.metrics import accuracy_score\n",
    "from sklearn.metrics import confusion_matrix\n",
    "from sklearn.metrics import precision_score\n",
    "from sklearn.metrics import recall_score\n",
    "from sklearn.metrics import mean_squared_error\n",
    "from sklearn.metrics import f1_score\n",
    "import warnings\n",
    "\n",
    "warnings.filterwarnings('ignore')"
   ]
  },
  {
   "cell_type": "markdown",
   "metadata": {},
   "source": [
    "Чтение файла с данными и вывод первых пяти строчек таблицы для ознакомления."
   ]
  },
  {
   "cell_type": "code",
   "execution_count": 2,
   "metadata": {},
   "outputs": [
    {
     "data": {
      "text/html": [
       "<div>\n",
       "<style scoped>\n",
       "    .dataframe tbody tr th:only-of-type {\n",
       "        vertical-align: middle;\n",
       "    }\n",
       "\n",
       "    .dataframe tbody tr th {\n",
       "        vertical-align: top;\n",
       "    }\n",
       "\n",
       "    .dataframe thead th {\n",
       "        text-align: right;\n",
       "    }\n",
       "</style>\n",
       "<table border=\"1\" class=\"dataframe\">\n",
       "  <thead>\n",
       "    <tr style=\"text-align: right;\">\n",
       "      <th></th>\n",
       "      <th>calls</th>\n",
       "      <th>minutes</th>\n",
       "      <th>messages</th>\n",
       "      <th>mb_used</th>\n",
       "      <th>is_ultra</th>\n",
       "    </tr>\n",
       "  </thead>\n",
       "  <tbody>\n",
       "    <tr>\n",
       "      <th>0</th>\n",
       "      <td>40.0</td>\n",
       "      <td>311.90</td>\n",
       "      <td>83.0</td>\n",
       "      <td>19915.42</td>\n",
       "      <td>0</td>\n",
       "    </tr>\n",
       "    <tr>\n",
       "      <th>1</th>\n",
       "      <td>85.0</td>\n",
       "      <td>516.75</td>\n",
       "      <td>56.0</td>\n",
       "      <td>22696.96</td>\n",
       "      <td>0</td>\n",
       "    </tr>\n",
       "    <tr>\n",
       "      <th>2</th>\n",
       "      <td>77.0</td>\n",
       "      <td>467.66</td>\n",
       "      <td>86.0</td>\n",
       "      <td>21060.45</td>\n",
       "      <td>0</td>\n",
       "    </tr>\n",
       "    <tr>\n",
       "      <th>3</th>\n",
       "      <td>106.0</td>\n",
       "      <td>745.53</td>\n",
       "      <td>81.0</td>\n",
       "      <td>8437.39</td>\n",
       "      <td>1</td>\n",
       "    </tr>\n",
       "    <tr>\n",
       "      <th>4</th>\n",
       "      <td>66.0</td>\n",
       "      <td>418.74</td>\n",
       "      <td>1.0</td>\n",
       "      <td>14502.75</td>\n",
       "      <td>0</td>\n",
       "    </tr>\n",
       "  </tbody>\n",
       "</table>\n",
       "</div>"
      ],
      "text/plain": [
       "   calls  minutes  messages   mb_used  is_ultra\n",
       "0   40.0   311.90      83.0  19915.42         0\n",
       "1   85.0   516.75      56.0  22696.96         0\n",
       "2   77.0   467.66      86.0  21060.45         0\n",
       "3  106.0   745.53      81.0   8437.39         1\n",
       "4   66.0   418.74       1.0  14502.75         0"
      ]
     },
     "execution_count": 2,
     "metadata": {},
     "output_type": "execute_result"
    }
   ],
   "source": [
    "# users_data = pd.read_csv('/datasets/users_behavior.csv')\n",
    "users_data = pd.read_csv('users_behavior.csv')\n",
    "users_data.head()"
   ]
  },
  {
   "cell_type": "markdown",
   "metadata": {},
   "source": [
    "Получение общей информации о датафрейме."
   ]
  },
  {
   "cell_type": "code",
   "execution_count": 3,
   "metadata": {},
   "outputs": [],
   "source": [
    "users_data.info()"
   ]
  },
  {
   "cell_type": "markdown",
   "metadata": {},
   "source": [
    "Все столбцы заполнены, явных пропусков не наблюдается, предобработка данных в данном случае не требуется. Посмотрим на пять случайных строк для знакомства с содержимым данных."
   ]
  },
  {
   "cell_type": "code",
   "execution_count": 4,
   "metadata": {},
   "outputs": [
    {
     "data": {
      "text/html": [
       "<div>\n",
       "<style scoped>\n",
       "    .dataframe tbody tr th:only-of-type {\n",
       "        vertical-align: middle;\n",
       "    }\n",
       "\n",
       "    .dataframe tbody tr th {\n",
       "        vertical-align: top;\n",
       "    }\n",
       "\n",
       "    .dataframe thead th {\n",
       "        text-align: right;\n",
       "    }\n",
       "</style>\n",
       "<table border=\"1\" class=\"dataframe\">\n",
       "  <thead>\n",
       "    <tr style=\"text-align: right;\">\n",
       "      <th></th>\n",
       "      <th>calls</th>\n",
       "      <th>minutes</th>\n",
       "      <th>messages</th>\n",
       "      <th>mb_used</th>\n",
       "      <th>is_ultra</th>\n",
       "    </tr>\n",
       "  </thead>\n",
       "  <tbody>\n",
       "    <tr>\n",
       "      <th>2144</th>\n",
       "      <td>44.0</td>\n",
       "      <td>324.86</td>\n",
       "      <td>0.0</td>\n",
       "      <td>18611.43</td>\n",
       "      <td>0</td>\n",
       "    </tr>\n",
       "    <tr>\n",
       "      <th>902</th>\n",
       "      <td>98.0</td>\n",
       "      <td>657.01</td>\n",
       "      <td>70.0</td>\n",
       "      <td>13309.90</td>\n",
       "      <td>0</td>\n",
       "    </tr>\n",
       "    <tr>\n",
       "      <th>1223</th>\n",
       "      <td>93.0</td>\n",
       "      <td>671.14</td>\n",
       "      <td>145.0</td>\n",
       "      <td>21441.95</td>\n",
       "      <td>1</td>\n",
       "    </tr>\n",
       "    <tr>\n",
       "      <th>1681</th>\n",
       "      <td>12.0</td>\n",
       "      <td>76.97</td>\n",
       "      <td>0.0</td>\n",
       "      <td>1893.18</td>\n",
       "      <td>0</td>\n",
       "    </tr>\n",
       "    <tr>\n",
       "      <th>3213</th>\n",
       "      <td>80.0</td>\n",
       "      <td>566.09</td>\n",
       "      <td>6.0</td>\n",
       "      <td>29480.52</td>\n",
       "      <td>1</td>\n",
       "    </tr>\n",
       "  </tbody>\n",
       "</table>\n",
       "</div>"
      ],
      "text/plain": [
       "      calls  minutes  messages   mb_used  is_ultra\n",
       "2144   44.0   324.86       0.0  18611.43         0\n",
       "902    98.0   657.01      70.0  13309.90         0\n",
       "1223   93.0   671.14     145.0  21441.95         1\n",
       "1681   12.0    76.97       0.0   1893.18         0\n",
       "3213   80.0   566.09       6.0  29480.52         1"
      ]
     },
     "execution_count": 4,
     "metadata": {},
     "output_type": "execute_result"
    }
   ],
   "source": [
    "users_data.sample(n=5)"
   ]
  },
  {
   "cell_type": "markdown",
   "metadata": {},
   "source": [
    "**Наблюдение:**\n",
    "Перед нами стоит задача классификации. За целевой признак берем столбец is_ultra. Остальные признаки помогут нам предсказывать решение по столбцу is_ultra."
   ]
  },
  {
   "cell_type": "markdown",
   "metadata": {},
   "source": [
    "## Шаг 2. Подготовка данных <a class=\"anchor\" id=\"section2\"></a>\n",
    "Разделите исходные данные на обучающую, валидационную и тестовую выборки.\n",
    "Разобьем выборку по принципу 60/20/20."
   ]
  },
  {
   "cell_type": "code",
   "execution_count": 5,
   "metadata": {},
   "outputs": [],
   "source": [
    "features_train_data, features_test_data, target_train_data, target_test_data = train_test_split(\n",
    "    users_data.drop(['is_ultra'], axis=1), users_data['is_ultra'], test_size=0.2, random_state=42)\n",
    "\n",
    "features_train_data, features_valid_data, target_train_data, target_valid_data = train_test_split(\n",
    "    features_train_data, target_train_data, test_size=0.25, random_state=42)"
   ]
  },
  {
   "cell_type": "code",
   "execution_count": 6,
   "metadata": {},
   "outputs": [],
   "source": [
    "print('Размер обучающей выборки', features_train_data.shape[0])\n",
    "print('Размер валидационной выборки', features_valid_data.shape[0])\n",
    "print('Размер тестовой выборки', features_test_data.shape[0])"
   ]
  },
  {
   "cell_type": "markdown",
   "metadata": {},
   "source": [
    "**Итог:**\n",
    "Данные были разбиты по принципу 60/20/20.\n",
    "- Обучение пройдет на данных `features_train_data` и `target_train_data`;\n",
    "- Валидация модели на данных `features_valid_data` и `target_valid_data`;\n",
    "- Лучшая модель по валидации будет применена на данных `features_test_data` и `target_test_data`."
   ]
  },
  {
   "cell_type": "markdown",
   "metadata": {},
   "source": [
    "## Шаг 3. Исследование разных моделей машинного обучения <a class=\"anchor\" id=\"section3\"></a>\n",
    "Исследуйте качество разных моделей, меняя гиперпараметры. Кратко напишите выводы исследования."
   ]
  },
  {
   "cell_type": "markdown",
   "metadata": {},
   "source": [
    "Изменяя гиперпараметры найдем наилучшую модель решающего дерева."
   ]
  },
  {
   "cell_type": "code",
   "execution_count": 7,
   "metadata": {},
   "outputs": [],
   "source": [
    "dtc_depth, dtc_accuracy = 0, 0\n",
    "dtc_criterion, dtc_splitter = None, None\n",
    "dtc_model = None\n",
    "\n",
    "for depth in range(1, 15):\n",
    "    for criterion in ['gini', 'entropy']:\n",
    "        for splitter in ['best', 'random']:\n",
    "            model = DecisionTreeClassifier(random_state=42, max_depth=depth, criterion=criterion, splitter=splitter)\n",
    "            model.fit(features_train_data, target_train_data)\n",
    "            predictions_valid_data = model.predict(features_valid_data)\n",
    "            accuracy = accuracy_score(target_valid_data, predictions_valid_data)\n",
    "            if accuracy > dtc_accuracy:\n",
    "                dtc_depth = depth\n",
    "                dtc_accuracy = accuracy\n",
    "                dtc_criterion = criterion\n",
    "                dtc_splitter = splitter\n",
    "                dtc_model = model\n",
    "\n",
    "print('Лучшая глубина дерева = {}, лучшая точность = {}, критерий: {}, стратегия разделения: {}'\n",
    "      .format(dtc_depth, dtc_accuracy, dtc_criterion, dtc_splitter))"
   ]
  },
  {
   "cell_type": "markdown",
   "metadata": {},
   "source": [
    "Перебрав возможные параметры гиперпараметров нашли модель дерева решений с лучшими параметрами.\n",
    "\n",
    "***Примечание:*** не получилось проверить параметр `log_loss`, получила ошибку `KeyError`."
   ]
  },
  {
   "cell_type": "markdown",
   "metadata": {},
   "source": [
    "Изменяя гиперпараметры найдем наилучшую модель случайного леса."
   ]
  },
  {
   "cell_type": "code",
   "execution_count": 8,
   "metadata": {},
   "outputs": [],
   "source": [
    "rfc_est, rfc_depth, rfc_accuracy = 0, 0, 0\n",
    "rfc_criterion = None\n",
    "rfc_model = None\n",
    "\n",
    "for depth in range(1, 20):\n",
    "    for est in range(1, 20):\n",
    "        for criterion in ['gini', 'entropy']:\n",
    "            model = RandomForestClassifier(random_state=42, max_depth=depth, n_estimators=est, criterion=criterion)\n",
    "            model.fit(features_train_data, target_train_data)\n",
    "            predictions_valid_data = model.predict(features_valid_data)\n",
    "            # result = model.score(features_valid_data, target_valid_data)\n",
    "            accuracy = accuracy_score(target_valid_data, predictions_valid_data)\n",
    "            if accuracy > rfc_accuracy:\n",
    "                rfc_depth = depth\n",
    "                rfc_est = est\n",
    "                rfc_accuracy = accuracy\n",
    "                rfc_criterion = criterion\n",
    "                rfc_model = model\n",
    "\n",
    "print('Лучшее количество деревьев = {}, глубина дерева = {}, лучшая точность = {}, критерий: {}'\n",
    "      .format(rfc_est, rfc_depth, rfc_accuracy, rfc_criterion))"
   ]
  },
  {
   "cell_type": "markdown",
   "metadata": {},
   "source": [
    "Изменяя гиперпараметры найдем наилучшую модель линейной регрессии."
   ]
  },
  {
   "cell_type": "code",
   "execution_count": 15,
   "metadata": {},
   "outputs": [],
   "source": [
    "lr_max_iter, lr_accuracy, lr_float_c = 0, 0, 0\n",
    "lr_solver = None\n",
    "lr_model = None\n",
    "for float_c in [x / 10 for x in range(1, 21)]:\n",
    "    for solver in ['newton-cg', 'lbfgs', 'liblinear', 'sag', 'saga']:\n",
    "        model = LogisticRegression(random_state=42, C=float_c, solver=solver)\n",
    "        model.fit(features_train_data, target_train_data)\n",
    "        model.fit(features_train_data, target_train_data)\n",
    "        predictions_valid_data = model.predict(features_valid_data)\n",
    "        accuracy = accuracy_score(target_valid_data, predictions_valid_data)\n",
    "        if accuracy > lr_accuracy:\n",
    "            lr_accuracy = accuracy\n",
    "            lr_model = model\n",
    "            lr_float_c = float_c\n",
    "            lr_solver = solver\n",
    "\n",
    "print('Лучшая регуляризация = {}, лучшая точность = {}, алгоритм: {}'\n",
    "      .format(lr_float_c, lr_accuracy, lr_solver))"
   ]
  },
  {
   "cell_type": "markdown",
   "metadata": {},
   "source": [
    "**Итог:**\n",
    "В ходе исследования были получены следующие данные:\n",
    "\n",
    "Точность модели решающего дерева при глубине 8 равна 0.811.\n",
    "Точность модели случайного леса при количестве деревьев 4 и глубине 7 равна 0.814.\n",
    "Точность модели логистической регрессии равна 0.745.\n",
    "Так как выборка небольшая, то лучший результат показывает случайный лес с гиперпараметрами:\n",
    "- количество деревьев = 4,\n",
    "- глубина дерева = 7,\n",
    "- критерий: entropy."
   ]
  },
  {
   "cell_type": "markdown",
   "metadata": {},
   "source": [
    "## Шаг 4. Оценка качества моделей <a class=\"anchor\" id=\"section4\"></a>\n",
    "Проверьте качество модели на тестовой выборке."
   ]
  },
  {
   "cell_type": "code",
   "execution_count": 10,
   "metadata": {},
   "outputs": [],
   "source": [
    "dtc_test_predictions = dtc_model.predict(features_test_data)\n",
    "dtc_test_accuracy = accuracy_score(target_test_data, dtc_test_predictions)\n",
    "print('Точность модели решающего леса на тестовой выборке {}, разница с валидационной выборкой {}'\n",
    "      .format(dtc_accuracy, abs(dtc_accuracy - dtc_test_accuracy)))\n",
    "\n",
    "rfc_test_predictions = rfc_model.predict(features_test_data)\n",
    "rfc_test_accuracy = accuracy_score(target_test_data, rfc_test_predictions)\n",
    "print('Точность модели случайного леса на тестовой выборке {}, разница с валидационной выборкой {}'\n",
    "      .format(rfc_accuracy, abs(rfc_accuracy - rfc_test_accuracy)))\n",
    "\n",
    "lr_test_predictions = lr_model.predict(features_test_data)\n",
    "lr_test_accuracy = accuracy_score(target_test_data, lr_test_predictions)\n",
    "print('Точность модели логистической регресиии на тестовой выборке {}, разница с валидационной выборкой {}'\n",
    "      .format(lr_accuracy, abs(lr_accuracy - lr_test_accuracy)))"
   ]
  },
  {
   "cell_type": "markdown",
   "metadata": {},
   "source": [
    "**Итог:**\n",
    "Для решения поставленной задачи можно выбрать модель случайного леса, как модель с самой высокой точностью. Учитывая разницу между текущей точностью и точностью на валидационной выборке 0.013, можно сделать вывод слабой переобученности модели."
   ]
  },
  {
   "cell_type": "markdown",
   "metadata": {},
   "source": [
    "## Шаг 5. Дополнительное задание <a class=\"anchor\" id=\"section5\"></a>\n",
    "Дополнительное задание: проверьте модели на вменяемость.\n",
    "Проведем сравнение между константным предсказанием и лучшей обученной моделью - случайным лесом."
   ]
  },
  {
   "cell_type": "markdown",
   "metadata": {},
   "source": [
    "<img src=\"https://upload.wikimedia.org/wikipedia/commons/b/ba/Warning_sign_4.0.png\" align=left width=44, heigth=33>\n",
    "<div class=\"alert alert-warning\">\n",
    "В основе проверки на адекватность лежит очень простая идея. Модель считается адекватной, если способна \"побить\" любой \"наивный\" алгоритм, например предсказывающий случайный или постояный ответ. \n",
    "\n",
    "Для нашего проекта самую высокую точность дает  \"наивный\" алгоритм, всегда предсказывающий самый популярный ответ (у нас это 0). Проверить точность такого подхода можно вручную или используя DummyClassifier.\n",
    "    \n",
    "Ты использовала DummyClassifier, но достаточно было просто подсчитать точность (около 0,7) и сравнить с точностями полученными с помощью наших обученных моделей, чтобы убедиться в их адекватности.\n",
    "       \n",
    "    \n",
    "</div>"
   ]
  },
  {
   "cell_type": "markdown",
   "metadata": {},
   "source": [
    "<div class=\"alert alert-info\" role=\"alert\">\n",
    "\n",
    "Много лишних действий получилось и ненужной информации, да? (⁄ ⁄•⁄ω⁄•⁄ ⁄)\n",
    "</div>"
   ]
  },
  {
   "cell_type": "markdown",
   "metadata": {},
   "source": [
    "<img src=\"http://s3.amazonaws.com/pix.iemoji.com/images/emoji/apple/ios-12/256/waving-hand.png\" align=left width=44, heigth=44>\n",
    "<div class=\"alert alert-info\">\n",
    "<b> Комментарий ревьюера v2</b>\n",
    "\n",
    "Да, очень сложно понять смысл твоих действий. Поэтому я и призываю к простоте. Наверное можно применить и другие метрики (после того, как ты проверишь по аккураси), но нужно больше пояснений....</div>"
   ]
  },
  {
   "cell_type": "code",
   "execution_count": 11,
   "metadata": {},
   "outputs": [
    {
     "data": {
      "text/plain": [
       "array([['', 'Прогнозируемый класс +', 'Прогнозируемый класс -'],\n",
       "       ['Истинный класс +', '0', '188'],\n",
       "       ['Истинный класс -', '0', '455']], dtype='<U22')"
      ]
     },
     "execution_count": 11,
     "metadata": {},
     "output_type": "execute_result"
    }
   ],
   "source": [
    "dc_model = DummyClassifier(strategy=\"most_frequent\", random_state=42)\n",
    "dc_model.fit(features_train_data, target_train_data)\n",
    "\n",
    "target_data_true = target_test_data\n",
    "dc_predictions = dc_model.predict(features_test_data)\n",
    "dc_accuracy = accuracy_score(target_test_data, dc_predictions)\n",
    "dc_precision = precision_score(target_test_data, dc_predictions)\n",
    "dc_recall = recall_score(target_test_data, dc_predictions)\n",
    "dc_f_score = f1_score(target_test_data, dc_predictions)\n",
    "print('Точность(accuracy) константного предсказания на тестовой выборке {}, точность(precision) {}, '\n",
    "      'полнота(recall) {}, F1-мера {}'.format(dc_accuracy, dc_precision, dc_recall, dc_f_score))\n",
    "dc_mf_tn, dc_mf_fp, dc_mf_fn, dc_mf_tp = confusion_matrix(target_data_true, dc_predictions,\n",
    "                                                          labels=[0, 1]).ravel()\n",
    "dc_confusion_matrix = np.array([['', 'Прогнозируемый класс +', 'Прогнозируемый класс -'],\n",
    "                                ['Истинный класс +', dc_mf_tp, dc_mf_fn],\n",
    "                                ['Истинный класс -', dc_mf_fp, dc_mf_tn]])\n",
    "dc_confusion_matrix"
   ]
  },
  {
   "cell_type": "code",
   "execution_count": 12,
   "metadata": {},
   "outputs": [
    {
     "data": {
      "text/plain": [
       "array([['', 'Прогнозируемый класс +', 'Прогнозируемый класс -'],\n",
       "       ['Истинный класс +', '91', '97'],\n",
       "       ['Истинный класс -', '31', '424']], dtype='<U22')"
      ]
     },
     "execution_count": 12,
     "metadata": {},
     "output_type": "execute_result"
    }
   ],
   "source": [
    "rfc_precision = precision_score(target_test_data, rfc_test_predictions)\n",
    "rfc_recall = recall_score(target_test_data, rfc_test_predictions)\n",
    "rfc_f_score = f1_score(target_test_data, rfc_test_predictions)\n",
    "print('Точность(accuracy) модели случайного леса на тестовой выборке {}, точность(precision) {}, '\n",
    "      'полнота(recall) {}, F1-мера {}'.format(rfc_accuracy, rfc_precision, rfc_recall, rfc_f_score))\n",
    "rfc_mf_tn, rfc_mf_fp, rfc_mf_fn, rfc_mf_tp = confusion_matrix(target_data_true, rfc_test_predictions,\n",
    "                                                              labels=[0, 1]).ravel()\n",
    "rfc_confusion_matrix = np.array([['', 'Прогнозируемый класс +', 'Прогнозируемый класс -'],\n",
    "                                 ['Истинный класс +', rfc_mf_tp, rfc_mf_fn],\n",
    "                                 ['Истинный класс -', rfc_mf_fp, rfc_mf_tn]])\n",
    "rfc_confusion_matrix"
   ]
  },
  {
   "cell_type": "markdown",
   "metadata": {},
   "source": [
    "**Итог:**\n",
    "Адекватность модели оценивается по нескольким параметрам. Для модели классификации это accuracy, precision и recall. Качество модели лучше всего отражают precision и recall и эти метрики складываются в F1-меру, как единую оценку модели.\n",
    "\n",
    "Выбранная за рабочую, модель случайного леса лучше справляется, чем константное предсказание, однако гармоническое среднее между точностью и полнотой (F1-мера) получилось всего ~58%, что говорит о среднем качестве модели."
   ]
  },
  {
   "cell_type": "markdown",
   "metadata": {},
   "source": [
    "## Шаг 6. Общий вывод <a class=\"anchor\" id=\"section6\"></a>\n",
    "\n",
    "В ходе проделанной работы было выполнено:\n",
    "- Изучен файл с данными.\n",
    "- Разбиты данные на три выборки: обучающая, валидационная и тестовая.\n",
    "- Исследованы три модели классификации: Решающее дерево, Случайный лес и Логистическая регрессия.\n",
    "- Найдены оптимальные параметры для каждой модели и выбрана одна из них для обучения модели.\n",
    "- Оценена точность обученной модели.\n",
    "- Оценена адекватность модели.\n",
    "\n",
    "Для обучения модели было использована выборка в 2000 значений. Этого может быть недостаточно для повышения ключевых параметров модели классификатора. Увеличение в 10 или 100 увеличит качественные характеристики модели."
   ]
  },
  {
   "cell_type": "markdown",
   "metadata": {},
   "source": [
    "<img src=\"http://s3.amazonaws.com/pix.iemoji.com/images/emoji/apple/ios-12/256/waving-hand.png\" align=left width=44, heigth=44>\n",
    "<div class=\"alert alert-info\">\n",
    "<b> Заключительный комментарий</b>\n",
    "\n",
    "В целом мне все понравилось: твоя работа выполнена на хорошем уровне с минимальными помарками.\n",
    "Также работа выглядит аккуратной и хорошо оформленной.\n",
    "Вижу, что тебе дается python, и инструментарий машинного обучения.\n",
    " \n",
    "Едиственный момент, который нужно обязательно исправить: прошу тебя убрать из проекта использование mse. Это метрика применяется для задач регрессии и использовать её в этом проекта это серьезная ошибка.\n",
    "    \n",
    "Желтые комментарии на твое усмотрение.\n",
    "    \n",
    "Жду твой проект на финальное ревью :)\n",
    "</div>"
   ]
  },
  {
   "cell_type": "markdown",
   "metadata": {},
   "source": [
    "<div class=\"alert alert-info\" role=\"alert\">\n",
    "    <b>Спасибо большое что уделил время ( ´ ∀ `)ノ～ ♡</b>\n",
    "\n",
    "Постаралась учесть твои замечания. Было очень приятно с тобой познакомиться) И огромная благодарность за полезные ссылки, все открыла и начала читать)\n",
    "</div>"
   ]
  },
  {
   "cell_type": "markdown",
   "metadata": {},
   "source": [
    "<img src=\"http://s3.amazonaws.com/pix.iemoji.com/images/emoji/apple/ios-12/256/waving-hand.png\" align=left width=44, heigth=44>\n",
    "<div class=\"alert alert-info\">\n",
    "<b> Заключительный комментарий v2</b>\n",
    "\n",
    "И снова привет! На этот раз все ОК и проект может быть принят. Поздравляю и желаю дальнейших успехов!</div>"
   ]
  },
  {
   "cell_type": "code",
   "execution_count": null,
   "metadata": {},
   "outputs": [],
   "source": []
  }
 ],
 "metadata": {
  "ExecuteTimeLog": [
   {
    "duration": 1427,
    "start_time": "2022-11-04T20:04:17.397Z"
   },
   {
    "duration": 80,
    "start_time": "2022-11-04T20:04:18.825Z"
   },
   {
    "duration": 10,
    "start_time": "2022-11-04T20:04:18.907Z"
   },
   {
    "duration": 21,
    "start_time": "2022-11-04T20:04:18.919Z"
   },
   {
    "duration": 9,
    "start_time": "2022-11-04T20:04:18.942Z"
   },
   {
    "duration": 17,
    "start_time": "2022-11-04T20:04:18.952Z"
   },
   {
    "duration": 290,
    "start_time": "2022-11-04T20:04:18.971Z"
   },
   {
    "duration": 25038,
    "start_time": "2022-11-04T20:04:19.263Z"
   },
   {
    "duration": 2692,
    "start_time": "2022-11-04T20:04:44.303Z"
   },
   {
    "duration": 11,
    "start_time": "2022-11-04T20:04:46.997Z"
   },
   {
    "duration": 11,
    "start_time": "2022-11-04T20:04:47.009Z"
   },
   {
    "duration": 10,
    "start_time": "2022-11-04T20:04:47.022Z"
   },
   {
    "duration": 2724,
    "start_time": "2022-11-04T20:21:29.676Z"
   }
  ],
  "kernelspec": {
   "display_name": "Python 3 (ipykernel)",
   "language": "python",
   "name": "python3"
  },
  "language_info": {
   "codemirror_mode": {
    "name": "ipython",
    "version": 3
   },
   "file_extension": ".py",
   "mimetype": "text/x-python",
   "name": "python",
   "nbconvert_exporter": "python",
   "pygments_lexer": "ipython3",
   "version": "3.9.5"
  },
  "toc": {
   "base_numbering": 1,
   "nav_menu": {},
   "number_sections": true,
   "sideBar": true,
   "skip_h1_title": true,
   "title_cell": "Table of Contents",
   "title_sidebar": "Contents",
   "toc_cell": false,
   "toc_position": {},
   "toc_section_display": true,
   "toc_window_display": false
  }
 },
 "nbformat": 4,
 "nbformat_minor": 1
}

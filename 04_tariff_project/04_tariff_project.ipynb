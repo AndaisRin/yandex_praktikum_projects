{
 "cells": [
  {
   "cell_type": "markdown",
   "source": [
    "# Описание проекта\n",
    "Вы аналитик компании «Мегалайн» — федерального оператора сотовой связи. Клиентам предлагают два тарифных плана: «Смарт» и «Ультра». Чтобы скорректировать рекламный бюджет, коммерческий департамент хочет понять, какой тариф приносит больше денег.\n",
    "Вам предстоит сделать предварительный анализ тарифов на небольшой выборке клиентов. В вашем распоряжении данные 500 пользователей «Мегалайна»: кто они, откуда, каким тарифом пользуются, сколько звонков и сообщений каждый отправил за 2018-й год. Нужно проанализировать поведение клиентов и сделать вывод — какой тариф лучше.\n",
    "#### Описание тарифов\n",
    "**Тариф «Смарт»**\n",
    "- Ежемесячная плата: 550 рублей\n",
    "- Включено 500 минут разговора, 50 сообщений и 15 Гб интернет-трафика\n",
    "- Стоимость услуг сверх тарифного пакета:\n",
    "- Минута разговора — 3 рубля. Количество использованных минут и мегабайтов «Мегалайн» всегда округляет вверх. Если пользователь проговорил всего 1 секунду, в тарифе засчитывается целая минута.\n",
    "- Сообщение — 3 рубля.\n",
    "- 1 Гб интернет-трафика — 200 рублей.\n",
    "\n",
    "**Тариф «Ультра»**\n",
    "- Ежемесячная плата: 1950 рублей\n",
    "- Включено 3000 минут разговора, 1000 сообщений и 30 Гб интернет-трафика\n",
    "- Стоимость услуг сверх тарифного пакета:\n",
    "- Минута разговора — 1 рубль;\n",
    "- Сообщение — 1 рубль;\n",
    "- 1 Гб интернет-трафика: 150 рублей.\n",
    "\n",
    "#### Описание данных\n",
    "Таблица `users` — информация о пользователях:\n",
    "- user_id — уникальный идентификатор пользователя\n",
    "- first_name — имя пользователя\n",
    "- last_name — фамилия пользователя\n",
    "- age — возраст пользователя (годы)\n",
    "- reg_date — дата подключения тарифа (день, месяц, год)\n",
    "- churn_date — дата прекращения пользования тарифом (если значение пропущено, значит, тариф ещё действовал на момент выгрузки данных)\n",
    "- city — город проживания пользователя\n",
    "- tarif — название тарифного плана\n",
    "\n",
    "Таблица `calls` — информация о звонках:\n",
    "- id — уникальный номер звонка\n",
    "- call_date — дата звонка\n",
    "- duration — длительность звонка в минутах\n",
    "- user_id — идентификатор пользователя, сделавшего звонок\n",
    "\n",
    "Таблица `messages` — информация о сообщениях:\n",
    "- id — уникальный номер звонка\n",
    "- message_date — дата сообщения\n",
    "- user_id — идентификатор пользователя, отправившего сообщение\n",
    "\n",
    "Таблица `internet` — информация об интернет-сессиях:\n",
    "- id — уникальный номер сессии\n",
    "- mb_used — объём потраченного за сессию интернет-трафика (в мегабайтах)\n",
    "- session_date — дата интернет-сессии\n",
    "- user_id — идентификатор пользователя\n",
    "\n",
    "Таблица `tariffs` — информация о тарифах:\n",
    "- tariff_name — название тарифа\n",
    "- rub_monthly_fee — ежемесячная абонентская плата в рублях\n",
    "- minutes_included — количество минут разговора в месяц, включённых в абонентскую плату\n",
    "- messages_included — количество сообщений в месяц, включённых в абонентскую плату\n",
    "- mb_per_month_included — объём интернет-трафика, включённого в абонентскую плату (в мегабайтах)\n",
    "- rub_per_minute — стоимость минуты разговора сверх тарифного пакета (например, если в тарифе 100 минут разговора в месяц, то со 101 минуты будет взиматься плата)\n",
    "- rub_per_message — стоимость отправки сообщения сверх тарифного пакета\n",
    "- rub_per_gb — стоимость дополнительного гигабайта интернет-трафика сверх тарифного пакета (1 гигабайт = 1024 мегабайта)"
   ],
   "metadata": {
    "collapsed": false,
    "pycharm": {
     "name": "#%% md\n"
    }
   }
  },
  {
   "cell_type": "code",
   "execution_count": 4,
   "outputs": [],
   "source": [
    "import pandas as pd"
   ],
   "metadata": {
    "collapsed": false,
    "pycharm": {
     "name": "#%%\n"
    }
   }
  },
  {
   "cell_type": "code",
   "execution_count": 5,
   "metadata": {
    "deletable": false,
    "id": "I6iDDDvQKyDG",
    "pycharm": {
     "name": "#%%\n"
    }
   },
   "outputs": [],
   "source": [
    "import pandas as pd"
   ]
  },
  {
   "cell_type": "markdown",
   "metadata": {
    "deletable": false,
    "editable": false,
    "id": "xhLilmTDKyDL",
    "pycharm": {
     "name": "#%% md\n"
    }
   },
   "source": [
    "### Откройте файл с данными и изучите общую информацию"
   ]
  },
  {
   "cell_type": "markdown",
   "metadata": {
    "deletable": false,
    "editable": false,
    "id": "Pkduo2j4KyDM",
    "pycharm": {
     "name": "#%% md\n"
    },
    "tags": [
     "start_task"
    ]
   },
   "source": [
    "**Задание 1.** Откройте файл `/datasets/calls.csv`, сохраните датафрейм в переменную `calls`."
   ]
  },
  {
   "cell_type": "code",
   "execution_count": 6,
   "metadata": {
    "deletable": false,
    "id": "o7fJYWVIKyDM",
    "pycharm": {
     "name": "#%%\n"
    }
   },
   "outputs": [
    {
     "ename": "SyntaxError",
     "evalue": "invalid syntax (938536237.py, line 1)",
     "output_type": "error",
     "traceback": [
      "\u001B[1;36m  Input \u001B[1;32mIn [6]\u001B[1;36m\u001B[0m\n\u001B[1;33m    **Задание 2.** Выведите первые 5 строк датафрейма `calls`.\u001B[0m\n\u001B[1;37m    ^\u001B[0m\n\u001B[1;31mSyntaxError\u001B[0m\u001B[1;31m:\u001B[0m invalid syntax\n"
     ]
    }
   ],
   "source": [
    "calls = pd.read_csv('/datasets/calls.csv')"
   ]
  },
  {
   "cell_type": "markdown",
   "metadata": {
    "deletable": false,
    "editable": false,
    "id": "lwrQoooGKyDN",
    "pycharm": {
     "name": "#%% md\n"
    },
    "tags": [
     "start_task"
    ]
   },
   "source": [
    "**Задание 2.** Выведите первые 5 строк датафрейма `calls`."
   ]
  },
  {
   "cell_type": "code",
   "execution_count": null,
   "metadata": {
    "deletable": false,
    "id": "u2XlYfJeKyDN",
    "pycharm": {
     "name": "#%%\n"
    }
   },
   "outputs": [],
   "source": [
    "calls.head()"
   ]
  },
  {
   "cell_type": "markdown",
   "metadata": {
    "deletable": false,
    "editable": false,
    "id": "A3xpbsHKKyDN",
    "pycharm": {
     "name": "#%% md\n"
    },
    "tags": [
     "start_task"
    ]
   },
   "source": [
    "**Задание 3.** Выведите основную информацию для датафрейма `calls` с помощью метода `info()`."
   ]
  },
  {
   "cell_type": "code",
   "execution_count": null,
   "metadata": {
    "deletable": false,
    "id": "yXy_xs-FKyDO",
    "pycharm": {
     "name": "#%%\n"
    }
   },
   "outputs": [],
   "source": [
    "calls.info()"
   ]
  },
  {
   "cell_type": "markdown",
   "metadata": {
    "deletable": false,
    "editable": false,
    "id": "KtjI09xUKyDO",
    "pycharm": {
     "name": "#%% md\n"
    },
    "tags": [
     "start_task"
    ]
   },
   "source": [
    "**Задание 4.** С помощью метода `hist()` выведите гистограмму для столбца с продолжительностью звонков. Подумайте о том, как распределены данные."
   ]
  },
  {
   "cell_type": "code",
   "execution_count": null,
   "metadata": {
    "deletable": false,
    "id": "S8bearjpKyDO",
    "pycharm": {
     "name": "#%%\n"
    }
   },
   "outputs": [],
   "source": [
    "calls.duration.hist()"
   ]
  },
  {
   "cell_type": "markdown",
   "metadata": {
    "deletable": false,
    "editable": false,
    "id": "QGBLhAE4KyDO",
    "pycharm": {
     "name": "#%% md\n"
    },
    "tags": [
     "start_task"
    ]
   },
   "source": [
    "**Задание 5.** Откройте файл `/datasets/internet.csv`, сохраните датафрейм в переменную `sessions`."
   ]
  },
  {
   "cell_type": "code",
   "execution_count": null,
   "metadata": {
    "deletable": false,
    "id": "UOgA1VlRKyDP",
    "pycharm": {
     "name": "#%%\n"
    }
   },
   "outputs": [],
   "source": [
    "sessions = pd.read_csv('/datasets/internet.csv')"
   ]
  },
  {
   "cell_type": "markdown",
   "metadata": {
    "deletable": false,
    "editable": false,
    "id": "RdX3Fsz4KyDP",
    "pycharm": {
     "name": "#%% md\n"
    },
    "tags": [
     "start_task"
    ]
   },
   "source": [
    "**Задание 6.** Выведите первые 5 строк датафрейма `sessions`."
   ]
  },
  {
   "cell_type": "code",
   "execution_count": null,
   "metadata": {
    "deletable": false,
    "id": "GmfPmi-6KyDP",
    "pycharm": {
     "name": "#%%\n"
    }
   },
   "outputs": [],
   "source": [
    "sessions.head()"
   ]
  },
  {
   "cell_type": "markdown",
   "metadata": {
    "deletable": false,
    "editable": false,
    "id": "Zld7GYWGKyDP",
    "pycharm": {
     "name": "#%% md\n"
    },
    "tags": [
     "start_task"
    ]
   },
   "source": [
    "**Задание 7.** Выведите основную информацию для датафрейма sessions с помощью метода `info()`. "
   ]
  },
  {
   "cell_type": "code",
   "execution_count": null,
   "metadata": {
    "deletable": false,
    "id": "x6BhhWGmKyDQ",
    "pycharm": {
     "name": "#%%\n"
    }
   },
   "outputs": [],
   "source": [
    "sessions.info()"
   ]
  },
  {
   "cell_type": "markdown",
   "metadata": {
    "deletable": false,
    "editable": false,
    "id": "bsDEVSRJKyDQ",
    "pycharm": {
     "name": "#%% md\n"
    },
    "tags": [
     "start_task"
    ]
   },
   "source": [
    "**Задание 8.** С помощью метода `hist()` выведите гистограмму для столбца с количеством потраченных мегабайт."
   ]
  },
  {
   "cell_type": "code",
   "execution_count": null,
   "metadata": {
    "deletable": false,
    "id": "b0fkn79xKyDQ",
    "pycharm": {
     "name": "#%%\n"
    }
   },
   "outputs": [],
   "source": [
    "sessions.mb_used.hist()"
   ]
  },
  {
   "cell_type": "markdown",
   "metadata": {
    "deletable": false,
    "editable": false,
    "id": "YpiiymbQKyDQ",
    "pycharm": {
     "name": "#%% md\n"
    },
    "tags": [
     "start_task"
    ]
   },
   "source": [
    "**Задание 9.** Откройте файл `/datasets/messages.csv`, сохраните датафрейм в переменную `messages`."
   ]
  },
  {
   "cell_type": "code",
   "execution_count": null,
   "metadata": {
    "deletable": false,
    "id": "945IuYoxKyDR",
    "pycharm": {
     "name": "#%%\n"
    }
   },
   "outputs": [],
   "source": [
    "messages = pd.read_csv('/datasets/messages.csv')"
   ]
  },
  {
   "cell_type": "markdown",
   "metadata": {
    "deletable": false,
    "editable": false,
    "id": "7OEeR-igKyDR",
    "pycharm": {
     "name": "#%% md\n"
    },
    "tags": [
     "start_task"
    ]
   },
   "source": [
    "**Задание 10.** Выведите первые 5 строк датафрейма `messages`."
   ]
  },
  {
   "cell_type": "code",
   "execution_count": null,
   "metadata": {
    "deletable": false,
    "id": "-64TOS9OKyDR",
    "pycharm": {
     "name": "#%%\n"
    }
   },
   "outputs": [],
   "source": [
    "messages.head()"
   ]
  },
  {
   "cell_type": "markdown",
   "metadata": {
    "deletable": false,
    "editable": false,
    "id": "QzxKbOrDKyDR",
    "pycharm": {
     "name": "#%% md\n"
    },
    "tags": [
     "start_task"
    ]
   },
   "source": [
    "**Задание 11.** Выведите основную информацию для датафрейма `messages` с помощью метода `info()`. "
   ]
  },
  {
   "cell_type": "code",
   "execution_count": null,
   "metadata": {
    "deletable": false,
    "id": "y_z7qlA6KyDS",
    "pycharm": {
     "name": "#%%\n"
    }
   },
   "outputs": [],
   "source": [
    "messages.info()"
   ]
  },
  {
   "cell_type": "markdown",
   "metadata": {
    "deletable": false,
    "editable": false,
    "id": "5d_JokdiKyDS",
    "pycharm": {
     "name": "#%% md\n"
    },
    "tags": [
     "start_task"
    ]
   },
   "source": [
    "**Задание 12.** Откройте файл `/datasets/tariffs.csv`, сохраните датафрейм в переменную `tariffs`."
   ]
  },
  {
   "cell_type": "code",
   "execution_count": null,
   "metadata": {
    "deletable": false,
    "id": "IZmLy1evKyDS",
    "pycharm": {
     "name": "#%%\n"
    }
   },
   "outputs": [],
   "source": [
    "tariffs = pd.read_csv('/datasets/tariffs.csv')"
   ]
  },
  {
   "cell_type": "markdown",
   "metadata": {
    "deletable": false,
    "editable": false,
    "id": "oyuafkXkKyDS",
    "pycharm": {
     "name": "#%% md\n"
    },
    "tags": [
     "start_task"
    ]
   },
   "source": [
    "**Задание 13.** Выведите весь датафрейм `tariffs`."
   ]
  },
  {
   "cell_type": "code",
   "execution_count": null,
   "metadata": {
    "deletable": false,
    "id": "cmRMXR0oKyDT",
    "pycharm": {
     "name": "#%%\n"
    }
   },
   "outputs": [],
   "source": [
    "tariffs"
   ]
  },
  {
   "cell_type": "markdown",
   "metadata": {
    "deletable": false,
    "editable": false,
    "id": "8eHbUTRnKyDT",
    "pycharm": {
     "name": "#%% md\n"
    },
    "tags": [
     "start_task"
    ]
   },
   "source": [
    "**Задание 14.** Выведите основную информацию для датафрейма `tariffs` с помощью метода `info()`."
   ]
  },
  {
   "cell_type": "code",
   "execution_count": null,
   "metadata": {
    "deletable": false,
    "id": "pFthDM3nKyDT",
    "pycharm": {
     "name": "#%%\n"
    }
   },
   "outputs": [],
   "source": [
    "tariffs.info()"
   ]
  },
  {
   "cell_type": "markdown",
   "metadata": {
    "deletable": false,
    "editable": false,
    "id": "rKOTLNHCKyDU",
    "pycharm": {
     "name": "#%% md\n"
    },
    "tags": [
     "start_task"
    ]
   },
   "source": [
    "**Задание 15.** Откройте файл `/datasets/users.csv`, сохраните датафрейм в переменную `users`."
   ]
  },
  {
   "cell_type": "code",
   "execution_count": null,
   "metadata": {
    "deletable": false,
    "id": "R97W4n20KyDU",
    "pycharm": {
     "name": "#%%\n"
    }
   },
   "outputs": [],
   "source": [
    "users = pd.read_csv('/datasets/users.csv')"
   ]
  },
  {
   "cell_type": "markdown",
   "metadata": {
    "deletable": false,
    "editable": false,
    "id": "OClJvZ0LKyDU",
    "pycharm": {
     "name": "#%% md\n"
    },
    "tags": [
     "start_task"
    ]
   },
   "source": [
    "**Задание 16.** Выведите первые 5 строк датафрейма `users`."
   ]
  },
  {
   "cell_type": "code",
   "execution_count": null,
   "metadata": {
    "deletable": false,
    "id": "qcl2dcBMKyDV",
    "pycharm": {
     "name": "#%%\n"
    }
   },
   "outputs": [],
   "source": [
    "users.head()"
   ]
  },
  {
   "cell_type": "markdown",
   "metadata": {
    "deletable": false,
    "editable": false,
    "id": "C_RrZ1_9KyDV",
    "pycharm": {
     "name": "#%% md\n"
    },
    "tags": [
     "start_task"
    ]
   },
   "source": [
    "**Задание 17.** Выведите основную информацию для датафрейма `users` с помощью метода `info()`."
   ]
  },
  {
   "cell_type": "code",
   "execution_count": null,
   "metadata": {
    "deletable": false,
    "id": "LWqNiDRIKyDW",
    "pycharm": {
     "name": "#%%\n"
    }
   },
   "outputs": [],
   "source": [
    "users.info()"
   ]
  },
  {
   "cell_type": "markdown",
   "metadata": {
    "deletable": false,
    "editable": false,
    "id": "63Elje7DKyDW",
    "pycharm": {
     "name": "#%% md\n"
    }
   },
   "source": [
    "### Подготовьте данные"
   ]
  },
  {
   "cell_type": "markdown",
   "metadata": {
    "deletable": false,
    "editable": false,
    "id": "c1K3vTLQKyDY",
    "pycharm": {
     "name": "#%% md\n"
    },
    "tags": [
     "start_task"
    ]
   },
   "source": [
    "**Задание 18.**  Приведите столбцы\n",
    "\n",
    "- `reg_date` из таблицы `users`\n",
    "- `churn_date` из таблицы `users`\n",
    "- `call_date` из таблицы `calls`\n",
    "- `message_date` из таблицы `messages`\n",
    "- `session_date` из таблицы `sessions`\n",
    "\n",
    "к новому типу с помощью метода `to_datetime()`."
   ]
  },
  {
   "cell_type": "code",
   "execution_count": null,
   "metadata": {
    "deletable": false,
    "id": "0WBPne2BKyDZ",
    "pycharm": {
     "name": "#%%\n"
    }
   },
   "outputs": [],
   "source": [
    "# обработка столбца reg_date\n",
    "# обработка столбца churn_date\n",
    "\n",
    "# обработка столбца call_date\n",
    "\n",
    "# обработка столбца message_date\n",
    "# обработка столбца session_date\n",
    "users['reg_date'] = pd.to_datetime(users['reg_date'], format='%Y-%m-%d')\n",
    "users['churn_date'] = pd.to_datetime(users['churn_date'], format='%Y-%m-%d')\n",
    "calls['call_date'] = pd.to_datetime(calls['call_date'], format='%Y-%m-%d')\n",
    "messages['message_date'] = pd.to_datetime(messages['message_date'], format='%Y-%m-%d')\n",
    "sessions['session_date'] = pd.to_datetime(sessions['session_date'], format='%Y-%m-%d')\n"
   ]
  },
  {
   "cell_type": "markdown",
   "metadata": {
    "deletable": false,
    "editable": false,
    "id": "Dodx23h9KyDZ",
    "pycharm": {
     "name": "#%% md\n"
    },
    "tags": [
     "start_task"
    ]
   },
   "source": [
    "**Задание 19.** В данных вы найдёте звонки с нулевой продолжительностью. Это не ошибка: нулями обозначены пропущенные звонки, поэтому их не нужно удалять.\n",
    "\n",
    "Однако в столбце `duration` датафрейма `calls` значения дробные. Округлите значения столбца `duration` вверх с помощью метода `numpy.ceil()` и приведите столбец `duration` к типу `int`."
   ]
  },
  {
   "cell_type": "code",
   "execution_count": null,
   "metadata": {
    "deletable": false,
    "id": "8IoDSPJNKyDZ",
    "pycharm": {
     "name": "#%%\n"
    }
   },
   "outputs": [],
   "source": [
    "import numpy as np\n",
    "\n",
    "# округление значений столбца duration с помощью np.ceil() и приведение типа к int\n",
    "calls['duration'] = np.ceil(calls.duration).astype(int)"
   ]
  },
  {
   "cell_type": "markdown",
   "metadata": {
    "deletable": false,
    "editable": false,
    "id": "MtIO6mP_KyDa",
    "pycharm": {
     "name": "#%% md\n"
    },
    "tags": [
     "start_task"
    ]
   },
   "source": [
    "**Задание 20.** Удалите столбец `Unnamed: 0` из датафрейма `sessions`. Столбец с таким названием возникает, когда данные сохраняют с указанием индекса (`df.to_csv(..., index=column)`). Он сейчас не понадобится."
   ]
  },
  {
   "cell_type": "code",
   "execution_count": null,
   "metadata": {
    "deletable": false,
    "id": "k_kE8bl6KyDa",
    "pycharm": {
     "name": "#%%\n"
    }
   },
   "outputs": [],
   "source": [
    "sessions = sessions.drop(columns = ['Unnamed: 0'])"
   ]
  },
  {
   "cell_type": "markdown",
   "metadata": {
    "deletable": false,
    "editable": false,
    "id": "1pKJKPkNKyDb",
    "pycharm": {
     "name": "#%% md\n"
    },
    "tags": [
     "start_task"
    ]
   },
   "source": [
    "**Задание 21.** Создайте столбец `month` в датафрейме `calls` с номером месяца из столбца `call_date`."
   ]
  },
  {
   "cell_type": "code",
   "execution_count": null,
   "metadata": {
    "deletable": false,
    "id": "ZzUWuXUeKyDb",
    "pycharm": {
     "name": "#%%\n"
    }
   },
   "outputs": [],
   "source": [
    "calls['month'] = calls['call_date'].dt.month"
   ]
  },
  {
   "cell_type": "markdown",
   "metadata": {
    "deletable": false,
    "editable": false,
    "id": "RifDYIPjKyDc",
    "pycharm": {
     "name": "#%% md\n"
    },
    "tags": [
     "start_task"
    ]
   },
   "source": [
    "**Задание 22.** Создайте столбец `month` в датафрейме `messages` с номером месяца из столбца `message_date`."
   ]
  },
  {
   "cell_type": "code",
   "execution_count": null,
   "metadata": {
    "deletable": false,
    "id": "UwaWpzgqKyDc",
    "pycharm": {
     "name": "#%%\n"
    }
   },
   "outputs": [],
   "source": [
    "messages['month'] = messages['message_date'].dt.month"
   ]
  },
  {
   "cell_type": "markdown",
   "metadata": {
    "deletable": false,
    "editable": false,
    "id": "vHE47ZbbKyDc",
    "pycharm": {
     "name": "#%% md\n"
    },
    "tags": [
     "start_task"
    ]
   },
   "source": [
    "**Задание 23.** Создайте столбец `month` в датафрейме `sessions` с номером месяца из столбца `session_date`."
   ]
  },
  {
   "cell_type": "code",
   "execution_count": null,
   "metadata": {
    "deletable": false,
    "id": "WwIH_14gKyDd",
    "pycharm": {
     "name": "#%%\n"
    }
   },
   "outputs": [],
   "source": [
    "sessions['month'] = sessions['session_date'].dt.month"
   ]
  },
  {
   "cell_type": "markdown",
   "metadata": {
    "deletable": false,
    "editable": false,
    "id": "gOieh-uzKyDd",
    "pycharm": {
     "name": "#%% md\n"
    },
    "tags": [
     "start_task"
    ]
   },
   "source": [
    "**Задание 24.** Посчитайте количество сделанных звонков разговора для каждого пользователя по месяцам и сохраните в переменную `calls_per_month`."
   ]
  },
  {
   "cell_type": "code",
   "execution_count": null,
   "metadata": {
    "deletable": false,
    "id": "DVz8VzseKyDd",
    "pycharm": {
     "name": "#%%\n"
    }
   },
   "outputs": [],
   "source": [
    "# подсчёт количества звонков для каждого пользователя по месяцам\n",
    "calls_per_month = calls.groupby(['user_id', 'month']).agg(calls=('duration', 'count'))"
   ]
  },
  {
   "cell_type": "code",
   "execution_count": null,
   "metadata": {
    "deletable": false,
    "id": "Yvladn_XKyDd",
    "pycharm": {
     "name": "#%%\n"
    }
   },
   "outputs": [],
   "source": [
    "# вывод 30 первых строк на экран\n",
    "calls_per_month.head(30)"
   ]
  },
  {
   "cell_type": "markdown",
   "metadata": {
    "deletable": false,
    "editable": false,
    "id": "ImKw4Xt-KyDd",
    "pycharm": {
     "name": "#%% md\n"
    },
    "tags": [
     "start_task"
    ]
   },
   "source": [
    "**Задание 25.** Посчитайте количество израсходованных минут разговора для каждого пользователя по месяцам и сохраните в переменную `minutes_per_month`. Вам понадобится\n",
    "\n",
    "- сгруппировать датафрейм с информацией о звонках по двум столбцам — с идентификаторами пользователей и номерами месяцев;\n",
    "- после группировки выбрать столбец `duration`\n",
    "- затем применить метод для подсчёта суммы.\n",
    "\n",
    "Выведите первые 30 строчек `minutes_per_month`."
   ]
  },
  {
   "cell_type": "code",
   "execution_count": null,
   "metadata": {
    "deletable": false,
    "id": "fmI97ee9KyDe",
    "pycharm": {
     "name": "#%%\n"
    }
   },
   "outputs": [],
   "source": [
    "# подсчёт израсходованных минут для каждого пользователя по месяцам\n",
    "minutes_per_month = calls.groupby(['user_id', 'month']).agg(minutes=('duration', 'sum'))"
   ]
  },
  {
   "cell_type": "code",
   "execution_count": null,
   "metadata": {
    "deletable": false,
    "id": "HpAv1X4KKyDe",
    "pycharm": {
     "name": "#%%\n"
    }
   },
   "outputs": [],
   "source": [
    "# вывод первых 30 строк на экран\n",
    "minutes_per_month.head(30)"
   ]
  },
  {
   "cell_type": "markdown",
   "metadata": {
    "deletable": false,
    "editable": false,
    "id": "aYIeUgpoKyDe",
    "pycharm": {
     "name": "#%% md\n"
    },
    "tags": [
     "start_task"
    ]
   },
   "source": [
    "**Задание 26.** Посчитайте количество отправленных сообщений по месяцам для каждого пользователя и сохраните в переменную `messages_per_month`. Вам понадобится\n",
    "\n",
    "- сгруппировать датафрейм с информацией о сообщениях по двум столбцам — с идентификаторами пользователей и номерами месяцев;\n",
    "- после группировки выбрать столбец `message_date`;\n",
    "- затем применить метод для подсчёта количества.\n",
    "\n",
    "Выведите первые 30 строчек `messages_per_month`."
   ]
  },
  {
   "cell_type": "code",
   "execution_count": null,
   "metadata": {
    "deletable": false,
    "id": "SxLKUZekKyDf",
    "pycharm": {
     "name": "#%%\n"
    }
   },
   "outputs": [],
   "source": [
    "# подсчёт количества отправленных сообщений для каждого пользователя по месяцам\n",
    "messages_per_month = messages.groupby(['user_id', 'month']).agg(messages=('message_date', 'count'))"
   ]
  },
  {
   "cell_type": "code",
   "execution_count": null,
   "metadata": {
    "deletable": false,
    "id": "cVYnJcaUKyDf",
    "pycharm": {
     "name": "#%%\n"
    }
   },
   "outputs": [],
   "source": [
    "# вывод первых 30 строк на экран\n",
    "messages_per_month.head(30)"
   ]
  },
  {
   "cell_type": "markdown",
   "metadata": {
    "deletable": false,
    "editable": false,
    "id": "5rZs2SXPKyDg",
    "pycharm": {
     "name": "#%% md\n"
    },
    "tags": [
     "start_task"
    ]
   },
   "source": [
    "**Задание 27.** Посчитайте количество потраченных мегабайт по месяцам для каждого пользователя и сохраните в переменную `sessions_per_month`. Вам понадобится\n",
    "\n",
    "- сгруппировать датафрейм с информацией о сообщениях по двум столбцам — с идентификаторами пользователей и номерами месяцев;\n",
    "- затем применить метод для подсчёта суммы: `.agg({'mb_used': 'sum'})`"
   ]
  },
  {
   "cell_type": "code",
   "execution_count": null,
   "metadata": {
    "deletable": false,
    "id": "gC0vqY7bKyDg",
    "pycharm": {
     "name": "#%%\n"
    }
   },
   "outputs": [],
   "source": [
    "# подсчёт потраченных мегабайт для каждого пользователя по месяцам\n",
    "sessions_per_month = sessions.groupby(['user_id', 'month']).agg({'mb_used': 'sum'})"
   ]
  },
  {
   "cell_type": "code",
   "execution_count": null,
   "metadata": {
    "deletable": false,
    "id": "aM0weCA4KyDg",
    "pycharm": {
     "name": "#%%\n"
    }
   },
   "outputs": [],
   "source": [
    "# вывод первых 30 строк на экран\n",
    "sessions_per_month.head(30)"
   ]
  },
  {
   "cell_type": "markdown",
   "metadata": {
    "deletable": false,
    "editable": false,
    "id": "9lLpwDruKyDg",
    "pycharm": {
     "name": "#%% md\n"
    }
   },
   "source": [
    "### Анализ данных и подсчёт выручки"
   ]
  },
  {
   "cell_type": "markdown",
   "metadata": {
    "deletable": false,
    "editable": false,
    "id": "b0aBCnWPKyDg",
    "pycharm": {
     "name": "#%% md\n"
    }
   },
   "source": [
    "Объединяем все посчитанные выше значения в один датафрейм `user_behavior`.\n",
    "Для каждой пары \"пользователь - месяц\" будут доступны информация о тарифе, количестве звонков, сообщений и потраченных мегабайтах."
   ]
  },
  {
   "cell_type": "code",
   "execution_count": null,
   "metadata": {
    "deletable": false,
    "id": "5_jRoJLQKyDi",
    "outputId": "75d7fba2-58ec-46d6-b9ae-bb3972eb2c15",
    "pycharm": {
     "name": "#%%\n"
    }
   },
   "outputs": [],
   "source": [
    "users['churn_date'].count() / users['churn_date'].shape[0] * 100"
   ]
  },
  {
   "cell_type": "markdown",
   "metadata": {
    "deletable": false,
    "editable": false,
    "id": "VFbl-h7OKyDj",
    "pycharm": {
     "name": "#%% md\n"
    }
   },
   "source": [
    "Расторгли договор 7.6% клиентов из датасета"
   ]
  },
  {
   "cell_type": "code",
   "execution_count": null,
   "metadata": {
    "deletable": false,
    "id": "ZV6PirqeKyDj",
    "outputId": "820f9d37-142a-40ac-9baa-c9ccacadff1b",
    "pycharm": {
     "name": "#%%\n"
    }
   },
   "outputs": [],
   "source": [
    "user_behavior = calls_per_month\\\n",
    "    .merge(messages_per_month, left_index=True, right_index=True, how='outer')\\\n",
    "    .merge(sessions_per_month, left_index=True, right_index=True, how='outer')\\\n",
    "    .merge(minutes_per_month, left_index=True, right_index=True, how='outer')\\\n",
    "    .reset_index()\\\n",
    "    .merge(users, how='left', left_on='user_id', right_on='user_id')\\\n",
    "\n",
    "user_behavior.head()"
   ]
  },
  {
   "cell_type": "markdown",
   "metadata": {
    "deletable": false,
    "editable": false,
    "id": "_IQIL5IpKyDj",
    "pycharm": {
     "name": "#%% md\n"
    }
   },
   "source": [
    "Проверим пропуски в таблице `user_behavior` после объединения:"
   ]
  },
  {
   "cell_type": "code",
   "execution_count": null,
   "metadata": {
    "deletable": false,
    "id": "-PFVeJDdKyDk",
    "outputId": "15eeef94-c7dc-4624-95d1-9c45e574ea14",
    "pycharm": {
     "name": "#%%\n"
    }
   },
   "outputs": [],
   "source": [
    "user_behavior.isna().sum()"
   ]
  },
  {
   "cell_type": "markdown",
   "metadata": {
    "deletable": false,
    "editable": false,
    "id": "TwUoKdmEKyDk",
    "pycharm": {
     "name": "#%% md\n"
    }
   },
   "source": [
    "Заполним образовавшиеся пропуски в данных:"
   ]
  },
  {
   "cell_type": "code",
   "execution_count": null,
   "metadata": {
    "deletable": false,
    "id": "R6ZhVdx_KyDk",
    "pycharm": {
     "name": "#%%\n"
    }
   },
   "outputs": [],
   "source": [
    "user_behavior['calls'] = user_behavior['calls'].fillna(0)\n",
    "user_behavior['minutes'] = user_behavior['minutes'].fillna(0)\n",
    "user_behavior['messages'] = user_behavior['messages'].fillna(0)\n",
    "user_behavior['mb_used'] = user_behavior['mb_used'].fillna(0)"
   ]
  },
  {
   "cell_type": "markdown",
   "metadata": {
    "deletable": false,
    "editable": false,
    "id": "DSFSc65AKyDl",
    "pycharm": {
     "name": "#%% md\n"
    }
   },
   "source": [
    "Присоединяем информацию о тарифах"
   ]
  },
  {
   "cell_type": "code",
   "execution_count": null,
   "metadata": {
    "deletable": false,
    "id": "t8zk5Y0wKyDl",
    "pycharm": {
     "name": "#%%\n"
    }
   },
   "outputs": [],
   "source": [
    "# переименование столбца tariff_name на более простое tariff\n",
    "\n",
    "tariffs = tariffs.rename(\n",
    "    columns={\n",
    "        'tariff_name': 'tariff'\n",
    "    }\n",
    ")"
   ]
  },
  {
   "cell_type": "code",
   "execution_count": null,
   "metadata": {
    "deletable": false,
    "id": "gGZzbETxKyDl",
    "pycharm": {
     "name": "#%%\n"
    }
   },
   "outputs": [],
   "source": [
    "user_behavior = user_behavior.merge(tariffs, on='tariff')"
   ]
  },
  {
   "cell_type": "markdown",
   "metadata": {
    "deletable": false,
    "editable": false,
    "id": "zednQVegKyDl",
    "pycharm": {
     "name": "#%% md\n"
    }
   },
   "source": [
    "Считаем количество минут разговора, сообщений и мегабайт, превышающих включенные в тариф\n"
   ]
  },
  {
   "cell_type": "code",
   "execution_count": null,
   "metadata": {
    "deletable": false,
    "id": "E1I9uDQMKyDl",
    "pycharm": {
     "name": "#%%\n"
    }
   },
   "outputs": [],
   "source": [
    "user_behavior['paid_minutes'] = user_behavior['minutes'] - user_behavior['minutes_included']\n",
    "user_behavior['paid_messages'] = user_behavior['messages'] - user_behavior['messages_included']\n",
    "user_behavior['paid_mb'] = user_behavior['mb_used'] - user_behavior['mb_per_month_included']\n",
    "\n",
    "for col in ['paid_messages', 'paid_minutes', 'paid_mb']:\n",
    "    user_behavior.loc[user_behavior[col] < 0, col] = 0"
   ]
  },
  {
   "cell_type": "markdown",
   "metadata": {
    "deletable": false,
    "editable": false,
    "id": "Ms0S9c56KyDl",
    "pycharm": {
     "name": "#%% md\n"
    }
   },
   "source": [
    "Переводим превышающие тариф мегабайты в гигабайты и сохраняем в столбец `paid_gb`"
   ]
  },
  {
   "cell_type": "code",
   "execution_count": null,
   "metadata": {
    "deletable": false,
    "id": "tyFXMiJnKyDl",
    "pycharm": {
     "name": "#%%\n"
    }
   },
   "outputs": [],
   "source": [
    "user_behavior['paid_gb'] = np.ceil(user_behavior['paid_mb'] / 1024).astype(int)"
   ]
  },
  {
   "cell_type": "markdown",
   "metadata": {
    "deletable": false,
    "editable": false,
    "id": "gyHRCwd2KyDm",
    "pycharm": {
     "name": "#%% md\n"
    }
   },
   "source": [
    "Считаем выручку за минуты разговора, сообщения и интернет"
   ]
  },
  {
   "cell_type": "code",
   "execution_count": null,
   "metadata": {
    "deletable": false,
    "id": "JYxGcZjpKyDm",
    "pycharm": {
     "name": "#%%\n"
    }
   },
   "outputs": [],
   "source": [
    "user_behavior['cost_minutes'] = user_behavior['paid_minutes'] * user_behavior['rub_per_minute']\n",
    "user_behavior['cost_messages'] = user_behavior['paid_messages'] * user_behavior['rub_per_message']\n",
    "user_behavior['cost_gb'] = user_behavior['paid_gb'] * user_behavior['rub_per_gb']"
   ]
  },
  {
   "cell_type": "markdown",
   "metadata": {
    "deletable": false,
    "editable": false,
    "id": "-_fwAfO5KyDm",
    "pycharm": {
     "name": "#%% md\n"
    }
   },
   "source": [
    "Считаем помесячную выручку с каждого пользователя, она будет храниться в столбец `total_cost`"
   ]
  },
  {
   "cell_type": "code",
   "execution_count": null,
   "metadata": {
    "deletable": false,
    "id": "FCJZ9SEWKyDm",
    "pycharm": {
     "name": "#%%\n"
    }
   },
   "outputs": [],
   "source": [
    "user_behavior['total_cost'] = \\\n",
    "      user_behavior['rub_monthly_fee']\\\n",
    "    + user_behavior['cost_minutes']\\\n",
    "    + user_behavior['cost_messages']\\\n",
    "    + user_behavior['cost_gb']"
   ]
  },
  {
   "cell_type": "markdown",
   "metadata": {
    "deletable": false,
    "editable": false,
    "id": "GdxQwSMLKyDm",
    "pycharm": {
     "name": "#%% md\n"
    }
   },
   "source": [
    "Датафрейм `stats_df` для каждой пары \"месяц-тариф\" будет хранить основные характеристики"
   ]
  },
  {
   "cell_type": "code",
   "execution_count": null,
   "metadata": {
    "deletable": false,
    "id": "KqVN3CeWKyDm",
    "outputId": "fa0d84b7-ac33-49ae-9f67-2e23236dca73",
    "pycharm": {
     "name": "#%%\n"
    }
   },
   "outputs": [],
   "source": [
    "# сохранение статистических метрик для каждой пары месяц-тариф\n",
    "# в одной таблице stats_df (среднее значение, стандартное отклонение, медиана)\n",
    "\n",
    "stats_df = user_behavior.pivot_table(\n",
    "            index=['month', 'tariff'],\\\n",
    "            values=['calls', 'minutes', 'messages', 'mb_used'],\\\n",
    "            aggfunc=['mean', 'std', 'median']\\\n",
    ").round(2).reset_index()\n",
    "\n",
    "stats_df.columns=['month', 'tariff', 'calls_mean', 'sessions_mean', 'messages_mean', 'minutes_mean',\n",
    "                                     'calls_std',  'sessions_std', 'messages_std', 'minutes_std', \n",
    "                                     'calls_median', 'sessions_median', 'messages_median',  'minutes_median']\n",
    "\n",
    "stats_df.head(10)"
   ]
  },
  {
   "cell_type": "markdown",
   "metadata": {
    "deletable": false,
    "editable": false,
    "id": "xAZgUnsaKyDm",
    "pycharm": {
     "name": "#%% md\n"
    }
   },
   "source": [
    "Распределение среднего количества звонков по видам тарифов и месяцам"
   ]
  },
  {
   "cell_type": "code",
   "execution_count": null,
   "metadata": {
    "deletable": false,
    "id": "1lkqwG12KyDm",
    "outputId": "9d0ad74b-64a7-47a7-8399-38189a74efcd",
    "pycharm": {
     "name": "#%%\n"
    }
   },
   "outputs": [],
   "source": [
    "import seaborn as sns\n",
    "\n",
    "ax = sns.barplot(x='month',\n",
    "            y='calls_mean',\n",
    "            hue=\"tariff\",\n",
    "            data=stats_df,\n",
    "            palette=['lightblue', 'blue'])\n",
    "\n",
    "ax.set_title('Распределение количества звонков по видам тарифов и месяцам')\n",
    "ax.set(xlabel='Номер месяца', ylabel='Среднее количество звонков');"
   ]
  },
  {
   "cell_type": "code",
   "execution_count": null,
   "metadata": {
    "deletable": false,
    "id": "hG3npCHbKyDm",
    "outputId": "aa5b5a61-e27c-47a6-e5e3-d0e253121f20",
    "pycharm": {
     "name": "#%%\n"
    }
   },
   "outputs": [],
   "source": [
    "import matplotlib.pyplot as plt\n",
    "\n",
    "user_behavior.groupby('tariff')['calls'].plot(kind='hist', bins=35, alpha=0.5)\n",
    "plt.legend(['Smart', 'Ultra'])\n",
    "plt.xlabel('Количество звонков')\n",
    "plt.ylabel('Количество клиентов')\n",
    "plt.show()"
   ]
  },
  {
   "cell_type": "markdown",
   "metadata": {
    "deletable": false,
    "editable": false,
    "id": "SPrY3ADoKyDn",
    "pycharm": {
     "name": "#%% md\n"
    }
   },
   "source": [
    "Распределение средней продолжительности звонков по видам тарифов и месяцам"
   ]
  },
  {
   "cell_type": "code",
   "execution_count": null,
   "metadata": {
    "deletable": false,
    "id": "0luB17O2KyDn",
    "outputId": "1eff52c7-7205-4178-afc4-916faa062d52",
    "pycharm": {
     "name": "#%%\n"
    }
   },
   "outputs": [],
   "source": [
    "ax = sns.barplot(x='month',\n",
    "            y='minutes_mean',\n",
    "            hue=\"tariff\",\n",
    "            data=stats_df,\n",
    "            palette=['lightblue', 'blue'])\n",
    "\n",
    "ax.set_title('Распределение продолжительности звонков по видам тарифов и месяцам')\n",
    "ax.set(xlabel='Номер месяца', ylabel='Средняя продолжительность звонков');"
   ]
  },
  {
   "cell_type": "code",
   "execution_count": null,
   "metadata": {
    "deletable": false,
    "id": "jII3kPf1KyDn",
    "outputId": "252b24d1-8c53-4b70-bf00-51ed1cc40464",
    "pycharm": {
     "name": "#%%\n"
    }
   },
   "outputs": [],
   "source": [
    "user_behavior[user_behavior['tariff'] =='smart']['minutes'].hist(bins=35, alpha=0.5, color='green')\n",
    "user_behavior[user_behavior['tariff'] =='ultra']['minutes'].hist(bins=35, alpha=0.5, color='blue');"
   ]
  },
  {
   "cell_type": "markdown",
   "metadata": {
    "deletable": false,
    "editable": false,
    "id": "UU5-2wAkKyDn",
    "pycharm": {
     "name": "#%% md\n"
    }
   },
   "source": [
    "Средняя длительность разговоров у абонентов тарифа Ultra больше, чем у абонентов тарифа Smart. В течение года пользователи обоих тарифов увеличивают среднюю продолжительность своих разговоров. Рост средней длительности разговоров у абонентов тарифа Smart равномерный в течение года. Пользователи тарифа Ultra не проявляют подобной линейной стабильности. Стоит отметить, что феврале у абонентов обоих тарифных планов наблюдались самые низкие показатели."
   ]
  },
  {
   "cell_type": "markdown",
   "metadata": {
    "deletable": false,
    "editable": false,
    "id": "mUkAzptWKyDn",
    "pycharm": {
     "name": "#%% md\n"
    }
   },
   "source": [
    "Распределение среднего количества сообщений по видам тарифов и месяцам"
   ]
  },
  {
   "cell_type": "code",
   "execution_count": null,
   "metadata": {
    "deletable": false,
    "id": "pg1xenDhKyDn",
    "outputId": "b98b8e4e-40b5-43e6-f19c-db2554eb000c",
    "pycharm": {
     "name": "#%%\n"
    }
   },
   "outputs": [],
   "source": [
    "ax = sns.barplot(x='month',\n",
    "            y='messages_mean',\n",
    "            hue=\"tariff\",\n",
    "            data=stats_df,\n",
    "            palette=['lightblue', 'blue']\n",
    ")\n",
    "\n",
    "ax.set_title('Распределение количества сообщений по видам тарифов и месяцам')\n",
    "ax.set(xlabel='Номер месяца', ylabel='Среднее количество сообщений');"
   ]
  },
  {
   "cell_type": "code",
   "execution_count": null,
   "metadata": {
    "deletable": false,
    "id": "gADscfmTKyDn",
    "outputId": "7cffa31c-fa5e-441d-d2dc-a2447a91937f",
    "pycharm": {
     "name": "#%%\n"
    }
   },
   "outputs": [],
   "source": [
    "user_behavior[user_behavior['tariff'] =='smart']['messages'].hist(bins=35, alpha=0.5, color='green')\n",
    "user_behavior[user_behavior['tariff'] =='ultra']['messages'].hist(bins=35, alpha=0.5, color='blue');"
   ]
  },
  {
   "cell_type": "markdown",
   "metadata": {
    "deletable": false,
    "editable": false,
    "id": "SuLnrpvfKyDo",
    "pycharm": {
     "name": "#%% md\n"
    }
   },
   "source": [
    "В среднем количество сообщений пользователи тарифа Ultra отправляют больше - почти на 20 сообщений больше, чем пользователи тарифа Smart. Количество сообщений в течение года на обоих тарифак растет. Динамика по отправке сообщений схожа с тенденциями по длительности разговоров: в феврале отмечено наименьшее количество сообщений за год и пользователи тарифа Ultra также проявляют нелинейную полодительную динамику."
   ]
  },
  {
   "cell_type": "code",
   "execution_count": null,
   "metadata": {
    "deletable": false,
    "id": "I0Vh9ibAKyDo",
    "outputId": "2696480e-7fc6-475e-e6ac-9b330b510c2d",
    "pycharm": {
     "name": "#%%\n"
    }
   },
   "outputs": [],
   "source": [
    "ax = sns.barplot(x='month',\n",
    "            y='sessions_mean',\n",
    "            hue=\"tariff\",\n",
    "            data=stats_df,\n",
    "            palette=['lightblue', 'blue']\n",
    ")\n",
    "\n",
    "ax.set_title('Распределение количества потраченного трафика (Мб) по видам тарифов и месяцам')\n",
    "ax.set(xlabel='Номер месяца', ylabel='Среднее количество мегабайт');"
   ]
  },
  {
   "cell_type": "markdown",
   "metadata": {
    "deletable": false,
    "editable": false,
    "id": "gk1kE32XKyDo",
    "pycharm": {
     "name": "#%% md\n"
    }
   },
   "source": [
    "Сравнение потраченных мегабайт среди пользователей тарифов Smart и Ultra"
   ]
  },
  {
   "cell_type": "code",
   "execution_count": null,
   "metadata": {
    "deletable": false,
    "id": "4bNdvIn2KyDp",
    "outputId": "0905ebe8-db1c-4466-ac45-1fe3b3a25765",
    "pycharm": {
     "name": "#%%\n"
    }
   },
   "outputs": [],
   "source": [
    "user_behavior[user_behavior['tariff'] =='smart']['mb_used'].hist(bins=35, alpha=0.5, color='green')\n",
    "user_behavior[user_behavior['tariff'] =='ultra']['mb_used'].hist(bins=35, alpha=0.5, color='blue');"
   ]
  },
  {
   "cell_type": "markdown",
   "metadata": {
    "deletable": false,
    "editable": false,
    "id": "RpnCH1a4KyDp",
    "pycharm": {
     "name": "#%% md\n"
    }
   },
   "source": [
    "Меньше всего пользователи использовали интернет в январе, феврале и апреле. Чаще всего абоненты тарифа Smart тратят 15-17 Гб, а абоненты тарифного плана Ultra - 19-21 ГБ."
   ]
  },
  {
   "cell_type": "markdown",
   "metadata": {
    "deletable": false,
    "editable": false,
    "id": "qZSr44oMKyDp",
    "pycharm": {
     "name": "#%% md\n"
    }
   },
   "source": [
    "### Проверка гипотез"
   ]
  },
  {
   "cell_type": "markdown",
   "metadata": {
    "deletable": false,
    "editable": false,
    "id": "-Aow5ztHKyDp",
    "pycharm": {
     "name": "#%% md\n"
    },
    "tags": [
     "start_task"
    ]
   },
   "source": [
    "**Задание 28.** Проверка гипотезы: средняя выручка пользователей тарифов «Ультра» и «Смарт» различаются;\n",
    "\n",
    "```\n",
    "H_0: Выручка (total_cost) пользователей \"Ультра\" = выручка (total_cost) пользователей \"Смарт\"`\n",
    "H_a: Выручка (total_cost) пользователей \"Ультра\" ≠ выручка (total_cost) пользователей \"Смарт\"`\n",
    "alpha = 0.05\n",
    "```"
   ]
  },
  {
   "cell_type": "code",
   "execution_count": null,
   "metadata": {
    "deletable": false,
    "id": "l3qunGkwKyDp",
    "pycharm": {
     "name": "#%%\n"
    }
   },
   "outputs": [],
   "source": [
    "from scipy import stats as st"
   ]
  },
  {
   "cell_type": "code",
   "execution_count": null,
   "metadata": {
    "deletable": false,
    "id": "Xa4KXeA4KyDq",
    "pycharm": {
     "name": "#%%\n"
    }
   },
   "outputs": [],
   "source": [
    "# results = вызов метода для проверки гипотезы\n",
    "\n",
    "# alpha = задайте значение уровня значимости\n",
    "\n",
    "# вывод значения p-value на экран \n",
    "# условный оператор с выводом строки с ответом\n",
    "\n",
    "results = st.ttest_ind(\n",
    "    user_behavior.loc[user_behavior.tariff == 'ultra', 'total_cost'],\n",
    "    user_behavior.loc[user_behavior.tariff == 'smart', 'total_cost'], \n",
    "    equal_var=False)\n",
    "\n",
    "# alpha обязательно должен быть таким\n",
    "alpha = 0.05\n",
    "\n",
    "# проверяем значение pvalue с некоторой точностью\n",
    "print(results.pvalue)\n",
    "\n",
    "# проверяем output\n",
    "if results.pvalue < alpha:\n",
    "    print(\"Отвергаем нулевую гипотезу\")\n",
    "else:\n",
    "    print(\"Не получилось отвергнуть нулевую гипотезу\")"
   ]
  },
  {
   "cell_type": "markdown",
   "metadata": {
    "deletable": false,
    "editable": false,
    "id": "Q4n6QDf-KyDq",
    "pycharm": {
     "name": "#%% md\n"
    },
    "tags": [
     "start_task"
    ]
   },
   "source": [
    "**Задание 29.** Проверка гипотезы: пользователи из Москвы приносят больше выручки, чем пользователи из других городов;\n",
    "\n",
    "```\n",
    "H_0: Выручка (total_cost) пользователей из Москвы = выручка (total_cost) пользователей не из Москвы`\n",
    "H_1: Выручка (total_cost) пользователей из Москвы ≠ выручка (total_cost) пользователей не из Москвы`\n",
    "alpha = 0.05\n",
    "```"
   ]
  },
  {
   "cell_type": "code",
   "execution_count": 54,
   "metadata": {
    "deletable": false,
    "id": "fl-UuP2SKyDq",
    "pycharm": {
     "name": "#%%\n"
    }
   },
   "outputs": [],
   "source": [
    "# results = вызов метода для проверки гипотезы\n",
    "\n",
    "# alpha = задайте значение уровня значимости\n",
    "\n",
    "# вывод значения p-value на экран \n",
    "# условный оператор с выводом строки с ответом\n",
    "results = st.ttest_ind(\n",
    "    user_behavior.loc[user_behavior.city == 'Москва', 'total_cost'],\n",
    "    user_behavior.loc[user_behavior.city != 'Москва', 'total_cost'], \n",
    "    equal_var=False)\n",
    "\n",
    "# alpha обязательно должен быть таким\n",
    "alpha = 0.05\n",
    "\n",
    "# проверяем значение pvalue с некоторой точностью\n",
    "print(results.pvalue)\n",
    "\n",
    "# проверяем output\n",
    "if results.pvalue < alpha:\n",
    "    print(\"Отвергаем нулевую гипотезу\")\n",
    "else:\n",
    "    print(\"Не получилось отвергнуть нулевую гипотезу\")"
   ]
  }
 ],
 "metadata": {
  "ExecuteTimeLog": [
   {
    "duration": 385,
    "start_time": "2022-09-23T13:47:57.728Z"
   },
   {
    "duration": 3,
    "start_time": "2022-09-23T13:48:37.620Z"
   },
   {
    "duration": 896,
    "start_time": "2022-09-23T13:48:39.276Z"
   },
   {
    "duration": 16,
    "start_time": "2022-09-23T13:48:43.229Z"
   },
   {
    "duration": 24,
    "start_time": "2022-09-23T13:48:45.979Z"
   },
   {
    "duration": 567,
    "start_time": "2022-09-23T13:49:35.369Z"
   },
   {
    "duration": 687,
    "start_time": "2022-09-23T14:50:42.105Z"
   },
   {
    "duration": 11,
    "start_time": "2022-09-23T14:50:43.689Z"
   },
   {
    "duration": 21,
    "start_time": "2022-09-23T15:13:43.283Z"
   },
   {
    "duration": 185,
    "start_time": "2022-09-23T15:20:41.597Z"
   },
   {
    "duration": 171,
    "start_time": "2022-09-23T15:20:44.625Z"
   },
   {
    "duration": 8,
    "start_time": "2022-09-23T15:24:11.335Z"
   },
   {
    "duration": 18,
    "start_time": "2022-09-23T15:24:36.431Z"
   },
   {
    "duration": 60,
    "start_time": "2022-09-23T15:24:55.269Z"
   },
   {
    "duration": 8,
    "start_time": "2022-09-23T15:25:05.322Z"
   },
   {
    "duration": 10,
    "start_time": "2022-09-23T15:26:01.388Z"
   },
   {
    "duration": 81,
    "start_time": "2022-09-23T15:26:19.669Z"
   },
   {
    "duration": 11,
    "start_time": "2022-09-23T16:45:54.146Z"
   },
   {
    "duration": 138,
    "start_time": "2022-09-23T16:56:23.979Z"
   },
   {
    "duration": 110,
    "start_time": "2022-09-23T16:56:37.541Z"
   },
   {
    "duration": 11,
    "start_time": "2022-09-23T22:33:23.012Z"
   },
   {
    "duration": 8,
    "start_time": "2022-09-23T22:35:32.668Z"
   },
   {
    "duration": 6,
    "start_time": "2022-09-23T22:35:54.693Z"
   },
   {
    "duration": 13,
    "start_time": "2022-09-24T10:22:27.205Z"
   },
   {
    "duration": 364,
    "start_time": "2022-09-24T10:22:43.150Z"
   },
   {
    "duration": 164,
    "start_time": "2022-09-24T10:22:43.515Z"
   },
   {
    "duration": 19,
    "start_time": "2022-09-24T10:22:43.681Z"
   },
   {
    "duration": 27,
    "start_time": "2022-09-24T10:22:43.702Z"
   },
   {
    "duration": 399,
    "start_time": "2022-09-24T10:22:43.731Z"
   },
   {
    "duration": 159,
    "start_time": "2022-09-24T10:22:44.132Z"
   },
   {
    "duration": 11,
    "start_time": "2022-09-24T10:22:44.295Z"
   },
   {
    "duration": 23,
    "start_time": "2022-09-24T10:22:44.308Z"
   },
   {
    "duration": 186,
    "start_time": "2022-09-24T10:22:44.333Z"
   },
   {
    "duration": 106,
    "start_time": "2022-09-24T10:22:44.522Z"
   },
   {
    "duration": 8,
    "start_time": "2022-09-24T10:22:44.629Z"
   },
   {
    "duration": 20,
    "start_time": "2022-09-24T10:22:44.639Z"
   },
   {
    "duration": 27,
    "start_time": "2022-09-24T10:22:44.661Z"
   },
   {
    "duration": 8,
    "start_time": "2022-09-24T10:22:44.690Z"
   },
   {
    "duration": 12,
    "start_time": "2022-09-24T10:22:44.700Z"
   },
   {
    "duration": 30,
    "start_time": "2022-09-24T10:22:44.714Z"
   },
   {
    "duration": 12,
    "start_time": "2022-09-24T10:22:44.746Z"
   },
   {
    "duration": 13,
    "start_time": "2022-09-24T10:22:44.759Z"
   },
   {
    "duration": 94,
    "start_time": "2022-09-24T10:22:44.774Z"
   },
   {
    "duration": 7,
    "start_time": "2022-09-24T10:22:44.870Z"
   },
   {
    "duration": 22,
    "start_time": "2022-09-24T10:22:44.879Z"
   },
   {
    "duration": 4,
    "start_time": "2022-09-24T10:22:44.903Z"
   },
   {
    "duration": 7,
    "start_time": "2022-09-24T10:22:44.909Z"
   },
   {
    "duration": 4,
    "start_time": "2022-09-24T10:22:44.918Z"
   },
   {
    "duration": 6,
    "start_time": "2022-09-24T10:22:44.924Z"
   },
   {
    "duration": 5,
    "start_time": "2022-09-24T10:22:44.932Z"
   },
   {
    "duration": 5,
    "start_time": "2022-09-24T10:22:44.939Z"
   },
   {
    "duration": 3,
    "start_time": "2022-09-24T10:22:44.950Z"
   },
   {
    "duration": 5,
    "start_time": "2022-09-24T10:22:44.955Z"
   },
   {
    "duration": 40,
    "start_time": "2022-09-24T10:22:44.962Z"
   },
   {
    "duration": 82,
    "start_time": "2022-09-24T10:22:45.003Z"
   },
   {
    "duration": 0,
    "start_time": "2022-09-24T10:22:45.094Z"
   },
   {
    "duration": 0,
    "start_time": "2022-09-24T10:22:45.096Z"
   },
   {
    "duration": 0,
    "start_time": "2022-09-24T10:22:45.097Z"
   },
   {
    "duration": 0,
    "start_time": "2022-09-24T10:22:45.098Z"
   },
   {
    "duration": 0,
    "start_time": "2022-09-24T10:22:45.099Z"
   },
   {
    "duration": 0,
    "start_time": "2022-09-24T10:22:45.101Z"
   },
   {
    "duration": 0,
    "start_time": "2022-09-24T10:22:45.102Z"
   },
   {
    "duration": 0,
    "start_time": "2022-09-24T10:22:45.104Z"
   },
   {
    "duration": 0,
    "start_time": "2022-09-24T10:22:45.105Z"
   },
   {
    "duration": 0,
    "start_time": "2022-09-24T10:22:45.107Z"
   },
   {
    "duration": 0,
    "start_time": "2022-09-24T10:22:45.108Z"
   },
   {
    "duration": 0,
    "start_time": "2022-09-24T10:22:45.110Z"
   },
   {
    "duration": 0,
    "start_time": "2022-09-24T10:22:45.112Z"
   },
   {
    "duration": 0,
    "start_time": "2022-09-24T10:22:45.114Z"
   },
   {
    "duration": 0,
    "start_time": "2022-09-24T10:22:45.116Z"
   },
   {
    "duration": 0,
    "start_time": "2022-09-24T10:22:45.118Z"
   },
   {
    "duration": 1,
    "start_time": "2022-09-24T10:22:45.119Z"
   },
   {
    "duration": 0,
    "start_time": "2022-09-24T10:22:45.121Z"
   },
   {
    "duration": 0,
    "start_time": "2022-09-24T10:22:45.123Z"
   },
   {
    "duration": 0,
    "start_time": "2022-09-24T10:22:45.124Z"
   },
   {
    "duration": 23,
    "start_time": "2022-09-24T10:25:43.088Z"
   },
   {
    "duration": 15,
    "start_time": "2022-09-24T10:25:45.298Z"
   },
   {
    "duration": 19,
    "start_time": "2022-09-24T10:25:47.178Z"
   },
   {
    "duration": 24,
    "start_time": "2022-09-24T10:27:45.244Z"
   },
   {
    "duration": 9,
    "start_time": "2022-09-24T10:27:46.055Z"
   },
   {
    "duration": 25,
    "start_time": "2022-09-24T10:30:42.264Z"
   },
   {
    "duration": 7,
    "start_time": "2022-09-24T10:30:42.868Z"
   },
   {
    "duration": 17,
    "start_time": "2022-09-24T10:32:28.755Z"
   },
   {
    "duration": 9,
    "start_time": "2022-09-24T10:32:29.275Z"
   },
   {
    "duration": 18,
    "start_time": "2022-09-24T10:34:39.617Z"
   },
   {
    "duration": 10,
    "start_time": "2022-09-24T10:34:40.029Z"
   },
   {
    "duration": 383,
    "start_time": "2022-09-24T10:34:54.527Z"
   },
   {
    "duration": 166,
    "start_time": "2022-09-24T10:34:54.912Z"
   },
   {
    "duration": 23,
    "start_time": "2022-09-24T10:34:55.079Z"
   },
   {
    "duration": 23,
    "start_time": "2022-09-24T10:34:55.104Z"
   },
   {
    "duration": 412,
    "start_time": "2022-09-24T10:34:55.129Z"
   },
   {
    "duration": 137,
    "start_time": "2022-09-24T10:34:55.543Z"
   },
   {
    "duration": 9,
    "start_time": "2022-09-24T10:34:55.682Z"
   },
   {
    "duration": 28,
    "start_time": "2022-09-24T10:34:55.695Z"
   },
   {
    "duration": 168,
    "start_time": "2022-09-24T10:34:55.725Z"
   },
   {
    "duration": 99,
    "start_time": "2022-09-24T10:34:55.895Z"
   },
   {
    "duration": 8,
    "start_time": "2022-09-24T10:34:55.996Z"
   },
   {
    "duration": 21,
    "start_time": "2022-09-24T10:34:56.005Z"
   },
   {
    "duration": 26,
    "start_time": "2022-09-24T10:34:56.028Z"
   },
   {
    "duration": 8,
    "start_time": "2022-09-24T10:34:56.057Z"
   },
   {
    "duration": 14,
    "start_time": "2022-09-24T10:34:56.067Z"
   },
   {
    "duration": 32,
    "start_time": "2022-09-24T10:34:56.082Z"
   },
   {
    "duration": 10,
    "start_time": "2022-09-24T10:34:56.116Z"
   },
   {
    "duration": 12,
    "start_time": "2022-09-24T10:34:56.128Z"
   },
   {
    "duration": 80,
    "start_time": "2022-09-24T10:34:56.141Z"
   },
   {
    "duration": 6,
    "start_time": "2022-09-24T10:34:56.223Z"
   },
   {
    "duration": 9,
    "start_time": "2022-09-24T10:34:56.231Z"
   },
   {
    "duration": 33,
    "start_time": "2022-09-24T10:34:56.241Z"
   },
   {
    "duration": 27,
    "start_time": "2022-09-24T10:34:56.276Z"
   },
   {
    "duration": 19,
    "start_time": "2022-09-24T10:34:56.305Z"
   },
   {
    "duration": 26,
    "start_time": "2022-09-24T10:34:56.325Z"
   },
   {
    "duration": 8,
    "start_time": "2022-09-24T10:34:56.353Z"
   },
   {
    "duration": 58,
    "start_time": "2022-09-24T10:34:56.362Z"
   },
   {
    "duration": 9,
    "start_time": "2022-09-24T10:34:56.422Z"
   },
   {
    "duration": 25,
    "start_time": "2022-09-24T10:34:56.433Z"
   },
   {
    "duration": 11,
    "start_time": "2022-09-24T10:34:56.460Z"
   },
   {
    "duration": 42,
    "start_time": "2022-09-24T10:34:56.473Z"
   },
   {
    "duration": 12,
    "start_time": "2022-09-24T10:34:56.518Z"
   },
   {
    "duration": 12,
    "start_time": "2022-09-24T10:34:56.532Z"
   },
   {
    "duration": 69,
    "start_time": "2022-09-24T10:34:56.546Z"
   },
   {
    "duration": 9,
    "start_time": "2022-09-24T10:34:56.617Z"
   },
   {
    "duration": 15,
    "start_time": "2022-09-24T10:34:56.628Z"
   },
   {
    "duration": 23,
    "start_time": "2022-09-24T10:34:56.645Z"
   },
   {
    "duration": 13,
    "start_time": "2022-09-24T10:34:56.671Z"
   },
   {
    "duration": 19,
    "start_time": "2022-09-24T10:34:56.686Z"
   },
   {
    "duration": 6,
    "start_time": "2022-09-24T10:34:56.707Z"
   },
   {
    "duration": 12,
    "start_time": "2022-09-24T10:34:56.717Z"
   },
   {
    "duration": 7,
    "start_time": "2022-09-24T10:34:56.731Z"
   },
   {
    "duration": 67,
    "start_time": "2022-09-24T10:34:56.741Z"
   },
   {
    "duration": 880,
    "start_time": "2022-09-24T10:34:56.809Z"
   },
   {
    "duration": 273,
    "start_time": "2022-09-24T10:34:57.690Z"
   },
   {
    "duration": 331,
    "start_time": "2022-09-24T10:34:57.965Z"
   },
   {
    "duration": 291,
    "start_time": "2022-09-24T10:34:58.298Z"
   },
   {
    "duration": 273,
    "start_time": "2022-09-24T10:34:58.590Z"
   },
   {
    "duration": 215,
    "start_time": "2022-09-24T10:34:58.865Z"
   },
   {
    "duration": 313,
    "start_time": "2022-09-24T10:34:59.082Z"
   },
   {
    "duration": 214,
    "start_time": "2022-09-24T10:34:59.397Z"
   },
   {
    "duration": 3,
    "start_time": "2022-09-24T10:34:59.612Z"
   },
   {
    "duration": 5,
    "start_time": "2022-09-24T10:34:59.617Z"
   },
   {
    "duration": 4,
    "start_time": "2022-09-24T10:34:59.624Z"
   },
   {
    "duration": 9,
    "start_time": "2022-09-24T12:07:55.343Z"
   }
  ],
  "colab": {
   "name": "statistics_template_final.ipynb",
   "provenance": []
  },
  "kernelspec": {
   "display_name": "Python 3 (ipykernel)",
   "language": "python",
   "name": "python3"
  },
  "language_info": {
   "codemirror_mode": {
    "name": "ipython",
    "version": 3
   },
   "file_extension": ".py",
   "mimetype": "text/x-python",
   "name": "python",
   "nbconvert_exporter": "python",
   "pygments_lexer": "ipython3",
   "version": "3.9.12"
  },
  "latex_envs": {
   "LaTeX_envs_menu_present": true,
   "autoclose": true,
   "autocomplete": true,
   "bibliofile": "biblio.bib",
   "cite_by": "apalike",
   "current_citInitial": 1,
   "eqLabelWithNumbers": true,
   "eqNumInitial": 1,
   "hotkeys": {
    "equation": "Ctrl-E",
    "itemize": "Ctrl-I"
   },
   "labels_anchors": false,
   "latex_user_defs": false,
   "report_style_numbering": false,
   "user_envs_cfg": false
  },
  "toc": {
   "base_numbering": 1,
   "nav_menu": {},
   "number_sections": true,
   "sideBar": true,
   "skip_h1_title": true,
   "title_cell": "Table of Contents",
   "title_sidebar": "Contents",
   "toc_cell": false,
   "toc_position": {},
   "toc_section_display": true,
   "toc_window_display": true
  }
 },
 "nbformat": 4,
 "nbformat_minor": 1
}
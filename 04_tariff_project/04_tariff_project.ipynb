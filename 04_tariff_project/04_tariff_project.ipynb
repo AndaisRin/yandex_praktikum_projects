{
 "cells": [
  {
   "cell_type": "markdown",
   "source": [
    "# Описание проекта\n",
    "Вы аналитик компании «Мегалайн» — федерального оператора сотовой связи. Клиентам предлагают два тарифных плана: «Смарт» и «Ультра». Чтобы скорректировать рекламный бюджет, коммерческий департамент хочет понять, какой тариф приносит больше денег.\n",
    "Вам предстоит сделать предварительный анализ тарифов на небольшой выборке клиентов. В вашем распоряжении данные 500 пользователей «Мегалайна»: кто они, откуда, каким тарифом пользуются, сколько звонков и сообщений каждый отправил за 2018-й год. Нужно проанализировать поведение клиентов и сделать вывод — какой тариф лучше.\n",
    "#### Описание тарифов\n",
    "**Тариф «Смарт»**\n",
    "- Ежемесячная плата: 550 рублей\n",
    "- Включено 500 минут разговора, 50 сообщений и 15 Гб интернет-трафика\n",
    "- Стоимость услуг сверх тарифного пакета:\n",
    "- Минута разговора — 3 рубля. Количество использованных минут и мегабайтов «Мегалайн» всегда округляет вверх. Если пользователь проговорил всего 1 секунду, в тарифе засчитывается целая минута.\n",
    "- Сообщение — 3 рубля.\n",
    "- 1 Гб интернет-трафика — 200 рублей.\n",
    "\n",
    "**Тариф «Ультра»**\n",
    "- Ежемесячная плата: 1950 рублей\n",
    "- Включено 3000 минут разговора, 1000 сообщений и 30 Гб интернет-трафика\n",
    "- Стоимость услуг сверх тарифного пакета:\n",
    "- Минута разговора — 1 рубль;\n",
    "- Сообщение — 1 рубль;\n",
    "- 1 Гб интернет-трафика: 150 рублей.\n",
    "\n",
    "#### Описание данных\n",
    "Таблица `users` — информация о пользователях:\n",
    "- user_id — уникальный идентификатор пользователя\n",
    "- first_name — имя пользователя\n",
    "- last_name — фамилия пользователя\n",
    "- age — возраст пользователя (годы)\n",
    "- reg_date — дата подключения тарифа (день, месяц, год)\n",
    "- churn_date — дата прекращения пользования тарифом (если значение пропущено, значит, тариф ещё действовал на момент выгрузки данных)\n",
    "- city — город проживания пользователя\n",
    "- tarif — название тарифного плана\n",
    "\n",
    "Таблица `calls` — информация о звонках:\n",
    "- id — уникальный номер звонка\n",
    "- call_date — дата звонка\n",
    "- duration — длительность звонка в минутах\n",
    "- user_id — идентификатор пользователя, сделавшего звонок\n",
    "\n",
    "Таблица `messages` — информация о сообщениях:\n",
    "- id — уникальный номер звонка\n",
    "- message_date — дата сообщения\n",
    "- user_id — идентификатор пользователя, отправившего сообщение\n",
    "\n",
    "Таблица `internet` — информация об интернет-сессиях:\n",
    "- id — уникальный номер сессии\n",
    "- mb_used — объём потраченного за сессию интернет-трафика (в мегабайтах)\n",
    "- session_date — дата интернет-сессии\n",
    "- user_id — идентификатор пользователя\n",
    "\n",
    "Таблица `tariffs` — информация о тарифах:\n",
    "- tariff_name — название тарифа\n",
    "- rub_monthly_fee — ежемесячная абонентская плата в рублях\n",
    "- minutes_included — количество минут разговора в месяц, включённых в абонентскую плату\n",
    "- messages_included — количество сообщений в месяц, включённых в абонентскую плату\n",
    "- mb_per_month_included — объём интернет-трафика, включённого в абонентскую плату (в мегабайтах)\n",
    "- rub_per_minute — стоимость минуты разговора сверх тарифного пакета (например, если в тарифе 100 минут разговора в месяц, то со 101 минуты будет взиматься плата)\n",
    "- rub_per_message — стоимость отправки сообщения сверх тарифного пакета\n",
    "- rub_per_gb — стоимость дополнительного гигабайта интернет-трафика сверх тарифного пакета (1 гигабайт = 1024 мегабайта)"
   ],
   "metadata": {
    "collapsed": false
   }
  },
  {
   "cell_type": "code",
   "execution_count": 1,
   "metadata": {
    "deletable": false,
    "id": "I6iDDDvQKyDG"
   },
   "outputs": [],
   "source": [
    "import pandas as pd\n",
    "import numpy as np\n",
    "import seaborn as sns\n",
    "from scipy import stats as st\n",
    "import matplotlib.pyplot as plt"
   ]
  },
  {
   "cell_type": "markdown",
   "metadata": {
    "deletable": false,
    "editable": false,
    "id": "xhLilmTDKyDL"
   },
   "source": [
    "### Откройте файл с данными и изучите общую информацию"
   ]
  },
  {
   "cell_type": "markdown",
   "metadata": {
    "deletable": false,
    "editable": false,
    "id": "Pkduo2j4KyDM",
    "tags": [
     "start_task"
    ]
   },
   "source": [
    "**Задание 1.** Откройте файл `/datasets/calls.csv`, сохраните датафрейм в переменную `calls`."
   ]
  },
  {
   "cell_type": "code",
   "execution_count": 2,
   "metadata": {
    "deletable": false,
    "id": "o7fJYWVIKyDM"
   },
   "outputs": [],
   "source": [
    "try:\n",
    "    calls = pd.read_csv('calls.csv')\n",
    "except:\n",
    "    calls = pd.read_csv('/datasets/calls.csv')"
   ]
  },
  {
   "cell_type": "markdown",
   "metadata": {
    "deletable": false,
    "editable": false,
    "id": "lwrQoooGKyDN",
    "tags": [
     "start_task"
    ]
   },
   "source": [
    "**Задание 2.** Выведите первые 5 строк датафрейма `calls`."
   ]
  },
  {
   "cell_type": "code",
   "execution_count": 3,
   "metadata": {
    "deletable": false,
    "id": "u2XlYfJeKyDN"
   },
   "outputs": [
    {
     "data": {
      "text/plain": "       id   call_date  duration  user_id\n0  1000_0  2018-07-25      0.00     1000\n1  1000_1  2018-08-17      0.00     1000\n2  1000_2  2018-06-11      2.85     1000\n3  1000_3  2018-09-21     13.80     1000\n4  1000_4  2018-12-15      5.18     1000",
      "text/html": "<div>\n<style scoped>\n    .dataframe tbody tr th:only-of-type {\n        vertical-align: middle;\n    }\n\n    .dataframe tbody tr th {\n        vertical-align: top;\n    }\n\n    .dataframe thead th {\n        text-align: right;\n    }\n</style>\n<table border=\"1\" class=\"dataframe\">\n  <thead>\n    <tr style=\"text-align: right;\">\n      <th></th>\n      <th>id</th>\n      <th>call_date</th>\n      <th>duration</th>\n      <th>user_id</th>\n    </tr>\n  </thead>\n  <tbody>\n    <tr>\n      <th>0</th>\n      <td>1000_0</td>\n      <td>2018-07-25</td>\n      <td>0.00</td>\n      <td>1000</td>\n    </tr>\n    <tr>\n      <th>1</th>\n      <td>1000_1</td>\n      <td>2018-08-17</td>\n      <td>0.00</td>\n      <td>1000</td>\n    </tr>\n    <tr>\n      <th>2</th>\n      <td>1000_2</td>\n      <td>2018-06-11</td>\n      <td>2.85</td>\n      <td>1000</td>\n    </tr>\n    <tr>\n      <th>3</th>\n      <td>1000_3</td>\n      <td>2018-09-21</td>\n      <td>13.80</td>\n      <td>1000</td>\n    </tr>\n    <tr>\n      <th>4</th>\n      <td>1000_4</td>\n      <td>2018-12-15</td>\n      <td>5.18</td>\n      <td>1000</td>\n    </tr>\n  </tbody>\n</table>\n</div>"
     },
     "execution_count": 3,
     "metadata": {},
     "output_type": "execute_result"
    }
   ],
   "source": [
    "calls.head()"
   ]
  },
  {
   "cell_type": "markdown",
   "metadata": {
    "deletable": false,
    "editable": false,
    "id": "A3xpbsHKKyDN",
    "tags": [
     "start_task"
    ]
   },
   "source": [
    "**Задание 3.** Выведите основную информацию для датафрейма `calls` с помощью метода `info()`."
   ]
  },
  {
   "cell_type": "code",
   "execution_count": 4,
   "metadata": {
    "deletable": false,
    "id": "yXy_xs-FKyDO"
   },
   "outputs": [
    {
     "name": "stdout",
     "output_type": "stream",
     "text": [
      "<class 'pandas.core.frame.DataFrame'>\n",
      "RangeIndex: 202607 entries, 0 to 202606\n",
      "Data columns (total 4 columns):\n",
      " #   Column     Non-Null Count   Dtype  \n",
      "---  ------     --------------   -----  \n",
      " 0   id         202607 non-null  object \n",
      " 1   call_date  202607 non-null  object \n",
      " 2   duration   202607 non-null  float64\n",
      " 3   user_id    202607 non-null  int64  \n",
      "dtypes: float64(1), int64(1), object(2)\n",
      "memory usage: 6.2+ MB\n"
     ]
    }
   ],
   "source": [
    "calls.info()"
   ]
  },
  {
   "cell_type": "markdown",
   "metadata": {
    "deletable": false,
    "editable": false,
    "id": "KtjI09xUKyDO",
    "tags": [
     "start_task"
    ]
   },
   "source": [
    "**Задание 4.** С помощью метода `hist()` выведите гистограмму для столбца с продолжительностью звонков. Подумайте о том, как распределены данные."
   ]
  },
  {
   "cell_type": "code",
   "execution_count": 5,
   "metadata": {
    "deletable": false,
    "id": "S8bearjpKyDO"
   },
   "outputs": [
    {
     "data": {
      "text/plain": "<AxesSubplot:>"
     },
     "execution_count": 5,
     "metadata": {},
     "output_type": "execute_result"
    },
    {
     "data": {
      "text/plain": "<Figure size 640x480 with 1 Axes>",
      "image/png": "[encoded data removed]"
     },
     "metadata": {},
     "output_type": "display_data"
    }
   ],
   "source": [
    "calls.duration.hist()"
   ]
  },
  {
   "cell_type": "markdown",
   "metadata": {
    "deletable": false,
    "editable": false,
    "id": "QGBLhAE4KyDO",
    "tags": [
     "start_task"
    ]
   },
   "source": [
    "**Задание 5.** Откройте файл `/datasets/internet.csv`, сохраните датафрейм в переменную `sessions`."
   ]
  },
  {
   "cell_type": "code",
   "execution_count": 6,
   "metadata": {
    "deletable": false,
    "id": "UOgA1VlRKyDP"
   },
   "outputs": [],
   "source": [
    "try:\n",
    "    sessions = pd.read_csv('internet.csv')\n",
    "except:\n",
    "    sessions = pd.read_csv('/datasets/internet.csv')"
   ]
  },
  {
   "cell_type": "markdown",
   "metadata": {
    "deletable": false,
    "editable": false,
    "id": "RdX3Fsz4KyDP",
    "tags": [
     "start_task"
    ]
   },
   "source": [
    "**Задание 6.** Выведите первые 5 строк датафрейма `sessions`."
   ]
  },
  {
   "cell_type": "code",
   "execution_count": 7,
   "metadata": {
    "deletable": false,
    "id": "GmfPmi-6KyDP"
   },
   "outputs": [
    {
     "data": {
      "text/plain": "   Unnamed: 0      id  mb_used session_date  user_id\n0           0  1000_0   112.95   2018-11-25     1000\n1           1  1000_1  1052.81   2018-09-07     1000\n2           2  1000_2  1197.26   2018-06-25     1000\n3           3  1000_3   550.27   2018-08-22     1000\n4           4  1000_4   302.56   2018-09-24     1000",
      "text/html": "<div>\n<style scoped>\n    .dataframe tbody tr th:only-of-type {\n        vertical-align: middle;\n    }\n\n    .dataframe tbody tr th {\n        vertical-align: top;\n    }\n\n    .dataframe thead th {\n        text-align: right;\n    }\n</style>\n<table border=\"1\" class=\"dataframe\">\n  <thead>\n    <tr style=\"text-align: right;\">\n      <th></th>\n      <th>Unnamed: 0</th>\n      <th>id</th>\n      <th>mb_used</th>\n      <th>session_date</th>\n      <th>user_id</th>\n    </tr>\n  </thead>\n  <tbody>\n    <tr>\n      <th>0</th>\n      <td>0</td>\n      <td>1000_0</td>\n      <td>112.95</td>\n      <td>2018-11-25</td>\n      <td>1000</td>\n    </tr>\n    <tr>\n      <th>1</th>\n      <td>1</td>\n      <td>1000_1</td>\n      <td>1052.81</td>\n      <td>2018-09-07</td>\n      <td>1000</td>\n    </tr>\n    <tr>\n      <th>2</th>\n      <td>2</td>\n      <td>1000_2</td>\n      <td>1197.26</td>\n      <td>2018-06-25</td>\n      <td>1000</td>\n    </tr>\n    <tr>\n      <th>3</th>\n      <td>3</td>\n      <td>1000_3</td>\n      <td>550.27</td>\n      <td>2018-08-22</td>\n      <td>1000</td>\n    </tr>\n    <tr>\n      <th>4</th>\n      <td>4</td>\n      <td>1000_4</td>\n      <td>302.56</td>\n      <td>2018-09-24</td>\n      <td>1000</td>\n    </tr>\n  </tbody>\n</table>\n</div>"
     },
     "execution_count": 7,
     "metadata": {},
     "output_type": "execute_result"
    }
   ],
   "source": [
    "sessions.head()"
   ]
  },
  {
   "cell_type": "markdown",
   "metadata": {
    "deletable": false,
    "editable": false,
    "id": "Zld7GYWGKyDP",
    "tags": [
     "start_task"
    ]
   },
   "source": [
    "**Задание 7.** Выведите основную информацию для датафрейма sessions с помощью метода `info()`. "
   ]
  },
  {
   "cell_type": "code",
   "execution_count": 8,
   "metadata": {
    "deletable": false,
    "id": "x6BhhWGmKyDQ"
   },
   "outputs": [
    {
     "name": "stdout",
     "output_type": "stream",
     "text": [
      "<class 'pandas.core.frame.DataFrame'>\n",
      "RangeIndex: 149396 entries, 0 to 149395\n",
      "Data columns (total 5 columns):\n",
      " #   Column        Non-Null Count   Dtype  \n",
      "---  ------        --------------   -----  \n",
      " 0   Unnamed: 0    149396 non-null  int64  \n",
      " 1   id            149396 non-null  object \n",
      " 2   mb_used       149396 non-null  float64\n",
      " 3   session_date  149396 non-null  object \n",
      " 4   user_id       149396 non-null  int64  \n",
      "dtypes: float64(1), int64(2), object(2)\n",
      "memory usage: 5.7+ MB\n"
     ]
    }
   ],
   "source": [
    "sessions.info()"
   ]
  },
  {
   "cell_type": "markdown",
   "metadata": {
    "deletable": false,
    "editable": false,
    "id": "bsDEVSRJKyDQ",
    "tags": [
     "start_task"
    ]
   },
   "source": [
    "**Задание 8.** С помощью метода `hist()` выведите гистограмму для столбца с количеством потраченных мегабайт."
   ]
  },
  {
   "cell_type": "code",
   "execution_count": 9,
   "metadata": {
    "deletable": false,
    "id": "b0fkn79xKyDQ"
   },
   "outputs": [
    {
     "data": {
      "text/plain": "<AxesSubplot:>"
     },
     "execution_count": 9,
     "metadata": {},
     "output_type": "execute_result"
    },
    {
     "data": {
      "text/plain": "<Figure size 640x480 with 1 Axes>",
      "image/png": "[encoded data removed]"
     },
     "metadata": {},
     "output_type": "display_data"
    }
   ],
   "source": [
    "sessions.mb_used.hist()"
   ]
  },
  {
   "cell_type": "markdown",
   "metadata": {
    "deletable": false,
    "editable": false,
    "id": "YpiiymbQKyDQ",
    "tags": [
     "start_task"
    ]
   },
   "source": [
    "**Задание 9.** Откройте файл `/datasets/messages.csv`, сохраните датафрейм в переменную `messages`."
   ]
  },
  {
   "cell_type": "code",
   "execution_count": 10,
   "metadata": {
    "deletable": false,
    "id": "945IuYoxKyDR"
   },
   "outputs": [],
   "source": [
    "try:\n",
    "    messages = pd.read_csv('messages.csv')\n",
    "except:\n",
    "    messages = pd.read_csv('/datasets/messages.csv')"
   ]
  },
  {
   "cell_type": "markdown",
   "metadata": {
    "deletable": false,
    "editable": false,
    "id": "7OEeR-igKyDR",
    "tags": [
     "start_task"
    ]
   },
   "source": [
    "**Задание 10.** Выведите первые 5 строк датафрейма `messages`."
   ]
  },
  {
   "cell_type": "code",
   "execution_count": 11,
   "metadata": {
    "deletable": false,
    "id": "-64TOS9OKyDR"
   },
   "outputs": [
    {
     "data": {
      "text/plain": "       id message_date  user_id\n0  1000_0   2018-06-27     1000\n1  1000_1   2018-10-08     1000\n2  1000_2   2018-08-04     1000\n3  1000_3   2018-06-16     1000\n4  1000_4   2018-12-05     1000",
      "text/html": "<div>\n<style scoped>\n    .dataframe tbody tr th:only-of-type {\n        vertical-align: middle;\n    }\n\n    .dataframe tbody tr th {\n        vertical-align: top;\n    }\n\n    .dataframe thead th {\n        text-align: right;\n    }\n</style>\n<table border=\"1\" class=\"dataframe\">\n  <thead>\n    <tr style=\"text-align: right;\">\n      <th></th>\n      <th>id</th>\n      <th>message_date</th>\n      <th>user_id</th>\n    </tr>\n  </thead>\n  <tbody>\n    <tr>\n      <th>0</th>\n      <td>1000_0</td>\n      <td>2018-06-27</td>\n      <td>1000</td>\n    </tr>\n    <tr>\n      <th>1</th>\n      <td>1000_1</td>\n      <td>2018-10-08</td>\n      <td>1000</td>\n    </tr>\n    <tr>\n      <th>2</th>\n      <td>1000_2</td>\n      <td>2018-08-04</td>\n      <td>1000</td>\n    </tr>\n    <tr>\n      <th>3</th>\n      <td>1000_3</td>\n      <td>2018-06-16</td>\n      <td>1000</td>\n    </tr>\n    <tr>\n      <th>4</th>\n      <td>1000_4</td>\n      <td>2018-12-05</td>\n      <td>1000</td>\n    </tr>\n  </tbody>\n</table>\n</div>"
     },
     "execution_count": 11,
     "metadata": {},
     "output_type": "execute_result"
    }
   ],
   "source": [
    "messages.head()"
   ]
  },
  {
   "cell_type": "markdown",
   "metadata": {
    "deletable": false,
    "editable": false,
    "id": "QzxKbOrDKyDR",
    "tags": [
     "start_task"
    ]
   },
   "source": [
    "**Задание 11.** Выведите основную информацию для датафрейма `messages` с помощью метода `info()`. "
   ]
  },
  {
   "cell_type": "code",
   "execution_count": 12,
   "metadata": {
    "deletable": false,
    "id": "y_z7qlA6KyDS"
   },
   "outputs": [
    {
     "name": "stdout",
     "output_type": "stream",
     "text": [
      "<class 'pandas.core.frame.DataFrame'>\n",
      "RangeIndex: 123036 entries, 0 to 123035\n",
      "Data columns (total 3 columns):\n",
      " #   Column        Non-Null Count   Dtype \n",
      "---  ------        --------------   ----- \n",
      " 0   id            123036 non-null  object\n",
      " 1   message_date  123036 non-null  object\n",
      " 2   user_id       123036 non-null  int64 \n",
      "dtypes: int64(1), object(2)\n",
      "memory usage: 2.8+ MB\n"
     ]
    }
   ],
   "source": [
    "messages.info()"
   ]
  },
  {
   "cell_type": "markdown",
   "metadata": {
    "deletable": false,
    "editable": false,
    "id": "5d_JokdiKyDS",
    "tags": [
     "start_task"
    ]
   },
   "source": [
    "**Задание 12.** Откройте файл `/datasets/tariffs.csv`, сохраните датафрейм в переменную `tariffs`."
   ]
  },
  {
   "cell_type": "code",
   "execution_count": 13,
   "metadata": {
    "deletable": false,
    "id": "IZmLy1evKyDS"
   },
   "outputs": [],
   "source": [
    "try:\n",
    "    tariffs = pd.read_csv('tariffs.csv')\n",
    "except:\n",
    "    tariffs = pd.read_csv('/datasets/tariffs.csv')"
   ]
  },
  {
   "cell_type": "markdown",
   "metadata": {
    "deletable": false,
    "editable": false,
    "id": "oyuafkXkKyDS",
    "tags": [
     "start_task"
    ]
   },
   "source": [
    "**Задание 13.** Выведите весь датафрейм `tariffs`."
   ]
  },
  {
   "cell_type": "code",
   "execution_count": 14,
   "metadata": {
    "deletable": false,
    "id": "cmRMXR0oKyDT"
   },
   "outputs": [
    {
     "data": {
      "text/plain": "   messages_included  mb_per_month_included  minutes_included  \\\n0                 50                  15360               500   \n1               1000                  30720              3000   \n\n   rub_monthly_fee  rub_per_gb  rub_per_message  rub_per_minute tariff_name  \n0              550         200                3               3       smart  \n1             1950         150                1               1       ultra  ",
      "text/html": "<div>\n<style scoped>\n    .dataframe tbody tr th:only-of-type {\n        vertical-align: middle;\n    }\n\n    .dataframe tbody tr th {\n        vertical-align: top;\n    }\n\n    .dataframe thead th {\n        text-align: right;\n    }\n</style>\n<table border=\"1\" class=\"dataframe\">\n  <thead>\n    <tr style=\"text-align: right;\">\n      <th></th>\n      <th>messages_included</th>\n      <th>mb_per_month_included</th>\n      <th>minutes_included</th>\n      <th>rub_monthly_fee</th>\n      <th>rub_per_gb</th>\n      <th>rub_per_message</th>\n      <th>rub_per_minute</th>\n      <th>tariff_name</th>\n    </tr>\n  </thead>\n  <tbody>\n    <tr>\n      <th>0</th>\n      <td>50</td>\n      <td>15360</td>\n      <td>500</td>\n      <td>550</td>\n      <td>200</td>\n      <td>3</td>\n      <td>3</td>\n      <td>smart</td>\n    </tr>\n    <tr>\n      <th>1</th>\n      <td>1000</td>\n      <td>30720</td>\n      <td>3000</td>\n      <td>1950</td>\n      <td>150</td>\n      <td>1</td>\n      <td>1</td>\n      <td>ultra</td>\n    </tr>\n  </tbody>\n</table>\n</div>"
     },
     "execution_count": 14,
     "metadata": {},
     "output_type": "execute_result"
    }
   ],
   "source": [
    "tariffs"
   ]
  },
  {
   "cell_type": "markdown",
   "metadata": {
    "deletable": false,
    "editable": false,
    "id": "8eHbUTRnKyDT",
    "tags": [
     "start_task"
    ]
   },
   "source": [
    "**Задание 14.** Выведите основную информацию для датафрейма `tariffs` с помощью метода `info()`."
   ]
  },
  {
   "cell_type": "code",
   "execution_count": 15,
   "metadata": {
    "deletable": false,
    "id": "pFthDM3nKyDT"
   },
   "outputs": [
    {
     "name": "stdout",
     "output_type": "stream",
     "text": [
      "<class 'pandas.core.frame.DataFrame'>\n",
      "RangeIndex: 2 entries, 0 to 1\n",
      "Data columns (total 8 columns):\n",
      " #   Column                 Non-Null Count  Dtype \n",
      "---  ------                 --------------  ----- \n",
      " 0   messages_included      2 non-null      int64 \n",
      " 1   mb_per_month_included  2 non-null      int64 \n",
      " 2   minutes_included       2 non-null      int64 \n",
      " 3   rub_monthly_fee        2 non-null      int64 \n",
      " 4   rub_per_gb             2 non-null      int64 \n",
      " 5   rub_per_message        2 non-null      int64 \n",
      " 6   rub_per_minute         2 non-null      int64 \n",
      " 7   tariff_name            2 non-null      object\n",
      "dtypes: int64(7), object(1)\n",
      "memory usage: 256.0+ bytes\n"
     ]
    }
   ],
   "source": [
    "tariffs.info()"
   ]
  },
  {
   "cell_type": "markdown",
   "metadata": {
    "deletable": false,
    "editable": false,
    "id": "rKOTLNHCKyDU",
    "tags": [
     "start_task"
    ]
   },
   "source": [
    "**Задание 15.** Откройте файл `/datasets/users.csv`, сохраните датафрейм в переменную `users`."
   ]
  },
  {
   "cell_type": "code",
   "execution_count": 16,
   "metadata": {
    "deletable": false,
    "id": "R97W4n20KyDU"
   },
   "outputs": [],
   "source": [
    "try:\n",
    "    users = pd.read_csv('users.csv')\n",
    "except:\n",
    "    users = pd.read_csv('/datasets/users.csv')"
   ]
  },
  {
   "cell_type": "markdown",
   "metadata": {
    "deletable": false,
    "editable": false,
    "id": "OClJvZ0LKyDU",
    "tags": [
     "start_task"
    ]
   },
   "source": [
    "**Задание 16.** Выведите первые 5 строк датафрейма `users`."
   ]
  },
  {
   "cell_type": "code",
   "execution_count": 17,
   "metadata": {
    "deletable": false,
    "id": "qcl2dcBMKyDV"
   },
   "outputs": [
    {
     "data": {
      "text/plain": "   user_id  age churn_date         city first_name  last_name    reg_date  \\\n0     1000   52        NaN    Краснодар     Рафаил  Верещагин  2018-05-25   \n1     1001   41        NaN       Москва       Иван       Ежов  2018-11-01   \n2     1002   59        NaN  Стерлитамак    Евгений  Абрамович  2018-06-17   \n3     1003   23        NaN       Москва      Белла   Белякова  2018-08-17   \n4     1004   68        NaN  Новокузнецк    Татьяна   Авдеенко  2018-05-14   \n\n  tariff  \n0  ultra  \n1  smart  \n2  smart  \n3  ultra  \n4  ultra  ",
      "text/html": "<div>\n<style scoped>\n    .dataframe tbody tr th:only-of-type {\n        vertical-align: middle;\n    }\n\n    .dataframe tbody tr th {\n        vertical-align: top;\n    }\n\n    .dataframe thead th {\n        text-align: right;\n    }\n</style>\n<table border=\"1\" class=\"dataframe\">\n  <thead>\n    <tr style=\"text-align: right;\">\n      <th></th>\n      <th>user_id</th>\n      <th>age</th>\n      <th>churn_date</th>\n      <th>city</th>\n      <th>first_name</th>\n      <th>last_name</th>\n      <th>reg_date</th>\n      <th>tariff</th>\n    </tr>\n  </thead>\n  <tbody>\n    <tr>\n      <th>0</th>\n      <td>1000</td>\n      <td>52</td>\n      <td>NaN</td>\n      <td>Краснодар</td>\n      <td>Рафаил</td>\n      <td>Верещагин</td>\n      <td>2018-05-25</td>\n      <td>ultra</td>\n    </tr>\n    <tr>\n      <th>1</th>\n      <td>1001</td>\n      <td>41</td>\n      <td>NaN</td>\n      <td>Москва</td>\n      <td>Иван</td>\n      <td>Ежов</td>\n      <td>2018-11-01</td>\n      <td>smart</td>\n    </tr>\n    <tr>\n      <th>2</th>\n      <td>1002</td>\n      <td>59</td>\n      <td>NaN</td>\n      <td>Стерлитамак</td>\n      <td>Евгений</td>\n      <td>Абрамович</td>\n      <td>2018-06-17</td>\n      <td>smart</td>\n    </tr>\n    <tr>\n      <th>3</th>\n      <td>1003</td>\n      <td>23</td>\n      <td>NaN</td>\n      <td>Москва</td>\n      <td>Белла</td>\n      <td>Белякова</td>\n      <td>2018-08-17</td>\n      <td>ultra</td>\n    </tr>\n    <tr>\n      <th>4</th>\n      <td>1004</td>\n      <td>68</td>\n      <td>NaN</td>\n      <td>Новокузнецк</td>\n      <td>Татьяна</td>\n      <td>Авдеенко</td>\n      <td>2018-05-14</td>\n      <td>ultra</td>\n    </tr>\n  </tbody>\n</table>\n</div>"
     },
     "execution_count": 17,
     "metadata": {},
     "output_type": "execute_result"
    }
   ],
   "source": [
    "users.head()"
   ]
  },
  {
   "cell_type": "markdown",
   "metadata": {
    "deletable": false,
    "editable": false,
    "id": "C_RrZ1_9KyDV",
    "tags": [
     "start_task"
    ]
   },
   "source": [
    "**Задание 17.** Выведите основную информацию для датафрейма `users` с помощью метода `info()`."
   ]
  },
  {
   "cell_type": "code",
   "execution_count": 18,
   "metadata": {
    "deletable": false,
    "id": "LWqNiDRIKyDW"
   },
   "outputs": [
    {
     "name": "stdout",
     "output_type": "stream",
     "text": [
      "<class 'pandas.core.frame.DataFrame'>\n",
      "RangeIndex: 500 entries, 0 to 499\n",
      "Data columns (total 8 columns):\n",
      " #   Column      Non-Null Count  Dtype \n",
      "---  ------      --------------  ----- \n",
      " 0   user_id     500 non-null    int64 \n",
      " 1   age         500 non-null    int64 \n",
      " 2   churn_date  38 non-null     object\n",
      " 3   city        500 non-null    object\n",
      " 4   first_name  500 non-null    object\n",
      " 5   last_name   500 non-null    object\n",
      " 6   reg_date    500 non-null    object\n",
      " 7   tariff      500 non-null    object\n",
      "dtypes: int64(2), object(6)\n",
      "memory usage: 31.4+ KB\n"
     ]
    }
   ],
   "source": [
    "users.info()"
   ]
  },
  {
   "cell_type": "markdown",
   "metadata": {
    "deletable": false,
    "editable": false,
    "id": "63Elje7DKyDW"
   },
   "source": [
    "### Подготовьте данные"
   ]
  },
  {
   "cell_type": "markdown",
   "metadata": {
    "deletable": false,
    "editable": false,
    "id": "c1K3vTLQKyDY",
    "tags": [
     "start_task"
    ]
   },
   "source": [
    "**Задание 18.**  Приведите столбцы\n",
    "\n",
    "- `reg_date` из таблицы `users`\n",
    "- `churn_date` из таблицы `users`\n",
    "- `call_date` из таблицы `calls`\n",
    "- `message_date` из таблицы `messages`\n",
    "- `session_date` из таблицы `sessions`\n",
    "\n",
    "к новому типу с помощью метода `to_datetime()`."
   ]
  },
  {
   "cell_type": "code",
   "execution_count": 19,
   "metadata": {
    "deletable": false,
    "id": "0WBPne2BKyDZ"
   },
   "outputs": [],
   "source": [
    "# обработка столбца reg_date\n",
    "# обработка столбца churn_date\n",
    "\n",
    "# обработка столбца call_date\n",
    "\n",
    "# обработка столбца message_date\n",
    "# обработка столбца session_date\n",
    "users['reg_date'] = pd.to_datetime(users['reg_date'], format='%Y-%m-%d')\n",
    "users['churn_date'] = pd.to_datetime(users['churn_date'], format='%Y-%m-%d')\n",
    "calls['call_date'] = pd.to_datetime(calls['call_date'], format='%Y-%m-%d')\n",
    "messages['message_date'] = pd.to_datetime(messages['message_date'], format='%Y-%m-%d')\n",
    "sessions['session_date'] = pd.to_datetime(sessions['session_date'], format='%Y-%m-%d')\n"
   ]
  },
  {
   "cell_type": "markdown",
   "metadata": {
    "deletable": false,
    "editable": false,
    "id": "Dodx23h9KyDZ",
    "tags": [
     "start_task"
    ]
   },
   "source": [
    "**Задание 19.** В данных вы найдёте звонки с нулевой продолжительностью. Это не ошибка: нулями обозначены пропущенные звонки, поэтому их не нужно удалять.\n",
    "\n",
    "Однако в столбце `duration` датафрейма `calls` значения дробные. Округлите значения столбца `duration` вверх с помощью метода `numpy.ceil()` и приведите столбец `duration` к типу `int`."
   ]
  },
  {
   "cell_type": "code",
   "execution_count": 20,
   "metadata": {
    "deletable": false,
    "id": "8IoDSPJNKyDZ"
   },
   "outputs": [],
   "source": [
    "# округление значений столбца duration с помощью np.ceil() и приведение типа к int\n",
    "calls['duration'] = np.ceil(calls.duration).astype(int)"
   ]
  },
  {
   "cell_type": "markdown",
   "metadata": {
    "deletable": false,
    "editable": false,
    "id": "MtIO6mP_KyDa",
    "tags": [
     "start_task"
    ]
   },
   "source": [
    "**Задание 20.** Удалите столбец `Unnamed: 0` из датафрейма `sessions`. Столбец с таким названием возникает, когда данные сохраняют с указанием индекса (`df.to_csv(..., index=column)`). Он сейчас не понадобится."
   ]
  },
  {
   "cell_type": "code",
   "execution_count": 21,
   "metadata": {
    "deletable": false,
    "id": "k_kE8bl6KyDa"
   },
   "outputs": [],
   "source": [
    "sessions = sessions.drop(columns = ['Unnamed: 0'])"
   ]
  },
  {
   "cell_type": "markdown",
   "metadata": {
    "deletable": false,
    "editable": false,
    "id": "1pKJKPkNKyDb",
    "tags": [
     "start_task"
    ]
   },
   "source": [
    "**Задание 21.** Создайте столбец `month` в датафрейме `calls` с номером месяца из столбца `call_date`."
   ]
  },
  {
   "cell_type": "code",
   "execution_count": 22,
   "metadata": {
    "deletable": false,
    "id": "ZzUWuXUeKyDb"
   },
   "outputs": [],
   "source": [
    "calls['month'] = calls['call_date'].dt.month"
   ]
  },
  {
   "cell_type": "markdown",
   "metadata": {
    "deletable": false,
    "editable": false,
    "id": "RifDYIPjKyDc",
    "tags": [
     "start_task"
    ]
   },
   "source": [
    "**Задание 22.** Создайте столбец `month` в датафрейме `messages` с номером месяца из столбца `message_date`."
   ]
  },
  {
   "cell_type": "code",
   "execution_count": 23,
   "metadata": {
    "deletable": false,
    "id": "UwaWpzgqKyDc"
   },
   "outputs": [],
   "source": [
    "messages['month'] = messages['message_date'].dt.month"
   ]
  },
  {
   "cell_type": "markdown",
   "metadata": {
    "deletable": false,
    "editable": false,
    "id": "vHE47ZbbKyDc",
    "tags": [
     "start_task"
    ]
   },
   "source": [
    "**Задание 23.** Создайте столбец `month` в датафрейме `sessions` с номером месяца из столбца `session_date`."
   ]
  },
  {
   "cell_type": "code",
   "execution_count": 24,
   "metadata": {
    "deletable": false,
    "id": "WwIH_14gKyDd"
   },
   "outputs": [],
   "source": [
    "sessions['month'] = sessions['session_date'].dt.month"
   ]
  },
  {
   "cell_type": "markdown",
   "metadata": {
    "deletable": false,
    "editable": false,
    "id": "gOieh-uzKyDd",
    "tags": [
     "start_task"
    ]
   },
   "source": [
    "**Задание 24.** Посчитайте количество сделанных звонков разговора для каждого пользователя по месяцам и сохраните в переменную `calls_per_month`."
   ]
  },
  {
   "cell_type": "code",
   "execution_count": 25,
   "metadata": {
    "deletable": false,
    "id": "DVz8VzseKyDd"
   },
   "outputs": [],
   "source": [
    "# подсчёт количества звонков для каждого пользователя по месяцам\n",
    "calls_per_month = calls.groupby(['user_id', 'month']).agg(calls=('duration', 'count'))"
   ]
  },
  {
   "cell_type": "code",
   "execution_count": 26,
   "metadata": {
    "deletable": false,
    "id": "Yvladn_XKyDd"
   },
   "outputs": [
    {
     "data": {
      "text/plain": "               calls\nuser_id month       \n1000    5         22\n        6         43\n        7         47\n        8         52\n        9         58\n        10        57\n        11        43\n        12        46\n1001    11        59\n        12        63\n1002    6         15\n        7         26\n        8         42\n        9         36\n        10        33\n        11        32\n        12        33\n1003    8         55\n        9        134\n        10       108\n        11       115\n        12       108\n1004    5          9\n        6         31\n        7         22\n        8         19\n        9         26\n        10        29\n        11        19\n        12        21",
      "text/html": "<div>\n<style scoped>\n    .dataframe tbody tr th:only-of-type {\n        vertical-align: middle;\n    }\n\n    .dataframe tbody tr th {\n        vertical-align: top;\n    }\n\n    .dataframe thead th {\n        text-align: right;\n    }\n</style>\n<table border=\"1\" class=\"dataframe\">\n  <thead>\n    <tr style=\"text-align: right;\">\n      <th></th>\n      <th></th>\n      <th>calls</th>\n    </tr>\n    <tr>\n      <th>user_id</th>\n      <th>month</th>\n      <th></th>\n    </tr>\n  </thead>\n  <tbody>\n    <tr>\n      <th rowspan=\"8\" valign=\"top\">1000</th>\n      <th>5</th>\n      <td>22</td>\n    </tr>\n    <tr>\n      <th>6</th>\n      <td>43</td>\n    </tr>\n    <tr>\n      <th>7</th>\n      <td>47</td>\n    </tr>\n    <tr>\n      <th>8</th>\n      <td>52</td>\n    </tr>\n    <tr>\n      <th>9</th>\n      <td>58</td>\n    </tr>\n    <tr>\n      <th>10</th>\n      <td>57</td>\n    </tr>\n    <tr>\n      <th>11</th>\n      <td>43</td>\n    </tr>\n    <tr>\n      <th>12</th>\n      <td>46</td>\n    </tr>\n    <tr>\n      <th rowspan=\"2\" valign=\"top\">1001</th>\n      <th>11</th>\n      <td>59</td>\n    </tr>\n    <tr>\n      <th>12</th>\n      <td>63</td>\n    </tr>\n    <tr>\n      <th rowspan=\"7\" valign=\"top\">1002</th>\n      <th>6</th>\n      <td>15</td>\n    </tr>\n    <tr>\n      <th>7</th>\n      <td>26</td>\n    </tr>\n    <tr>\n      <th>8</th>\n      <td>42</td>\n    </tr>\n    <tr>\n      <th>9</th>\n      <td>36</td>\n    </tr>\n    <tr>\n      <th>10</th>\n      <td>33</td>\n    </tr>\n    <tr>\n      <th>11</th>\n      <td>32</td>\n    </tr>\n    <tr>\n      <th>12</th>\n      <td>33</td>\n    </tr>\n    <tr>\n      <th rowspan=\"5\" valign=\"top\">1003</th>\n      <th>8</th>\n      <td>55</td>\n    </tr>\n    <tr>\n      <th>9</th>\n      <td>134</td>\n    </tr>\n    <tr>\n      <th>10</th>\n      <td>108</td>\n    </tr>\n    <tr>\n      <th>11</th>\n      <td>115</td>\n    </tr>\n    <tr>\n      <th>12</th>\n      <td>108</td>\n    </tr>\n    <tr>\n      <th rowspan=\"8\" valign=\"top\">1004</th>\n      <th>5</th>\n      <td>9</td>\n    </tr>\n    <tr>\n      <th>6</th>\n      <td>31</td>\n    </tr>\n    <tr>\n      <th>7</th>\n      <td>22</td>\n    </tr>\n    <tr>\n      <th>8</th>\n      <td>19</td>\n    </tr>\n    <tr>\n      <th>9</th>\n      <td>26</td>\n    </tr>\n    <tr>\n      <th>10</th>\n      <td>29</td>\n    </tr>\n    <tr>\n      <th>11</th>\n      <td>19</td>\n    </tr>\n    <tr>\n      <th>12</th>\n      <td>21</td>\n    </tr>\n  </tbody>\n</table>\n</div>"
     },
     "execution_count": 26,
     "metadata": {},
     "output_type": "execute_result"
    }
   ],
   "source": [
    "# вывод 30 первых строк на экран\n",
    "calls_per_month.head(30)"
   ]
  },
  {
   "cell_type": "markdown",
   "metadata": {
    "deletable": false,
    "editable": false,
    "id": "ImKw4Xt-KyDd",
    "tags": [
     "start_task"
    ]
   },
   "source": [
    "**Задание 25.** Посчитайте количество израсходованных минут разговора для каждого пользователя по месяцам и сохраните в переменную `minutes_per_month`. Вам понадобится\n",
    "\n",
    "- сгруппировать датафрейм с информацией о звонках по двум столбцам — с идентификаторами пользователей и номерами месяцев;\n",
    "- после группировки выбрать столбец `duration`\n",
    "- затем применить метод для подсчёта суммы.\n",
    "\n",
    "Выведите первые 30 строчек `minutes_per_month`."
   ]
  },
  {
   "cell_type": "code",
   "execution_count": 27,
   "metadata": {
    "deletable": false,
    "id": "fmI97ee9KyDe"
   },
   "outputs": [],
   "source": [
    "# подсчёт израсходованных минут для каждого пользователя по месяцам\n",
    "minutes_per_month = calls.groupby(['user_id', 'month']).agg(minutes=('duration', 'sum'))"
   ]
  },
  {
   "cell_type": "code",
   "execution_count": 28,
   "metadata": {
    "deletable": false,
    "id": "HpAv1X4KKyDe"
   },
   "outputs": [
    {
     "data": {
      "text/plain": "               minutes\nuser_id month         \n1000    5          159\n        6          172\n        7          340\n        8          408\n        9          466\n        10         350\n        11         338\n        12         333\n1001    11         430\n        12         414\n1002    6          117\n        7          214\n        8          289\n        9          206\n        10         212\n        11         243\n        12         236\n1003    8          380\n        9          961\n        10         855\n        11         824\n        12         802\n1004    5           35\n        6          171\n        7          135\n        8          137\n        9          117\n        10         145\n        11         117\n        12         130",
      "text/html": "<div>\n<style scoped>\n    .dataframe tbody tr th:only-of-type {\n        vertical-align: middle;\n    }\n\n    .dataframe tbody tr th {\n        vertical-align: top;\n    }\n\n    .dataframe thead th {\n        text-align: right;\n    }\n</style>\n<table border=\"1\" class=\"dataframe\">\n  <thead>\n    <tr style=\"text-align: right;\">\n      <th></th>\n      <th></th>\n      <th>minutes</th>\n    </tr>\n    <tr>\n      <th>user_id</th>\n      <th>month</th>\n      <th></th>\n    </tr>\n  </thead>\n  <tbody>\n    <tr>\n      <th rowspan=\"8\" valign=\"top\">1000</th>\n      <th>5</th>\n      <td>159</td>\n    </tr>\n    <tr>\n      <th>6</th>\n      <td>172</td>\n    </tr>\n    <tr>\n      <th>7</th>\n      <td>340</td>\n    </tr>\n    <tr>\n      <th>8</th>\n      <td>408</td>\n    </tr>\n    <tr>\n      <th>9</th>\n      <td>466</td>\n    </tr>\n    <tr>\n      <th>10</th>\n      <td>350</td>\n    </tr>\n    <tr>\n      <th>11</th>\n      <td>338</td>\n    </tr>\n    <tr>\n      <th>12</th>\n      <td>333</td>\n    </tr>\n    <tr>\n      <th rowspan=\"2\" valign=\"top\">1001</th>\n      <th>11</th>\n      <td>430</td>\n    </tr>\n    <tr>\n      <th>12</th>\n      <td>414</td>\n    </tr>\n    <tr>\n      <th rowspan=\"7\" valign=\"top\">1002</th>\n      <th>6</th>\n      <td>117</td>\n    </tr>\n    <tr>\n      <th>7</th>\n      <td>214</td>\n    </tr>\n    <tr>\n      <th>8</th>\n      <td>289</td>\n    </tr>\n    <tr>\n      <th>9</th>\n      <td>206</td>\n    </tr>\n    <tr>\n      <th>10</th>\n      <td>212</td>\n    </tr>\n    <tr>\n      <th>11</th>\n      <td>243</td>\n    </tr>\n    <tr>\n      <th>12</th>\n      <td>236</td>\n    </tr>\n    <tr>\n      <th rowspan=\"5\" valign=\"top\">1003</th>\n      <th>8</th>\n      <td>380</td>\n    </tr>\n    <tr>\n      <th>9</th>\n      <td>961</td>\n    </tr>\n    <tr>\n      <th>10</th>\n      <td>855</td>\n    </tr>\n    <tr>\n      <th>11</th>\n      <td>824</td>\n    </tr>\n    <tr>\n      <th>12</th>\n      <td>802</td>\n    </tr>\n    <tr>\n      <th rowspan=\"8\" valign=\"top\">1004</th>\n      <th>5</th>\n      <td>35</td>\n    </tr>\n    <tr>\n      <th>6</th>\n      <td>171</td>\n    </tr>\n    <tr>\n      <th>7</th>\n      <td>135</td>\n    </tr>\n    <tr>\n      <th>8</th>\n      <td>137</td>\n    </tr>\n    <tr>\n      <th>9</th>\n      <td>117</td>\n    </tr>\n    <tr>\n      <th>10</th>\n      <td>145</td>\n    </tr>\n    <tr>\n      <th>11</th>\n      <td>117</td>\n    </tr>\n    <tr>\n      <th>12</th>\n      <td>130</td>\n    </tr>\n  </tbody>\n</table>\n</div>"
     },
     "execution_count": 28,
     "metadata": {},
     "output_type": "execute_result"
    }
   ],
   "source": [
    "# вывод первых 30 строк на экран\n",
    "minutes_per_month.head(30)"
   ]
  },
  {
   "cell_type": "markdown",
   "metadata": {
    "deletable": false,
    "editable": false,
    "id": "aYIeUgpoKyDe",
    "tags": [
     "start_task"
    ]
   },
   "source": [
    "**Задание 26.** Посчитайте количество отправленных сообщений по месяцам для каждого пользователя и сохраните в переменную `messages_per_month`. Вам понадобится\n",
    "\n",
    "- сгруппировать датафрейм с информацией о сообщениях по двум столбцам — с идентификаторами пользователей и номерами месяцев;\n",
    "- после группировки выбрать столбец `message_date`;\n",
    "- затем применить метод для подсчёта количества.\n",
    "\n",
    "Выведите первые 30 строчек `messages_per_month`."
   ]
  },
  {
   "cell_type": "code",
   "execution_count": 29,
   "metadata": {
    "deletable": false,
    "id": "SxLKUZekKyDf"
   },
   "outputs": [],
   "source": [
    "# подсчёт количества отправленных сообщений для каждого пользователя по месяцам\n",
    "messages_per_month = messages.groupby(['user_id', 'month']).agg(messages=('message_date', 'count'))"
   ]
  },
  {
   "cell_type": "code",
   "execution_count": 30,
   "metadata": {
    "deletable": false,
    "id": "cVYnJcaUKyDf"
   },
   "outputs": [
    {
     "data": {
      "text/plain": "               messages\nuser_id month          \n1000    5            22\n        6            60\n        7            75\n        8            81\n        9            57\n        10           73\n        11           58\n        12           70\n1002    6             4\n        7            11\n        8            13\n        9             4\n        10           10\n        11           16\n        12           12\n1003    8            37\n        9            91\n        10           83\n        11           94\n        12           75\n1004    5            95\n        6           134\n        7           181\n        8           151\n        9           146\n        10          165\n        11          158\n        12          162\n1005    1             7\n        2            38",
      "text/html": "<div>\n<style scoped>\n    .dataframe tbody tr th:only-of-type {\n        vertical-align: middle;\n    }\n\n    .dataframe tbody tr th {\n        vertical-align: top;\n    }\n\n    .dataframe thead th {\n        text-align: right;\n    }\n</style>\n<table border=\"1\" class=\"dataframe\">\n  <thead>\n    <tr style=\"text-align: right;\">\n      <th></th>\n      <th></th>\n      <th>messages</th>\n    </tr>\n    <tr>\n      <th>user_id</th>\n      <th>month</th>\n      <th></th>\n    </tr>\n  </thead>\n  <tbody>\n    <tr>\n      <th rowspan=\"8\" valign=\"top\">1000</th>\n      <th>5</th>\n      <td>22</td>\n    </tr>\n    <tr>\n      <th>6</th>\n      <td>60</td>\n    </tr>\n    <tr>\n      <th>7</th>\n      <td>75</td>\n    </tr>\n    <tr>\n      <th>8</th>\n      <td>81</td>\n    </tr>\n    <tr>\n      <th>9</th>\n      <td>57</td>\n    </tr>\n    <tr>\n      <th>10</th>\n      <td>73</td>\n    </tr>\n    <tr>\n      <th>11</th>\n      <td>58</td>\n    </tr>\n    <tr>\n      <th>12</th>\n      <td>70</td>\n    </tr>\n    <tr>\n      <th rowspan=\"7\" valign=\"top\">1002</th>\n      <th>6</th>\n      <td>4</td>\n    </tr>\n    <tr>\n      <th>7</th>\n      <td>11</td>\n    </tr>\n    <tr>\n      <th>8</th>\n      <td>13</td>\n    </tr>\n    <tr>\n      <th>9</th>\n      <td>4</td>\n    </tr>\n    <tr>\n      <th>10</th>\n      <td>10</td>\n    </tr>\n    <tr>\n      <th>11</th>\n      <td>16</td>\n    </tr>\n    <tr>\n      <th>12</th>\n      <td>12</td>\n    </tr>\n    <tr>\n      <th rowspan=\"5\" valign=\"top\">1003</th>\n      <th>8</th>\n      <td>37</td>\n    </tr>\n    <tr>\n      <th>9</th>\n      <td>91</td>\n    </tr>\n    <tr>\n      <th>10</th>\n      <td>83</td>\n    </tr>\n    <tr>\n      <th>11</th>\n      <td>94</td>\n    </tr>\n    <tr>\n      <th>12</th>\n      <td>75</td>\n    </tr>\n    <tr>\n      <th rowspan=\"8\" valign=\"top\">1004</th>\n      <th>5</th>\n      <td>95</td>\n    </tr>\n    <tr>\n      <th>6</th>\n      <td>134</td>\n    </tr>\n    <tr>\n      <th>7</th>\n      <td>181</td>\n    </tr>\n    <tr>\n      <th>8</th>\n      <td>151</td>\n    </tr>\n    <tr>\n      <th>9</th>\n      <td>146</td>\n    </tr>\n    <tr>\n      <th>10</th>\n      <td>165</td>\n    </tr>\n    <tr>\n      <th>11</th>\n      <td>158</td>\n    </tr>\n    <tr>\n      <th>12</th>\n      <td>162</td>\n    </tr>\n    <tr>\n      <th rowspan=\"2\" valign=\"top\">1005</th>\n      <th>1</th>\n      <td>7</td>\n    </tr>\n    <tr>\n      <th>2</th>\n      <td>38</td>\n    </tr>\n  </tbody>\n</table>\n</div>"
     },
     "execution_count": 30,
     "metadata": {},
     "output_type": "execute_result"
    }
   ],
   "source": [
    "# вывод первых 30 строк на экран\n",
    "messages_per_month.head(30)"
   ]
  },
  {
   "cell_type": "markdown",
   "metadata": {
    "deletable": false,
    "editable": false,
    "id": "5rZs2SXPKyDg",
    "tags": [
     "start_task"
    ]
   },
   "source": [
    "**Задание 27.** Посчитайте количество потраченных мегабайт по месяцам для каждого пользователя и сохраните в переменную `sessions_per_month`. Вам понадобится\n",
    "\n",
    "- сгруппировать датафрейм с информацией о сообщениях по двум столбцам — с идентификаторами пользователей и номерами месяцев;\n",
    "- затем применить метод для подсчёта суммы: `.agg({'mb_used': 'sum'})`"
   ]
  },
  {
   "cell_type": "code",
   "execution_count": 31,
   "metadata": {
    "deletable": false,
    "id": "gC0vqY7bKyDg"
   },
   "outputs": [],
   "source": [
    "# подсчёт потраченных мегабайт для каждого пользователя по месяцам\n",
    "sessions_per_month = sessions.groupby(['user_id', 'month']).agg({'mb_used': 'sum'})"
   ]
  },
  {
   "cell_type": "code",
   "execution_count": 32,
   "metadata": {
    "deletable": false,
    "id": "aM0weCA4KyDg"
   },
   "outputs": [
    {
     "data": {
      "text/plain": "                mb_used\nuser_id month          \n1000    5       2253.49\n        6      23233.77\n        7      14003.64\n        8      14055.93\n        9      14568.91\n        10     14702.49\n        11     14756.47\n        12      9817.61\n1001    11     18429.34\n        12     14036.66\n1002    6      10856.82\n        7      17580.10\n        8      20319.26\n        9      16691.08\n        10     13888.25\n        11     18587.28\n        12     18113.73\n1003    8       8565.21\n        9      12468.87\n        10     14768.14\n        11     11356.89\n        12     10121.53\n1004    5      13403.98\n        6      17600.02\n        7      22229.58\n        8      28584.37\n        9      15109.03\n        10     18475.44\n        11     15616.02\n        12     18021.04",
      "text/html": "<div>\n<style scoped>\n    .dataframe tbody tr th:only-of-type {\n        vertical-align: middle;\n    }\n\n    .dataframe tbody tr th {\n        vertical-align: top;\n    }\n\n    .dataframe thead th {\n        text-align: right;\n    }\n</style>\n<table border=\"1\" class=\"dataframe\">\n  <thead>\n    <tr style=\"text-align: right;\">\n      <th></th>\n      <th></th>\n      <th>mb_used</th>\n    </tr>\n    <tr>\n      <th>user_id</th>\n      <th>month</th>\n      <th></th>\n    </tr>\n  </thead>\n  <tbody>\n    <tr>\n      <th rowspan=\"8\" valign=\"top\">1000</th>\n      <th>5</th>\n      <td>2253.49</td>\n    </tr>\n    <tr>\n      <th>6</th>\n      <td>23233.77</td>\n    </tr>\n    <tr>\n      <th>7</th>\n      <td>14003.64</td>\n    </tr>\n    <tr>\n      <th>8</th>\n      <td>14055.93</td>\n    </tr>\n    <tr>\n      <th>9</th>\n      <td>14568.91</td>\n    </tr>\n    <tr>\n      <th>10</th>\n      <td>14702.49</td>\n    </tr>\n    <tr>\n      <th>11</th>\n      <td>14756.47</td>\n    </tr>\n    <tr>\n      <th>12</th>\n      <td>9817.61</td>\n    </tr>\n    <tr>\n      <th rowspan=\"2\" valign=\"top\">1001</th>\n      <th>11</th>\n      <td>18429.34</td>\n    </tr>\n    <tr>\n      <th>12</th>\n      <td>14036.66</td>\n    </tr>\n    <tr>\n      <th rowspan=\"7\" valign=\"top\">1002</th>\n      <th>6</th>\n      <td>10856.82</td>\n    </tr>\n    <tr>\n      <th>7</th>\n      <td>17580.10</td>\n    </tr>\n    <tr>\n      <th>8</th>\n      <td>20319.26</td>\n    </tr>\n    <tr>\n      <th>9</th>\n      <td>16691.08</td>\n    </tr>\n    <tr>\n      <th>10</th>\n      <td>13888.25</td>\n    </tr>\n    <tr>\n      <th>11</th>\n      <td>18587.28</td>\n    </tr>\n    <tr>\n      <th>12</th>\n      <td>18113.73</td>\n    </tr>\n    <tr>\n      <th rowspan=\"5\" valign=\"top\">1003</th>\n      <th>8</th>\n      <td>8565.21</td>\n    </tr>\n    <tr>\n      <th>9</th>\n      <td>12468.87</td>\n    </tr>\n    <tr>\n      <th>10</th>\n      <td>14768.14</td>\n    </tr>\n    <tr>\n      <th>11</th>\n      <td>11356.89</td>\n    </tr>\n    <tr>\n      <th>12</th>\n      <td>10121.53</td>\n    </tr>\n    <tr>\n      <th rowspan=\"8\" valign=\"top\">1004</th>\n      <th>5</th>\n      <td>13403.98</td>\n    </tr>\n    <tr>\n      <th>6</th>\n      <td>17600.02</td>\n    </tr>\n    <tr>\n      <th>7</th>\n      <td>22229.58</td>\n    </tr>\n    <tr>\n      <th>8</th>\n      <td>28584.37</td>\n    </tr>\n    <tr>\n      <th>9</th>\n      <td>15109.03</td>\n    </tr>\n    <tr>\n      <th>10</th>\n      <td>18475.44</td>\n    </tr>\n    <tr>\n      <th>11</th>\n      <td>15616.02</td>\n    </tr>\n    <tr>\n      <th>12</th>\n      <td>18021.04</td>\n    </tr>\n  </tbody>\n</table>\n</div>"
     },
     "execution_count": 32,
     "metadata": {},
     "output_type": "execute_result"
    }
   ],
   "source": [
    "# вывод первых 30 строк на экран\n",
    "sessions_per_month.head(30)"
   ]
  },
  {
   "cell_type": "markdown",
   "metadata": {
    "deletable": false,
    "editable": false,
    "id": "9lLpwDruKyDg"
   },
   "source": [
    "### Анализ данных и подсчёт выручки"
   ]
  },
  {
   "cell_type": "markdown",
   "metadata": {
    "deletable": false,
    "editable": false,
    "id": "b0aBCnWPKyDg"
   },
   "source": [
    "Объединяем все посчитанные выше значения в один датафрейм `user_behavior`.\n",
    "Для каждой пары \"пользователь - месяц\" будут доступны информация о тарифе, количестве звонков, сообщений и потраченных мегабайтах."
   ]
  },
  {
   "cell_type": "code",
   "execution_count": 33,
   "metadata": {
    "deletable": false,
    "id": "5_jRoJLQKyDi",
    "outputId": "75d7fba2-58ec-46d6-b9ae-bb3972eb2c15"
   },
   "outputs": [
    {
     "data": {
      "text/plain": "7.6"
     },
     "execution_count": 33,
     "metadata": {},
     "output_type": "execute_result"
    }
   ],
   "source": [
    "users['churn_date'].count() / users['churn_date'].shape[0] * 100"
   ]
  },
  {
   "cell_type": "markdown",
   "metadata": {
    "deletable": false,
    "editable": false,
    "id": "VFbl-h7OKyDj"
   },
   "source": [
    "Расторгли договор 7.6% клиентов из датасета"
   ]
  },
  {
   "cell_type": "code",
   "execution_count": 34,
   "metadata": {
    "deletable": false,
    "id": "ZV6PirqeKyDj",
    "outputId": "820f9d37-142a-40ac-9baa-c9ccacadff1b"
   },
   "outputs": [
    {
     "data": {
      "text/plain": "   user_id  month  calls  messages   mb_used  minutes  age churn_date  \\\n0     1000      5   22.0      22.0   2253.49    159.0   52        NaT   \n1     1000      6   43.0      60.0  23233.77    172.0   52        NaT   \n2     1000      7   47.0      75.0  14003.64    340.0   52        NaT   \n3     1000      8   52.0      81.0  14055.93    408.0   52        NaT   \n4     1000      9   58.0      57.0  14568.91    466.0   52        NaT   \n\n        city first_name  last_name   reg_date tariff  \n0  Краснодар     Рафаил  Верещагин 2018-05-25  ultra  \n1  Краснодар     Рафаил  Верещагин 2018-05-25  ultra  \n2  Краснодар     Рафаил  Верещагин 2018-05-25  ultra  \n3  Краснодар     Рафаил  Верещагин 2018-05-25  ultra  \n4  Краснодар     Рафаил  Верещагин 2018-05-25  ultra  ",
      "text/html": "<div>\n<style scoped>\n    .dataframe tbody tr th:only-of-type {\n        vertical-align: middle;\n    }\n\n    .dataframe tbody tr th {\n        vertical-align: top;\n    }\n\n    .dataframe thead th {\n        text-align: right;\n    }\n</style>\n<table border=\"1\" class=\"dataframe\">\n  <thead>\n    <tr style=\"text-align: right;\">\n      <th></th>\n      <th>user_id</th>\n      <th>month</th>\n      <th>calls</th>\n      <th>messages</th>\n      <th>mb_used</th>\n      <th>minutes</th>\n      <th>age</th>\n      <th>churn_date</th>\n      <th>city</th>\n      <th>first_name</th>\n      <th>last_name</th>\n      <th>reg_date</th>\n      <th>tariff</th>\n    </tr>\n  </thead>\n  <tbody>\n    <tr>\n      <th>0</th>\n      <td>1000</td>\n      <td>5</td>\n      <td>22.0</td>\n      <td>22.0</td>\n      <td>2253.49</td>\n      <td>159.0</td>\n      <td>52</td>\n      <td>NaT</td>\n      <td>Краснодар</td>\n      <td>Рафаил</td>\n      <td>Верещагин</td>\n      <td>2018-05-25</td>\n      <td>ultra</td>\n    </tr>\n    <tr>\n      <th>1</th>\n      <td>1000</td>\n      <td>6</td>\n      <td>43.0</td>\n      <td>60.0</td>\n      <td>23233.77</td>\n      <td>172.0</td>\n      <td>52</td>\n      <td>NaT</td>\n      <td>Краснодар</td>\n      <td>Рафаил</td>\n      <td>Верещагин</td>\n      <td>2018-05-25</td>\n      <td>ultra</td>\n    </tr>\n    <tr>\n      <th>2</th>\n      <td>1000</td>\n      <td>7</td>\n      <td>47.0</td>\n      <td>75.0</td>\n      <td>14003.64</td>\n      <td>340.0</td>\n      <td>52</td>\n      <td>NaT</td>\n      <td>Краснодар</td>\n      <td>Рафаил</td>\n      <td>Верещагин</td>\n      <td>2018-05-25</td>\n      <td>ultra</td>\n    </tr>\n    <tr>\n      <th>3</th>\n      <td>1000</td>\n      <td>8</td>\n      <td>52.0</td>\n      <td>81.0</td>\n      <td>14055.93</td>\n      <td>408.0</td>\n      <td>52</td>\n      <td>NaT</td>\n      <td>Краснодар</td>\n      <td>Рафаил</td>\n      <td>Верещагин</td>\n      <td>2018-05-25</td>\n      <td>ultra</td>\n    </tr>\n    <tr>\n      <th>4</th>\n      <td>1000</td>\n      <td>9</td>\n      <td>58.0</td>\n      <td>57.0</td>\n      <td>14568.91</td>\n      <td>466.0</td>\n      <td>52</td>\n      <td>NaT</td>\n      <td>Краснодар</td>\n      <td>Рафаил</td>\n      <td>Верещагин</td>\n      <td>2018-05-25</td>\n      <td>ultra</td>\n    </tr>\n  </tbody>\n</table>\n</div>"
     },
     "execution_count": 34,
     "metadata": {},
     "output_type": "execute_result"
    }
   ],
   "source": [
    "user_behavior = calls_per_month\\\n",
    "    .merge(messages_per_month, left_index=True, right_index=True, how='outer')\\\n",
    "    .merge(sessions_per_month, left_index=True, right_index=True, how='outer')\\\n",
    "    .merge(minutes_per_month, left_index=True, right_index=True, how='outer')\\\n",
    "    .reset_index()\\\n",
    "    .merge(users, how='left', left_on='user_id', right_on='user_id')\\\n",
    "\n",
    "user_behavior.head()"
   ]
  },
  {
   "cell_type": "markdown",
   "metadata": {
    "deletable": false,
    "editable": false,
    "id": "_IQIL5IpKyDj"
   },
   "source": [
    "Проверим пропуски в таблице `user_behavior` после объединения:"
   ]
  },
  {
   "cell_type": "code",
   "execution_count": 35,
   "metadata": {
    "deletable": false,
    "id": "-PFVeJDdKyDk",
    "outputId": "15eeef94-c7dc-4624-95d1-9c45e574ea14"
   },
   "outputs": [
    {
     "data": {
      "text/plain": "user_id          0\nmonth            0\ncalls           40\nmessages       497\nmb_used         11\nminutes         40\nage              0\nchurn_date    3027\ncity             0\nfirst_name       0\nlast_name        0\nreg_date         0\ntariff           0\ndtype: int64"
     },
     "execution_count": 35,
     "metadata": {},
     "output_type": "execute_result"
    }
   ],
   "source": [
    "user_behavior.isna().sum()"
   ]
  },
  {
   "cell_type": "markdown",
   "metadata": {
    "deletable": false,
    "editable": false,
    "id": "TwUoKdmEKyDk"
   },
   "source": [
    "Заполним образовавшиеся пропуски в данных:"
   ]
  },
  {
   "cell_type": "code",
   "execution_count": 36,
   "metadata": {
    "deletable": false,
    "id": "R6ZhVdx_KyDk"
   },
   "outputs": [],
   "source": [
    "user_behavior['calls'] = user_behavior['calls'].fillna(0)\n",
    "user_behavior['minutes'] = user_behavior['minutes'].fillna(0)\n",
    "user_behavior['messages'] = user_behavior['messages'].fillna(0)\n",
    "user_behavior['mb_used'] = user_behavior['mb_used'].fillna(0)"
   ]
  },
  {
   "cell_type": "markdown",
   "metadata": {
    "deletable": false,
    "editable": false,
    "id": "DSFSc65AKyDl"
   },
   "source": [
    "Присоединяем информацию о тарифах"
   ]
  },
  {
   "cell_type": "code",
   "execution_count": 37,
   "metadata": {
    "deletable": false,
    "id": "t8zk5Y0wKyDl"
   },
   "outputs": [],
   "source": [
    "# переименование столбца tariff_name на более простое tariff\n",
    "\n",
    "tariffs = tariffs.rename(\n",
    "    columns={\n",
    "        'tariff_name': 'tariff'\n",
    "    }\n",
    ")"
   ]
  },
  {
   "cell_type": "code",
   "execution_count": 38,
   "metadata": {
    "deletable": false,
    "id": "gGZzbETxKyDl"
   },
   "outputs": [],
   "source": [
    "user_behavior = user_behavior.merge(tariffs, on='tariff')"
   ]
  },
  {
   "cell_type": "markdown",
   "metadata": {
    "deletable": false,
    "editable": false,
    "id": "zednQVegKyDl"
   },
   "source": [
    "Считаем количество минут разговора, сообщений и мегабайт, превышающих включенные в тариф\n"
   ]
  },
  {
   "cell_type": "code",
   "execution_count": 39,
   "metadata": {
    "deletable": false,
    "id": "E1I9uDQMKyDl"
   },
   "outputs": [],
   "source": [
    "user_behavior['paid_minutes'] = user_behavior['minutes'] - user_behavior['minutes_included']\n",
    "user_behavior['paid_messages'] = user_behavior['messages'] - user_behavior['messages_included']\n",
    "user_behavior['paid_mb'] = user_behavior['mb_used'] - user_behavior['mb_per_month_included']\n",
    "\n",
    "for col in ['paid_messages', 'paid_minutes', 'paid_mb']:\n",
    "    user_behavior.loc[user_behavior[col] < 0, col] = 0"
   ]
  },
  {
   "cell_type": "markdown",
   "metadata": {
    "deletable": false,
    "editable": false,
    "id": "Ms0S9c56KyDl"
   },
   "source": [
    "Переводим превышающие тариф мегабайты в гигабайты и сохраняем в столбец `paid_gb`"
   ]
  },
  {
   "cell_type": "code",
   "execution_count": 40,
   "metadata": {
    "deletable": false,
    "id": "tyFXMiJnKyDl"
   },
   "outputs": [],
   "source": [
    "user_behavior['paid_gb'] = np.ceil(user_behavior['paid_mb'] / 1024).astype(int)"
   ]
  },
  {
   "cell_type": "markdown",
   "metadata": {
    "deletable": false,
    "editable": false,
    "id": "gyHRCwd2KyDm"
   },
   "source": [
    "Считаем выручку за минуты разговора, сообщения и интернет"
   ]
  },
  {
   "cell_type": "code",
   "execution_count": 41,
   "metadata": {
    "deletable": false,
    "id": "JYxGcZjpKyDm"
   },
   "outputs": [],
   "source": [
    "user_behavior['cost_minutes'] = user_behavior['paid_minutes'] * user_behavior['rub_per_minute']\n",
    "user_behavior['cost_messages'] = user_behavior['paid_messages'] * user_behavior['rub_per_message']\n",
    "user_behavior['cost_gb'] = user_behavior['paid_gb'] * user_behavior['rub_per_gb']"
   ]
  },
  {
   "cell_type": "markdown",
   "metadata": {
    "deletable": false,
    "editable": false,
    "id": "-_fwAfO5KyDm"
   },
   "source": [
    "Считаем помесячную выручку с каждого пользователя, она будет храниться в столбец `total_cost`"
   ]
  },
  {
   "cell_type": "code",
   "execution_count": 42,
   "metadata": {
    "deletable": false,
    "id": "FCJZ9SEWKyDm"
   },
   "outputs": [],
   "source": [
    "user_behavior['total_cost'] = \\\n",
    "      user_behavior['rub_monthly_fee']\\\n",
    "    + user_behavior['cost_minutes']\\\n",
    "    + user_behavior['cost_messages']\\\n",
    "    + user_behavior['cost_gb']"
   ]
  },
  {
   "cell_type": "markdown",
   "metadata": {
    "deletable": false,
    "editable": false,
    "id": "GdxQwSMLKyDm"
   },
   "source": [
    "Датафрейм `stats_df` для каждой пары \"месяц-тариф\" будет хранить основные характеристики"
   ]
  },
  {
   "cell_type": "code",
   "execution_count": 43,
   "metadata": {
    "deletable": false,
    "id": "KqVN3CeWKyDm",
    "outputId": "fa0d84b7-ac33-49ae-9f67-2e23236dca73"
   },
   "outputs": [
    {
     "data": {
      "text/plain": "   month tariff  calls_mean  sessions_mean  messages_mean  minutes_mean  \\\n0      1  smart       27.68        8513.72          18.24        203.85   \n1      1  ultra       59.44       13140.68          33.78        428.11   \n2      2  smart       40.19       11597.05          24.09        298.69   \n3      2  ultra       41.54       11775.94          21.96        297.12   \n4      3  smart       54.32       15104.16          31.86        390.05   \n5      3  ultra       67.68       17535.55          32.30        489.65   \n6      4  smart       51.31       13462.18          30.74        367.13   \n7      4  ultra       64.09       16828.13          31.56        458.02   \n8      5  smart       55.24       15805.18          33.77        387.36   \n9      5  ultra       72.51       19363.15          37.85        510.33   \n\n   calls_std  sessions_std  messages_std  minutes_std  calls_median  \\\n0      20.81       6444.68         16.20       154.23          20.5   \n1      41.64       6865.35         30.67       269.76          51.0   \n2      25.39       6247.35         21.75       190.82          38.5   \n3      40.97      10644.64         26.77       296.51          25.0   \n4      25.54       5828.24         26.80       191.89          59.0   \n5      44.84      10951.79         41.62       333.74          57.0   \n6      25.70       5698.25         24.54       186.49          52.0   \n7      36.27       9718.65         37.51       267.68          61.0   \n8      25.38       5978.23         27.04       186.60          59.0   \n9      41.08      10046.11         40.31       289.60          75.0   \n\n   sessions_median  messages_median  minutes_median  \n0          7096.18             15.0           162.5  \n1         14791.37             32.0           382.0  \n2         12553.71             20.0           258.0  \n3          7327.12              5.5           168.0  \n4         15670.25             23.0           409.0  \n5         17495.18             20.0           403.0  \n6         14087.65             28.0           368.5  \n7         16645.78             17.0           453.0  \n8         16323.94             30.0           433.0  \n9         18696.43             25.0           519.0  ",
      "text/html": "<div>\n<style scoped>\n    .dataframe tbody tr th:only-of-type {\n        vertical-align: middle;\n    }\n\n    .dataframe tbody tr th {\n        vertical-align: top;\n    }\n\n    .dataframe thead th {\n        text-align: right;\n    }\n</style>\n<table border=\"1\" class=\"dataframe\">\n  <thead>\n    <tr style=\"text-align: right;\">\n      <th></th>\n      <th>month</th>\n      <th>tariff</th>\n      <th>calls_mean</th>\n      <th>sessions_mean</th>\n      <th>messages_mean</th>\n      <th>minutes_mean</th>\n      <th>calls_std</th>\n      <th>sessions_std</th>\n      <th>messages_std</th>\n      <th>minutes_std</th>\n      <th>calls_median</th>\n      <th>sessions_median</th>\n      <th>messages_median</th>\n      <th>minutes_median</th>\n    </tr>\n  </thead>\n  <tbody>\n    <tr>\n      <th>0</th>\n      <td>1</td>\n      <td>smart</td>\n      <td>27.68</td>\n      <td>8513.72</td>\n      <td>18.24</td>\n      <td>203.85</td>\n      <td>20.81</td>\n      <td>6444.68</td>\n      <td>16.20</td>\n      <td>154.23</td>\n      <td>20.5</td>\n      <td>7096.18</td>\n      <td>15.0</td>\n      <td>162.5</td>\n    </tr>\n    <tr>\n      <th>1</th>\n      <td>1</td>\n      <td>ultra</td>\n      <td>59.44</td>\n      <td>13140.68</td>\n      <td>33.78</td>\n      <td>428.11</td>\n      <td>41.64</td>\n      <td>6865.35</td>\n      <td>30.67</td>\n      <td>269.76</td>\n      <td>51.0</td>\n      <td>14791.37</td>\n      <td>32.0</td>\n      <td>382.0</td>\n    </tr>\n    <tr>\n      <th>2</th>\n      <td>2</td>\n      <td>smart</td>\n      <td>40.19</td>\n      <td>11597.05</td>\n      <td>24.09</td>\n      <td>298.69</td>\n      <td>25.39</td>\n      <td>6247.35</td>\n      <td>21.75</td>\n      <td>190.82</td>\n      <td>38.5</td>\n      <td>12553.71</td>\n      <td>20.0</td>\n      <td>258.0</td>\n    </tr>\n    <tr>\n      <th>3</th>\n      <td>2</td>\n      <td>ultra</td>\n      <td>41.54</td>\n      <td>11775.94</td>\n      <td>21.96</td>\n      <td>297.12</td>\n      <td>40.97</td>\n      <td>10644.64</td>\n      <td>26.77</td>\n      <td>296.51</td>\n      <td>25.0</td>\n      <td>7327.12</td>\n      <td>5.5</td>\n      <td>168.0</td>\n    </tr>\n    <tr>\n      <th>4</th>\n      <td>3</td>\n      <td>smart</td>\n      <td>54.32</td>\n      <td>15104.16</td>\n      <td>31.86</td>\n      <td>390.05</td>\n      <td>25.54</td>\n      <td>5828.24</td>\n      <td>26.80</td>\n      <td>191.89</td>\n      <td>59.0</td>\n      <td>15670.25</td>\n      <td>23.0</td>\n      <td>409.0</td>\n    </tr>\n    <tr>\n      <th>5</th>\n      <td>3</td>\n      <td>ultra</td>\n      <td>67.68</td>\n      <td>17535.55</td>\n      <td>32.30</td>\n      <td>489.65</td>\n      <td>44.84</td>\n      <td>10951.79</td>\n      <td>41.62</td>\n      <td>333.74</td>\n      <td>57.0</td>\n      <td>17495.18</td>\n      <td>20.0</td>\n      <td>403.0</td>\n    </tr>\n    <tr>\n      <th>6</th>\n      <td>4</td>\n      <td>smart</td>\n      <td>51.31</td>\n      <td>13462.18</td>\n      <td>30.74</td>\n      <td>367.13</td>\n      <td>25.70</td>\n      <td>5698.25</td>\n      <td>24.54</td>\n      <td>186.49</td>\n      <td>52.0</td>\n      <td>14087.65</td>\n      <td>28.0</td>\n      <td>368.5</td>\n    </tr>\n    <tr>\n      <th>7</th>\n      <td>4</td>\n      <td>ultra</td>\n      <td>64.09</td>\n      <td>16828.13</td>\n      <td>31.56</td>\n      <td>458.02</td>\n      <td>36.27</td>\n      <td>9718.65</td>\n      <td>37.51</td>\n      <td>267.68</td>\n      <td>61.0</td>\n      <td>16645.78</td>\n      <td>17.0</td>\n      <td>453.0</td>\n    </tr>\n    <tr>\n      <th>8</th>\n      <td>5</td>\n      <td>smart</td>\n      <td>55.24</td>\n      <td>15805.18</td>\n      <td>33.77</td>\n      <td>387.36</td>\n      <td>25.38</td>\n      <td>5978.23</td>\n      <td>27.04</td>\n      <td>186.60</td>\n      <td>59.0</td>\n      <td>16323.94</td>\n      <td>30.0</td>\n      <td>433.0</td>\n    </tr>\n    <tr>\n      <th>9</th>\n      <td>5</td>\n      <td>ultra</td>\n      <td>72.51</td>\n      <td>19363.15</td>\n      <td>37.85</td>\n      <td>510.33</td>\n      <td>41.08</td>\n      <td>10046.11</td>\n      <td>40.31</td>\n      <td>289.60</td>\n      <td>75.0</td>\n      <td>18696.43</td>\n      <td>25.0</td>\n      <td>519.0</td>\n    </tr>\n  </tbody>\n</table>\n</div>"
     },
     "execution_count": 43,
     "metadata": {},
     "output_type": "execute_result"
    }
   ],
   "source": [
    "# сохранение статистических метрик для каждой пары месяц-тариф\n",
    "# в одной таблице stats_df (среднее значение, стандартное отклонение, медиана)\n",
    "\n",
    "stats_df = user_behavior.pivot_table(\n",
    "            index=['month', 'tariff'],\\\n",
    "            values=['calls', 'minutes', 'messages', 'mb_used'],\\\n",
    "            aggfunc=['mean', 'std', 'median']\\\n",
    ").round(2).reset_index()\n",
    "\n",
    "stats_df.columns=['month', 'tariff', 'calls_mean', 'sessions_mean', 'messages_mean', 'minutes_mean',\n",
    "                                     'calls_std',  'sessions_std', 'messages_std', 'minutes_std', \n",
    "                                     'calls_median', 'sessions_median', 'messages_median',  'minutes_median']\n",
    "\n",
    "stats_df.head(10)"
   ]
  },
  {
   "cell_type": "markdown",
   "metadata": {
    "deletable": false,
    "editable": false,
    "id": "xAZgUnsaKyDm"
   },
   "source": [
    "Распределение среднего количества звонков по видам тарифов и месяцам"
   ]
  },
  {
   "cell_type": "code",
   "execution_count": 44,
   "metadata": {
    "deletable": false,
    "id": "1lkqwG12KyDm",
    "outputId": "9d0ad74b-64a7-47a7-8399-38189a74efcd"
   },
   "outputs": [
    {
     "data": {
      "text/plain": "<Figure size 640x480 with 1 Axes>",
      "image/png": "[encoded data removed]"
     },
     "metadata": {},
     "output_type": "display_data"
    }
   ],
   "source": [
    "ax = sns.barplot(x='month',\n",
    "            y='calls_mean',\n",
    "            hue=\"tariff\",\n",
    "            data=stats_df,\n",
    "            palette=['lightblue', 'blue'])\n",
    "\n",
    "ax.set_title('Распределение количества звонков по видам тарифов и месяцам')\n",
    "ax.set(xlabel='Номер месяца', ylabel='Среднее количество звонков');"
   ]
  },
  {
   "cell_type": "code",
   "execution_count": 45,
   "metadata": {
    "deletable": false,
    "id": "hG3npCHbKyDm",
    "outputId": "aa5b5a61-e27c-47a6-e5e3-d0e253121f20"
   },
   "outputs": [
    {
     "data": {
      "text/plain": "<Figure size 640x480 with 1 Axes>",
      "image/png": "[encoded data removed]"
     },
     "metadata": {},
     "output_type": "display_data"
    }
   ],
   "source": [
    "user_behavior.groupby('tariff')['calls'].plot(kind='hist', bins=35, alpha=0.5)\n",
    "plt.legend(['Smart', 'Ultra'])\n",
    "plt.xlabel('Количество звонков')\n",
    "plt.ylabel('Количество клиентов')\n",
    "plt.suptitle('Распределение среднего количества звонков по видам тарифов')\n",
    "plt.show()"
   ]
  },
  {
   "cell_type": "markdown",
   "metadata": {
    "deletable": false,
    "editable": false,
    "id": "SPrY3ADoKyDn"
   },
   "source": [
    "Распределение средней продолжительности звонков по видам тарифов и месяцам"
   ]
  },
  {
   "cell_type": "code",
   "execution_count": 46,
   "metadata": {
    "deletable": false,
    "id": "0luB17O2KyDn",
    "outputId": "1eff52c7-7205-4178-afc4-916faa062d52"
   },
   "outputs": [
    {
     "data": {
      "text/plain": "<Figure size 640x480 with 1 Axes>",
      "image/png": "[encoded data removed]"
     },
     "metadata": {},
     "output_type": "display_data"
    }
   ],
   "source": [
    "ax = sns.barplot(x='month',\n",
    "            y='minutes_mean',\n",
    "            hue=\"tariff\",\n",
    "            data=stats_df,\n",
    "            palette=['lightblue', 'blue'])\n",
    "\n",
    "ax.set_title('Распределение продолжительности звонков по видам тарифов и месяцам')\n",
    "ax.set(xlabel='Номер месяца', ylabel='Средняя продолжительность звонков');"
   ]
  },
  {
   "cell_type": "code",
   "execution_count": 47,
   "metadata": {
    "deletable": false,
    "id": "jII3kPf1KyDn",
    "outputId": "252b24d1-8c53-4b70-bf00-51ed1cc40464"
   },
   "outputs": [
    {
     "data": {
      "text/plain": "<Figure size 640x480 with 1 Axes>",
      "image/png": "[encoded data removed]"
     },
     "metadata": {},
     "output_type": "display_data"
    }
   ],
   "source": [
    "user_behavior[user_behavior['tariff'] =='smart']['minutes'].hist(bins=35, alpha=0.5, color='green')\n",
    "user_behavior[user_behavior['tariff'] =='ultra']['minutes'].hist(bins=35, alpha=0.5, color='blue')\n",
    "plt.legend(['Smart', 'Ultra'])\n",
    "plt.xlabel('Количество затраченных минут')\n",
    "plt.ylabel('Количество клиентов')\n",
    "plt.suptitle('Распределение среднего количества затрачиваемых минут по тарифам')\n",
    "plt.show()"
   ]
  },
  {
   "cell_type": "markdown",
   "metadata": {
    "deletable": false,
    "editable": false,
    "id": "UU5-2wAkKyDn"
   },
   "source": [
    "Средняя длительность разговоров у абонентов тарифа Ultra больше, чем у абонентов тарифа Smart. В течение года пользователи обоих тарифов увеличивают среднюю продолжительность своих разговоров. Рост средней длительности разговоров у абонентов тарифа Smart равномерный в течение года. Пользователи тарифа Ultra не проявляют подобной линейной стабильности. Стоит отметить, что феврале у абонентов обоих тарифных планов наблюдались самые низкие показатели."
   ]
  },
  {
   "cell_type": "markdown",
   "metadata": {
    "deletable": false,
    "editable": false,
    "id": "mUkAzptWKyDn"
   },
   "source": [
    "Распределение среднего количества сообщений по видам тарифов и месяцам"
   ]
  },
  {
   "cell_type": "code",
   "execution_count": 48,
   "metadata": {
    "deletable": false,
    "id": "pg1xenDhKyDn",
    "outputId": "b98b8e4e-40b5-43e6-f19c-db2554eb000c"
   },
   "outputs": [
    {
     "data": {
      "text/plain": "<Figure size 640x480 with 1 Axes>",
      "image/png": "[encoded data removed]"
     },
     "metadata": {},
     "output_type": "display_data"
    }
   ],
   "source": [
    "ax = sns.barplot(x='month',\n",
    "            y='messages_mean',\n",
    "            hue=\"tariff\",\n",
    "            data=stats_df,\n",
    "            palette=['lightblue', 'blue']\n",
    ")\n",
    "\n",
    "ax.set_title('Распределение количества сообщений по видам тарифов и месяцам')\n",
    "ax.set(xlabel='Номер месяца', ylabel='Среднее количество сообщений');"
   ]
  },
  {
   "cell_type": "code",
   "execution_count": 49,
   "metadata": {
    "deletable": false,
    "id": "gADscfmTKyDn",
    "outputId": "7cffa31c-fa5e-441d-d2dc-a2447a91937f"
   },
   "outputs": [
    {
     "data": {
      "text/plain": "<Figure size 640x480 with 1 Axes>",
      "image/png": "[encoded data removed]"
     },
     "metadata": {},
     "output_type": "display_data"
    }
   ],
   "source": [
    "user_behavior[user_behavior['tariff'] =='smart']['messages'].hist(bins=35, alpha=0.5, color='green')\n",
    "user_behavior[user_behavior['tariff'] =='ultra']['messages'].hist(bins=35, alpha=0.5, color='blue')\n",
    "plt.legend(['Smart', 'Ultra'])\n",
    "plt.xlabel('Количество смс-сообщений')\n",
    "plt.ylabel('Количество клиентов')\n",
    "plt.suptitle('Распределение среднего количества отправленных смс по тарифам')\n",
    "plt.show()"
   ]
  },
  {
   "cell_type": "markdown",
   "metadata": {
    "deletable": false,
    "editable": false,
    "id": "SuLnrpvfKyDo"
   },
   "source": [
    "В среднем количество сообщений пользователи тарифа Ultra отправляют больше - почти на 20 сообщений больше, чем пользователи тарифа Smart. Количество сообщений в течение года на обоих тарифак растет. Динамика по отправке сообщений схожа с тенденциями по длительности разговоров: в феврале отмечено наименьшее количество сообщений за год и пользователи тарифа Ultra также проявляют нелинейную полодительную динамику."
   ]
  },
  {
   "cell_type": "code",
   "execution_count": 50,
   "metadata": {
    "deletable": false,
    "id": "I0Vh9ibAKyDo",
    "outputId": "2696480e-7fc6-475e-e6ac-9b330b510c2d"
   },
   "outputs": [
    {
     "data": {
      "text/plain": "<Figure size 640x480 with 1 Axes>",
      "image/png": "[encoded data removed]"
     },
     "metadata": {},
     "output_type": "display_data"
    }
   ],
   "source": [
    "ax = sns.barplot(x='month',\n",
    "            y='sessions_mean',\n",
    "            hue=\"tariff\",\n",
    "            data=stats_df,\n",
    "            palette=['lightblue', 'blue']\n",
    ")\n",
    "\n",
    "ax.set_title('Распределение количества потраченного трафика (Мб) по видам тарифов и месяцам')\n",
    "ax.set(xlabel='Номер месяца', ylabel='Среднее количество мегабайт');"
   ]
  },
  {
   "cell_type": "markdown",
   "metadata": {
    "deletable": false,
    "editable": false,
    "id": "gk1kE32XKyDo"
   },
   "source": [
    "Сравнение потраченных мегабайт среди пользователей тарифов Smart и Ultra"
   ]
  },
  {
   "cell_type": "code",
   "execution_count": 51,
   "metadata": {
    "deletable": false,
    "id": "4bNdvIn2KyDp",
    "outputId": "0905ebe8-db1c-4466-ac45-1fe3b3a25765"
   },
   "outputs": [
    {
     "data": {
      "text/plain": "<Figure size 640x480 with 1 Axes>",
      "image/png": "[encoded data removed]"
     },
     "metadata": {},
     "output_type": "display_data"
    }
   ],
   "source": [
    "user_behavior[user_behavior['tariff'] =='smart']['mb_used'].hist(bins=35, alpha=0.5, color='green')\n",
    "user_behavior[user_behavior['tariff'] =='ultra']['mb_used'].hist(bins=35, alpha=0.5, color='blue')\n",
    "plt.legend(['Smart', 'Ultra'])\n",
    "plt.xlabel('Количество затраченных мегабайт')\n",
    "plt.ylabel('Количество клиентов')\n",
    "plt.suptitle('Распределение среднего количества затрачиваемых мегабайт по тарифам')\n",
    "plt.show()"
   ]
  },
  {
   "cell_type": "markdown",
   "metadata": {
    "deletable": false,
    "editable": false,
    "id": "RpnCH1a4KyDp"
   },
   "source": [
    "Меньше всего пользователи использовали интернет в январе, феврале и апреле. Чаще всего абоненты тарифа Smart тратят 15-17 Гб, а абоненты тарифного плана Ultra - 19-21 ГБ."
   ]
  },
  {
   "cell_type": "markdown",
   "metadata": {
    "deletable": false,
    "editable": false,
    "id": "qZSr44oMKyDp"
   },
   "source": [
    "### Проверка гипотез"
   ]
  },
  {
   "cell_type": "markdown",
   "metadata": {
    "deletable": false,
    "editable": false,
    "id": "-Aow5ztHKyDp",
    "tags": [
     "start_task"
    ]
   },
   "source": [
    "**Задание 28.** Проверка гипотезы: средняя выручка пользователей тарифов «Ультра» и «Смарт» различаются;\n",
    "\n",
    "```\n",
    "H_0: Выручка (total_cost) пользователей \"Ультра\" = выручка (total_cost) пользователей \"Смарт\"`\n",
    "H_a: Выручка (total_cost) пользователей \"Ультра\" ≠ выручка (total_cost) пользователей \"Смарт\"`\n",
    "alpha = 0.05\n",
    "```"
   ]
  },
  {
   "cell_type": "code",
   "execution_count": 52,
   "metadata": {
    "deletable": false,
    "id": "Xa4KXeA4KyDq"
   },
   "outputs": [
    {
     "name": "stdout",
     "output_type": "stream",
     "text": [
      "4.2606313931076085e-250\n",
      "Отвергаем нулевую гипотезу\n"
     ]
    }
   ],
   "source": [
    "# results = вызов метода для проверки гипотезы\n",
    "\n",
    "# alpha = задайте значение уровня значимости\n",
    "\n",
    "# вывод значения p-value на экран \n",
    "# условный оператор с выводом строки с ответом\n",
    "\n",
    "results = st.ttest_ind(\n",
    "    user_behavior.loc[user_behavior.tariff == 'ultra', 'total_cost'],\n",
    "    user_behavior.loc[user_behavior.tariff == 'smart', 'total_cost'], \n",
    "    equal_var=False)\n",
    "\n",
    "# alpha обязательно должен быть таким\n",
    "alpha = 0.05\n",
    "\n",
    "# проверяем значение pvalue с некоторой точностью\n",
    "print(results.pvalue)\n",
    "\n",
    "# проверяем output\n",
    "if results.pvalue < alpha:\n",
    "    print(\"Отвергаем нулевую гипотезу\")\n",
    "else:\n",
    "    print(\"Не получилось отвергнуть нулевую гипотезу\")"
   ]
  },
  {
   "cell_type": "markdown",
   "metadata": {
    "deletable": false,
    "editable": false,
    "id": "Q4n6QDf-KyDq",
    "tags": [
     "start_task"
    ]
   },
   "source": [
    "**Задание 29.** Проверка гипотезы: пользователи из Москвы приносят больше выручки, чем пользователи из других городов;\n",
    "\n",
    "```\n",
    "H_0: Выручка (total_cost) пользователей из Москвы = выручка (total_cost) пользователей не из Москвы`\n",
    "H_1: Выручка (total_cost) пользователей из Москвы ≠ выручка (total_cost) пользователей не из Москвы`\n",
    "alpha = 0.05\n",
    "```"
   ]
  },
  {
   "cell_type": "code",
   "execution_count": 53,
   "metadata": {
    "deletable": false,
    "id": "fl-UuP2SKyDq"
   },
   "outputs": [
    {
     "name": "stdout",
     "output_type": "stream",
     "text": [
      "0.5257376663729298\n",
      "Не получилось отвергнуть нулевую гипотезу\n"
     ]
    }
   ],
   "source": [
    "# results = вызов метода для проверки гипотезы\n",
    "\n",
    "# alpha = задайте значение уровня значимости\n",
    "\n",
    "# вывод значения p-value на экран \n",
    "# условный оператор с выводом строки с ответом\n",
    "results = st.ttest_ind(\n",
    "    user_behavior.loc[user_behavior.city == 'Москва', 'total_cost'],\n",
    "    user_behavior.loc[user_behavior.city != 'Москва', 'total_cost'], \n",
    "    equal_var=False)\n",
    "\n",
    "# alpha обязательно должен быть таким\n",
    "alpha = 0.05\n",
    "\n",
    "# проверяем значение pvalue с некоторой точностью\n",
    "print(results.pvalue)\n",
    "\n",
    "# проверяем output\n",
    "if results.pvalue < alpha:\n",
    "    print(\"Отвергаем нулевую гипотезу\")\n",
    "else:\n",
    "    print(\"Не получилось отвергнуть нулевую гипотезу\")"
   ]
  }
 ],
 "metadata": {
  "ExecuteTimeLog": [
   {
    "duration": 385,
    "start_time": "2022-09-23T13:47:57.728Z"
   },
   {
    "duration": 3,
    "start_time": "2022-09-23T13:48:37.620Z"
   },
   {
    "duration": 896,
    "start_time": "2022-09-23T13:48:39.276Z"
   },
   {
    "duration": 16,
    "start_time": "2022-09-23T13:48:43.229Z"
   },
   {
    "duration": 24,
    "start_time": "2022-09-23T13:48:45.979Z"
   },
   {
    "duration": 567,
    "start_time": "2022-09-23T13:49:35.369Z"
   },
   {
    "duration": 687,
    "start_time": "2022-09-23T14:50:42.105Z"
   },
   {
    "duration": 11,
    "start_time": "2022-09-23T14:50:43.689Z"
   },
   {
    "duration": 21,
    "start_time": "2022-09-23T15:13:43.283Z"
   },
   {
    "duration": 185,
    "start_time": "2022-09-23T15:20:41.597Z"
   },
   {
    "duration": 171,
    "start_time": "2022-09-23T15:20:44.625Z"
   },
   {
    "duration": 8,
    "start_time": "2022-09-23T15:24:11.335Z"
   },
   {
    "duration": 18,
    "start_time": "2022-09-23T15:24:36.431Z"
   },
   {
    "duration": 60,
    "start_time": "2022-09-23T15:24:55.269Z"
   },
   {
    "duration": 8,
    "start_time": "2022-09-23T15:25:05.322Z"
   },
   {
    "duration": 10,
    "start_time": "2022-09-23T15:26:01.388Z"
   },
   {
    "duration": 81,
    "start_time": "2022-09-23T15:26:19.669Z"
   },
   {
    "duration": 11,
    "start_time": "2022-09-23T16:45:54.146Z"
   },
   {
    "duration": 138,
    "start_time": "2022-09-23T16:56:23.979Z"
   },
   {
    "duration": 110,
    "start_time": "2022-09-23T16:56:37.541Z"
   },
   {
    "duration": 11,
    "start_time": "2022-09-23T22:33:23.012Z"
   },
   {
    "duration": 8,
    "start_time": "2022-09-23T22:35:32.668Z"
   },
   {
    "duration": 6,
    "start_time": "2022-09-23T22:35:54.693Z"
   },
   {
    "duration": 13,
    "start_time": "2022-09-24T10:22:27.205Z"
   },
   {
    "duration": 364,
    "start_time": "2022-09-24T10:22:43.150Z"
   },
   {
    "duration": 164,
    "start_time": "2022-09-24T10:22:43.515Z"
   },
   {
    "duration": 19,
    "start_time": "2022-09-24T10:22:43.681Z"
   },
   {
    "duration": 27,
    "start_time": "2022-09-24T10:22:43.702Z"
   },
   {
    "duration": 399,
    "start_time": "2022-09-24T10:22:43.731Z"
   },
   {
    "duration": 159,
    "start_time": "2022-09-24T10:22:44.132Z"
   },
   {
    "duration": 11,
    "start_time": "2022-09-24T10:22:44.295Z"
   },
   {
    "duration": 23,
    "start_time": "2022-09-24T10:22:44.308Z"
   },
   {
    "duration": 186,
    "start_time": "2022-09-24T10:22:44.333Z"
   },
   {
    "duration": 106,
    "start_time": "2022-09-24T10:22:44.522Z"
   },
   {
    "duration": 8,
    "start_time": "2022-09-24T10:22:44.629Z"
   },
   {
    "duration": 20,
    "start_time": "2022-09-24T10:22:44.639Z"
   },
   {
    "duration": 27,
    "start_time": "2022-09-24T10:22:44.661Z"
   },
   {
    "duration": 8,
    "start_time": "2022-09-24T10:22:44.690Z"
   },
   {
    "duration": 12,
    "start_time": "2022-09-24T10:22:44.700Z"
   },
   {
    "duration": 30,
    "start_time": "2022-09-24T10:22:44.714Z"
   },
   {
    "duration": 12,
    "start_time": "2022-09-24T10:22:44.746Z"
   },
   {
    "duration": 13,
    "start_time": "2022-09-24T10:22:44.759Z"
   },
   {
    "duration": 94,
    "start_time": "2022-09-24T10:22:44.774Z"
   },
   {
    "duration": 7,
    "start_time": "2022-09-24T10:22:44.870Z"
   },
   {
    "duration": 22,
    "start_time": "2022-09-24T10:22:44.879Z"
   },
   {
    "duration": 4,
    "start_time": "2022-09-24T10:22:44.903Z"
   },
   {
    "duration": 7,
    "start_time": "2022-09-24T10:22:44.909Z"
   },
   {
    "duration": 4,
    "start_time": "2022-09-24T10:22:44.918Z"
   },
   {
    "duration": 6,
    "start_time": "2022-09-24T10:22:44.924Z"
   },
   {
    "duration": 5,
    "start_time": "2022-09-24T10:22:44.932Z"
   },
   {
    "duration": 5,
    "start_time": "2022-09-24T10:22:44.939Z"
   },
   {
    "duration": 3,
    "start_time": "2022-09-24T10:22:44.950Z"
   },
   {
    "duration": 5,
    "start_time": "2022-09-24T10:22:44.955Z"
   },
   {
    "duration": 40,
    "start_time": "2022-09-24T10:22:44.962Z"
   },
   {
    "duration": 82,
    "start_time": "2022-09-24T10:22:45.003Z"
   },
   {
    "duration": 0,
    "start_time": "2022-09-24T10:22:45.094Z"
   },
   {
    "duration": 0,
    "start_time": "2022-09-24T10:22:45.096Z"
   },
   {
    "duration": 0,
    "start_time": "2022-09-24T10:22:45.097Z"
   },
   {
    "duration": 0,
    "start_time": "2022-09-24T10:22:45.098Z"
   },
   {
    "duration": 0,
    "start_time": "2022-09-24T10:22:45.099Z"
   },
   {
    "duration": 0,
    "start_time": "2022-09-24T10:22:45.101Z"
   },
   {
    "duration": 0,
    "start_time": "2022-09-24T10:22:45.102Z"
   },
   {
    "duration": 0,
    "start_time": "2022-09-24T10:22:45.104Z"
   },
   {
    "duration": 0,
    "start_time": "2022-09-24T10:22:45.105Z"
   },
   {
    "duration": 0,
    "start_time": "2022-09-24T10:22:45.107Z"
   },
   {
    "duration": 0,
    "start_time": "2022-09-24T10:22:45.108Z"
   },
   {
    "duration": 0,
    "start_time": "2022-09-24T10:22:45.110Z"
   },
   {
    "duration": 0,
    "start_time": "2022-09-24T10:22:45.112Z"
   },
   {
    "duration": 0,
    "start_time": "2022-09-24T10:22:45.114Z"
   },
   {
    "duration": 0,
    "start_time": "2022-09-24T10:22:45.116Z"
   },
   {
    "duration": 0,
    "start_time": "2022-09-24T10:22:45.118Z"
   },
   {
    "duration": 1,
    "start_time": "2022-09-24T10:22:45.119Z"
   },
   {
    "duration": 0,
    "start_time": "2022-09-24T10:22:45.121Z"
   },
   {
    "duration": 0,
    "start_time": "2022-09-24T10:22:45.123Z"
   },
   {
    "duration": 0,
    "start_time": "2022-09-24T10:22:45.124Z"
   },
   {
    "duration": 23,
    "start_time": "2022-09-24T10:25:43.088Z"
   },
   {
    "duration": 15,
    "start_time": "2022-09-24T10:25:45.298Z"
   },
   {
    "duration": 19,
    "start_time": "2022-09-24T10:25:47.178Z"
   },
   {
    "duration": 24,
    "start_time": "2022-09-24T10:27:45.244Z"
   },
   {
    "duration": 9,
    "start_time": "2022-09-24T10:27:46.055Z"
   },
   {
    "duration": 25,
    "start_time": "2022-09-24T10:30:42.264Z"
   },
   {
    "duration": 7,
    "start_time": "2022-09-24T10:30:42.868Z"
   },
   {
    "duration": 17,
    "start_time": "2022-09-24T10:32:28.755Z"
   },
   {
    "duration": 9,
    "start_time": "2022-09-24T10:32:29.275Z"
   },
   {
    "duration": 18,
    "start_time": "2022-09-24T10:34:39.617Z"
   },
   {
    "duration": 10,
    "start_time": "2022-09-24T10:34:40.029Z"
   },
   {
    "duration": 383,
    "start_time": "2022-09-24T10:34:54.527Z"
   },
   {
    "duration": 166,
    "start_time": "2022-09-24T10:34:54.912Z"
   },
   {
    "duration": 23,
    "start_time": "2022-09-24T10:34:55.079Z"
   },
   {
    "duration": 23,
    "start_time": "2022-09-24T10:34:55.104Z"
   },
   {
    "duration": 412,
    "start_time": "2022-09-24T10:34:55.129Z"
   },
   {
    "duration": 137,
    "start_time": "2022-09-24T10:34:55.543Z"
   },
   {
    "duration": 9,
    "start_time": "2022-09-24T10:34:55.682Z"
   },
   {
    "duration": 28,
    "start_time": "2022-09-24T10:34:55.695Z"
   },
   {
    "duration": 168,
    "start_time": "2022-09-24T10:34:55.725Z"
   },
   {
    "duration": 99,
    "start_time": "2022-09-24T10:34:55.895Z"
   },
   {
    "duration": 8,
    "start_time": "2022-09-24T10:34:55.996Z"
   },
   {
    "duration": 21,
    "start_time": "2022-09-24T10:34:56.005Z"
   },
   {
    "duration": 26,
    "start_time": "2022-09-24T10:34:56.028Z"
   },
   {
    "duration": 8,
    "start_time": "2022-09-24T10:34:56.057Z"
   },
   {
    "duration": 14,
    "start_time": "2022-09-24T10:34:56.067Z"
   },
   {
    "duration": 32,
    "start_time": "2022-09-24T10:34:56.082Z"
   },
   {
    "duration": 10,
    "start_time": "2022-09-24T10:34:56.116Z"
   },
   {
    "duration": 12,
    "start_time": "2022-09-24T10:34:56.128Z"
   },
   {
    "duration": 80,
    "start_time": "2022-09-24T10:34:56.141Z"
   },
   {
    "duration": 6,
    "start_time": "2022-09-24T10:34:56.223Z"
   },
   {
    "duration": 9,
    "start_time": "2022-09-24T10:34:56.231Z"
   },
   {
    "duration": 33,
    "start_time": "2022-09-24T10:34:56.241Z"
   },
   {
    "duration": 27,
    "start_time": "2022-09-24T10:34:56.276Z"
   },
   {
    "duration": 19,
    "start_time": "2022-09-24T10:34:56.305Z"
   },
   {
    "duration": 26,
    "start_time": "2022-09-24T10:34:56.325Z"
   },
   {
    "duration": 8,
    "start_time": "2022-09-24T10:34:56.353Z"
   },
   {
    "duration": 58,
    "start_time": "2022-09-24T10:34:56.362Z"
   },
   {
    "duration": 9,
    "start_time": "2022-09-24T10:34:56.422Z"
   },
   {
    "duration": 25,
    "start_time": "2022-09-24T10:34:56.433Z"
   },
   {
    "duration": 11,
    "start_time": "2022-09-24T10:34:56.460Z"
   },
   {
    "duration": 42,
    "start_time": "2022-09-24T10:34:56.473Z"
   },
   {
    "duration": 12,
    "start_time": "2022-09-24T10:34:56.518Z"
   },
   {
    "duration": 12,
    "start_time": "2022-09-24T10:34:56.532Z"
   },
   {
    "duration": 69,
    "start_time": "2022-09-24T10:34:56.546Z"
   },
   {
    "duration": 9,
    "start_time": "2022-09-24T10:34:56.617Z"
   },
   {
    "duration": 15,
    "start_time": "2022-09-24T10:34:56.628Z"
   },
   {
    "duration": 23,
    "start_time": "2022-09-24T10:34:56.645Z"
   },
   {
    "duration": 13,
    "start_time": "2022-09-24T10:34:56.671Z"
   },
   {
    "duration": 19,
    "start_time": "2022-09-24T10:34:56.686Z"
   },
   {
    "duration": 6,
    "start_time": "2022-09-24T10:34:56.707Z"
   },
   {
    "duration": 12,
    "start_time": "2022-09-24T10:34:56.717Z"
   },
   {
    "duration": 7,
    "start_time": "2022-09-24T10:34:56.731Z"
   },
   {
    "duration": 67,
    "start_time": "2022-09-24T10:34:56.741Z"
   },
   {
    "duration": 880,
    "start_time": "2022-09-24T10:34:56.809Z"
   },
   {
    "duration": 273,
    "start_time": "2022-09-24T10:34:57.690Z"
   },
   {
    "duration": 331,
    "start_time": "2022-09-24T10:34:57.965Z"
   },
   {
    "duration": 291,
    "start_time": "2022-09-24T10:34:58.298Z"
   },
   {
    "duration": 273,
    "start_time": "2022-09-24T10:34:58.590Z"
   },
   {
    "duration": 215,
    "start_time": "2022-09-24T10:34:58.865Z"
   },
   {
    "duration": 313,
    "start_time": "2022-09-24T10:34:59.082Z"
   },
   {
    "duration": 214,
    "start_time": "2022-09-24T10:34:59.397Z"
   },
   {
    "duration": 3,
    "start_time": "2022-09-24T10:34:59.612Z"
   },
   {
    "duration": 5,
    "start_time": "2022-09-24T10:34:59.617Z"
   },
   {
    "duration": 4,
    "start_time": "2022-09-24T10:34:59.624Z"
   },
   {
    "duration": 9,
    "start_time": "2022-09-24T12:07:55.343Z"
   }
  ],
  "colab": {
   "name": "statistics_template_final.ipynb",
   "provenance": []
  },
  "kernelspec": {
   "display_name": "Python 3 (ipykernel)",
   "language": "python",
   "name": "python3"
  },
  "language_info": {
   "codemirror_mode": {
    "name": "ipython",
    "version": 3
   },
   "file_extension": ".py",
   "mimetype": "text/x-python",
   "name": "python",
   "nbconvert_exporter": "python",
   "pygments_lexer": "ipython3",
   "version": "3.9.12"
  },
  "latex_envs": {
   "LaTeX_envs_menu_present": true,
   "autoclose": true,
   "autocomplete": true,
   "bibliofile": "biblio.bib",
   "cite_by": "apalike",
   "current_citInitial": 1,
   "eqLabelWithNumbers": true,
   "eqNumInitial": 1,
   "hotkeys": {
    "equation": "Ctrl-E",
    "itemize": "Ctrl-I"
   },
   "labels_anchors": false,
   "latex_user_defs": false,
   "report_style_numbering": false,
   "user_envs_cfg": false
  },
  "toc": {
   "base_numbering": 1,
   "nav_menu": {},
   "number_sections": true,
   "sideBar": true,
   "skip_h1_title": true,
   "title_cell": "Table of Contents",
   "title_sidebar": "Contents",
   "toc_cell": false,
   "toc_position": {},
   "toc_section_display": true,
   "toc_window_display": true
  }
 },
 "nbformat": 4,
 "nbformat_minor": 1
}

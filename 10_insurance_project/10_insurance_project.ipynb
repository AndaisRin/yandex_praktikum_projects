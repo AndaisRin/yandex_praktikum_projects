{
 "cells": [
  {
   "cell_type": "markdown",
   "metadata": {},
   "source": [
    "# Описание проекта\n",
    "Вам нужно защитить данные клиентов страховой компании «Хоть потоп». Разработайте такой метод преобразования данных, чтобы по ним было сложно восстановить персональную информацию. Обоснуйте корректность его работы.\n",
    "Нужно защитить данные, чтобы при преобразовании качество моделей машинного обучения не ухудшилось. Подбирать наилучшую модель не требуется.\n",
    "## Описание данных\n",
    "*Признаки:* пол, возраст и зарплата застрахованного, количество членов его семьи.\n",
    "*Целевой признак:* количество страховых выплат клиенту за последние 5 лет.\n",
    "## Постановка задачи\n",
    "### [Шаг 1. Знакомство с данными, их изучение и предобработка](#section1)\n",
    "Загрузите и изучите данные.\n",
    "### [Шаг 2. Работа с матрицами:](#section2)\n",
    "Ответьте на вопрос и обоснуйте решение.\n",
    " Признаки умножают на обратимую матрицу. Изменится ли качество линейной регрессии? (Её можно обучить заново.)\n",
    "1. Изменится. Приведите примеры матриц.\n",
    "2. Не изменится. Укажите, как связаны параметры линейной регрессии в исходной задаче и в преобразованной.\n",
    "### [Шаг 3. Построение алгоритма преобразований:](#section3)\n",
    "Предложите алгоритм преобразования данных для решения задачи. Обоснуйте, почему качество линейной регрессии не поменяется.\n",
    "### [Шаг 4. Оценка качества алгоритма:](#section4)\n",
    "Запрограммируйте этот алгоритм, применив матричные операции. Проверьте, что качество линейной регрессии из sklearn не отличается до и после преобразования. Примените метрику R2.\n",
    "### [Шаг 5. Общий вывод](#section5)\n"
   ]
  },
  {
   "cell_type": "markdown",
   "metadata": {},
   "source": [
    "# Решение задачи\n",
    "## Шаг 1. Знакомство с данными, их изучение и предобработка <a class=\"anchor\" id=\"section1\"></a>\n",
    "\n",
    "Импортируем необходимые библиотеки для дальнейшей работы."
   ]
  },
  {
   "cell_type": "code",
   "execution_count": 1,
   "metadata": {
    "collapsed": true,
    "trusted": false
   },
   "outputs": [],
   "source": [
    "import pandas as pd\n",
    "import numpy as np\n",
    "\n",
    "from sklearn.model_selection import train_test_split\n",
    "from sklearn.preprocessing import StandardScaler\n",
    "from sklearn.pipeline import Pipeline\n",
    "from sklearn.linear_model import LinearRegression\n",
    "from sklearn.metrics import r2_score\n",
    "\n",
    "import warnings\n",
    "\n",
    "warnings.filterwarnings('ignore')\n",
    "\n",
    "RANDOM_VAL = np.random.RandomState(42)"
   ]
  },
  {
   "cell_type": "code",
   "execution_count": 2,
   "metadata": {
    "trusted": false
   },
   "outputs": [],
   "source": [
    "insurance_data = pd.read_csv('insurance.csv')"
   ]
  },
  {
   "cell_type": "code",
   "execution_count": 3,
   "metadata": {
    "trusted": false
   },
   "outputs": [],
   "source": [
    "# Функция изучения данных в таблице\n",
    "def research_info(data):\n",
    "    rows_count, columns_count = data.shape\n",
    "    print('Количество стобцов:', columns_count)\n",
    "    print('Количество строк:', rows_count)\n",
    "    print('Дубликатов: {} ({:.2%})'.format(data.duplicated().sum(), data.duplicated().sum() / len(data)))\n",
    "    print('Пропусков: {}'.format(data.isna().sum().sum()))\n",
    "    data.info()\n",
    "    display(data.sample(n=5))"
   ]
  },
  {
   "cell_type": "code",
   "execution_count": 4,
   "metadata": {
    "trusted": false
   },
   "outputs": [
    {
     "name": "stdout",
     "output_type": "stream",
     "text": [
      "Количество стобцов: 5\n",
      "Количество строк: 5000\n",
      "Дубликатов: 153 (3.06%)\n",
      "Пропусков: 0\n",
      "<class 'pandas.core.frame.DataFrame'>\n",
      "RangeIndex: 5000 entries, 0 to 4999\n",
      "Data columns (total 5 columns):\n",
      " #   Column             Non-Null Count  Dtype  \n",
      "---  ------             --------------  -----  \n",
      " 0   Пол                5000 non-null   int64  \n",
      " 1   Возраст            5000 non-null   float64\n",
      " 2   Зарплата           5000 non-null   float64\n",
      " 3   Члены семьи        5000 non-null   int64  \n",
      " 4   Страховые выплаты  5000 non-null   int64  \n",
      "dtypes: float64(2), int64(3)\n",
      "memory usage: 195.4 KB\n"
     ]
    },
    {
     "data": {
      "text/plain": "      Пол  Возраст  Зарплата  Члены семьи  Страховые выплаты\n3406    0     41.0   42100.0            1                  0\n257     0     37.0   52500.0            3                  0\n3032    1     37.0   22900.0            3                  0\n1623    1     38.0   41700.0            1                  0\n4682    0     34.0   45100.0            0                  0",
      "text/html": "<div>\n<style scoped>\n    .dataframe tbody tr th:only-of-type {\n        vertical-align: middle;\n    }\n\n    .dataframe tbody tr th {\n        vertical-align: top;\n    }\n\n    .dataframe thead th {\n        text-align: right;\n    }\n</style>\n<table border=\"1\" class=\"dataframe\">\n  <thead>\n    <tr style=\"text-align: right;\">\n      <th></th>\n      <th>Пол</th>\n      <th>Возраст</th>\n      <th>Зарплата</th>\n      <th>Члены семьи</th>\n      <th>Страховые выплаты</th>\n    </tr>\n  </thead>\n  <tbody>\n    <tr>\n      <th>3406</th>\n      <td>0</td>\n      <td>41.0</td>\n      <td>42100.0</td>\n      <td>1</td>\n      <td>0</td>\n    </tr>\n    <tr>\n      <th>257</th>\n      <td>0</td>\n      <td>37.0</td>\n      <td>52500.0</td>\n      <td>3</td>\n      <td>0</td>\n    </tr>\n    <tr>\n      <th>3032</th>\n      <td>1</td>\n      <td>37.0</td>\n      <td>22900.0</td>\n      <td>3</td>\n      <td>0</td>\n    </tr>\n    <tr>\n      <th>1623</th>\n      <td>1</td>\n      <td>38.0</td>\n      <td>41700.0</td>\n      <td>1</td>\n      <td>0</td>\n    </tr>\n    <tr>\n      <th>4682</th>\n      <td>0</td>\n      <td>34.0</td>\n      <td>45100.0</td>\n      <td>0</td>\n      <td>0</td>\n    </tr>\n  </tbody>\n</table>\n</div>"
     },
     "metadata": {},
     "output_type": "display_data"
    }
   ],
   "source": [
    "research_info(insurance_data)"
   ]
  },
  {
   "cell_type": "code",
   "execution_count": 5,
   "metadata": {
    "trusted": false
   },
   "outputs": [],
   "source": [
    "# insurance_data.drop_duplicates(inplace=True)"
   ]
  },
  {
   "cell_type": "markdown",
   "metadata": {},
   "source": [
    "**Вывод:**\n",
    "- пропусков нет;\n",
    "- дубликаты удалены.\n",
    "\n",
    "Данные готовы к дальнейшей работе."
   ]
  },
  {
   "cell_type": "markdown",
   "metadata": {},
   "source": [
    "## Шаг 2. Работа с матрицами <a class=\"anchor\" id=\"section2\"></a>\n",
    "\n",
    "Обозначения:\n",
    "\n",
    "— $X$ матрица признаков (нулевой столбец состоит из единиц);\n",
    "— $y$ вектор целевого признака;\n",
    "— $P$ матрица, на которую умножаются признаки;\n",
    "— $w$ вектор весов линейной регрессии (нулевой элемент равен сдвигу).\n",
    "\n",
    "Вектор предсказаний $a$ линейной регрессии можно описать формулой: $\\[a = X*w\\]$\n",
    "Тогда задача обучения имеет вид: $\\[w = arg \\min_w MSE(Xw, y)\\]$\n",
    "Формула обучения: $\\[w=(X^{T}X)^{-1}X^{T}y\\]$\n",
    "\n",
    "**Вопрос:** Признаки умножают на обратимую матрицу. Изменится ли качество линейной регрессии?\n",
    "\n",
    "**Ответ:** не изменится.\n",
    "\n",
    "**Обоснование:**\n",
    "\n",
    "Умножим матрицу признаков $X$ на матрицу $P$ и получим новую матрицу $X_P = XP$, которую подставим в формулу обучения:\n",
    "$\\[w_P=((XP)^{T}(XP))^{-1}(XP)^{T}y\\]$\n",
    "Упростим её:\n",
    "$\\[w_P=((XP)^{T}(XP))^{-1}(XP)^{T}y =\\]$\n",
    "$\\[ = [P^TX^TXP]^{-1}P^TX^Ty =\\]$\n",
    "$\\[ = P^{-1}[P^T(X^TX)]^{-1}P^TX^Ty =\\]$\n",
    "$\\[ = P^{-1}(X^TX)^{-1}[(P^T)^{-1}P^T]X^Ty =\\]$\n",
    "$\\[ = P^{-1}(X^TX)^{-1}X^Ty\\]$,\n",
    "где $\\[(P^T)^{-1}P^T = E\\]$, т.е. единичной матрице, а значит связь параметров линейной регрессии в исходной задаче и в преобразованной можно выразить как: $\\[w_P = P^{-1}w(X)\\]$\n",
    "Полученные коэффициенты подставим в формулу предсказания и упростим выражение:\n",
    "$\\[a_P = X_P*w_P = XP[P^{-1}w(X)] = Xw\\]  $\n",
    "\n",
    "После выполнения указанных преобразований получено взаимно-однозначное соответствие параметров исходной и преобразованной задачи. Значит, значение предсказания $a$ не меняется, если умножать матрицу признаков на обратимую матрицу.\n",
    "\n",
    "Проверим, что линейная регрессия из scikit-learn вычисляет значения по такому же правилу."
   ]
  },
  {
   "cell_type": "code",
   "execution_count": 6,
   "metadata": {
    "trusted": false
   },
   "outputs": [],
   "source": [
    "features = insurance_data.drop('Страховые выплаты', axis=1)\n",
    "target = insurance_data['Страховые выплаты']"
   ]
  },
  {
   "cell_type": "code",
   "execution_count": 7,
   "metadata": {
    "scrolled": true,
    "trusted": false
   },
   "outputs": [
    {
     "data": {
      "text/plain": "array([ 7.92580543e-03,  3.57083050e-02, -1.70080492e-07, -1.35676623e-02])"
     },
     "metadata": {},
     "output_type": "display_data"
    },
    {
     "data": {
      "text/plain": "array([ 7.92580543e-03,  3.57083050e-02, -1.70080492e-07, -1.35676623e-02])"
     },
     "metadata": {},
     "output_type": "display_data"
    }
   ],
   "source": [
    "X = np.concatenate((np.ones((features.shape[0], 1)), features), axis=1)\n",
    "y = target\n",
    "w = np.linalg.inv(X.T @ X) @ X.T @ y\n",
    "display(w[1:])\n",
    "model = LinearRegression()\n",
    "model.fit(features, target)\n",
    "display(model.coef_)"
   ]
  },
  {
   "cell_type": "markdown",
   "metadata": {},
   "source": [
    "Коэфициенты регрессии совпадают на 100%.\n",
    "\n",
    "**Вывод:**\n",
    "Качество линейной регрессии не меняется при умножении матрицы признаков на обратимую матрицу."
   ]
  },
  {
   "cell_type": "code",
   "execution_count": 8,
   "metadata": {
    "trusted": false
   },
   "outputs": [
    {
     "data": {
      "text/plain": "array([[ 2.04349631,  1.23267328,  0.33516589, -0.52307541],\n       [ 0.02431496, -0.7312016 , -0.15113296, -1.12510237],\n       [ 0.69265194, -0.73495964, -1.03044089,  0.69816644],\n       [ 1.00316727, -0.91586763,  0.32573849,  0.85949784]])"
     },
     "metadata": {},
     "output_type": "display_data"
    }
   ],
   "source": [
    "# Сгенерируем случайную квадратную матрицу P с размером, равным количеству признаков,\n",
    "# (т.к. количество столбцов исходной матрицы датасета должно совпадать с количеством строк матрицы P):\n",
    "P = np.random.normal(size=(features.shape[1], features.shape[1]))\n",
    "display(P)"
   ]
  },
  {
   "cell_type": "markdown",
   "metadata": {},
   "source": [
    "Чтобы найти обратную матрицу, вызовем функцию numpy.linalg.inv() (от англ. linear algebra, «линейная алгебра»; invert, «обратить»). Также она поможет проверить матрицу на обратимость: если матрица необратима, будет обнаружена ошибка."
   ]
  },
  {
   "cell_type": "code",
   "execution_count": 9,
   "metadata": {
    "trusted": false
   },
   "outputs": [
    {
     "data": {
      "text/plain": "array([[ 1.,  0.,  0.,  0.],\n       [-0.,  1.,  0.,  0.],\n       [ 0.,  0.,  1., -0.],\n       [-0.,  0.,  0.,  1.]])"
     },
     "metadata": {},
     "output_type": "display_data"
    }
   ],
   "source": [
    "# Проверим, что эта матрица обратима (умножим её на обратную ей матрицу):\n",
    "display(np.round(P @ np.linalg.inv(P)))"
   ]
  },
  {
   "cell_type": "markdown",
   "metadata": {},
   "source": [
    "По условию задания необходимо разработать такой метод преобразования данных, чтобы по ним было сложно восстановить персональную информацию и, при этом, качество моделей машинного обучения не ухудшилось.\n",
    "\n",
    "Преобразуем данные с помощью умножения на случайную матрицу и сравним с исходной."
   ]
  },
  {
   "cell_type": "code",
   "execution_count": 10,
   "metadata": {
    "trusted": false
   },
   "outputs": [
    {
     "data": {
      "text/plain": "              0             1             2             3\n0  34359.579932 -36483.660597 -51115.403859  34583.262846\n1  26322.895476 -27963.017456 -39163.380326  26479.429660\n2  14546.395929 -15455.357283 -21643.641617  14628.867355\n3  28886.102957 -30665.003951 -42971.907569  29091.632560\n4  18080.940018 -19201.687572 -26898.403874  18190.118246",
      "text/html": "<div>\n<style scoped>\n    .dataframe tbody tr th:only-of-type {\n        vertical-align: middle;\n    }\n\n    .dataframe tbody tr th {\n        vertical-align: top;\n    }\n\n    .dataframe thead th {\n        text-align: right;\n    }\n</style>\n<table border=\"1\" class=\"dataframe\">\n  <thead>\n    <tr style=\"text-align: right;\">\n      <th></th>\n      <th>0</th>\n      <th>1</th>\n      <th>2</th>\n      <th>3</th>\n    </tr>\n  </thead>\n  <tbody>\n    <tr>\n      <th>0</th>\n      <td>34359.579932</td>\n      <td>-36483.660597</td>\n      <td>-51115.403859</td>\n      <td>34583.262846</td>\n    </tr>\n    <tr>\n      <th>1</th>\n      <td>26322.895476</td>\n      <td>-27963.017456</td>\n      <td>-39163.380326</td>\n      <td>26479.429660</td>\n    </tr>\n    <tr>\n      <th>2</th>\n      <td>14546.395929</td>\n      <td>-15455.357283</td>\n      <td>-21643.641617</td>\n      <td>14628.867355</td>\n    </tr>\n    <tr>\n      <th>3</th>\n      <td>28886.102957</td>\n      <td>-30665.003951</td>\n      <td>-42971.907569</td>\n      <td>29091.632560</td>\n    </tr>\n    <tr>\n      <th>4</th>\n      <td>18080.940018</td>\n      <td>-19201.687572</td>\n      <td>-26898.403874</td>\n      <td>18190.118246</td>\n    </tr>\n  </tbody>\n</table>\n</div>"
     },
     "metadata": {},
     "output_type": "display_data"
    }
   ],
   "source": [
    "# Умножим признаки обучающей выборки исходного датасета на сгенерированную случайную квадратную матрицу P:\n",
    "features_P = features @ P\n",
    "target_P = target\n",
    "display(features_P.head())"
   ]
  },
  {
   "cell_type": "markdown",
   "metadata": {},
   "source": [
    "После преобразования данные перестали нести в себе четкий смысл и потеряли однозначность трактовки. Для их дешифровки необходимо иметь доступ к матрице, с помощью которой и были совершены преобразования. Проверим, возможно ли восстановить данные при наличии исходной матрицы:"
   ]
  },
  {
   "cell_type": "code",
   "execution_count": 11,
   "metadata": {
    "scrolled": true,
    "trusted": false
   },
   "outputs": [
    {
     "data": {
      "text/plain": "   Пол  Возраст  Зарплата  Члены семьи\n0    1     41.0   49600.0            1\n1    0     46.0   38000.0            1\n2    0     29.0   21000.0            0\n3    0     21.0   41700.0            2\n4    1     28.0   26100.0            0",
      "text/html": "<div>\n<style scoped>\n    .dataframe tbody tr th:only-of-type {\n        vertical-align: middle;\n    }\n\n    .dataframe tbody tr th {\n        vertical-align: top;\n    }\n\n    .dataframe thead th {\n        text-align: right;\n    }\n</style>\n<table border=\"1\" class=\"dataframe\">\n  <thead>\n    <tr style=\"text-align: right;\">\n      <th></th>\n      <th>Пол</th>\n      <th>Возраст</th>\n      <th>Зарплата</th>\n      <th>Члены семьи</th>\n    </tr>\n  </thead>\n  <tbody>\n    <tr>\n      <th>0</th>\n      <td>1</td>\n      <td>41.0</td>\n      <td>49600.0</td>\n      <td>1</td>\n    </tr>\n    <tr>\n      <th>1</th>\n      <td>0</td>\n      <td>46.0</td>\n      <td>38000.0</td>\n      <td>1</td>\n    </tr>\n    <tr>\n      <th>2</th>\n      <td>0</td>\n      <td>29.0</td>\n      <td>21000.0</td>\n      <td>0</td>\n    </tr>\n    <tr>\n      <th>3</th>\n      <td>0</td>\n      <td>21.0</td>\n      <td>41700.0</td>\n      <td>2</td>\n    </tr>\n    <tr>\n      <th>4</th>\n      <td>1</td>\n      <td>28.0</td>\n      <td>26100.0</td>\n      <td>0</td>\n    </tr>\n  </tbody>\n</table>\n</div>"
     },
     "metadata": {},
     "output_type": "display_data"
    },
    {
     "data": {
      "text/plain": "     0     1        2    3\n0  1.0  41.0  49600.0  1.0\n1  0.0  46.0  38000.0  1.0\n2 -0.0  29.0  21000.0 -0.0\n3  0.0  21.0  41700.0  2.0\n4  1.0  28.0  26100.0 -0.0",
      "text/html": "<div>\n<style scoped>\n    .dataframe tbody tr th:only-of-type {\n        vertical-align: middle;\n    }\n\n    .dataframe tbody tr th {\n        vertical-align: top;\n    }\n\n    .dataframe thead th {\n        text-align: right;\n    }\n</style>\n<table border=\"1\" class=\"dataframe\">\n  <thead>\n    <tr style=\"text-align: right;\">\n      <th></th>\n      <th>0</th>\n      <th>1</th>\n      <th>2</th>\n      <th>3</th>\n    </tr>\n  </thead>\n  <tbody>\n    <tr>\n      <th>0</th>\n      <td>1.0</td>\n      <td>41.0</td>\n      <td>49600.0</td>\n      <td>1.0</td>\n    </tr>\n    <tr>\n      <th>1</th>\n      <td>0.0</td>\n      <td>46.0</td>\n      <td>38000.0</td>\n      <td>1.0</td>\n    </tr>\n    <tr>\n      <th>2</th>\n      <td>-0.0</td>\n      <td>29.0</td>\n      <td>21000.0</td>\n      <td>-0.0</td>\n    </tr>\n    <tr>\n      <th>3</th>\n      <td>0.0</td>\n      <td>21.0</td>\n      <td>41700.0</td>\n      <td>2.0</td>\n    </tr>\n    <tr>\n      <th>4</th>\n      <td>1.0</td>\n      <td>28.0</td>\n      <td>26100.0</td>\n      <td>-0.0</td>\n    </tr>\n  </tbody>\n</table>\n</div>"
     },
     "metadata": {},
     "output_type": "display_data"
    }
   ],
   "source": [
    "# Преобразованная матрица:\n",
    "display(features.head())\n",
    "display(np.round(features_P @ np.linalg.inv(P)).head())"
   ]
  },
  {
   "cell_type": "markdown",
   "metadata": {},
   "source": [
    "## Шаг 4. Оценка качества алгоритма <a class=\"anchor\" id=\"section4\"></a>\n"
   ]
  },
  {
   "cell_type": "code",
   "execution_count": 12,
   "metadata": {
    "trusted": false
   },
   "outputs": [],
   "source": [
    "r2_score_list = []\n",
    "# Модель без преобразований\n",
    "model = LinearRegression()\n",
    "model.fit(features, target)\n",
    "r2_score_list.append(['Линейная регрессия', r2_score(target, model.predict(features))])\n",
    "\n",
    "# Модель без преобразования с отмасштабированными признаками\n",
    "regressor = LinearRegression()\n",
    "scaller = StandardScaler()\n",
    "pipeline = Pipeline([('standard_scaller', scaller), ('linear_regression', regressor)])\n",
    "pipeline.fit(features, target)\n",
    "r2_score_list.append(['Линейная регрессия c масштабом', r2_score(target, pipeline.predict(features))])\n",
    "\n",
    "# Модель с умножением на матрицу\n",
    "model_P = LinearRegression()\n",
    "model_P.fit(features_P, target_P)\n",
    "r2_score_list.append(['Линейная регрессия с умножением на матрицу', r2_score(target_P, model_P.predict(features_P))])\n",
    "\n",
    "# Модель без преобразования с отмасштабированными признаками\n",
    "regressor_P = LinearRegression()\n",
    "scaller_P = StandardScaler()\n",
    "pipeline_P = Pipeline([('standard_scaller', scaller_P), ('linear_regression', regressor_P)])\n",
    "pipeline_P.fit(features_P, target_P)\n",
    "r2_score_list.append(\n",
    "    ['Линейная регрессия с умножением на матрицу и масштабом', r2_score(target_P, pipeline_P.predict(features_P))])"
   ]
  },
  {
   "cell_type": "code",
   "execution_count": 13,
   "metadata": {
    "scrolled": true,
    "trusted": false
   },
   "outputs": [
    {
     "data": {
      "text/plain": "                                          Тип модели  Оценка R2\n0                                 Линейная регрессия   0.424946\n1                     Линейная регрессия c масштабом   0.424946\n2         Линейная регрессия с умножением на матрицу   0.424946\n3  Линейная регрессия с умножением на матрицу и м...   0.424946",
      "text/html": "<div>\n<style scoped>\n    .dataframe tbody tr th:only-of-type {\n        vertical-align: middle;\n    }\n\n    .dataframe tbody tr th {\n        vertical-align: top;\n    }\n\n    .dataframe thead th {\n        text-align: right;\n    }\n</style>\n<table border=\"1\" class=\"dataframe\">\n  <thead>\n    <tr style=\"text-align: right;\">\n      <th></th>\n      <th>Тип модели</th>\n      <th>Оценка R2</th>\n    </tr>\n  </thead>\n  <tbody>\n    <tr>\n      <th>0</th>\n      <td>Линейная регрессия</td>\n      <td>0.424946</td>\n    </tr>\n    <tr>\n      <th>1</th>\n      <td>Линейная регрессия c масштабом</td>\n      <td>0.424946</td>\n    </tr>\n    <tr>\n      <th>2</th>\n      <td>Линейная регрессия с умножением на матрицу</td>\n      <td>0.424946</td>\n    </tr>\n    <tr>\n      <th>3</th>\n      <td>Линейная регрессия с умножением на матрицу и м...</td>\n      <td>0.424946</td>\n    </tr>\n  </tbody>\n</table>\n</div>"
     },
     "execution_count": 13,
     "metadata": {},
     "output_type": "execute_result"
    }
   ],
   "source": [
    "result_score = pd.DataFrame(r2_score_list, columns=['Тип модели', 'Оценка R2'])\n",
    "result_score"
   ]
  },
  {
   "cell_type": "markdown",
   "metadata": {},
   "source": [
    "**Вывод:**\n",
    "В результате выполнения задач этого раздела было выявлено следующее:\n",
    "- применив метрику R2, мы проверили, что качество линейной регрессии из sklearn не отличается до и после преобразования исходной матрицы;\n",
    "- при использовании матриц для шифровки данных, есть возможность восстановить данные к исходному состоянию;\n",
    "- при использовании совместно умножения на произвольную матрицу с последующим применением масштабирования понять что именно содержат данные не представляется возможным."
   ]
  },
  {
   "cell_type": "markdown",
   "metadata": {},
   "source": [
    "## Шаг 5. Общий вывод <a class=\"anchor\" id=\"section5\"></a>\n",
    "\n",
    "Разработан такой метод преобразования данных, чтобы по ним было сложно восстановить персональную информацию.\n",
    "\n",
    "Входные данные - данные клиентов страховой компании «Хоть потоп».\n",
    "\n",
    "Результаты исследования позволят защитить данные клиентов страховой компании «Хоть потоп».\n",
    "\n",
    "Перед проведением исследования была сформулирована гипотеза: при умножении признаков на обратимую матрицу качество линейной регрессии не меняется.\n",
    "В результате удалось получить следующие результаты.\n",
    "\n",
    "Гипотеза подтверждена:\n",
    "0.43 - значение метрики R2 модели для исходных данных;\n",
    "0.43 - значение метрики R2 модели для исходных данных с применением масштабирования;\n",
    "0.43 - значение метрики R2 модели для преобразованных данных;\n",
    "0.43 - значение метрики R2 модели для преобразованных с применением масштабирования."
   ]
  }
 ],
 "metadata": {
  "kernelspec": {
   "display_name": "Python 3 (ipykernel)",
   "language": "python",
   "name": "python3"
  },
  "language_info": {
   "codemirror_mode": {
    "name": "ipython",
    "version": 3
   },
   "file_extension": ".py",
   "mimetype": "text/x-python",
   "name": "python",
   "nbconvert_exporter": "python",
   "pygments_lexer": "ipython3",
   "version": "3.9.5"
  },
  "toc": {
   "base_numbering": 1,
   "nav_menu": {},
   "number_sections": true,
   "sideBar": true,
   "skip_h1_title": true,
   "title_cell": "Table of Contents",
   "title_sidebar": "Contents",
   "toc_cell": false,
   "toc_position": {},
   "toc_section_display": true,
   "toc_window_display": false
  }
 },
 "nbformat": 4,
 "nbformat_minor": 1
}
